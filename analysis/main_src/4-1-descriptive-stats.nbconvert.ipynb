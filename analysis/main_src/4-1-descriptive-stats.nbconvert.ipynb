{
 "cells": [
  {
   "cell_type": "markdown",
   "metadata": {},
   "source": [
    "# Section 4.1: Descriptive statistics on the bot-bot dataset\n",
    "\n",
    "This is the first data analysis script used to produce findings in the paper, which you can run based entirely off the files in this GitHub repository. \n",
    "\n",
    "This entire notebook can be run from the beginning with Kernel -> Restart & Run All in the menu bar. It takes about 1 minute to run on a laptop running a Core i5-2540M processor."
   ]
  },
  {
   "cell_type": "code",
   "execution_count": 1,
   "metadata": {
    "collapsed": true
   },
   "outputs": [],
   "source": [
    "import pandas as pd\n",
    "import seaborn as sns\n",
    "import matplotlib.pyplot as plt\n",
    "import numpy as np\n",
    "import pickle\n",
    "import datetime\n",
    "%matplotlib inline"
   ]
  },
  {
   "cell_type": "code",
   "execution_count": 2,
   "metadata": {
    "collapsed": true
   },
   "outputs": [],
   "source": [
    "start = datetime.datetime.now()"
   ]
  },
  {
   "cell_type": "markdown",
   "metadata": {},
   "source": [
    "## Data processing"
   ]
  },
  {
   "cell_type": "code",
   "execution_count": 3,
   "metadata": {
    "collapsed": true
   },
   "outputs": [],
   "source": [
    "!unxz -kf ../../datasets/parsed_dataframes/df_all_2016.pickle.xz"
   ]
  },
  {
   "cell_type": "code",
   "execution_count": 4,
   "metadata": {},
   "outputs": [
    {
     "name": "stdout",
     "output_type": "stream",
     "text": [
      "../../datasets/parsed_dataframes/df_all_2016.pickle\r\n",
      "../../datasets/parsed_dataframes/df_all_2016.pickle.xz\r\n",
      "../../datasets/parsed_dataframes/df_all_comments_parsed_2016.pickle\r\n",
      "../../datasets/parsed_dataframes/df_all_comments_parsed_2016.pickle.xz\r\n",
      "../../datasets/parsed_dataframes/possible_botfights.pickle\r\n",
      "../../datasets/parsed_dataframes/possible_botfights.pickle.xz\r\n",
      "../../datasets/parsed_dataframes/possible_botfights.tsv\r\n",
      "../../datasets/parsed_dataframes/possible_botfights.tsv.xz\r\n"
     ]
    }
   ],
   "source": [
    "!ls ../../datasets/parsed_dataframes/*"
   ]
  },
  {
   "cell_type": "code",
   "execution_count": 5,
   "metadata": {
    "collapsed": true
   },
   "outputs": [],
   "source": [
    "with open(\"../../datasets/parsed_dataframes/df_all_2016.pickle\", \"rb\") as f:\n",
    "    df_all = pickle.load(f)"
   ]
  },
  {
   "cell_type": "code",
   "execution_count": 6,
   "metadata": {},
   "outputs": [
    {
     "data": {
      "text/plain": [
       "924946"
      ]
     },
     "execution_count": 6,
     "metadata": {},
     "output_type": "execute_result"
    }
   ],
   "source": [
    "len(df_all)"
   ]
  },
  {
   "cell_type": "markdown",
   "metadata": {},
   "source": [
    "### Final data format"
   ]
  },
  {
   "cell_type": "code",
   "execution_count": 7,
   "metadata": {},
   "outputs": [
    {
     "data": {
      "text/html": [
       "<div>\n",
       "<style>\n",
       "    .dataframe thead tr:only-child th {\n",
       "        text-align: right;\n",
       "    }\n",
       "\n",
       "    .dataframe thead th {\n",
       "        text-align: left;\n",
       "    }\n",
       "\n",
       "    .dataframe tbody tr th {\n",
       "        vertical-align: top;\n",
       "    }\n",
       "</style>\n",
       "<table border=\"1\" class=\"dataframe\">\n",
       "  <thead>\n",
       "    <tr style=\"text-align: right;\">\n",
       "      <th></th>\n",
       "      <th>16614</th>\n",
       "      <th>529970</th>\n",
       "    </tr>\n",
       "  </thead>\n",
       "  <tbody>\n",
       "    <tr>\n",
       "      <th>archived</th>\n",
       "      <td>False</td>\n",
       "      <td>False</td>\n",
       "    </tr>\n",
       "    <tr>\n",
       "      <th>language</th>\n",
       "      <td>fr</td>\n",
       "      <td>en</td>\n",
       "    </tr>\n",
       "    <tr>\n",
       "      <th>page_namespace</th>\n",
       "      <td>1</td>\n",
       "      <td>1</td>\n",
       "    </tr>\n",
       "    <tr>\n",
       "      <th>rev_deleted</th>\n",
       "      <td>False</td>\n",
       "      <td>False</td>\n",
       "    </tr>\n",
       "    <tr>\n",
       "      <th>rev_id</th>\n",
       "      <td>33001491</td>\n",
       "      <td>578395930</td>\n",
       "    </tr>\n",
       "    <tr>\n",
       "      <th>rev_minor_edit</th>\n",
       "      <td>True</td>\n",
       "      <td>True</td>\n",
       "    </tr>\n",
       "    <tr>\n",
       "      <th>rev_page</th>\n",
       "      <td>1919801</td>\n",
       "      <td>40844049</td>\n",
       "    </tr>\n",
       "    <tr>\n",
       "      <th>rev_parent_id</th>\n",
       "      <td>2.01725e+07</td>\n",
       "      <td>5.78325e+08</td>\n",
       "    </tr>\n",
       "    <tr>\n",
       "      <th>rev_revert_offset</th>\n",
       "      <td>1</td>\n",
       "      <td>1</td>\n",
       "    </tr>\n",
       "    <tr>\n",
       "      <th>rev_sha1</th>\n",
       "      <td>9bz5bourxwk8agppns2q07qc7o1sx6b</td>\n",
       "      <td>g6uxncxjp87qkr4apecj5t43cdq5jpv</td>\n",
       "    </tr>\n",
       "    <tr>\n",
       "      <th>rev_timestamp</th>\n",
       "      <td>20080902141058</td>\n",
       "      <td>20131023122049</td>\n",
       "    </tr>\n",
       "    <tr>\n",
       "      <th>rev_user</th>\n",
       "      <td>346772</td>\n",
       "      <td>11952314</td>\n",
       "    </tr>\n",
       "    <tr>\n",
       "      <th>rev_user_text</th>\n",
       "      <td>HerculeBot</td>\n",
       "      <td>AvicBot</td>\n",
       "    </tr>\n",
       "    <tr>\n",
       "      <th>reverted_to_rev_id</th>\n",
       "      <td>20172542</td>\n",
       "      <td>578325039</td>\n",
       "    </tr>\n",
       "    <tr>\n",
       "      <th>reverting_archived</th>\n",
       "      <td>False</td>\n",
       "      <td>False</td>\n",
       "    </tr>\n",
       "    <tr>\n",
       "      <th>reverting_comment</th>\n",
       "      <td>suppression bandeau, Removed: {{Wikiprojet Bio...</td>\n",
       "      <td>Robot: Fixing double redirect to [[Talk:Phinea...</td>\n",
       "    </tr>\n",
       "    <tr>\n",
       "      <th>reverting_deleted</th>\n",
       "      <td>False</td>\n",
       "      <td>False</td>\n",
       "    </tr>\n",
       "    <tr>\n",
       "      <th>reverting_id</th>\n",
       "      <td>42299178</td>\n",
       "      <td>582410255</td>\n",
       "    </tr>\n",
       "    <tr>\n",
       "      <th>reverting_minor_edit</th>\n",
       "      <td>True</td>\n",
       "      <td>True</td>\n",
       "    </tr>\n",
       "    <tr>\n",
       "      <th>reverting_page</th>\n",
       "      <td>1919801</td>\n",
       "      <td>40844049</td>\n",
       "    </tr>\n",
       "    <tr>\n",
       "      <th>reverting_parent_id</th>\n",
       "      <td>3.30015e+07</td>\n",
       "      <td>5.78396e+08</td>\n",
       "    </tr>\n",
       "    <tr>\n",
       "      <th>reverting_sha1</th>\n",
       "      <td>88jauptkaadc0l4j7tcegvvk5vcqtnd</td>\n",
       "      <td>ln5m4ri371i3wn50ckh2fiwdqz471lc</td>\n",
       "    </tr>\n",
       "    <tr>\n",
       "      <th>reverting_timestamp</th>\n",
       "      <td>20090623151841</td>\n",
       "      <td>20131119185723</td>\n",
       "    </tr>\n",
       "    <tr>\n",
       "      <th>reverting_user</th>\n",
       "      <td>223685</td>\n",
       "      <td>11292982</td>\n",
       "    </tr>\n",
       "    <tr>\n",
       "      <th>reverting_user_text</th>\n",
       "      <td>Ptbotgourou</td>\n",
       "      <td>EmausBot</td>\n",
       "    </tr>\n",
       "    <tr>\n",
       "      <th>revisions_reverted</th>\n",
       "      <td>1</td>\n",
       "      <td>1</td>\n",
       "    </tr>\n",
       "    <tr>\n",
       "      <th>namespace_type</th>\n",
       "      <td>other talk</td>\n",
       "      <td>other talk</td>\n",
       "    </tr>\n",
       "    <tr>\n",
       "      <th>reverted_timestamp_dt</th>\n",
       "      <td>2008-09-02 14:10:58</td>\n",
       "      <td>2013-10-23 12:20:49</td>\n",
       "    </tr>\n",
       "    <tr>\n",
       "      <th>reverting_timestamp_dt</th>\n",
       "      <td>2009-06-23 15:18:41</td>\n",
       "      <td>2013-11-19 18:57:23</td>\n",
       "    </tr>\n",
       "    <tr>\n",
       "      <th>time_to_revert</th>\n",
       "      <td>294 days 01:07:43</td>\n",
       "      <td>27 days 06:36:34</td>\n",
       "    </tr>\n",
       "    <tr>\n",
       "      <th>time_to_revert_hrs</th>\n",
       "      <td>7057.13</td>\n",
       "      <td>654.609</td>\n",
       "    </tr>\n",
       "    <tr>\n",
       "      <th>time_to_revert_days</th>\n",
       "      <td>294.047</td>\n",
       "      <td>27.2754</td>\n",
       "    </tr>\n",
       "    <tr>\n",
       "      <th>reverting_year</th>\n",
       "      <td>2009</td>\n",
       "      <td>2013</td>\n",
       "    </tr>\n",
       "    <tr>\n",
       "      <th>time_to_revert_days_log10</th>\n",
       "      <td>2.46842</td>\n",
       "      <td>1.43577</td>\n",
       "    </tr>\n",
       "    <tr>\n",
       "      <th>time_to_revert_hrs_log10</th>\n",
       "      <td>3.84863</td>\n",
       "      <td>2.81598</td>\n",
       "    </tr>\n",
       "    <tr>\n",
       "      <th>reverting_comment_nobracket</th>\n",
       "      <td>suppression bandeau, Removed: {{Wikiprojet Bio...</td>\n",
       "      <td>Robot: Fixing double redirect to</td>\n",
       "    </tr>\n",
       "    <tr>\n",
       "      <th>botpair</th>\n",
       "      <td>Ptbotgourou rv HerculeBot</td>\n",
       "      <td>EmausBot rv AvicBot</td>\n",
       "    </tr>\n",
       "    <tr>\n",
       "      <th>botpair_sorted</th>\n",
       "      <td>['HerculeBot', 'Ptbotgourou']</td>\n",
       "      <td>['AvicBot', 'EmausBot']</td>\n",
       "    </tr>\n",
       "    <tr>\n",
       "      <th>reverts_per_page_botpair</th>\n",
       "      <td>1</td>\n",
       "      <td>1</td>\n",
       "    </tr>\n",
       "    <tr>\n",
       "      <th>reverts_per_page_botpair_sorted</th>\n",
       "      <td>1</td>\n",
       "      <td>1</td>\n",
       "    </tr>\n",
       "  </tbody>\n",
       "</table>\n",
       "</div>"
      ],
      "text/plain": [
       "                                                                            16614   \\\n",
       "archived                                                                     False   \n",
       "language                                                                        fr   \n",
       "page_namespace                                                                   1   \n",
       "rev_deleted                                                                  False   \n",
       "rev_id                                                                    33001491   \n",
       "rev_minor_edit                                                                True   \n",
       "rev_page                                                                   1919801   \n",
       "rev_parent_id                                                          2.01725e+07   \n",
       "rev_revert_offset                                                                1   \n",
       "rev_sha1                                           9bz5bourxwk8agppns2q07qc7o1sx6b   \n",
       "rev_timestamp                                                       20080902141058   \n",
       "rev_user                                                                    346772   \n",
       "rev_user_text                                                           HerculeBot   \n",
       "reverted_to_rev_id                                                        20172542   \n",
       "reverting_archived                                                           False   \n",
       "reverting_comment                suppression bandeau, Removed: {{Wikiprojet Bio...   \n",
       "reverting_deleted                                                            False   \n",
       "reverting_id                                                              42299178   \n",
       "reverting_minor_edit                                                          True   \n",
       "reverting_page                                                             1919801   \n",
       "reverting_parent_id                                                    3.30015e+07   \n",
       "reverting_sha1                                     88jauptkaadc0l4j7tcegvvk5vcqtnd   \n",
       "reverting_timestamp                                                 20090623151841   \n",
       "reverting_user                                                              223685   \n",
       "reverting_user_text                                                    Ptbotgourou   \n",
       "revisions_reverted                                                               1   \n",
       "namespace_type                                                          other talk   \n",
       "reverted_timestamp_dt                                          2008-09-02 14:10:58   \n",
       "reverting_timestamp_dt                                         2009-06-23 15:18:41   \n",
       "time_to_revert                                                   294 days 01:07:43   \n",
       "time_to_revert_hrs                                                         7057.13   \n",
       "time_to_revert_days                                                        294.047   \n",
       "reverting_year                                                                2009   \n",
       "time_to_revert_days_log10                                                  2.46842   \n",
       "time_to_revert_hrs_log10                                                   3.84863   \n",
       "reverting_comment_nobracket      suppression bandeau, Removed: {{Wikiprojet Bio...   \n",
       "botpair                                                  Ptbotgourou rv HerculeBot   \n",
       "botpair_sorted                                       ['HerculeBot', 'Ptbotgourou']   \n",
       "reverts_per_page_botpair                                                         1   \n",
       "reverts_per_page_botpair_sorted                                                  1   \n",
       "\n",
       "                                                                            529970  \n",
       "archived                                                                     False  \n",
       "language                                                                        en  \n",
       "page_namespace                                                                   1  \n",
       "rev_deleted                                                                  False  \n",
       "rev_id                                                                   578395930  \n",
       "rev_minor_edit                                                                True  \n",
       "rev_page                                                                  40844049  \n",
       "rev_parent_id                                                          5.78325e+08  \n",
       "rev_revert_offset                                                                1  \n",
       "rev_sha1                                           g6uxncxjp87qkr4apecj5t43cdq5jpv  \n",
       "rev_timestamp                                                       20131023122049  \n",
       "rev_user                                                                  11952314  \n",
       "rev_user_text                                                              AvicBot  \n",
       "reverted_to_rev_id                                                       578325039  \n",
       "reverting_archived                                                           False  \n",
       "reverting_comment                Robot: Fixing double redirect to [[Talk:Phinea...  \n",
       "reverting_deleted                                                            False  \n",
       "reverting_id                                                             582410255  \n",
       "reverting_minor_edit                                                          True  \n",
       "reverting_page                                                            40844049  \n",
       "reverting_parent_id                                                    5.78396e+08  \n",
       "reverting_sha1                                     ln5m4ri371i3wn50ckh2fiwdqz471lc  \n",
       "reverting_timestamp                                                 20131119185723  \n",
       "reverting_user                                                            11292982  \n",
       "reverting_user_text                                                       EmausBot  \n",
       "revisions_reverted                                                               1  \n",
       "namespace_type                                                          other talk  \n",
       "reverted_timestamp_dt                                          2013-10-23 12:20:49  \n",
       "reverting_timestamp_dt                                         2013-11-19 18:57:23  \n",
       "time_to_revert                                                    27 days 06:36:34  \n",
       "time_to_revert_hrs                                                         654.609  \n",
       "time_to_revert_days                                                        27.2754  \n",
       "reverting_year                                                                2013  \n",
       "time_to_revert_days_log10                                                  1.43577  \n",
       "time_to_revert_hrs_log10                                                   2.81598  \n",
       "reverting_comment_nobracket                       Robot: Fixing double redirect to  \n",
       "botpair                                                        EmausBot rv AvicBot  \n",
       "botpair_sorted                                             ['AvicBot', 'EmausBot']  \n",
       "reverts_per_page_botpair                                                         1  \n",
       "reverts_per_page_botpair_sorted                                                  1  "
      ]
     },
     "execution_count": 7,
     "metadata": {},
     "output_type": "execute_result"
    }
   ],
   "source": [
    "df_all.sample(2).transpose()"
   ]
  },
  {
   "cell_type": "markdown",
   "metadata": {},
   "source": [
    "## Descriptive statistics"
   ]
  },
  {
   "cell_type": "markdown",
   "metadata": {},
   "source": [
    "### Number of bot-bot reverts per language over time, articles only"
   ]
  },
  {
   "cell_type": "code",
   "execution_count": 8,
   "metadata": {
    "collapsed": true
   },
   "outputs": [],
   "source": [
    "gb = df_all[df_all['page_namespace']==0].groupby([\"language\",\"reverting_year\"])"
   ]
  },
  {
   "cell_type": "code",
   "execution_count": 9,
   "metadata": {},
   "outputs": [
    {
     "data": {
      "text/html": [
       "<div>\n",
       "<style>\n",
       "    .dataframe thead tr:only-child th {\n",
       "        text-align: right;\n",
       "    }\n",
       "\n",
       "    .dataframe thead th {\n",
       "        text-align: left;\n",
       "    }\n",
       "\n",
       "    .dataframe tbody tr th {\n",
       "        vertical-align: top;\n",
       "    }\n",
       "</style>\n",
       "<table border=\"1\" class=\"dataframe\">\n",
       "  <thead>\n",
       "    <tr style=\"text-align: right;\">\n",
       "      <th>language</th>\n",
       "      <th>de</th>\n",
       "      <th>en</th>\n",
       "      <th>es</th>\n",
       "      <th>fr</th>\n",
       "      <th>ja</th>\n",
       "      <th>pt</th>\n",
       "      <th>zh</th>\n",
       "    </tr>\n",
       "    <tr>\n",
       "      <th>reverting_year</th>\n",
       "      <th></th>\n",
       "      <th></th>\n",
       "      <th></th>\n",
       "      <th></th>\n",
       "      <th></th>\n",
       "      <th></th>\n",
       "      <th></th>\n",
       "    </tr>\n",
       "  </thead>\n",
       "  <tbody>\n",
       "    <tr>\n",
       "      <th>2004</th>\n",
       "      <td>6.0</td>\n",
       "      <td>2.0</td>\n",
       "      <td>NaN</td>\n",
       "      <td>2.0</td>\n",
       "      <td>284.0</td>\n",
       "      <td>1.0</td>\n",
       "      <td>5.0</td>\n",
       "    </tr>\n",
       "    <tr>\n",
       "      <th>2005</th>\n",
       "      <td>376.0</td>\n",
       "      <td>108.0</td>\n",
       "      <td>492.0</td>\n",
       "      <td>227.0</td>\n",
       "      <td>29.0</td>\n",
       "      <td>205.0</td>\n",
       "      <td>20.0</td>\n",
       "    </tr>\n",
       "    <tr>\n",
       "      <th>2006</th>\n",
       "      <td>435.0</td>\n",
       "      <td>1112.0</td>\n",
       "      <td>796.0</td>\n",
       "      <td>738.0</td>\n",
       "      <td>117.0</td>\n",
       "      <td>722.0</td>\n",
       "      <td>187.0</td>\n",
       "    </tr>\n",
       "    <tr>\n",
       "      <th>2007</th>\n",
       "      <td>1379.0</td>\n",
       "      <td>5488.0</td>\n",
       "      <td>1689.0</td>\n",
       "      <td>2189.0</td>\n",
       "      <td>903.0</td>\n",
       "      <td>3179.0</td>\n",
       "      <td>634.0</td>\n",
       "    </tr>\n",
       "    <tr>\n",
       "      <th>2008</th>\n",
       "      <td>3230.0</td>\n",
       "      <td>13317.0</td>\n",
       "      <td>3112.0</td>\n",
       "      <td>3718.0</td>\n",
       "      <td>2189.0</td>\n",
       "      <td>2696.0</td>\n",
       "      <td>2097.0</td>\n",
       "    </tr>\n",
       "    <tr>\n",
       "      <th>2009</th>\n",
       "      <td>4710.0</td>\n",
       "      <td>16951.0</td>\n",
       "      <td>3415.0</td>\n",
       "      <td>4340.0</td>\n",
       "      <td>3198.0</td>\n",
       "      <td>5308.0</td>\n",
       "      <td>2755.0</td>\n",
       "    </tr>\n",
       "    <tr>\n",
       "      <th>2010</th>\n",
       "      <td>4967.0</td>\n",
       "      <td>13366.0</td>\n",
       "      <td>7109.0</td>\n",
       "      <td>5792.0</td>\n",
       "      <td>5277.0</td>\n",
       "      <td>4850.0</td>\n",
       "      <td>4452.0</td>\n",
       "    </tr>\n",
       "    <tr>\n",
       "      <th>2011</th>\n",
       "      <td>10386.0</td>\n",
       "      <td>30629.0</td>\n",
       "      <td>16895.0</td>\n",
       "      <td>14393.0</td>\n",
       "      <td>7642.0</td>\n",
       "      <td>15410.0</td>\n",
       "      <td>6318.0</td>\n",
       "    </tr>\n",
       "    <tr>\n",
       "      <th>2012</th>\n",
       "      <td>9554.0</td>\n",
       "      <td>26208.0</td>\n",
       "      <td>9131.0</td>\n",
       "      <td>9735.0</td>\n",
       "      <td>6888.0</td>\n",
       "      <td>7930.0</td>\n",
       "      <td>5742.0</td>\n",
       "    </tr>\n",
       "    <tr>\n",
       "      <th>2013</th>\n",
       "      <td>19222.0</td>\n",
       "      <td>99642.0</td>\n",
       "      <td>21166.0</td>\n",
       "      <td>14203.0</td>\n",
       "      <td>6852.0</td>\n",
       "      <td>17896.0</td>\n",
       "      <td>19089.0</td>\n",
       "    </tr>\n",
       "    <tr>\n",
       "      <th>2014</th>\n",
       "      <td>482.0</td>\n",
       "      <td>11310.0</td>\n",
       "      <td>1969.0</td>\n",
       "      <td>275.0</td>\n",
       "      <td>827.0</td>\n",
       "      <td>232.0</td>\n",
       "      <td>859.0</td>\n",
       "    </tr>\n",
       "    <tr>\n",
       "      <th>2015</th>\n",
       "      <td>148.0</td>\n",
       "      <td>13416.0</td>\n",
       "      <td>1145.0</td>\n",
       "      <td>399.0</td>\n",
       "      <td>236.0</td>\n",
       "      <td>1517.0</td>\n",
       "      <td>675.0</td>\n",
       "    </tr>\n",
       "    <tr>\n",
       "      <th>2016</th>\n",
       "      <td>43.0</td>\n",
       "      <td>13245.0</td>\n",
       "      <td>1180.0</td>\n",
       "      <td>170.0</td>\n",
       "      <td>330.0</td>\n",
       "      <td>178.0</td>\n",
       "      <td>196.0</td>\n",
       "    </tr>\n",
       "  </tbody>\n",
       "</table>\n",
       "</div>"
      ],
      "text/plain": [
       "language             de       en       es       fr      ja       pt       zh\n",
       "reverting_year                                                              \n",
       "2004                6.0      2.0      NaN      2.0   284.0      1.0      5.0\n",
       "2005              376.0    108.0    492.0    227.0    29.0    205.0     20.0\n",
       "2006              435.0   1112.0    796.0    738.0   117.0    722.0    187.0\n",
       "2007             1379.0   5488.0   1689.0   2189.0   903.0   3179.0    634.0\n",
       "2008             3230.0  13317.0   3112.0   3718.0  2189.0   2696.0   2097.0\n",
       "2009             4710.0  16951.0   3415.0   4340.0  3198.0   5308.0   2755.0\n",
       "2010             4967.0  13366.0   7109.0   5792.0  5277.0   4850.0   4452.0\n",
       "2011            10386.0  30629.0  16895.0  14393.0  7642.0  15410.0   6318.0\n",
       "2012             9554.0  26208.0   9131.0   9735.0  6888.0   7930.0   5742.0\n",
       "2013            19222.0  99642.0  21166.0  14203.0  6852.0  17896.0  19089.0\n",
       "2014              482.0  11310.0   1969.0    275.0   827.0    232.0    859.0\n",
       "2015              148.0  13416.0   1145.0    399.0   236.0   1517.0    675.0\n",
       "2016               43.0  13245.0   1180.0    170.0   330.0    178.0    196.0"
      ]
     },
     "execution_count": 9,
     "metadata": {},
     "output_type": "execute_result"
    }
   ],
   "source": [
    "sns.set(font_scale=1.5)\n",
    "gb['rev_id'].count().unstack().transpose()"
   ]
  },
  {
   "cell_type": "markdown",
   "metadata": {
    "collapsed": true
   },
   "source": [
    "#### Plot"
   ]
  },
  {
   "cell_type": "code",
   "execution_count": 10,
   "metadata": {},
   "outputs": [
    {
     "data": {
      "image/png": "[encoded data removed]",
      "text/plain": [
       "<matplotlib.figure.Figure at 0x7f7e99334ef0>"
      ]
     },
     "metadata": {},
     "output_type": "display_data"
    }
   ],
   "source": [
    "sns.set(font_scale=1.5)\n",
    "sns.set_style(\"whitegrid\")\n",
    "\n",
    "groupby_unstack = gb['revisions_reverted'].count().unstack().transpose()\n",
    "ax = groupby_unstack.plot(kind='line', logy=True, figsize=[10,6], colormap=\"Accent\")    \n",
    "\n",
    "plt.xlim(2004,2018)\n",
    "\n",
    "plt.ylabel(\"Number of bot-bot reverts (log scaled)\")\n",
    "plt.xlabel(\"Year of reverting edit\")\n",
    "plt.suptitle(\"Bot-bot reverts per language by reverting year, articles only\")\n",
    "\n",
    "leg = plt.legend()\n",
    "for legobj in leg.legendHandles:\n",
    "    legobj.set_linewidth(8.0)"
   ]
  },
  {
   "cell_type": "markdown",
   "metadata": {
    "collapsed": true
   },
   "source": [
    "#### Number of bot-bot reverts per language, all years, articles only"
   ]
  },
  {
   "cell_type": "code",
   "execution_count": 11,
   "metadata": {},
   "outputs": [
    {
     "data": {
      "text/plain": [
       "language\n",
       "de     54938.0\n",
       "en    244794.0\n",
       "es     68099.0\n",
       "fr     56181.0\n",
       "ja     34772.0\n",
       "pt     60124.0\n",
       "zh     43029.0\n",
       "dtype: float64"
      ]
     },
     "execution_count": 11,
     "metadata": {},
     "output_type": "execute_result"
    }
   ],
   "source": [
    "gb['rev_id'].count().unstack().transpose().sum()"
   ]
  },
  {
   "cell_type": "markdown",
   "metadata": {},
   "source": [
    "#### Total number of bot-bot reverts, all 7 languages, all years, articles only"
   ]
  },
  {
   "cell_type": "code",
   "execution_count": 12,
   "metadata": {},
   "outputs": [
    {
     "data": {
      "text/plain": [
       "561937.0"
      ]
     },
     "execution_count": 12,
     "metadata": {},
     "output_type": "execute_result"
    }
   ],
   "source": [
    "gb['rev_id'].count().unstack().transpose().sum().sum()"
   ]
  },
  {
   "cell_type": "markdown",
   "metadata": {
    "collapsed": true
   },
   "source": [
    "### Number of bot-bot reverts per language over time, all namespaces"
   ]
  },
  {
   "cell_type": "code",
   "execution_count": 13,
   "metadata": {},
   "outputs": [
    {
     "data": {
      "text/html": [
       "<div>\n",
       "<style>\n",
       "    .dataframe thead tr:only-child th {\n",
       "        text-align: right;\n",
       "    }\n",
       "\n",
       "    .dataframe thead th {\n",
       "        text-align: left;\n",
       "    }\n",
       "\n",
       "    .dataframe tbody tr th {\n",
       "        vertical-align: top;\n",
       "    }\n",
       "</style>\n",
       "<table border=\"1\" class=\"dataframe\">\n",
       "  <thead>\n",
       "    <tr style=\"text-align: right;\">\n",
       "      <th>language</th>\n",
       "      <th>de</th>\n",
       "      <th>en</th>\n",
       "      <th>es</th>\n",
       "      <th>fr</th>\n",
       "      <th>ja</th>\n",
       "      <th>pt</th>\n",
       "      <th>zh</th>\n",
       "    </tr>\n",
       "    <tr>\n",
       "      <th>namespace_type</th>\n",
       "      <th></th>\n",
       "      <th></th>\n",
       "      <th></th>\n",
       "      <th></th>\n",
       "      <th></th>\n",
       "      <th></th>\n",
       "      <th></th>\n",
       "    </tr>\n",
       "  </thead>\n",
       "  <tbody>\n",
       "    <tr>\n",
       "      <th>article</th>\n",
       "      <td>54938</td>\n",
       "      <td>244794</td>\n",
       "      <td>68099</td>\n",
       "      <td>56181</td>\n",
       "      <td>34772</td>\n",
       "      <td>60124</td>\n",
       "      <td>43029</td>\n",
       "    </tr>\n",
       "    <tr>\n",
       "      <th>category</th>\n",
       "      <td>10590</td>\n",
       "      <td>106231</td>\n",
       "      <td>19079</td>\n",
       "      <td>21123</td>\n",
       "      <td>10075</td>\n",
       "      <td>9929</td>\n",
       "      <td>6725</td>\n",
       "    </tr>\n",
       "    <tr>\n",
       "      <th>other page</th>\n",
       "      <td>1051</td>\n",
       "      <td>108361</td>\n",
       "      <td>1556</td>\n",
       "      <td>614</td>\n",
       "      <td>277</td>\n",
       "      <td>536</td>\n",
       "      <td>1456</td>\n",
       "    </tr>\n",
       "    <tr>\n",
       "      <th>other talk</th>\n",
       "      <td>2689</td>\n",
       "      <td>43525</td>\n",
       "      <td>37</td>\n",
       "      <td>18528</td>\n",
       "      <td>23</td>\n",
       "      <td>362</td>\n",
       "      <td>242</td>\n",
       "    </tr>\n",
       "  </tbody>\n",
       "</table>\n",
       "</div>"
      ],
      "text/plain": [
       "language           de      en     es     fr     ja     pt     zh\n",
       "namespace_type                                                  \n",
       "article         54938  244794  68099  56181  34772  60124  43029\n",
       "category        10590  106231  19079  21123  10075   9929   6725\n",
       "other page       1051  108361   1556    614    277    536   1456\n",
       "other talk       2689   43525     37  18528     23    362    242"
      ]
     },
     "execution_count": 13,
     "metadata": {},
     "output_type": "execute_result"
    }
   ],
   "source": [
    "gb_lang_nstype = df_all.groupby([\"language\", \"namespace_type\"])\n",
    "\n",
    "gb_lang_nstype['revisions_reverted'].count().unstack().transpose()"
   ]
  },
  {
   "cell_type": "markdown",
   "metadata": {},
   "source": [
    "#### Plot"
   ]
  },
  {
   "cell_type": "code",
   "execution_count": 14,
   "metadata": {},
   "outputs": [
    {
     "data": {
      "image/png": "[encoded data removed]",
      "text/plain": [
       "<matplotlib.figure.Figure at 0x7f7e974829b0>"
      ]
     },
     "metadata": {},
     "output_type": "display_data"
    }
   ],
   "source": [
    "sns.set(font_scale=2)\n",
    "sns.set_style(\"whitegrid\")\n",
    "\n",
    "g = sns.factorplot(data=df_all,\n",
    "                   x='language',\n",
    "                   y=None,\n",
    "                   hue='namespace_type',\n",
    "                   kind='count',\n",
    "                   size=8,\n",
    "                   palette=\"Accent\",\n",
    "                   aspect = 1)"
   ]
  },
  {
   "cell_type": "markdown",
   "metadata": {},
   "source": [
    "#### Number of bot-bot reverts per language, all years, all namespaces"
   ]
  },
  {
   "cell_type": "code",
   "execution_count": 15,
   "metadata": {},
   "outputs": [
    {
     "data": {
      "text/plain": [
       "language\n",
       "de     69268\n",
       "en    502911\n",
       "es     88771\n",
       "fr     96446\n",
       "ja     45147\n",
       "pt     70951\n",
       "zh     51452\n",
       "dtype: int64"
      ]
     },
     "execution_count": 15,
     "metadata": {},
     "output_type": "execute_result"
    }
   ],
   "source": [
    "gb_lang_nstype['revisions_reverted'].count().unstack().transpose().sum()"
   ]
  },
  {
   "cell_type": "markdown",
   "metadata": {},
   "source": [
    "#### Number of bot-bot reverts by namespace type, all 7 languages, all years, all namespaces"
   ]
  },
  {
   "cell_type": "code",
   "execution_count": 16,
   "metadata": {},
   "outputs": [
    {
     "data": {
      "text/plain": [
       "namespace_type\n",
       "article       561937\n",
       "category      183752\n",
       "other page    113851\n",
       "other talk     65406\n",
       "dtype: int64"
      ]
     },
     "execution_count": 16,
     "metadata": {},
     "output_type": "execute_result"
    }
   ],
   "source": [
    "gb_lang_nstype['revisions_reverted'].count().unstack().sum()"
   ]
  },
  {
   "cell_type": "markdown",
   "metadata": {},
   "source": [
    "#### Proportion of bot-bot reverts by namespace type, all 7 languages, all years, all namespaces"
   ]
  },
  {
   "cell_type": "code",
   "execution_count": 17,
   "metadata": {},
   "outputs": [
    {
     "data": {
      "text/plain": [
       "article       0.607535\n",
       "category      0.198662\n",
       "other page    0.123089\n",
       "other talk    0.070713\n",
       "Name: namespace_type, dtype: float64"
      ]
     },
     "execution_count": 17,
     "metadata": {},
     "output_type": "execute_result"
    }
   ],
   "source": [
    "df_all['namespace_type'].value_counts(normalize=True)"
   ]
  },
  {
   "cell_type": "markdown",
   "metadata": {},
   "source": [
    "### Runtime"
   ]
  },
  {
   "cell_type": "code",
   "execution_count": 18,
   "metadata": {},
   "outputs": [
    {
     "name": "stdout",
     "output_type": "stream",
     "text": [
      "Total runtime:  0 minutes,  40 seconds\n"
     ]
    }
   ],
   "source": [
    "end = datetime.datetime.now()\n",
    "\n",
    "time_to_run = end - start\n",
    "minutes = int(time_to_run.seconds/60)\n",
    "seconds = time_to_run.seconds % 60\n",
    "print(\"Total runtime: \", minutes, \"minutes, \", seconds, \"seconds\")"
   ]
  }
 ],
 "metadata": {
  "anaconda-cloud": {},
  "kernelspec": {
   "display_name": "Python [default]",
   "language": "python",
   "name": "python3"
  },
  "language_info": {
   "codemirror_mode": {
    "name": "ipython",
    "version": 3
   },
   "file_extension": ".py",
   "mimetype": "text/x-python",
   "name": "python",
   "nbconvert_exporter": "python",
   "pygments_lexer": "ipython3",
   "version": "3.5.3"
  }
 },
 "nbformat": 4,
 "nbformat_minor": 2
}
