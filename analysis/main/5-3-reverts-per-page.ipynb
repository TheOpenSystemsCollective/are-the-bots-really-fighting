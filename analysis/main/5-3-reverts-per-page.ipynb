{
 "cells": [
  {
   "cell_type": "markdown",
   "metadata": {},
   "source": [
    "# Section 5.3: Reverts per page (setup and exploratory)\n",
    "\n",
    "This is a data analysis script used to produce findings in the paper, which you can run based entirely off the files in this GitHub repository. This notebook produces part of the analysis for all languages, and the notebook `4-3-reverts-per-page-enwiki-plots` is an independent replication of this analysis in R that contains plots for the English Wikipedia, which are included in the paper. Note that the R notebook cannot be run on mybinder due to memory requirements, while this one can be.\n",
    "\n",
    "This entire notebook can be run from the beginning with Kernel -> Restart & Run All in the menu bar. It takes less than 1 minute to run on a laptop running a Core i5-2540M processor."
   ]
  },
  {
   "cell_type": "code",
   "execution_count": 1,
   "metadata": {
    "collapsed": true
   },
   "outputs": [],
   "source": [
    "import pandas as pd\n",
    "import seaborn as sns\n",
    "import matplotlib.pyplot as plt\n",
    "import numpy as np\n",
    "import glob\n",
    "import datetime\n",
    "import pickle\n",
    "%matplotlib inline"
   ]
  },
  {
   "cell_type": "code",
   "execution_count": 2,
   "metadata": {
    "collapsed": true
   },
   "outputs": [],
   "source": [
    "start = datetime.datetime.now()"
   ]
  },
  {
   "cell_type": "markdown",
   "metadata": {},
   "source": [
    "## Load data"
   ]
  },
  {
   "cell_type": "code",
   "execution_count": 3,
   "metadata": {
    "collapsed": true
   },
   "outputs": [],
   "source": [
    "!unxz --keep --force ../../datasets/parsed_dataframes/df_all_2016.pickle.xz"
   ]
  },
  {
   "cell_type": "code",
   "execution_count": 4,
   "metadata": {},
   "outputs": [
    {
     "name": "stdout",
     "output_type": "stream",
     "text": [
      "../../datasets/parsed_dataframes/df_all_2016.pickle\r\n"
     ]
    }
   ],
   "source": [
    "!ls ../../datasets/parsed_dataframes/*.pickle"
   ]
  },
  {
   "cell_type": "code",
   "execution_count": 5,
   "metadata": {
    "collapsed": true
   },
   "outputs": [],
   "source": [
    "with open(\"../../datasets/parsed_dataframes/df_all_2016.pickle\", \"rb\") as f:\n",
    "    df_all = pickle.load(f)"
   ]
  },
  {
   "cell_type": "code",
   "execution_count": 6,
   "metadata": {},
   "outputs": [
    {
     "data": {
      "text/html": [
       "<div>\n",
       "<style>\n",
       "    .dataframe thead tr:only-child th {\n",
       "        text-align: right;\n",
       "    }\n",
       "\n",
       "    .dataframe thead th {\n",
       "        text-align: left;\n",
       "    }\n",
       "\n",
       "    .dataframe tbody tr th {\n",
       "        vertical-align: top;\n",
       "    }\n",
       "</style>\n",
       "<table border=\"1\" class=\"dataframe\">\n",
       "  <thead>\n",
       "    <tr style=\"text-align: right;\">\n",
       "      <th></th>\n",
       "      <th>368803</th>\n",
       "      <th>502072</th>\n",
       "    </tr>\n",
       "  </thead>\n",
       "  <tbody>\n",
       "    <tr>\n",
       "      <th>archived</th>\n",
       "      <td>False</td>\n",
       "      <td>False</td>\n",
       "    </tr>\n",
       "    <tr>\n",
       "      <th>language</th>\n",
       "      <td>en</td>\n",
       "      <td>en</td>\n",
       "    </tr>\n",
       "    <tr>\n",
       "      <th>page_namespace</th>\n",
       "      <td>4</td>\n",
       "      <td>14</td>\n",
       "    </tr>\n",
       "    <tr>\n",
       "      <th>rev_deleted</th>\n",
       "      <td>False</td>\n",
       "      <td>False</td>\n",
       "    </tr>\n",
       "    <tr>\n",
       "      <th>rev_id</th>\n",
       "      <td>414658262</td>\n",
       "      <td>321587772</td>\n",
       "    </tr>\n",
       "    <tr>\n",
       "      <th>rev_minor_edit</th>\n",
       "      <td>False</td>\n",
       "      <td>True</td>\n",
       "    </tr>\n",
       "    <tr>\n",
       "      <th>rev_page</th>\n",
       "      <td>4626266</td>\n",
       "      <td>21490082</td>\n",
       "    </tr>\n",
       "    <tr>\n",
       "      <th>rev_parent_id</th>\n",
       "      <td>4.14656e+08</td>\n",
       "      <td>2.70317e+08</td>\n",
       "    </tr>\n",
       "    <tr>\n",
       "      <th>rev_revert_offset</th>\n",
       "      <td>1</td>\n",
       "      <td>2</td>\n",
       "    </tr>\n",
       "    <tr>\n",
       "      <th>rev_sha1</th>\n",
       "      <td>b7q4j3lf6nvbgdxpcioi5th06y4zvjd</td>\n",
       "      <td>20jlq5xvki3aa9pq17i7tiklcylri18</td>\n",
       "    </tr>\n",
       "    <tr>\n",
       "      <th>rev_timestamp</th>\n",
       "      <td>20110218185506</td>\n",
       "      <td>20091023153323</td>\n",
       "    </tr>\n",
       "    <tr>\n",
       "      <th>rev_user</th>\n",
       "      <td>13286072</td>\n",
       "      <td>3171782</td>\n",
       "    </tr>\n",
       "    <tr>\n",
       "      <th>rev_user_text</th>\n",
       "      <td>ClueBot NG</td>\n",
       "      <td>TXiKiBoT</td>\n",
       "    </tr>\n",
       "    <tr>\n",
       "      <th>reverted_to_rev_id</th>\n",
       "      <td>414655598</td>\n",
       "      <td>270316918</td>\n",
       "    </tr>\n",
       "    <tr>\n",
       "      <th>reverting_archived</th>\n",
       "      <td>False</td>\n",
       "      <td>False</td>\n",
       "    </tr>\n",
       "    <tr>\n",
       "      <th>reverting_comment</th>\n",
       "      <td>Empty. rm [[Special:Contributions/216.194.32.1...</td>\n",
       "      <td>[[User:Addbot|Bot:]] Migrating 2 interwiki lin...</td>\n",
       "    </tr>\n",
       "    <tr>\n",
       "      <th>reverting_deleted</th>\n",
       "      <td>False</td>\n",
       "      <td>False</td>\n",
       "    </tr>\n",
       "    <tr>\n",
       "      <th>reverting_id</th>\n",
       "      <td>414658788</td>\n",
       "      <td>546727520</td>\n",
       "    </tr>\n",
       "    <tr>\n",
       "      <th>reverting_minor_edit</th>\n",
       "      <td>True</td>\n",
       "      <td>True</td>\n",
       "    </tr>\n",
       "    <tr>\n",
       "      <th>reverting_page</th>\n",
       "      <td>4626266</td>\n",
       "      <td>21490082</td>\n",
       "    </tr>\n",
       "    <tr>\n",
       "      <th>reverting_parent_id</th>\n",
       "      <td>4.14658e+08</td>\n",
       "      <td>3.98948e+08</td>\n",
       "    </tr>\n",
       "    <tr>\n",
       "      <th>reverting_sha1</th>\n",
       "      <td>fdq6jlab7kr949hd0g4f1gw15hd1qhg</td>\n",
       "      <td>ivhmt840igobwhtqfphygca81t8pxhl</td>\n",
       "    </tr>\n",
       "    <tr>\n",
       "      <th>reverting_timestamp</th>\n",
       "      <td>20110218185852</td>\n",
       "      <td>20130324130609</td>\n",
       "    </tr>\n",
       "    <tr>\n",
       "      <th>reverting_user</th>\n",
       "      <td>6327251</td>\n",
       "      <td>6569922</td>\n",
       "    </tr>\n",
       "    <tr>\n",
       "      <th>reverting_user_text</th>\n",
       "      <td>HBC AIV helperbot7</td>\n",
       "      <td>Addbot</td>\n",
       "    </tr>\n",
       "    <tr>\n",
       "      <th>revisions_reverted</th>\n",
       "      <td>1</td>\n",
       "      <td>2</td>\n",
       "    </tr>\n",
       "    <tr>\n",
       "      <th>namespace_type</th>\n",
       "      <td>other page</td>\n",
       "      <td>category</td>\n",
       "    </tr>\n",
       "    <tr>\n",
       "      <th>reverted_timestamp_dt</th>\n",
       "      <td>2011-02-18 18:55:06</td>\n",
       "      <td>2009-10-23 15:33:23</td>\n",
       "    </tr>\n",
       "    <tr>\n",
       "      <th>reverting_timestamp_dt</th>\n",
       "      <td>2011-02-18 18:58:52</td>\n",
       "      <td>2013-03-24 13:06:09</td>\n",
       "    </tr>\n",
       "    <tr>\n",
       "      <th>time_to_revert</th>\n",
       "      <td>0 days 00:03:46</td>\n",
       "      <td>1247 days 21:32:46</td>\n",
       "    </tr>\n",
       "    <tr>\n",
       "      <th>time_to_revert_hrs</th>\n",
       "      <td>0.0627778</td>\n",
       "      <td>29949.5</td>\n",
       "    </tr>\n",
       "    <tr>\n",
       "      <th>time_to_revert_days</th>\n",
       "      <td>0.00261574</td>\n",
       "      <td>1247.9</td>\n",
       "    </tr>\n",
       "    <tr>\n",
       "      <th>reverting_year</th>\n",
       "      <td>2011</td>\n",
       "      <td>2013</td>\n",
       "    </tr>\n",
       "    <tr>\n",
       "      <th>time_to_revert_days_log10</th>\n",
       "      <td>-2.58241</td>\n",
       "      <td>3.09618</td>\n",
       "    </tr>\n",
       "    <tr>\n",
       "      <th>time_to_revert_hrs_log10</th>\n",
       "      <td>-1.20219</td>\n",
       "      <td>4.47639</td>\n",
       "    </tr>\n",
       "    <tr>\n",
       "      <th>reverting_comment_nobracket</th>\n",
       "      <td>Empty. rm .</td>\n",
       "      <td>Migrating 2 interwiki links, now provided by on</td>\n",
       "    </tr>\n",
       "    <tr>\n",
       "      <th>botpair</th>\n",
       "      <td>HBC AIV helperbot7 rv ClueBot NG</td>\n",
       "      <td>Addbot rv TXiKiBoT</td>\n",
       "    </tr>\n",
       "    <tr>\n",
       "      <th>botpair_sorted</th>\n",
       "      <td>['ClueBot NG', 'HBC AIV helperbot7']</td>\n",
       "      <td>['Addbot', 'TXiKiBoT']</td>\n",
       "    </tr>\n",
       "    <tr>\n",
       "      <th>reverts_per_page_botpair</th>\n",
       "      <td>10473</td>\n",
       "      <td>1</td>\n",
       "    </tr>\n",
       "    <tr>\n",
       "      <th>reverts_per_page_botpair_sorted</th>\n",
       "      <td>10473</td>\n",
       "      <td>1</td>\n",
       "    </tr>\n",
       "  </tbody>\n",
       "</table>\n",
       "</div>"
      ],
      "text/plain": [
       "                                                                            368803  \\\n",
       "archived                                                                     False   \n",
       "language                                                                        en   \n",
       "page_namespace                                                                   4   \n",
       "rev_deleted                                                                  False   \n",
       "rev_id                                                                   414658262   \n",
       "rev_minor_edit                                                               False   \n",
       "rev_page                                                                   4626266   \n",
       "rev_parent_id                                                          4.14656e+08   \n",
       "rev_revert_offset                                                                1   \n",
       "rev_sha1                                           b7q4j3lf6nvbgdxpcioi5th06y4zvjd   \n",
       "rev_timestamp                                                       20110218185506   \n",
       "rev_user                                                                  13286072   \n",
       "rev_user_text                                                           ClueBot NG   \n",
       "reverted_to_rev_id                                                       414655598   \n",
       "reverting_archived                                                           False   \n",
       "reverting_comment                Empty. rm [[Special:Contributions/216.194.32.1...   \n",
       "reverting_deleted                                                            False   \n",
       "reverting_id                                                             414658788   \n",
       "reverting_minor_edit                                                          True   \n",
       "reverting_page                                                             4626266   \n",
       "reverting_parent_id                                                    4.14658e+08   \n",
       "reverting_sha1                                     fdq6jlab7kr949hd0g4f1gw15hd1qhg   \n",
       "reverting_timestamp                                                 20110218185852   \n",
       "reverting_user                                                             6327251   \n",
       "reverting_user_text                                             HBC AIV helperbot7   \n",
       "revisions_reverted                                                               1   \n",
       "namespace_type                                                          other page   \n",
       "reverted_timestamp_dt                                          2011-02-18 18:55:06   \n",
       "reverting_timestamp_dt                                         2011-02-18 18:58:52   \n",
       "time_to_revert                                                     0 days 00:03:46   \n",
       "time_to_revert_hrs                                                       0.0627778   \n",
       "time_to_revert_days                                                     0.00261574   \n",
       "reverting_year                                                                2011   \n",
       "time_to_revert_days_log10                                                 -2.58241   \n",
       "time_to_revert_hrs_log10                                                  -1.20219   \n",
       "reverting_comment_nobracket                                            Empty. rm .   \n",
       "botpair                                           HBC AIV helperbot7 rv ClueBot NG   \n",
       "botpair_sorted                                ['ClueBot NG', 'HBC AIV helperbot7']   \n",
       "reverts_per_page_botpair                                                     10473   \n",
       "reverts_per_page_botpair_sorted                                              10473   \n",
       "\n",
       "                                                                            502072  \n",
       "archived                                                                     False  \n",
       "language                                                                        en  \n",
       "page_namespace                                                                  14  \n",
       "rev_deleted                                                                  False  \n",
       "rev_id                                                                   321587772  \n",
       "rev_minor_edit                                                                True  \n",
       "rev_page                                                                  21490082  \n",
       "rev_parent_id                                                          2.70317e+08  \n",
       "rev_revert_offset                                                                2  \n",
       "rev_sha1                                           20jlq5xvki3aa9pq17i7tiklcylri18  \n",
       "rev_timestamp                                                       20091023153323  \n",
       "rev_user                                                                   3171782  \n",
       "rev_user_text                                                             TXiKiBoT  \n",
       "reverted_to_rev_id                                                       270316918  \n",
       "reverting_archived                                                           False  \n",
       "reverting_comment                [[User:Addbot|Bot:]] Migrating 2 interwiki lin...  \n",
       "reverting_deleted                                                            False  \n",
       "reverting_id                                                             546727520  \n",
       "reverting_minor_edit                                                          True  \n",
       "reverting_page                                                            21490082  \n",
       "reverting_parent_id                                                    3.98948e+08  \n",
       "reverting_sha1                                     ivhmt840igobwhtqfphygca81t8pxhl  \n",
       "reverting_timestamp                                                 20130324130609  \n",
       "reverting_user                                                             6569922  \n",
       "reverting_user_text                                                         Addbot  \n",
       "revisions_reverted                                                               2  \n",
       "namespace_type                                                            category  \n",
       "reverted_timestamp_dt                                          2009-10-23 15:33:23  \n",
       "reverting_timestamp_dt                                         2013-03-24 13:06:09  \n",
       "time_to_revert                                                  1247 days 21:32:46  \n",
       "time_to_revert_hrs                                                         29949.5  \n",
       "time_to_revert_days                                                         1247.9  \n",
       "reverting_year                                                                2013  \n",
       "time_to_revert_days_log10                                                  3.09618  \n",
       "time_to_revert_hrs_log10                                                   4.47639  \n",
       "reverting_comment_nobracket        Migrating 2 interwiki links, now provided by on  \n",
       "botpair                                                         Addbot rv TXiKiBoT  \n",
       "botpair_sorted                                              ['Addbot', 'TXiKiBoT']  \n",
       "reverts_per_page_botpair                                                         1  \n",
       "reverts_per_page_botpair_sorted                                                  1  "
      ]
     },
     "execution_count": 6,
     "metadata": {},
     "output_type": "execute_result"
    }
   ],
   "source": [
    "df_all.sample(2).transpose()"
   ]
  },
  {
   "cell_type": "markdown",
   "metadata": {
    "collapsed": true
   },
   "source": [
    "## Number of reverts per page per bot pair\n",
    "### Group by language, page ID, and botpair_sorted\n",
    "Grouping by these three columns creates a very simple and useful intersection for this metric. If there is only one revert for a language/page ID/botpair_sorted set, then the reverting bot's revert was for sure unreciprocated by the reverted bot. If there are two reverts, then the most likely outcome is that the reverting bot's revert was followed by a revert by the reverted bot, although this could also mean that the reverting bot reverted the reverted bot twice. Higher counts imply heavy back-and-forth reverts between two bots on a single page.\n",
    "\n",
    "We count the number of reverts with the same language, page ID, and sorted botpair, then assign that value to `reverts_per_page_botpair_sorted` for every revert matching these three columns. Note that this initial analysis is conducted in `0-load-process-data.ipynb`, but we have included it again for clarity."
   ]
  },
  {
   "cell_type": "code",
   "execution_count": 7,
   "metadata": {
    "collapsed": true
   },
   "outputs": [],
   "source": [
    "groupby_lang_page_bps = df_all.groupby([\"language\", \"rev_page\", \"botpair_sorted\"])"
   ]
  },
  {
   "cell_type": "code",
   "execution_count": 8,
   "metadata": {},
   "outputs": [
    {
     "data": {
      "text/html": [
       "<div>\n",
       "<style>\n",
       "    .dataframe thead tr:only-child th {\n",
       "        text-align: right;\n",
       "    }\n",
       "\n",
       "    .dataframe thead th {\n",
       "        text-align: left;\n",
       "    }\n",
       "\n",
       "    .dataframe tbody tr th {\n",
       "        vertical-align: top;\n",
       "    }\n",
       "</style>\n",
       "<table border=\"1\" class=\"dataframe\">\n",
       "  <thead>\n",
       "    <tr style=\"text-align: right;\">\n",
       "      <th></th>\n",
       "      <th>language</th>\n",
       "      <th>rev_page</th>\n",
       "      <th>botpair_sorted</th>\n",
       "      <th>reverts_per_page_botpair_sorted</th>\n",
       "    </tr>\n",
       "  </thead>\n",
       "  <tbody>\n",
       "    <tr>\n",
       "      <th>413723</th>\n",
       "      <td>en</td>\n",
       "      <td>33088615</td>\n",
       "      <td>['KLBot2', 'Thijs!bot']</td>\n",
       "      <td>1</td>\n",
       "    </tr>\n",
       "    <tr>\n",
       "      <th>608235</th>\n",
       "      <td>fr</td>\n",
       "      <td>3232951</td>\n",
       "      <td>['ChuispastonBot', 'EmausBot']</td>\n",
       "      <td>1</td>\n",
       "    </tr>\n",
       "    <tr>\n",
       "      <th>221343</th>\n",
       "      <td>en</td>\n",
       "      <td>13258304</td>\n",
       "      <td>['AvicBot', 'Xqbot']</td>\n",
       "      <td>1</td>\n",
       "    </tr>\n",
       "    <tr>\n",
       "      <th>1742</th>\n",
       "      <td>de</td>\n",
       "      <td>11128</td>\n",
       "      <td>['MerlIwBot', 'Xqbot']</td>\n",
       "      <td>2</td>\n",
       "    </tr>\n",
       "    <tr>\n",
       "      <th>611017</th>\n",
       "      <td>fr</td>\n",
       "      <td>3637910</td>\n",
       "      <td>['Addbot', 'YFdyh-bot']</td>\n",
       "      <td>1</td>\n",
       "    </tr>\n",
       "    <tr>\n",
       "      <th>780878</th>\n",
       "      <td>zh</td>\n",
       "      <td>1421963</td>\n",
       "      <td>['Addbot', 'Mjbmrbot']</td>\n",
       "      <td>1</td>\n",
       "    </tr>\n",
       "    <tr>\n",
       "      <th>2115</th>\n",
       "      <td>de</td>\n",
       "      <td>15235</td>\n",
       "      <td>['MerlIwBot', 'PixelBot']</td>\n",
       "      <td>2</td>\n",
       "    </tr>\n",
       "    <tr>\n",
       "      <th>698010</th>\n",
       "      <td>pt</td>\n",
       "      <td>241700</td>\n",
       "      <td>['EmausBot', 'MerlIwBot']</td>\n",
       "      <td>1</td>\n",
       "    </tr>\n",
       "    <tr>\n",
       "      <th>710941</th>\n",
       "      <td>pt</td>\n",
       "      <td>1028990</td>\n",
       "      <td>['CommonsDelinker', 'Rei-bot']</td>\n",
       "      <td>1</td>\n",
       "    </tr>\n",
       "    <tr>\n",
       "      <th>593680</th>\n",
       "      <td>fr</td>\n",
       "      <td>1718027</td>\n",
       "      <td>['HerculeBot', 'Ptbotgourou']</td>\n",
       "      <td>1</td>\n",
       "    </tr>\n",
       "    <tr>\n",
       "      <th>788657</th>\n",
       "      <td>zh</td>\n",
       "      <td>2901471</td>\n",
       "      <td>['Addbot', 'YFdyh-bot']</td>\n",
       "      <td>1</td>\n",
       "    </tr>\n",
       "    <tr>\n",
       "      <th>428405</th>\n",
       "      <td>en</td>\n",
       "      <td>35013778</td>\n",
       "      <td>['Addbot', 'JackieBot']</td>\n",
       "      <td>1</td>\n",
       "    </tr>\n",
       "    <tr>\n",
       "      <th>729655</th>\n",
       "      <td>pt</td>\n",
       "      <td>2301901</td>\n",
       "      <td>['Alph Bot', 'VolkovBot']</td>\n",
       "      <td>1</td>\n",
       "    </tr>\n",
       "    <tr>\n",
       "      <th>474453</th>\n",
       "      <td>es</td>\n",
       "      <td>432456</td>\n",
       "      <td>['Zwobot', 'タチコマ robot']</td>\n",
       "      <td>1</td>\n",
       "    </tr>\n",
       "    <tr>\n",
       "      <th>184979</th>\n",
       "      <td>en</td>\n",
       "      <td>9412215</td>\n",
       "      <td>['Redirect fixer', 'RussBot']</td>\n",
       "      <td>1</td>\n",
       "    </tr>\n",
       "    <tr>\n",
       "      <th>65994</th>\n",
       "      <td>en</td>\n",
       "      <td>14276</td>\n",
       "      <td>['ArthurBot', 'EmausBot']</td>\n",
       "      <td>1</td>\n",
       "    </tr>\n",
       "    <tr>\n",
       "      <th>313140</th>\n",
       "      <td>en</td>\n",
       "      <td>23276084</td>\n",
       "      <td>['Addbot', 'EmausBot']</td>\n",
       "      <td>1</td>\n",
       "    </tr>\n",
       "    <tr>\n",
       "      <th>360230</th>\n",
       "      <td>en</td>\n",
       "      <td>27577677</td>\n",
       "      <td>['Addbot', 'EmausBot']</td>\n",
       "      <td>1</td>\n",
       "    </tr>\n",
       "    <tr>\n",
       "      <th>555603</th>\n",
       "      <td>fr</td>\n",
       "      <td>263068</td>\n",
       "      <td>['EmausBot', 'MerlIwBot']</td>\n",
       "      <td>1</td>\n",
       "    </tr>\n",
       "    <tr>\n",
       "      <th>556326</th>\n",
       "      <td>fr</td>\n",
       "      <td>279009</td>\n",
       "      <td>['EmausBot', 'Escarbot']</td>\n",
       "      <td>1</td>\n",
       "    </tr>\n",
       "    <tr>\n",
       "      <th>334821</th>\n",
       "      <td>en</td>\n",
       "      <td>25228834</td>\n",
       "      <td>['Addbot', 'EmausBot']</td>\n",
       "      <td>1</td>\n",
       "    </tr>\n",
       "    <tr>\n",
       "      <th>436730</th>\n",
       "      <td>en</td>\n",
       "      <td>36211570</td>\n",
       "      <td>['EmausBot', 'KLBot2']</td>\n",
       "      <td>1</td>\n",
       "    </tr>\n",
       "    <tr>\n",
       "      <th>723634</th>\n",
       "      <td>pt</td>\n",
       "      <td>1823034</td>\n",
       "      <td>['EmausBot', 'MastiBot']</td>\n",
       "      <td>1</td>\n",
       "    </tr>\n",
       "    <tr>\n",
       "      <th>153609</th>\n",
       "      <td>en</td>\n",
       "      <td>6185714</td>\n",
       "      <td>['Addbot', 'EmausBot']</td>\n",
       "      <td>1</td>\n",
       "    </tr>\n",
       "    <tr>\n",
       "      <th>110433</th>\n",
       "      <td>en</td>\n",
       "      <td>2371167</td>\n",
       "      <td>['PbBot', 'Yobot']</td>\n",
       "      <td>1</td>\n",
       "    </tr>\n",
       "  </tbody>\n",
       "</table>\n",
       "</div>"
      ],
      "text/plain": [
       "       language  rev_page                  botpair_sorted  \\\n",
       "413723       en  33088615         ['KLBot2', 'Thijs!bot']   \n",
       "608235       fr   3232951  ['ChuispastonBot', 'EmausBot']   \n",
       "221343       en  13258304            ['AvicBot', 'Xqbot']   \n",
       "1742         de     11128          ['MerlIwBot', 'Xqbot']   \n",
       "611017       fr   3637910         ['Addbot', 'YFdyh-bot']   \n",
       "780878       zh   1421963          ['Addbot', 'Mjbmrbot']   \n",
       "2115         de     15235       ['MerlIwBot', 'PixelBot']   \n",
       "698010       pt    241700       ['EmausBot', 'MerlIwBot']   \n",
       "710941       pt   1028990  ['CommonsDelinker', 'Rei-bot']   \n",
       "593680       fr   1718027   ['HerculeBot', 'Ptbotgourou']   \n",
       "788657       zh   2901471         ['Addbot', 'YFdyh-bot']   \n",
       "428405       en  35013778         ['Addbot', 'JackieBot']   \n",
       "729655       pt   2301901       ['Alph Bot', 'VolkovBot']   \n",
       "474453       es    432456        ['Zwobot', 'タチコマ robot']   \n",
       "184979       en   9412215   ['Redirect fixer', 'RussBot']   \n",
       "65994        en     14276       ['ArthurBot', 'EmausBot']   \n",
       "313140       en  23276084          ['Addbot', 'EmausBot']   \n",
       "360230       en  27577677          ['Addbot', 'EmausBot']   \n",
       "555603       fr    263068       ['EmausBot', 'MerlIwBot']   \n",
       "556326       fr    279009        ['EmausBot', 'Escarbot']   \n",
       "334821       en  25228834          ['Addbot', 'EmausBot']   \n",
       "436730       en  36211570          ['EmausBot', 'KLBot2']   \n",
       "723634       pt   1823034        ['EmausBot', 'MastiBot']   \n",
       "153609       en   6185714          ['Addbot', 'EmausBot']   \n",
       "110433       en   2371167              ['PbBot', 'Yobot']   \n",
       "\n",
       "        reverts_per_page_botpair_sorted  \n",
       "413723                                1  \n",
       "608235                                1  \n",
       "221343                                1  \n",
       "1742                                  2  \n",
       "611017                                1  \n",
       "780878                                1  \n",
       "2115                                  2  \n",
       "698010                                1  \n",
       "710941                                1  \n",
       "593680                                1  \n",
       "788657                                1  \n",
       "428405                                1  \n",
       "729655                                1  \n",
       "474453                                1  \n",
       "184979                                1  \n",
       "65994                                 1  \n",
       "313140                                1  \n",
       "360230                                1  \n",
       "555603                                1  \n",
       "556326                                1  \n",
       "334821                                1  \n",
       "436730                                1  \n",
       "723634                                1  \n",
       "153609                                1  \n",
       "110433                                1  "
      ]
     },
     "execution_count": 8,
     "metadata": {},
     "output_type": "execute_result"
    }
   ],
   "source": [
    "df_groupby = pd.DataFrame(groupby_lang_page_bps['rev_id'].count()).reset_index().rename(columns={\"rev_id\":\"reverts_per_page_botpair_sorted\"})\n",
    "df_groupby.sample(25)"
   ]
  },
  {
   "cell_type": "markdown",
   "metadata": {},
   "source": [
    "### Add reverts_per_page_botpair_sorted to df_all"
   ]
  },
  {
   "cell_type": "code",
   "execution_count": 9,
   "metadata": {
    "collapsed": true
   },
   "outputs": [],
   "source": [
    "df_all = df_all.drop(\"reverts_per_page_botpair_sorted\",1)\n",
    "    \n",
    "    \n",
    "\n",
    "df_all = pd.merge(df_all, df_groupby, how='left',\n",
    "         left_on=[\"language\", \"rev_page\", \"botpair_sorted\"],\n",
    "         right_on=[\"language\", \"rev_page\", \"botpair_sorted\"])"
   ]
  },
  {
   "cell_type": "markdown",
   "metadata": {},
   "source": [
    "## Analysis\n",
    "### Number of reverts by revert_per_page_botpair_sorted, all languages, articles only\n",
    "\n",
    "For example, 528,104 reverts were not reciprocated at all. 25,528 reverts were part of a two-bot revert chain on the same page in the same language lasting 2 reverts. 3,987 reverts were part of a two-bot revert chain in the same page in the same language lasting 3 reverts, and so on."
   ]
  },
  {
   "cell_type": "code",
   "execution_count": 10,
   "metadata": {
    "scrolled": true
   },
   "outputs": [
    {
     "data": {
      "text/plain": [
       "1     528104\n",
       "2      25528\n",
       "3       3987\n",
       "4       1212\n",
       "5        540\n",
       "6        336\n",
       "7        259\n",
       "8        176\n",
       "9        135\n",
       "10        60\n",
       "11        44\n",
       "12        96\n",
       "13       143\n",
       "14        70\n",
       "15        90\n",
       "16        80\n",
       "17        85\n",
       "18        54\n",
       "19        95\n",
       "20        20\n",
       "21        42\n",
       "22        88\n",
       "23       138\n",
       "24        72\n",
       "28        56\n",
       "29        87\n",
       "30        90\n",
       "31        93\n",
       "35        35\n",
       "39        39\n",
       "41        82\n",
       "Name: reverts_per_page_botpair_sorted, dtype: int64"
      ]
     },
     "execution_count": 10,
     "metadata": {},
     "output_type": "execute_result"
    }
   ],
   "source": [
    "df_all.query(\"page_namespace == 0\").reverts_per_page_botpair_sorted.value_counts().sort_index()"
   ]
  },
  {
   "cell_type": "code",
   "execution_count": 11,
   "metadata": {},
   "outputs": [
    {
     "data": {
      "text/plain": [
       "561936"
      ]
     },
     "execution_count": 11,
     "metadata": {},
     "output_type": "execute_result"
    }
   ],
   "source": [
    "df_all.query(\"page_namespace == 0\").reverts_per_page_botpair_sorted.value_counts().sum()"
   ]
  },
  {
   "cell_type": "code",
   "execution_count": 12,
   "metadata": {},
   "outputs": [
    {
     "data": {
      "image/png": "[encoded data removed]",
      "text/plain": [
       "<matplotlib.figure.Figure at 0x7f116b5ebc50>"
      ]
     },
     "metadata": {},
     "output_type": "display_data"
    }
   ],
   "source": [
    "import matplotlib.ticker\n",
    "\n",
    "sns.set(font_scale=1.5, style=\"whitegrid\")\n",
    "fig, ax = plt.subplots(figsize=[8,6])\n",
    "df_all.query(\"page_namespace == 0\").reverts_per_page_botpair_sorted.value_counts().sort_index().plot(kind='bar', ax=ax)\n",
    "ax.set_yscale('log')\n",
    "ax.set_ylim((pow(10,0),pow(10,6)))\n",
    "ax.set_ylabel(\"Number of articles (log scale)\")\n",
    "ax.set_xlabel(\"Number of reverts on page between the same two bots\")\n",
    "ax.yaxis.set_major_formatter(matplotlib.ticker.FormatStrFormatter('%d'))"
   ]
  },
  {
   "cell_type": "markdown",
   "metadata": {},
   "source": [
    "### Number of reverts by revert_per_page_botpair_sorted, English only, articles only\n"
   ]
  },
  {
   "cell_type": "code",
   "execution_count": 13,
   "metadata": {},
   "outputs": [
    {
     "data": {
      "text/plain": [
       "1     228198\n",
       "2      13012\n",
       "3       1860\n",
       "4        476\n",
       "5        120\n",
       "6         24\n",
       "7         28\n",
       "8         32\n",
       "9         27\n",
       "10        10\n",
       "11        11\n",
       "13        39\n",
       "14        28\n",
       "15        60\n",
       "16        16\n",
       "17        51\n",
       "18        54\n",
       "19        38\n",
       "20        20\n",
       "21        21\n",
       "22        22\n",
       "23        92\n",
       "24        72\n",
       "28        56\n",
       "29        87\n",
       "30        90\n",
       "31        93\n",
       "35        35\n",
       "39        39\n",
       "41        82\n",
       "Name: reverts_per_page_botpair_sorted, dtype: int64"
      ]
     },
     "execution_count": 13,
     "metadata": {},
     "output_type": "execute_result"
    }
   ],
   "source": [
    "df_all.query(\"page_namespace == 0 and language=='en'\").reverts_per_page_botpair_sorted.value_counts().sort_index()"
   ]
  },
  {
   "cell_type": "code",
   "execution_count": 14,
   "metadata": {},
   "outputs": [
    {
     "data": {
      "text/plain": [
       "<matplotlib.axes._subplots.AxesSubplot at 0x7f1168d585c0>"
      ]
     },
     "execution_count": 14,
     "metadata": {},
     "output_type": "execute_result"
    },
    {
     "data": {
      "image/png": "[encoded data removed]",
      "text/plain": [
       "<matplotlib.figure.Figure at 0x7f11c409c668>"
      ]
     },
     "metadata": {},
     "output_type": "display_data"
    }
   ],
   "source": [
    "sns.set(font_scale=1.5, style=\"whitegrid\")\n",
    "df_all.query(\"page_namespace == 0 and language == 'en'\").reverts_per_page_botpair_sorted.value_counts().sort_index().plot(kind='bar')"
   ]
  },
  {
   "cell_type": "markdown",
   "metadata": {},
   "source": [
    "### Checking that the sum of the counts and the total number of reverts are the same"
   ]
  },
  {
   "cell_type": "code",
   "execution_count": 15,
   "metadata": {},
   "outputs": [
    {
     "data": {
      "text/plain": [
       "244793"
      ]
     },
     "execution_count": 15,
     "metadata": {},
     "output_type": "execute_result"
    }
   ],
   "source": [
    "df_all.query(\"page_namespace == 0 and language=='en'\").reverts_per_page_botpair_sorted.value_counts().sum()"
   ]
  },
  {
   "cell_type": "code",
   "execution_count": 16,
   "metadata": {},
   "outputs": [
    {
     "data": {
      "text/plain": [
       "244793"
      ]
     },
     "execution_count": 16,
     "metadata": {},
     "output_type": "execute_result"
    }
   ],
   "source": [
    "len(df_all.query(\"page_namespace == 0 and language=='en'\"))"
   ]
  },
  {
   "cell_type": "markdown",
   "metadata": {},
   "source": [
    "## Finding pages with more than 500 reverts by/on the same bots"
   ]
  },
  {
   "cell_type": "code",
   "execution_count": 17,
   "metadata": {
    "collapsed": true
   },
   "outputs": [],
   "source": [
    "gb = df_all.query(\"reverts_per_page_botpair_sorted > 500\").groupby([\"language\", \"page_namespace\", \"rev_page\", \"botpair_sorted\"])"
   ]
  },
  {
   "cell_type": "code",
   "execution_count": 18,
   "metadata": {},
   "outputs": [
    {
     "data": {
      "text/plain": [
       "language  page_namespace  rev_page  botpair_sorted                              \n",
       "en        4               974956    ['AnomieBOT', 'Legobot']                          521\n",
       "                          4626266   ['ClueBot NG', 'HBC AIV helperbot']              2047\n",
       "                                    ['ClueBot NG', 'HBC AIV helperbot11']            2538\n",
       "                                    ['ClueBot NG', 'HBC AIV helperbot5']             8723\n",
       "                                    ['ClueBot NG', 'HBC AIV helperbot7']            10473\n",
       "                                    ['ClueBot', 'HBC AIV helperbot2']                1002\n",
       "                                    ['ClueBot', 'HBC AIV helperbot3']                5822\n",
       "                                    ['ClueBot', 'HBC AIV helperbot4']                1545\n",
       "                                    ['ClueBot', 'HBC AIV helperbot5']                3007\n",
       "                                    ['ClueBot', 'HBC AIV helperbot7']                4110\n",
       "                                    ['DatBot', 'HBC AIV helperbot5']                  753\n",
       "                                    ['HBC AIV helperbot', 'Mr.Z-bot']                 753\n",
       "                                    ['HBC AIV helperbot3', 'VoABot II']              1889\n",
       "                                    ['HBC AIV helperbot5', 'Mr.Z-bot']               2235\n",
       "                                    ['HBC AIV helperbot7', 'Mr.Z-bot']               4504\n",
       "                                    ['HBC AIV helperbot7', 'VoABot II']               687\n",
       "                          5964327   ['ClueBot II', 'CorenSearchBot']                 3551\n",
       "                          11005908  ['EssjayBot', 'Sandbot']                          508\n",
       "                          11238105  ['DeltaQuadBot', 'HBC AIV helperbot5']            694\n",
       "                                    ['DeltaQuadBot', 'HBC AIV helperbot7']           3227\n",
       "                                    ['HBC AIV helperbot2', 'HBC NameWatcherBot']      966\n",
       "                                    ['HBC AIV helperbot3', 'HBC NameWatcherBot']     4507\n",
       "                                    ['HBC AIV helperbot4', 'HBC NameWatcherBot']     1064\n",
       "                                    ['HBC AIV helperbot5', 'HBC NameWatcherBot']     2020\n",
       "                                    ['HBC AIV helperbot5', 'SoxBot']                  628\n",
       "                                    ['HBC AIV helperbot7', 'HBC NameWatcherBot']     2620\n",
       "                                    ['HBC AIV helperbot7', 'SoxBot']                 1639\n",
       "Name: rev_id, dtype: int64"
      ]
     },
     "execution_count": 18,
     "metadata": {},
     "output_type": "execute_result"
    }
   ],
   "source": [
    "gb['rev_id'].count()"
   ]
  },
  {
   "cell_type": "markdown",
   "metadata": {},
   "source": [
    "From a manual lookup:\n",
    "\n",
    "page_id\tpage_title\n",
    "- 974956\t[Possibly_unfree_files](http://enwp.org/Wikipedia:Administrator_intervention_against_vandalism/TB2)\n",
    "- 4626266\t[Administrator_intervention_against_vandalism/TB2](http://enwp.org/Wikipedia:Administrator_intervention_against_vandalism/TB2)\n",
    "- 5964327\t[Suspected_copyright_violations](http://enwp.org/Wikipedia:Suspected_copyright_violations)\n",
    "- 11005908\t[Tutorial/Editing/sandbox](http://enwp.org/Wikipedia:Tutorial/Editing/sandbox)\n",
    "- 11238105\t[Usernames_for_administrator_attention/Bot](http://enwp.org/Wikipedia:Usernames_for_administrator_attention/Bot)"
   ]
  },
  {
   "cell_type": "markdown",
   "metadata": {},
   "source": [
    "### How many total bot-bot reverts in these pages?"
   ]
  },
  {
   "cell_type": "code",
   "execution_count": 19,
   "metadata": {},
   "outputs": [
    {
     "data": {
      "text/plain": [
       "55739"
      ]
     },
     "execution_count": 19,
     "metadata": {},
     "output_type": "execute_result"
    }
   ],
   "source": [
    "len(df_all.query(\"language == 'en' and rev_page == 4626266\"))"
   ]
  },
  {
   "cell_type": "code",
   "execution_count": 20,
   "metadata": {},
   "outputs": [
    {
     "data": {
      "text/plain": [
       "18919"
      ]
     },
     "execution_count": 20,
     "metadata": {},
     "output_type": "execute_result"
    }
   ],
   "source": [
    "len(df_all.query(\"language == 'en' and rev_page == 11238105\"))"
   ]
  },
  {
   "cell_type": "code",
   "execution_count": 21,
   "metadata": {},
   "outputs": [
    {
     "data": {
      "text/plain": [
       "3659"
      ]
     },
     "execution_count": 21,
     "metadata": {},
     "output_type": "execute_result"
    }
   ],
   "source": [
    "len(df_all.query(\"language == 'en' and rev_page == 5964327\"))"
   ]
  },
  {
   "cell_type": "markdown",
   "metadata": {
    "collapsed": true
   },
   "source": [
    "### Median time to revert for a Mathbot-curated list"
   ]
  },
  {
   "cell_type": "code",
   "execution_count": 22,
   "metadata": {},
   "outputs": [
    {
     "data": {
      "text/plain": [
       "botpair\n",
       "FrescoBot rv Mathbot    36.399456\n",
       "Mathbot rv DrilBot       0.556840\n",
       "Mathbot rv FrescoBot     0.670440\n",
       "Mathbot rv Yobot         0.944352\n",
       "Yobot rv Mathbot        12.057517\n",
       "Name: time_to_revert_days, dtype: float64"
      ]
     },
     "execution_count": 22,
     "metadata": {},
     "output_type": "execute_result"
    }
   ],
   "source": [
    "df_all.query(\"language == 'en' and rev_page == 5971841\").groupby(\"botpair\")['time_to_revert_days'].median()"
   ]
  },
  {
   "cell_type": "markdown",
   "metadata": {},
   "source": [
    "## Runtime"
   ]
  },
  {
   "cell_type": "code",
   "execution_count": 23,
   "metadata": {},
   "outputs": [
    {
     "name": "stdout",
     "output_type": "stream",
     "text": [
      "Total runtime:  0 minutes,  16 seconds\n"
     ]
    }
   ],
   "source": [
    "end = datetime.datetime.now()\n",
    "\n",
    "time_to_run = end - start\n",
    "minutes = int(time_to_run.seconds/60)\n",
    "seconds = time_to_run.seconds % 60\n",
    "print(\"Total runtime: \", minutes, \"minutes, \", seconds, \"seconds\")"
   ]
  }
 ],
 "metadata": {
  "anaconda-cloud": {},
  "kernelspec": {
   "display_name": "Python [default]",
   "language": "python",
   "name": "python3"
  },
  "language_info": {
   "codemirror_mode": {
    "name": "ipython",
    "version": 3
   },
   "file_extension": ".py",
   "mimetype": "text/x-python",
   "name": "python",
   "nbconvert_exporter": "python",
   "pygments_lexer": "ipython3",
   "version": "3.5.3"
  }
 },
 "nbformat": 4,
 "nbformat_minor": 2
}
