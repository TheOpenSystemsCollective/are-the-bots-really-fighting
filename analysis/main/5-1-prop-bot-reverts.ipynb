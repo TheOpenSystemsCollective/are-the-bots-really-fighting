{
 "cells": [
  {
   "cell_type": "markdown",
   "metadata": {},
   "source": [
    "# Section 5.1: proportion of all bot edits to articles that are bot-bot reverts\n",
    "\n",
    "This is a data analysis script for an analysis presented in section 5.1, which you can run based entirely off the files in this GitHub repository. It loads `datasets/montly_bot_edits/[language]wiki_20170427.tsv` and `datasets_monthly_bot_reverts/[language]wiki_20170420.tsv`."
   ]
  },
  {
   "cell_type": "code",
   "execution_count": 1,
   "metadata": {
    "collapsed": true
   },
   "outputs": [],
   "source": [
    "import pandas as pd\n",
    "import seaborn as sns\n",
    "import mwapi\n",
    "import numpy as np\n",
    "import glob\n",
    "%matplotlib inline"
   ]
  },
  {
   "cell_type": "code",
   "execution_count": 2,
   "metadata": {},
   "outputs": [
    {
     "name": "stdout",
     "output_type": "stream",
     "text": [
      "dewiki_20170427.tsv  frwiki_20170427.tsv  zhwiki_20170427.tsv\r\n",
      "enwiki_20170427.tsv  jawiki_20170427.tsv\r\n",
      "eswiki_20170427.tsv  ptwiki_20170427.tsv\r\n"
     ]
    }
   ],
   "source": [
    "!ls ../../datasets/monthly_bot_edits/"
   ]
  },
  {
   "cell_type": "code",
   "execution_count": 3,
   "metadata": {},
   "outputs": [
    {
     "name": "stdout",
     "output_type": "stream",
     "text": [
      "dewiki_20170420.tsv  frwiki_20170420.tsv  zhwiki_20170420.tsv\r\n",
      "enwiki_20170420.tsv  jawiki_20170420.tsv\r\n",
      "eswiki_20170420.tsv  ptwiki_20170420.tsv\r\n"
     ]
    }
   ],
   "source": [
    "!ls ../../datasets/monthly_bot_reverts/"
   ]
  },
  {
   "cell_type": "code",
   "execution_count": 4,
   "metadata": {
    "collapsed": true
   },
   "outputs": [],
   "source": [
    "df_edits_dict = {}\n",
    "for filename in glob.glob(\"../../datasets/monthly_bot_edits/??wiki_2017042?.tsv\"):\n",
    "    lang_code = filename[33:35]\n",
    "    df_edits_dict[lang_code] = pd.read_csv(filename, sep=\"\\t\")\n",
    "    df_edits_dict[lang_code] = df_edits_dict[lang_code].drop_duplicates()"
   ]
  },
  {
   "cell_type": "code",
   "execution_count": 5,
   "metadata": {},
   "outputs": [
    {
     "name": "stdout",
     "output_type": "stream",
     "text": [
      "pt 1771\n",
      "ja 1954\n",
      "es 2390\n",
      "de 2213\n",
      "zh 2017\n",
      "fr 2589\n",
      "en 3176\n"
     ]
    }
   ],
   "source": [
    "for lang, lang_df in df_edits_dict.items():\n",
    "    print(lang, len(lang_df))"
   ]
  },
  {
   "cell_type": "code",
   "execution_count": 6,
   "metadata": {
    "collapsed": true
   },
   "outputs": [],
   "source": [
    "df_rev_dict = {}\n",
    "for filename in glob.glob(\"../../datasets/monthly_bot_reverts/??wiki_2017042?.tsv\"):\n",
    "    lang_code = filename[35:37]\n",
    "    df_rev_dict[lang_code] = pd.read_csv(filename, sep=\"\\t\")\n",
    "    df_rev_dict[lang_code] = df_rev_dict[lang_code].drop_duplicates()"
   ]
  },
  {
   "cell_type": "code",
   "execution_count": 7,
   "metadata": {},
   "outputs": [
    {
     "name": "stdout",
     "output_type": "stream",
     "text": [
      "pt 2184\n",
      "ja 2293\n",
      "es 2859\n",
      "zh 2150\n",
      "de 2641\n",
      "fr 2858\n",
      "en 3486\n"
     ]
    }
   ],
   "source": [
    "for lang, lang_df in df_rev_dict.items():\n",
    "    print(lang, len(lang_df))"
   ]
  },
  {
   "cell_type": "code",
   "execution_count": 8,
   "metadata": {
    "collapsed": true
   },
   "outputs": [],
   "source": [
    "langs = [\"de\", \"en\", \"es\", \"fr\", \"ja\", \"pt\", \"zh\"]"
   ]
  },
  {
   "cell_type": "code",
   "execution_count": 9,
   "metadata": {},
   "outputs": [
    {
     "data": {
      "text/html": [
       "<div>\n",
       "<style>\n",
       "    .dataframe thead tr:only-child th {\n",
       "        text-align: right;\n",
       "    }\n",
       "\n",
       "    .dataframe thead th {\n",
       "        text-align: left;\n",
       "    }\n",
       "\n",
       "    .dataframe tbody tr th {\n",
       "        vertical-align: top;\n",
       "    }\n",
       "</style>\n",
       "<table border=\"1\" class=\"dataframe\">\n",
       "  <thead>\n",
       "    <tr style=\"text-align: right;\">\n",
       "      <th></th>\n",
       "      <th>month</th>\n",
       "      <th>page_namespace</th>\n",
       "      <th>n</th>\n",
       "    </tr>\n",
       "  </thead>\n",
       "  <tbody>\n",
       "    <tr>\n",
       "      <th>0</th>\n",
       "      <td>200212</td>\n",
       "      <td>0</td>\n",
       "      <td>32284</td>\n",
       "    </tr>\n",
       "    <tr>\n",
       "      <th>1</th>\n",
       "      <td>200212</td>\n",
       "      <td>1</td>\n",
       "      <td>4</td>\n",
       "    </tr>\n",
       "    <tr>\n",
       "      <th>2</th>\n",
       "      <td>200212</td>\n",
       "      <td>2</td>\n",
       "      <td>2</td>\n",
       "    </tr>\n",
       "    <tr>\n",
       "      <th>3</th>\n",
       "      <td>200212</td>\n",
       "      <td>3</td>\n",
       "      <td>1</td>\n",
       "    </tr>\n",
       "    <tr>\n",
       "      <th>4</th>\n",
       "      <td>200303</td>\n",
       "      <td>0</td>\n",
       "      <td>5</td>\n",
       "    </tr>\n",
       "  </tbody>\n",
       "</table>\n",
       "</div>"
      ],
      "text/plain": [
       "    month  page_namespace      n\n",
       "0  200212               0  32284\n",
       "1  200212               1      4\n",
       "2  200212               2      2\n",
       "3  200212               3      1\n",
       "4  200303               0      5"
      ]
     },
     "execution_count": 9,
     "metadata": {},
     "output_type": "execute_result"
    }
   ],
   "source": [
    "df_edits_dict['en'][0:5]"
   ]
  },
  {
   "cell_type": "code",
   "execution_count": 10,
   "metadata": {},
   "outputs": [
    {
     "data": {
      "text/html": [
       "<div>\n",
       "<style>\n",
       "    .dataframe thead tr:only-child th {\n",
       "        text-align: right;\n",
       "    }\n",
       "\n",
       "    .dataframe thead th {\n",
       "        text-align: left;\n",
       "    }\n",
       "\n",
       "    .dataframe tbody tr th {\n",
       "        vertical-align: top;\n",
       "    }\n",
       "</style>\n",
       "<table border=\"1\" class=\"dataframe\">\n",
       "  <thead>\n",
       "    <tr style=\"text-align: right;\">\n",
       "      <th></th>\n",
       "      <th>month</th>\n",
       "      <th>page_namespace</th>\n",
       "      <th>reverts</th>\n",
       "      <th>bot_reverts</th>\n",
       "      <th>bot_reverteds</th>\n",
       "      <th>bot2bot_reverts</th>\n",
       "    </tr>\n",
       "  </thead>\n",
       "  <tbody>\n",
       "    <tr>\n",
       "      <th>0</th>\n",
       "      <td>20010701</td>\n",
       "      <td>0</td>\n",
       "      <td>1</td>\n",
       "      <td>0</td>\n",
       "      <td>0</td>\n",
       "      <td>0</td>\n",
       "    </tr>\n",
       "    <tr>\n",
       "      <th>1</th>\n",
       "      <td>20010801</td>\n",
       "      <td>0</td>\n",
       "      <td>1</td>\n",
       "      <td>0</td>\n",
       "      <td>0</td>\n",
       "      <td>0</td>\n",
       "    </tr>\n",
       "    <tr>\n",
       "      <th>2</th>\n",
       "      <td>20011001</td>\n",
       "      <td>0</td>\n",
       "      <td>8</td>\n",
       "      <td>0</td>\n",
       "      <td>0</td>\n",
       "      <td>0</td>\n",
       "    </tr>\n",
       "    <tr>\n",
       "      <th>3</th>\n",
       "      <td>20011001</td>\n",
       "      <td>1</td>\n",
       "      <td>1</td>\n",
       "      <td>0</td>\n",
       "      <td>0</td>\n",
       "      <td>0</td>\n",
       "    </tr>\n",
       "    <tr>\n",
       "      <th>4</th>\n",
       "      <td>20011001</td>\n",
       "      <td>2</td>\n",
       "      <td>6</td>\n",
       "      <td>0</td>\n",
       "      <td>0</td>\n",
       "      <td>0</td>\n",
       "    </tr>\n",
       "  </tbody>\n",
       "</table>\n",
       "</div>"
      ],
      "text/plain": [
       "      month  page_namespace  reverts  bot_reverts  bot_reverteds  \\\n",
       "0  20010701               0        1            0              0   \n",
       "1  20010801               0        1            0              0   \n",
       "2  20011001               0        8            0              0   \n",
       "3  20011001               1        1            0              0   \n",
       "4  20011001               2        6            0              0   \n",
       "\n",
       "   bot2bot_reverts  \n",
       "0                0  \n",
       "1                0  \n",
       "2                0  \n",
       "3                0  \n",
       "4                0  "
      ]
     },
     "execution_count": 10,
     "metadata": {},
     "output_type": "execute_result"
    }
   ],
   "source": [
    "df_rev_dict['en'][0:5]"
   ]
  },
  {
   "cell_type": "code",
   "execution_count": 11,
   "metadata": {
    "collapsed": true
   },
   "outputs": [],
   "source": [
    "def truncate_my(s):\n",
    "    s = str(s)\n",
    "    return int(s[0:6])"
   ]
  },
  {
   "cell_type": "code",
   "execution_count": 12,
   "metadata": {},
   "outputs": [
    {
     "data": {
      "text/plain": [
       "201001"
      ]
     },
     "execution_count": 12,
     "metadata": {},
     "output_type": "execute_result"
    }
   ],
   "source": [
    "truncate_my(20100101)"
   ]
  },
  {
   "cell_type": "code",
   "execution_count": 13,
   "metadata": {},
   "outputs": [],
   "source": [
    "for lang in langs:\n",
    "    df_edits_dict[lang] = df_edits_dict[lang].set_index('month')\n",
    "    df_rev_dict[lang]['month_my'] = df_rev_dict[lang]['month'].apply(truncate_my)\n",
    "    df_rev_dict[lang] = df_rev_dict[lang].set_index('month_my')"
   ]
  },
  {
   "cell_type": "code",
   "execution_count": 14,
   "metadata": {},
   "outputs": [
    {
     "name": "stdout",
     "output_type": "stream",
     "text": [
      "de\n",
      "en\n",
      "es\n",
      "fr\n",
      "ja\n",
      "pt\n",
      "zh\n"
     ]
    }
   ],
   "source": [
    "combi_ns0_dict = {}\n",
    "combi_dict = {}\n",
    "for lang in langs:\n",
    "    print(lang)\n",
    "\n",
    "    combi_ns0_dict[lang] = pd.concat([df_rev_dict[lang].query(\"page_namespace == 0\"), df_edits_dict[lang].query(\"page_namespace == 0\")], axis=1, join='outer')\n",
    "    combi_ns0_dict[lang]['bot_edits'] = combi_ns0_dict[lang]['n']\n",
    "    combi_ns0_dict[lang]['prop_bot2bot_rv'] = combi_ns0_dict[lang]['bot2bot_reverts']/combi_ns0_dict[lang]['bot_edits']"
   ]
  },
  {
   "cell_type": "code",
   "execution_count": 15,
   "metadata": {},
   "outputs": [
    {
     "data": {
      "text/html": [
       "<div>\n",
       "<style>\n",
       "    .dataframe thead tr:only-child th {\n",
       "        text-align: right;\n",
       "    }\n",
       "\n",
       "    .dataframe thead th {\n",
       "        text-align: left;\n",
       "    }\n",
       "\n",
       "    .dataframe tbody tr th {\n",
       "        vertical-align: top;\n",
       "    }\n",
       "</style>\n",
       "<table border=\"1\" class=\"dataframe\">\n",
       "  <thead>\n",
       "    <tr style=\"text-align: right;\">\n",
       "      <th></th>\n",
       "      <th>month</th>\n",
       "      <th>page_namespace</th>\n",
       "      <th>reverts</th>\n",
       "      <th>bot_reverts</th>\n",
       "      <th>bot_reverteds</th>\n",
       "      <th>bot2bot_reverts</th>\n",
       "      <th>page_namespace</th>\n",
       "      <th>n</th>\n",
       "      <th>bot_edits</th>\n",
       "      <th>prop_bot2bot_rv</th>\n",
       "    </tr>\n",
       "  </thead>\n",
       "  <tbody>\n",
       "    <tr>\n",
       "      <th>200401</th>\n",
       "      <td>20040101</td>\n",
       "      <td>0</td>\n",
       "      <td>4335</td>\n",
       "      <td>18</td>\n",
       "      <td>2</td>\n",
       "      <td>0</td>\n",
       "      <td>0.0</td>\n",
       "      <td>496.0</td>\n",
       "      <td>496.0</td>\n",
       "      <td>0.000000</td>\n",
       "    </tr>\n",
       "    <tr>\n",
       "      <th>200402</th>\n",
       "      <td>20040201</td>\n",
       "      <td>0</td>\n",
       "      <td>6331</td>\n",
       "      <td>12</td>\n",
       "      <td>4</td>\n",
       "      <td>0</td>\n",
       "      <td>0.0</td>\n",
       "      <td>2362.0</td>\n",
       "      <td>2362.0</td>\n",
       "      <td>0.000000</td>\n",
       "    </tr>\n",
       "    <tr>\n",
       "      <th>200403</th>\n",
       "      <td>20040301</td>\n",
       "      <td>0</td>\n",
       "      <td>9046</td>\n",
       "      <td>7</td>\n",
       "      <td>14</td>\n",
       "      <td>0</td>\n",
       "      <td>0.0</td>\n",
       "      <td>3308.0</td>\n",
       "      <td>3308.0</td>\n",
       "      <td>0.000000</td>\n",
       "    </tr>\n",
       "    <tr>\n",
       "      <th>200404</th>\n",
       "      <td>20040401</td>\n",
       "      <td>0</td>\n",
       "      <td>8514</td>\n",
       "      <td>6</td>\n",
       "      <td>4</td>\n",
       "      <td>0</td>\n",
       "      <td>0.0</td>\n",
       "      <td>766.0</td>\n",
       "      <td>766.0</td>\n",
       "      <td>0.000000</td>\n",
       "    </tr>\n",
       "    <tr>\n",
       "      <th>200405</th>\n",
       "      <td>20040501</td>\n",
       "      <td>0</td>\n",
       "      <td>8918</td>\n",
       "      <td>9</td>\n",
       "      <td>6</td>\n",
       "      <td>0</td>\n",
       "      <td>0.0</td>\n",
       "      <td>1454.0</td>\n",
       "      <td>1454.0</td>\n",
       "      <td>0.000000</td>\n",
       "    </tr>\n",
       "    <tr>\n",
       "      <th>200406</th>\n",
       "      <td>20040601</td>\n",
       "      <td>0</td>\n",
       "      <td>7176</td>\n",
       "      <td>27</td>\n",
       "      <td>18</td>\n",
       "      <td>0</td>\n",
       "      <td>0.0</td>\n",
       "      <td>38237.0</td>\n",
       "      <td>38237.0</td>\n",
       "      <td>0.000000</td>\n",
       "    </tr>\n",
       "    <tr>\n",
       "      <th>200407</th>\n",
       "      <td>20040701</td>\n",
       "      <td>0</td>\n",
       "      <td>9841</td>\n",
       "      <td>43</td>\n",
       "      <td>162</td>\n",
       "      <td>0</td>\n",
       "      <td>0.0</td>\n",
       "      <td>54523.0</td>\n",
       "      <td>54523.0</td>\n",
       "      <td>0.000000</td>\n",
       "    </tr>\n",
       "    <tr>\n",
       "      <th>200408</th>\n",
       "      <td>20040801</td>\n",
       "      <td>0</td>\n",
       "      <td>12213</td>\n",
       "      <td>61</td>\n",
       "      <td>340</td>\n",
       "      <td>0</td>\n",
       "      <td>0.0</td>\n",
       "      <td>38098.0</td>\n",
       "      <td>38098.0</td>\n",
       "      <td>0.000000</td>\n",
       "    </tr>\n",
       "    <tr>\n",
       "      <th>200409</th>\n",
       "      <td>20040901</td>\n",
       "      <td>0</td>\n",
       "      <td>17096</td>\n",
       "      <td>35</td>\n",
       "      <td>686</td>\n",
       "      <td>0</td>\n",
       "      <td>0.0</td>\n",
       "      <td>28547.0</td>\n",
       "      <td>28547.0</td>\n",
       "      <td>0.000000</td>\n",
       "    </tr>\n",
       "    <tr>\n",
       "      <th>200410</th>\n",
       "      <td>20041001</td>\n",
       "      <td>0</td>\n",
       "      <td>21477</td>\n",
       "      <td>123</td>\n",
       "      <td>138</td>\n",
       "      <td>1</td>\n",
       "      <td>0.0</td>\n",
       "      <td>44076.0</td>\n",
       "      <td>44076.0</td>\n",
       "      <td>0.000023</td>\n",
       "    </tr>\n",
       "  </tbody>\n",
       "</table>\n",
       "</div>"
      ],
      "text/plain": [
       "           month  page_namespace  reverts  bot_reverts  bot_reverteds  \\\n",
       "200401  20040101               0     4335           18              2   \n",
       "200402  20040201               0     6331           12              4   \n",
       "200403  20040301               0     9046            7             14   \n",
       "200404  20040401               0     8514            6              4   \n",
       "200405  20040501               0     8918            9              6   \n",
       "200406  20040601               0     7176           27             18   \n",
       "200407  20040701               0     9841           43            162   \n",
       "200408  20040801               0    12213           61            340   \n",
       "200409  20040901               0    17096           35            686   \n",
       "200410  20041001               0    21477          123            138   \n",
       "\n",
       "        bot2bot_reverts  page_namespace        n  bot_edits  prop_bot2bot_rv  \n",
       "200401                0             0.0    496.0      496.0         0.000000  \n",
       "200402                0             0.0   2362.0     2362.0         0.000000  \n",
       "200403                0             0.0   3308.0     3308.0         0.000000  \n",
       "200404                0             0.0    766.0      766.0         0.000000  \n",
       "200405                0             0.0   1454.0     1454.0         0.000000  \n",
       "200406                0             0.0  38237.0    38237.0         0.000000  \n",
       "200407                0             0.0  54523.0    54523.0         0.000000  \n",
       "200408                0             0.0  38098.0    38098.0         0.000000  \n",
       "200409                0             0.0  28547.0    28547.0         0.000000  \n",
       "200410                1             0.0  44076.0    44076.0         0.000023  "
      ]
     },
     "execution_count": 15,
     "metadata": {},
     "output_type": "execute_result"
    }
   ],
   "source": [
    "combi_ns0_dict['en'][29:39]"
   ]
  },
  {
   "cell_type": "code",
   "execution_count": 21,
   "metadata": {},
   "outputs": [
    {
     "name": "stdout",
     "output_type": "stream",
     "text": [
      "de 0.541684913764 %\n",
      "bot_edits          10143166.0\n",
      "bot2bot_reverts       54944.0\n",
      "dtype: float64\n",
      "en 0.550681246721 %\n",
      "bot_edits          45250860.0\n",
      "bot2bot_reverts      249188.0\n",
      "dtype: float64\n",
      "es 0.477214659223 %\n",
      "bot_edits          14329191.0\n",
      "bot2bot_reverts       68381.0\n",
      "dtype: float64\n",
      "fr 0.430181703192 %\n",
      "bot_edits          13066804.0\n",
      "bot2bot_reverts       56211.0\n",
      "dtype: float64\n",
      "ja 0.635487053228 %\n",
      "bot_edits          5471866\n",
      "bot2bot_reverts      34773\n",
      "dtype: int64\n",
      "pt 0.679323732631 %\n",
      "bot_edits          8853658.0\n",
      "bot2bot_reverts      60145.0\n",
      "dtype: float64\n",
      "zh 0.772177039628 %\n",
      "bot_edits          5580197.0\n",
      "bot2bot_reverts      43089.0\n",
      "dtype: float64\n"
     ]
    }
   ],
   "source": [
    "sum_dict = {}\n",
    "for lang in langs:\n",
    "    #print(lang)\n",
    "    sum_dict[lang] = combi_ns0_dict[lang][['bot_edits','bot2bot_reverts']].sum()\n",
    "    print(lang, sum_dict[lang]['bot2bot_reverts']/sum_dict[lang]['bot_edits']*100, \"%\")\n",
    "    print(sum_dict[lang])"
   ]
  },
  {
   "cell_type": "code",
   "execution_count": 17,
   "metadata": {},
   "outputs": [
    {
     "data": {
      "text/plain": [
       "{'de': bot_edits          10143166.0\n",
       " bot2bot_reverts       54944.0\n",
       " dtype: float64, 'en': bot_edits          45250860.0\n",
       " bot2bot_reverts      249188.0\n",
       " dtype: float64, 'es': bot_edits          14329191.0\n",
       " bot2bot_reverts       68381.0\n",
       " dtype: float64, 'fr': bot_edits          13066804.0\n",
       " bot2bot_reverts       56211.0\n",
       " dtype: float64, 'ja': bot_edits          5471866\n",
       " bot2bot_reverts      34773\n",
       " dtype: int64, 'pt': bot_edits          8853658.0\n",
       " bot2bot_reverts      60145.0\n",
       " dtype: float64, 'zh': bot_edits          5580197.0\n",
       " bot2bot_reverts      43089.0\n",
       " dtype: float64}"
      ]
     },
     "execution_count": 17,
     "metadata": {},
     "output_type": "execute_result"
    }
   ],
   "source": [
    "sum_dict"
   ]
  },
  {
   "cell_type": "raw",
   "metadata": {
    "collapsed": true
   },
   "source": [
    "for lang in langs:\n",
    "    df_rev_dict[lang]"
   ]
  },
  {
   "cell_type": "code",
   "execution_count": null,
   "metadata": {
    "collapsed": true
   },
   "outputs": [],
   "source": []
  },
  {
   "cell_type": "code",
   "execution_count": 18,
   "metadata": {},
   "outputs": [
    {
     "data": {
      "text/plain": [
       "<matplotlib.axes._subplots.AxesSubplot at 0x7f57de39df60>"
      ]
     },
     "execution_count": 18,
     "metadata": {},
     "output_type": "execute_result"
    },
    {
     "data": {
      "image/png": "[encoded data removed]",
      "text/plain": [
       "<matplotlib.figure.Figure at 0x7f57de365e48>"
      ]
     },
     "metadata": {},
     "output_type": "display_data"
    }
   ],
   "source": [
    "combi_ns0_dict['de']['prop_bot2bot_rv'].plot(kind='line')"
   ]
  },
  {
   "cell_type": "code",
   "execution_count": 19,
   "metadata": {},
   "outputs": [],
   "source": [
    "pd.options.display.max_rows = 999\n"
   ]
  },
  {
   "cell_type": "code",
   "execution_count": 20,
   "metadata": {},
   "outputs": [
    {
     "ename": "NameError",
     "evalue": "name 'df_dict' is not defined",
     "output_type": "error",
     "traceback": [
      "\u001b[0;31m---------------------------------------------------------------------------\u001b[0m",
      "\u001b[0;31mNameError\u001b[0m                                 Traceback (most recent call last)",
      "\u001b[0;32m<ipython-input-20-43dbe6bc4d19>\u001b[0m in \u001b[0;36m<module>\u001b[0;34m()\u001b[0m\n\u001b[0;32m----> 1\u001b[0;31m \u001b[0mpd\u001b[0m\u001b[0;34m.\u001b[0m\u001b[0mconcat\u001b[0m\u001b[0;34m(\u001b[0m\u001b[0;34m[\u001b[0m\u001b[0mdf_rev_dict\u001b[0m\u001b[0;34m[\u001b[0m\u001b[0;34m'en'\u001b[0m\u001b[0;34m]\u001b[0m\u001b[0;34m,\u001b[0m \u001b[0mdf_dict\u001b[0m\u001b[0;34m[\u001b[0m\u001b[0;34m'en'\u001b[0m\u001b[0;34m]\u001b[0m\u001b[0;34m]\u001b[0m\u001b[0;34m)\u001b[0m\u001b[0;34m\u001b[0m\u001b[0m\n\u001b[0m",
      "\u001b[0;31mNameError\u001b[0m: name 'df_dict' is not defined"
     ]
    }
   ],
   "source": [
    "pd.concat([df_rev_dict['en'], df_dict['en']])"
   ]
  },
  {
   "cell_type": "code",
   "execution_count": null,
   "metadata": {
    "collapsed": true
   },
   "outputs": [],
   "source": []
  }
 ],
 "metadata": {
  "kernelspec": {
   "display_name": "Python [default]",
   "language": "python",
   "name": "python3"
  },
  "language_info": {
   "codemirror_mode": {
    "name": "ipython",
    "version": 3
   },
   "file_extension": ".py",
   "mimetype": "text/x-python",
   "name": "python",
   "nbconvert_exporter": "python",
   "pygments_lexer": "ipython3",
   "version": "3.5.3"
  }
 },
 "nbformat": 4,
 "nbformat_minor": 2
}
