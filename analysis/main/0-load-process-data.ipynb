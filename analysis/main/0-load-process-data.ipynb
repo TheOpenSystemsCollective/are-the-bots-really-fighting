{
 "cells": [
  {
   "cell_type": "markdown",
   "metadata": {},
   "source": [
    "# Loading and processing datasets of all bot-bot reverts for all languages\n",
    "\n",
    "This is the first script that you can run based entirely off the files in this GitHub repository. This generates:\n",
    "- `/datasets/parsed_dataframes/df_all_2016.pickle`\n",
    "- `/datasets/parsed_dataframes/df_all_2016.pickle.xz`\n",
    "\n",
    "which are used for the analyses in section 4 (4-*.ipynb) and as the basis of the comment parsing analysis in section 6.1.\n",
    "\n",
    "This entire notebook can be run from the beginning with Kernel -> Restart & Run All in the menu bar. It takes about 10 minutes to run on a laptop running a Core i5-2540M processor."
   ]
  },
  {
   "cell_type": "code",
   "execution_count": 1,
   "metadata": {
    "collapsed": true
   },
   "outputs": [],
   "source": [
    "import pandas as pd\n",
    "import seaborn as sns\n",
    "import matplotlib.pyplot as plt\n",
    "import numpy as np\n",
    "import glob\n",
    "import datetime\n",
    "%matplotlib inline\n",
    "\n",
    "pd.set_option(\"display.max_columns\",100)"
   ]
  },
  {
   "cell_type": "code",
   "execution_count": 2,
   "metadata": {
    "collapsed": true
   },
   "outputs": [],
   "source": [
    "start = datetime.datetime.now()"
   ]
  },
  {
   "cell_type": "markdown",
   "metadata": {},
   "source": [
    "## Data processing\n",
    "\n",
    "Initial datasets of bot-bot reverts are stored in datasets/reverted_bot2bot/ as TSV files compressed in bzip2 format for each language."
   ]
  },
  {
   "cell_type": "code",
   "execution_count": 3,
   "metadata": {},
   "outputs": [
    {
     "name": "stdout",
     "output_type": "stream",
     "text": [
      "../../datasets/reverted_bot2bot/dewiki_20170420.tsv.bz2\r\n",
      "../../datasets/reverted_bot2bot/enwiki_20170420.tsv.bz2\r\n",
      "../../datasets/reverted_bot2bot/eswiki_20170420.tsv.bz2\r\n",
      "../../datasets/reverted_bot2bot/frwiki_20170420.tsv.bz2\r\n",
      "../../datasets/reverted_bot2bot/jawiki_20170420.tsv.bz2\r\n",
      "../../datasets/reverted_bot2bot/ptwiki_20170420.tsv.bz2\r\n",
      "../../datasets/reverted_bot2bot/zhwiki_20170420.tsv.bz2\r\n"
     ]
    }
   ],
   "source": [
    "!ls ../../datasets/reverted_bot2bot/*.bz2"
   ]
  },
  {
   "cell_type": "code",
   "execution_count": 4,
   "metadata": {
    "collapsed": true
   },
   "outputs": [],
   "source": [
    "!bunzip2 -kf ../../datasets/reverted_bot2bot/*.bz2"
   ]
  },
  {
   "cell_type": "code",
   "execution_count": 5,
   "metadata": {},
   "outputs": [
    {
     "name": "stdout",
     "output_type": "stream",
     "text": [
      "../../datasets/reverted_bot2bot/dewiki_20170420.tsv\r\n",
      "../../datasets/reverted_bot2bot/enwiki_20170420.tsv\r\n",
      "../../datasets/reverted_bot2bot/eswiki_20170420.tsv\r\n",
      "../../datasets/reverted_bot2bot/frwiki_20170420.tsv\r\n",
      "../../datasets/reverted_bot2bot/jawiki_20170420.tsv\r\n",
      "../../datasets/reverted_bot2bot/ptwiki_20170420.tsv\r\n",
      "../../datasets/reverted_bot2bot/zhwiki_20170420.tsv\r\n"
     ]
    }
   ],
   "source": [
    "!ls ../../datasets/reverted_bot2bot/*.tsv"
   ]
  },
  {
   "cell_type": "code",
   "execution_count": 6,
   "metadata": {},
   "outputs": [
    {
     "data": {
      "text/plain": [
       "['../../datasets/reverted_bot2bot/enwiki_20170420.tsv',\n",
       " '../../datasets/reverted_bot2bot/eswiki_20170420.tsv',\n",
       " '../../datasets/reverted_bot2bot/frwiki_20170420.tsv',\n",
       " '../../datasets/reverted_bot2bot/dewiki_20170420.tsv',\n",
       " '../../datasets/reverted_bot2bot/jawiki_20170420.tsv',\n",
       " '../../datasets/reverted_bot2bot/ptwiki_20170420.tsv',\n",
       " '../../datasets/reverted_bot2bot/zhwiki_20170420.tsv']"
      ]
     },
     "execution_count": 6,
     "metadata": {},
     "output_type": "execute_result"
    }
   ],
   "source": [
    "glob.glob(\"../../datasets/reverted_bot2bot/??wiki_20170420.tsv\")"
   ]
  },
  {
   "cell_type": "code",
   "execution_count": 7,
   "metadata": {
    "collapsed": true
   },
   "outputs": [],
   "source": [
    "df_dict = {}\n",
    "for filename in glob.glob(\"../../datasets/reverted_bot2bot/??wiki_20170420.tsv\"):\n",
    "    lang_code = filename[32:34]\n",
    "    df_dict[lang_code] = pd.read_csv(filename, sep=\"\\t\")\n",
    "    df_dict[lang_code] = df_dict[lang_code].drop_duplicates()"
   ]
  },
  {
   "cell_type": "code",
   "execution_count": null,
   "metadata": {
    "collapsed": true
   },
   "outputs": [],
   "source": []
  },
  {
   "cell_type": "code",
   "execution_count": 8,
   "metadata": {},
   "outputs": [
    {
     "name": "stdout",
     "output_type": "stream",
     "text": [
      "fr 96480\n",
      "en 512563\n",
      "zh 51536\n",
      "es 89077\n",
      "ja 45149\n",
      "de 69690\n",
      "pt 70973\n"
     ]
    }
   ],
   "source": [
    "for lang, lang_df in df_dict.items():\n",
    "    print(lang, len(lang_df))"
   ]
  },
  {
   "cell_type": "code",
   "execution_count": 9,
   "metadata": {},
   "outputs": [
    {
     "data": {
      "text/html": [
       "<div>\n",
       "<style>\n",
       "    .dataframe thead tr:only-child th {\n",
       "        text-align: right;\n",
       "    }\n",
       "\n",
       "    .dataframe thead th {\n",
       "        text-align: left;\n",
       "    }\n",
       "\n",
       "    .dataframe tbody tr th {\n",
       "        vertical-align: top;\n",
       "    }\n",
       "</style>\n",
       "<table border=\"1\" class=\"dataframe\">\n",
       "  <thead>\n",
       "    <tr style=\"text-align: right;\">\n",
       "      <th></th>\n",
       "      <th>0</th>\n",
       "      <th>1</th>\n",
       "    </tr>\n",
       "  </thead>\n",
       "  <tbody>\n",
       "    <tr>\n",
       "      <th>rev_id</th>\n",
       "      <td>136526894</td>\n",
       "      <td>530445841</td>\n",
       "    </tr>\n",
       "    <tr>\n",
       "      <th>rev_timestamp</th>\n",
       "      <td>20070607044209</td>\n",
       "      <td>20121230130044</td>\n",
       "    </tr>\n",
       "    <tr>\n",
       "      <th>rev_user</th>\n",
       "      <td>4534303</td>\n",
       "      <td>11969601</td>\n",
       "    </tr>\n",
       "    <tr>\n",
       "      <th>rev_user_text</th>\n",
       "      <td>PbBot</td>\n",
       "      <td>ZéroBot</td>\n",
       "    </tr>\n",
       "    <tr>\n",
       "      <th>rev_page</th>\n",
       "      <td>3046554</td>\n",
       "      <td>2336441</td>\n",
       "    </tr>\n",
       "    <tr>\n",
       "      <th>rev_sha1</th>\n",
       "      <td>3xtnw7u4w9h6cg1smw97mqnr1en6a55</td>\n",
       "      <td>olm4m3v66ywciuxvqcv9odhtc1jl8is</td>\n",
       "    </tr>\n",
       "    <tr>\n",
       "      <th>rev_minor_edit</th>\n",
       "      <td>False</td>\n",
       "      <td>True</td>\n",
       "    </tr>\n",
       "    <tr>\n",
       "      <th>rev_deleted</th>\n",
       "      <td>False</td>\n",
       "      <td>False</td>\n",
       "    </tr>\n",
       "    <tr>\n",
       "      <th>rev_parent_id</th>\n",
       "      <td>1.20932e+08</td>\n",
       "      <td>5.24611e+08</td>\n",
       "    </tr>\n",
       "    <tr>\n",
       "      <th>archived</th>\n",
       "      <td>False</td>\n",
       "      <td>False</td>\n",
       "    </tr>\n",
       "    <tr>\n",
       "      <th>reverting_id</th>\n",
       "      <td>269875438</td>\n",
       "      <td>531670007</td>\n",
       "    </tr>\n",
       "    <tr>\n",
       "      <th>reverting_timestamp</th>\n",
       "      <td>20090210230337</td>\n",
       "      <td>20130106202048</td>\n",
       "    </tr>\n",
       "    <tr>\n",
       "      <th>reverting_user</th>\n",
       "      <td>7328338</td>\n",
       "      <td>11292982</td>\n",
       "    </tr>\n",
       "    <tr>\n",
       "      <th>reverting_user_text</th>\n",
       "      <td>Yobot</td>\n",
       "      <td>EmausBot</td>\n",
       "    </tr>\n",
       "    <tr>\n",
       "      <th>reverting_page</th>\n",
       "      <td>3046554</td>\n",
       "      <td>2336441</td>\n",
       "    </tr>\n",
       "    <tr>\n",
       "      <th>reverting_sha1</th>\n",
       "      <td>f8ye1kj73h0ymwqj6rlsimwk3jd9tef</td>\n",
       "      <td>3ewa2gv6dz8hhlhaziaeqmqm5w55bvm</td>\n",
       "    </tr>\n",
       "    <tr>\n",
       "      <th>reverting_minor_edit</th>\n",
       "      <td>True</td>\n",
       "      <td>True</td>\n",
       "    </tr>\n",
       "    <tr>\n",
       "      <th>reverting_deleted</th>\n",
       "      <td>False</td>\n",
       "      <td>False</td>\n",
       "    </tr>\n",
       "    <tr>\n",
       "      <th>reverting_parent_id</th>\n",
       "      <td>1.36527e+08</td>\n",
       "      <td>5.30446e+08</td>\n",
       "    </tr>\n",
       "    <tr>\n",
       "      <th>reverting_archived</th>\n",
       "      <td>False</td>\n",
       "      <td>False</td>\n",
       "    </tr>\n",
       "    <tr>\n",
       "      <th>reverting_comment</th>\n",
       "      <td>Removing {{1911 talk}} per [[Wikipedia:Templat...</td>\n",
       "      <td>r2.7.3) (Robot: Removing [[it:Mary Jo Catlett]]</td>\n",
       "    </tr>\n",
       "    <tr>\n",
       "      <th>rev_revert_offset</th>\n",
       "      <td>1</td>\n",
       "      <td>1</td>\n",
       "    </tr>\n",
       "    <tr>\n",
       "      <th>revisions_reverted</th>\n",
       "      <td>1</td>\n",
       "      <td>1</td>\n",
       "    </tr>\n",
       "    <tr>\n",
       "      <th>reverted_to_rev_id</th>\n",
       "      <td>120932016</td>\n",
       "      <td>524611489</td>\n",
       "    </tr>\n",
       "    <tr>\n",
       "      <th>page_namespace</th>\n",
       "      <td>1</td>\n",
       "      <td>0</td>\n",
       "    </tr>\n",
       "  </tbody>\n",
       "</table>\n",
       "</div>"
      ],
      "text/plain": [
       "                                                                      0  \\\n",
       "rev_id                                                        136526894   \n",
       "rev_timestamp                                            20070607044209   \n",
       "rev_user                                                        4534303   \n",
       "rev_user_text                                                     PbBot   \n",
       "rev_page                                                        3046554   \n",
       "rev_sha1                                3xtnw7u4w9h6cg1smw97mqnr1en6a55   \n",
       "rev_minor_edit                                                    False   \n",
       "rev_deleted                                                       False   \n",
       "rev_parent_id                                               1.20932e+08   \n",
       "archived                                                          False   \n",
       "reverting_id                                                  269875438   \n",
       "reverting_timestamp                                      20090210230337   \n",
       "reverting_user                                                  7328338   \n",
       "reverting_user_text                                               Yobot   \n",
       "reverting_page                                                  3046554   \n",
       "reverting_sha1                          f8ye1kj73h0ymwqj6rlsimwk3jd9tef   \n",
       "reverting_minor_edit                                               True   \n",
       "reverting_deleted                                                 False   \n",
       "reverting_parent_id                                         1.36527e+08   \n",
       "reverting_archived                                                False   \n",
       "reverting_comment     Removing {{1911 talk}} per [[Wikipedia:Templat...   \n",
       "rev_revert_offset                                                     1   \n",
       "revisions_reverted                                                    1   \n",
       "reverted_to_rev_id                                            120932016   \n",
       "page_namespace                                                        1   \n",
       "\n",
       "                                                                    1  \n",
       "rev_id                                                      530445841  \n",
       "rev_timestamp                                          20121230130044  \n",
       "rev_user                                                     11969601  \n",
       "rev_user_text                                                 ZéroBot  \n",
       "rev_page                                                      2336441  \n",
       "rev_sha1                              olm4m3v66ywciuxvqcv9odhtc1jl8is  \n",
       "rev_minor_edit                                                   True  \n",
       "rev_deleted                                                     False  \n",
       "rev_parent_id                                             5.24611e+08  \n",
       "archived                                                        False  \n",
       "reverting_id                                                531670007  \n",
       "reverting_timestamp                                    20130106202048  \n",
       "reverting_user                                               11292982  \n",
       "reverting_user_text                                          EmausBot  \n",
       "reverting_page                                                2336441  \n",
       "reverting_sha1                        3ewa2gv6dz8hhlhaziaeqmqm5w55bvm  \n",
       "reverting_minor_edit                                             True  \n",
       "reverting_deleted                                               False  \n",
       "reverting_parent_id                                       5.30446e+08  \n",
       "reverting_archived                                              False  \n",
       "reverting_comment     r2.7.3) (Robot: Removing [[it:Mary Jo Catlett]]  \n",
       "rev_revert_offset                                                   1  \n",
       "revisions_reverted                                                  1  \n",
       "reverted_to_rev_id                                          524611489  \n",
       "page_namespace                                                      0  "
      ]
     },
     "execution_count": 9,
     "metadata": {},
     "output_type": "execute_result"
    }
   ],
   "source": [
    "df_dict['en'][0:2].transpose()"
   ]
  },
  {
   "cell_type": "markdown",
   "metadata": {},
   "source": [
    "### Combining into one tidy dataframe for all languages"
   ]
  },
  {
   "cell_type": "code",
   "execution_count": 10,
   "metadata": {
    "collapsed": true
   },
   "outputs": [],
   "source": [
    "df_all = df_dict['en'].copy()\n",
    "df_all = df_all.drop(df_all.index, axis=0)\n",
    "\n",
    "for lang, lang_df in df_dict.items():\n",
    "    lang_df['language'] = lang\n",
    "    df_all = pd.concat([df_all, lang_df])"
   ]
  },
  {
   "cell_type": "code",
   "execution_count": 11,
   "metadata": {},
   "outputs": [
    {
     "data": {
      "text/plain": [
       "en    512563\n",
       "fr     96480\n",
       "es     89077\n",
       "pt     70973\n",
       "de     69690\n",
       "zh     51536\n",
       "ja     45149\n",
       "Name: language, dtype: int64"
      ]
     },
     "execution_count": 11,
     "metadata": {},
     "output_type": "execute_result"
    }
   ],
   "source": [
    "df_all['language'].value_counts()"
   ]
  },
  {
   "cell_type": "markdown",
   "metadata": {},
   "source": [
    "### Namespace type"
   ]
  },
  {
   "cell_type": "code",
   "execution_count": 12,
   "metadata": {
    "collapsed": true
   },
   "outputs": [],
   "source": [
    "def namespace_type(item):\n",
    "    if int(item) == 0:\n",
    "        return 'article'\n",
    "    elif int(item) == 14:\n",
    "        return 'category'\n",
    "    elif int(item) % 2 == 1:\n",
    "        return 'other talk'\n",
    "    else:\n",
    "        return 'other page'"
   ]
  },
  {
   "cell_type": "code",
   "execution_count": 13,
   "metadata": {
    "collapsed": true
   },
   "outputs": [],
   "source": [
    "df_all['namespace_type'] = df_all['page_namespace'].apply(namespace_type)"
   ]
  },
  {
   "cell_type": "code",
   "execution_count": 14,
   "metadata": {},
   "outputs": [
    {
     "data": {
      "text/plain": [
       "article       566732\n",
       "category      183779\n",
       "other page    117600\n",
       "other talk     67357\n",
       "Name: namespace_type, dtype: int64"
      ]
     },
     "execution_count": 14,
     "metadata": {},
     "output_type": "execute_result"
    }
   ],
   "source": [
    "df_all['namespace_type'].value_counts()"
   ]
  },
  {
   "cell_type": "markdown",
   "metadata": {},
   "source": [
    "### Datetime parsing"
   ]
  },
  {
   "cell_type": "code",
   "execution_count": 15,
   "metadata": {
    "collapsed": true
   },
   "outputs": [],
   "source": [
    "def get_year(timestamp):\n",
    "    return timestamp.year"
   ]
  },
  {
   "cell_type": "code",
   "execution_count": 16,
   "metadata": {
    "collapsed": true
   },
   "outputs": [],
   "source": [
    "df_all['reverting_timestamp_dt'] = pd.to_datetime(df_all['reverting_timestamp'], format=\"%Y%m%d%H%M%S\")\n",
    "\n",
    "df_all['reverted_timestamp_dt'] = pd.to_datetime(df_all['rev_timestamp'], format=\"%Y%m%d%H%M%S\")\n",
    "\n",
    "df_all = df_all.set_index('reverting_timestamp_dt')\n",
    "\n",
    "df_all['reverting_timestamp_dt'] = pd.to_datetime(df_all['reverting_timestamp'], format=\"%Y%m%d%H%M%S\")\n",
    "\n",
    "df_all['time_to_revert'] = df_all['reverting_timestamp_dt']-df_all['reverted_timestamp_dt']\n",
    "\n",
    "df_all['time_to_revert_hrs'] = df_all['time_to_revert'].astype('timedelta64[s]')/(60*60)\n",
    "\n",
    "df_all['time_to_revert_days'] = df_all['time_to_revert'].astype('timedelta64[s]')/(60*60*24)\n",
    "\n",
    "df_all['reverting_year'] = df_all['reverting_timestamp_dt'].apply(get_year)\n",
    "\n",
    "df_all['time_to_revert_days_log10'] = df_all['time_to_revert_days'].apply(np.log10)\n",
    "\n",
    "df_all['time_to_revert_hrs_log10'] = df_all['time_to_revert_hrs'].apply(np.log10)"
   ]
  },
  {
   "cell_type": "markdown",
   "metadata": {},
   "source": [
    "### Filter all datasets to the same time bounds: 2001 to 2016"
   ]
  },
  {
   "cell_type": "code",
   "execution_count": 17,
   "metadata": {},
   "outputs": [],
   "source": [
    "df_all = df_all.loc[\"2001-01-01\":\"2016-12-31\"]"
   ]
  },
  {
   "cell_type": "markdown",
   "metadata": {},
   "source": [
    "#### Counts per year: en"
   ]
  },
  {
   "cell_type": "code",
   "execution_count": 18,
   "metadata": {},
   "outputs": [
    {
     "data": {
      "text/plain": [
       "2004         2\n",
       "2005       130\n",
       "2006      3118\n",
       "2007     17038\n",
       "2008     33110\n",
       "2009     36378\n",
       "2010     30731\n",
       "2011     63161\n",
       "2012     47983\n",
       "2013    201172\n",
       "2014     20570\n",
       "2015     25880\n",
       "2016     23638\n",
       "Name: reverting_year, dtype: int64"
      ]
     },
     "execution_count": 18,
     "metadata": {},
     "output_type": "execute_result"
    }
   ],
   "source": [
    "df_all[df_all['language']=='en'].reverting_year.value_counts().sort_index()"
   ]
  },
  {
   "cell_type": "markdown",
   "metadata": {},
   "source": [
    "#### Counts per year: all"
   ]
  },
  {
   "cell_type": "code",
   "execution_count": 19,
   "metadata": {},
   "outputs": [
    {
     "data": {
      "text/plain": [
       "2004       302\n",
       "2005      1597\n",
       "2006      6354\n",
       "2007     29409\n",
       "2008     54958\n",
       "2009     81467\n",
       "2010     68328\n",
       "2011    146709\n",
       "2012    103033\n",
       "2013    342053\n",
       "2014     26688\n",
       "2015     36693\n",
       "2016     27355\n",
       "Name: reverting_year, dtype: int64"
      ]
     },
     "execution_count": 19,
     "metadata": {},
     "output_type": "execute_result"
    }
   ],
   "source": [
    "df_all.reverting_year.value_counts().sort_index()"
   ]
  },
  {
   "cell_type": "markdown",
   "metadata": {},
   "source": [
    "## Other processing and metadata"
   ]
  },
  {
   "cell_type": "markdown",
   "metadata": {},
   "source": [
    "### Comment parsing: removing text in brackets/parens\n",
    "\n",
    "Function for removing text within square brackets or parentheses, which is useful for aggregating comment messages."
   ]
  },
  {
   "cell_type": "code",
   "execution_count": 20,
   "metadata": {
    "collapsed": true
   },
   "outputs": [],
   "source": [
    "# by http://stackoverflow.com/questions/14596884/remove-text-between-and-in-python\n",
    "\n",
    "def remove_brackets(test_str):\n",
    "    \"\"\"\n",
    "    Takes a string and returns that string with text in brackets and parentheses removed\n",
    "    \"\"\"\n",
    "    \n",
    "    test_str = str(test_str)\n",
    "    ret = ''\n",
    "    skip1c = 0\n",
    "    skip2c = 0\n",
    "    for i in test_str:\n",
    "        if i == '[':\n",
    "            skip1c += 1\n",
    "        elif i == '(':\n",
    "            skip2c += 1\n",
    "        elif i == ']' and skip1c > 0:\n",
    "            skip1c -= 1\n",
    "        elif i == ')'and skip2c > 0:\n",
    "            skip2c -= 1\n",
    "        elif skip1c == 0 and skip2c == 0:\n",
    "            ret += i\n",
    "            \n",
    "    return \" \".join(ret.split())"
   ]
  },
  {
   "cell_type": "code",
   "execution_count": 21,
   "metadata": {
    "collapsed": true
   },
   "outputs": [],
   "source": [
    "df_all['reverting_comment_nobracket'] = df_all['reverting_comment'].apply(remove_brackets)"
   ]
  },
  {
   "cell_type": "code",
   "execution_count": null,
   "metadata": {
    "collapsed": true
   },
   "outputs": [],
   "source": []
  },
  {
   "cell_type": "markdown",
   "metadata": {},
   "source": [
    "### botpair and botpair_sorted"
   ]
  },
  {
   "cell_type": "code",
   "execution_count": 22,
   "metadata": {
    "collapsed": true
   },
   "outputs": [],
   "source": [
    "def concat_botpair(row):\n",
    "    \"\"\"\n",
    "    Concatenate the reverting and reverted user names. To be used with df.apply()\n",
    "    on the entire row\n",
    "    \"\"\"\n",
    "    return str(row['reverting_user_text']) + \" rv \" + str(row['rev_user_text'])\n",
    "\n",
    "def sorted_botpair(row):\n",
    "    \"\"\"\n",
    "    Returns a sorted list of bot pairs (reverted and reverting). To be used with\n",
    "    df.apply() on the entire row. list.sort() is  locale dependent, but it doesn't\n",
    "    matter because all we need is a consistent way of uniquely sorting.\n",
    "    \"\"\"\n",
    "    \n",
    "    return str(sorted([row['reverting_user_text'], row['rev_user_text']]))"
   ]
  },
  {
   "cell_type": "code",
   "execution_count": 23,
   "metadata": {},
   "outputs": [],
   "source": [
    "df_all['botpair'] = df_all.apply(concat_botpair, axis=1)"
   ]
  },
  {
   "cell_type": "code",
   "execution_count": 24,
   "metadata": {
    "collapsed": true
   },
   "outputs": [],
   "source": [
    "df_all['botpair_sorted'] = df_all.apply(sorted_botpair, axis=1)"
   ]
  },
  {
   "cell_type": "markdown",
   "metadata": {},
   "source": [
    "### Namespace type"
   ]
  },
  {
   "cell_type": "code",
   "execution_count": 25,
   "metadata": {
    "collapsed": true
   },
   "outputs": [],
   "source": [
    "def namespace_type(item):\n",
    "    \"\"\"\n",
    "    Classifies namespace type. To be used with df.apply() on ['page_namespace']\n",
    "    \"\"\"\n",
    "    if int(item) == 0:\n",
    "        return 'article'\n",
    "    elif int(item) == 14:\n",
    "        return 'category'\n",
    "    elif int(item) % 2 == 1:\n",
    "        return 'other talk'\n",
    "    else:\n",
    "        return 'other page'"
   ]
  },
  {
   "cell_type": "code",
   "execution_count": 26,
   "metadata": {
    "collapsed": true
   },
   "outputs": [],
   "source": [
    "df_all['namespace_type'] = df_all['page_namespace'].apply(namespace_type)"
   ]
  },
  {
   "cell_type": "code",
   "execution_count": 27,
   "metadata": {},
   "outputs": [
    {
     "data": {
      "text/plain": [
       "article       561937\n",
       "category      183752\n",
       "other page    113851\n",
       "other talk     65406\n",
       "Name: namespace_type, dtype: int64"
      ]
     },
     "execution_count": 27,
     "metadata": {},
     "output_type": "execute_result"
    }
   ],
   "source": [
    "df_all['namespace_type'].value_counts()"
   ]
  },
  {
   "cell_type": "markdown",
   "metadata": {},
   "source": [
    "### Reverts per page per botpair\n",
    "\n",
    "This analysis is also replicated in R in reverts_per_page_R.ipynb"
   ]
  },
  {
   "cell_type": "code",
   "execution_count": 28,
   "metadata": {
    "collapsed": true
   },
   "outputs": [],
   "source": [
    "gb_lpb = df_all.groupby([\"language\", \"rev_page\", \"botpair\"])\n",
    "gb_lpb_s = df_all.groupby([\"language\", \"rev_page\", \"botpair_sorted\"])"
   ]
  },
  {
   "cell_type": "code",
   "execution_count": 29,
   "metadata": {},
   "outputs": [
    {
     "data": {
      "text/html": [
       "<div>\n",
       "<style>\n",
       "    .dataframe thead tr:only-child th {\n",
       "        text-align: right;\n",
       "    }\n",
       "\n",
       "    .dataframe thead th {\n",
       "        text-align: left;\n",
       "    }\n",
       "\n",
       "    .dataframe tbody tr th {\n",
       "        vertical-align: top;\n",
       "    }\n",
       "</style>\n",
       "<table border=\"1\" class=\"dataframe\">\n",
       "  <thead>\n",
       "    <tr style=\"text-align: right;\">\n",
       "      <th></th>\n",
       "      <th>language</th>\n",
       "      <th>rev_page</th>\n",
       "      <th>botpair</th>\n",
       "      <th>reverts_per_page_botpair</th>\n",
       "    </tr>\n",
       "  </thead>\n",
       "  <tbody>\n",
       "    <tr>\n",
       "      <th>0</th>\n",
       "      <td>de</td>\n",
       "      <td>61</td>\n",
       "      <td>RedBot rv EmausBot</td>\n",
       "      <td>1</td>\n",
       "    </tr>\n",
       "    <tr>\n",
       "      <th>1</th>\n",
       "      <td>de</td>\n",
       "      <td>81</td>\n",
       "      <td>DumZiBoT rv CarsracBot</td>\n",
       "      <td>1</td>\n",
       "    </tr>\n",
       "    <tr>\n",
       "      <th>2</th>\n",
       "      <td>de</td>\n",
       "      <td>81</td>\n",
       "      <td>MerlIwBot rv ZéroBot</td>\n",
       "      <td>1</td>\n",
       "    </tr>\n",
       "    <tr>\n",
       "      <th>3</th>\n",
       "      <td>de</td>\n",
       "      <td>82</td>\n",
       "      <td>Alecs.bot rv SieBot</td>\n",
       "      <td>1</td>\n",
       "    </tr>\n",
       "    <tr>\n",
       "      <th>4</th>\n",
       "      <td>de</td>\n",
       "      <td>101</td>\n",
       "      <td>Xqbot rv Dinamik-bot</td>\n",
       "      <td>1</td>\n",
       "    </tr>\n",
       "  </tbody>\n",
       "</table>\n",
       "</div>"
      ],
      "text/plain": [
       "  language  rev_page                 botpair  reverts_per_page_botpair\n",
       "0       de        61      RedBot rv EmausBot                         1\n",
       "1       de        81  DumZiBoT rv CarsracBot                         1\n",
       "2       de        81    MerlIwBot rv ZéroBot                         1\n",
       "3       de        82     Alecs.bot rv SieBot                         1\n",
       "4       de       101    Xqbot rv Dinamik-bot                         1"
      ]
     },
     "execution_count": 29,
     "metadata": {},
     "output_type": "execute_result"
    }
   ],
   "source": [
    "df_lpb = pd.DataFrame(gb_lpb['rev_id'].count()).reset_index().rename(columns={\"rev_id\":\"reverts_per_page_botpair\"})\n",
    "df_lpb[0:5]"
   ]
  },
  {
   "cell_type": "code",
   "execution_count": 30,
   "metadata": {},
   "outputs": [
    {
     "data": {
      "text/html": [
       "<div>\n",
       "<style>\n",
       "    .dataframe thead tr:only-child th {\n",
       "        text-align: right;\n",
       "    }\n",
       "\n",
       "    .dataframe thead th {\n",
       "        text-align: left;\n",
       "    }\n",
       "\n",
       "    .dataframe tbody tr th {\n",
       "        vertical-align: top;\n",
       "    }\n",
       "</style>\n",
       "<table border=\"1\" class=\"dataframe\">\n",
       "  <thead>\n",
       "    <tr style=\"text-align: right;\">\n",
       "      <th></th>\n",
       "      <th>language</th>\n",
       "      <th>rev_page</th>\n",
       "      <th>botpair_sorted</th>\n",
       "      <th>reverts_per_page_botpair_sorted</th>\n",
       "    </tr>\n",
       "  </thead>\n",
       "  <tbody>\n",
       "    <tr>\n",
       "      <th>0</th>\n",
       "      <td>de</td>\n",
       "      <td>61</td>\n",
       "      <td>['EmausBot', 'RedBot']</td>\n",
       "      <td>1</td>\n",
       "    </tr>\n",
       "    <tr>\n",
       "      <th>1</th>\n",
       "      <td>de</td>\n",
       "      <td>81</td>\n",
       "      <td>['CarsracBot', 'DumZiBoT']</td>\n",
       "      <td>1</td>\n",
       "    </tr>\n",
       "    <tr>\n",
       "      <th>2</th>\n",
       "      <td>de</td>\n",
       "      <td>81</td>\n",
       "      <td>['MerlIwBot', 'ZéroBot']</td>\n",
       "      <td>1</td>\n",
       "    </tr>\n",
       "    <tr>\n",
       "      <th>3</th>\n",
       "      <td>de</td>\n",
       "      <td>82</td>\n",
       "      <td>['Alecs.bot', 'SieBot']</td>\n",
       "      <td>1</td>\n",
       "    </tr>\n",
       "    <tr>\n",
       "      <th>4</th>\n",
       "      <td>de</td>\n",
       "      <td>101</td>\n",
       "      <td>['Dinamik-bot', 'Xqbot']</td>\n",
       "      <td>1</td>\n",
       "    </tr>\n",
       "  </tbody>\n",
       "</table>\n",
       "</div>"
      ],
      "text/plain": [
       "  language  rev_page              botpair_sorted  \\\n",
       "0       de        61      ['EmausBot', 'RedBot']   \n",
       "1       de        81  ['CarsracBot', 'DumZiBoT']   \n",
       "2       de        81    ['MerlIwBot', 'ZéroBot']   \n",
       "3       de        82     ['Alecs.bot', 'SieBot']   \n",
       "4       de       101    ['Dinamik-bot', 'Xqbot']   \n",
       "\n",
       "   reverts_per_page_botpair_sorted  \n",
       "0                                1  \n",
       "1                                1  \n",
       "2                                1  \n",
       "3                                1  \n",
       "4                                1  "
      ]
     },
     "execution_count": 30,
     "metadata": {},
     "output_type": "execute_result"
    }
   ],
   "source": [
    "df_lpb_s = pd.DataFrame(gb_lpb_s['rev_id'].count()).reset_index().rename(columns={\"rev_id\":\"reverts_per_page_botpair_sorted\"})\n",
    "df_lpb_s[0:5]"
   ]
  },
  {
   "cell_type": "code",
   "execution_count": 31,
   "metadata": {
    "collapsed": true
   },
   "outputs": [],
   "source": [
    "df_all = pd.merge(df_all, df_lpb, how='left',\n",
    "         left_on=[\"language\", \"rev_page\", \"botpair\"],\n",
    "         right_on=[\"language\", \"rev_page\", \"botpair\"])\n",
    "\n",
    "df_all = pd.merge(df_all, df_lpb_s, how='left',\n",
    "         left_on=[\"language\", \"rev_page\", \"botpair_sorted\"],\n",
    "         right_on=[\"language\", \"rev_page\", \"botpair_sorted\"])"
   ]
  },
  {
   "cell_type": "markdown",
   "metadata": {
    "collapsed": true
   },
   "source": [
    "### Check time to revert for negatives"
   ]
  },
  {
   "cell_type": "code",
   "execution_count": 32,
   "metadata": {},
   "outputs": [
    {
     "data": {
      "text/plain": [
       "0"
      ]
     },
     "execution_count": 32,
     "metadata": {},
     "output_type": "execute_result"
    }
   ],
   "source": [
    "len(df_all.query(\"time_to_revert_days < 0\"))\n"
   ]
  },
  {
   "cell_type": "code",
   "execution_count": 33,
   "metadata": {},
   "outputs": [
    {
     "data": {
      "text/plain": [
       "924946"
      ]
     },
     "execution_count": 33,
     "metadata": {},
     "output_type": "execute_result"
    }
   ],
   "source": [
    "len(df_all.query(\"time_to_revert_days > 0\"))\n"
   ]
  },
  {
   "cell_type": "code",
   "execution_count": 34,
   "metadata": {},
   "outputs": [
    {
     "data": {
      "text/plain": [
       "Series([], Name: rev_id, dtype: int64)"
      ]
     },
     "execution_count": 34,
     "metadata": {},
     "output_type": "execute_result"
    }
   ],
   "source": [
    "df_all.query(\"time_to_revert_days < 0\").groupby(\"language\")['rev_id'].count()\n"
   ]
  },
  {
   "cell_type": "code",
   "execution_count": 35,
   "metadata": {},
   "outputs": [
    {
     "data": {
      "text/plain": [
       "language\n",
       "de     69268\n",
       "en    502911\n",
       "es     88771\n",
       "fr     96446\n",
       "ja     45147\n",
       "pt     70951\n",
       "zh     51452\n",
       "Name: rev_id, dtype: int64"
      ]
     },
     "execution_count": 35,
     "metadata": {},
     "output_type": "execute_result"
    }
   ],
   "source": [
    "df_all.query(\"time_to_revert_days > 0\").groupby(\"language\")['rev_id'].count()\n"
   ]
  },
  {
   "cell_type": "markdown",
   "metadata": {},
   "source": [
    "### Final data format"
   ]
  },
  {
   "cell_type": "code",
   "execution_count": 36,
   "metadata": {},
   "outputs": [
    {
     "data": {
      "text/plain": [
       "924946"
      ]
     },
     "execution_count": 36,
     "metadata": {},
     "output_type": "execute_result"
    }
   ],
   "source": [
    "len(df_all)"
   ]
  },
  {
   "cell_type": "code",
   "execution_count": 37,
   "metadata": {},
   "outputs": [
    {
     "data": {
      "text/html": [
       "<div>\n",
       "<style>\n",
       "    .dataframe thead tr:only-child th {\n",
       "        text-align: right;\n",
       "    }\n",
       "\n",
       "    .dataframe thead th {\n",
       "        text-align: left;\n",
       "    }\n",
       "\n",
       "    .dataframe tbody tr th {\n",
       "        vertical-align: top;\n",
       "    }\n",
       "</style>\n",
       "<table border=\"1\" class=\"dataframe\">\n",
       "  <thead>\n",
       "    <tr style=\"text-align: right;\">\n",
       "      <th></th>\n",
       "      <th>433845</th>\n",
       "      <th>535724</th>\n",
       "    </tr>\n",
       "  </thead>\n",
       "  <tbody>\n",
       "    <tr>\n",
       "      <th>archived</th>\n",
       "      <td>False</td>\n",
       "      <td>False</td>\n",
       "    </tr>\n",
       "    <tr>\n",
       "      <th>language</th>\n",
       "      <td>en</td>\n",
       "      <td>en</td>\n",
       "    </tr>\n",
       "    <tr>\n",
       "      <th>page_namespace</th>\n",
       "      <td>3</td>\n",
       "      <td>0</td>\n",
       "    </tr>\n",
       "    <tr>\n",
       "      <th>rev_deleted</th>\n",
       "      <td>False</td>\n",
       "      <td>False</td>\n",
       "    </tr>\n",
       "    <tr>\n",
       "      <th>rev_id</th>\n",
       "      <td>513397206</td>\n",
       "      <td>469611160</td>\n",
       "    </tr>\n",
       "    <tr>\n",
       "      <th>rev_minor_edit</th>\n",
       "      <td>False</td>\n",
       "      <td>True</td>\n",
       "    </tr>\n",
       "    <tr>\n",
       "      <th>rev_page</th>\n",
       "      <td>22998697</td>\n",
       "      <td>33069863</td>\n",
       "    </tr>\n",
       "    <tr>\n",
       "      <th>rev_parent_id</th>\n",
       "      <td>5.13329e+08</td>\n",
       "      <td>4.50233e+08</td>\n",
       "    </tr>\n",
       "    <tr>\n",
       "      <th>rev_revert_offset</th>\n",
       "      <td>15</td>\n",
       "      <td>1</td>\n",
       "    </tr>\n",
       "    <tr>\n",
       "      <th>rev_sha1</th>\n",
       "      <td>7ayvz6jlw89p9vcd65b9crv46kpt9qt</td>\n",
       "      <td>lffgv47hyv6hoaryhxbk6g3oy0fehgt</td>\n",
       "    </tr>\n",
       "    <tr>\n",
       "      <th>rev_timestamp</th>\n",
       "      <td>20120918164512</td>\n",
       "      <td>20120104233108</td>\n",
       "    </tr>\n",
       "    <tr>\n",
       "      <th>rev_user</th>\n",
       "      <td>9914992</td>\n",
       "      <td>11292982</td>\n",
       "    </tr>\n",
       "    <tr>\n",
       "      <th>rev_user_text</th>\n",
       "      <td>EdwardsBot</td>\n",
       "      <td>EmausBot</td>\n",
       "    </tr>\n",
       "    <tr>\n",
       "      <th>reverted_to_rev_id</th>\n",
       "      <td>513329428</td>\n",
       "      <td>450233311</td>\n",
       "    </tr>\n",
       "    <tr>\n",
       "      <th>reverting_archived</th>\n",
       "      <td>False</td>\n",
       "      <td>False</td>\n",
       "    </tr>\n",
       "    <tr>\n",
       "      <th>reverting_comment</th>\n",
       "      <td>Archiving 1 discussion to [[User talk:MJ94/Arc...</td>\n",
       "      <td>[[User:Addbot|Bot:]] Migrating 1 interwiki lin...</td>\n",
       "    </tr>\n",
       "    <tr>\n",
       "      <th>reverting_deleted</th>\n",
       "      <td>False</td>\n",
       "      <td>False</td>\n",
       "    </tr>\n",
       "    <tr>\n",
       "      <th>reverting_id</th>\n",
       "      <td>520850731</td>\n",
       "      <td>546220946</td>\n",
       "    </tr>\n",
       "    <tr>\n",
       "      <th>reverting_minor_edit</th>\n",
       "      <td>True</td>\n",
       "      <td>True</td>\n",
       "    </tr>\n",
       "    <tr>\n",
       "      <th>reverting_page</th>\n",
       "      <td>22998697</td>\n",
       "      <td>33069863</td>\n",
       "    </tr>\n",
       "    <tr>\n",
       "      <th>reverting_parent_id</th>\n",
       "      <td>5.20388e+08</td>\n",
       "      <td>4.69611e+08</td>\n",
       "    </tr>\n",
       "    <tr>\n",
       "      <th>reverting_sha1</th>\n",
       "      <td>ikcxiarpmd5df7fhen88lf2izwuulbv</td>\n",
       "      <td>jxn8eq2fek8pyzruxslnoowni5uc8bq</td>\n",
       "    </tr>\n",
       "    <tr>\n",
       "      <th>reverting_timestamp</th>\n",
       "      <td>20121101041849</td>\n",
       "      <td>20130322074914</td>\n",
       "    </tr>\n",
       "    <tr>\n",
       "      <th>reverting_user</th>\n",
       "      <td>5207410</td>\n",
       "      <td>6569922</td>\n",
       "    </tr>\n",
       "    <tr>\n",
       "      <th>reverting_user_text</th>\n",
       "      <td>ClueBot III</td>\n",
       "      <td>Addbot</td>\n",
       "    </tr>\n",
       "    <tr>\n",
       "      <th>revisions_reverted</th>\n",
       "      <td>15</td>\n",
       "      <td>1</td>\n",
       "    </tr>\n",
       "    <tr>\n",
       "      <th>namespace_type</th>\n",
       "      <td>other talk</td>\n",
       "      <td>article</td>\n",
       "    </tr>\n",
       "    <tr>\n",
       "      <th>reverted_timestamp_dt</th>\n",
       "      <td>2012-09-18 16:45:12</td>\n",
       "      <td>2012-01-04 23:31:08</td>\n",
       "    </tr>\n",
       "    <tr>\n",
       "      <th>reverting_timestamp_dt</th>\n",
       "      <td>2012-11-01 04:18:49</td>\n",
       "      <td>2013-03-22 07:49:14</td>\n",
       "    </tr>\n",
       "    <tr>\n",
       "      <th>time_to_revert</th>\n",
       "      <td>43 days 11:33:37</td>\n",
       "      <td>442 days 08:18:06</td>\n",
       "    </tr>\n",
       "    <tr>\n",
       "      <th>time_to_revert_hrs</th>\n",
       "      <td>1043.56</td>\n",
       "      <td>10616.3</td>\n",
       "    </tr>\n",
       "    <tr>\n",
       "      <th>time_to_revert_days</th>\n",
       "      <td>43.4817</td>\n",
       "      <td>442.346</td>\n",
       "    </tr>\n",
       "    <tr>\n",
       "      <th>reverting_year</th>\n",
       "      <td>2012</td>\n",
       "      <td>2013</td>\n",
       "    </tr>\n",
       "    <tr>\n",
       "      <th>time_to_revert_days_log10</th>\n",
       "      <td>1.63831</td>\n",
       "      <td>2.64576</td>\n",
       "    </tr>\n",
       "    <tr>\n",
       "      <th>time_to_revert_hrs_log10</th>\n",
       "      <td>3.01852</td>\n",
       "      <td>4.02597</td>\n",
       "    </tr>\n",
       "    <tr>\n",
       "      <th>reverting_comment_nobracket</th>\n",
       "      <td>Archiving 1 discussion to .</td>\n",
       "      <td>Migrating 1 interwiki links, now provided by on</td>\n",
       "    </tr>\n",
       "    <tr>\n",
       "      <th>botpair</th>\n",
       "      <td>ClueBot III rv EdwardsBot</td>\n",
       "      <td>Addbot rv EmausBot</td>\n",
       "    </tr>\n",
       "    <tr>\n",
       "      <th>botpair_sorted</th>\n",
       "      <td>['ClueBot III', 'EdwardsBot']</td>\n",
       "      <td>['Addbot', 'EmausBot']</td>\n",
       "    </tr>\n",
       "    <tr>\n",
       "      <th>reverts_per_page_botpair</th>\n",
       "      <td>9</td>\n",
       "      <td>1</td>\n",
       "    </tr>\n",
       "    <tr>\n",
       "      <th>reverts_per_page_botpair_sorted</th>\n",
       "      <td>9</td>\n",
       "      <td>1</td>\n",
       "    </tr>\n",
       "  </tbody>\n",
       "</table>\n",
       "</div>"
      ],
      "text/plain": [
       "                                                                            433845  \\\n",
       "archived                                                                     False   \n",
       "language                                                                        en   \n",
       "page_namespace                                                                   3   \n",
       "rev_deleted                                                                  False   \n",
       "rev_id                                                                   513397206   \n",
       "rev_minor_edit                                                               False   \n",
       "rev_page                                                                  22998697   \n",
       "rev_parent_id                                                          5.13329e+08   \n",
       "rev_revert_offset                                                               15   \n",
       "rev_sha1                                           7ayvz6jlw89p9vcd65b9crv46kpt9qt   \n",
       "rev_timestamp                                                       20120918164512   \n",
       "rev_user                                                                   9914992   \n",
       "rev_user_text                                                           EdwardsBot   \n",
       "reverted_to_rev_id                                                       513329428   \n",
       "reverting_archived                                                           False   \n",
       "reverting_comment                Archiving 1 discussion to [[User talk:MJ94/Arc...   \n",
       "reverting_deleted                                                            False   \n",
       "reverting_id                                                             520850731   \n",
       "reverting_minor_edit                                                          True   \n",
       "reverting_page                                                            22998697   \n",
       "reverting_parent_id                                                    5.20388e+08   \n",
       "reverting_sha1                                     ikcxiarpmd5df7fhen88lf2izwuulbv   \n",
       "reverting_timestamp                                                 20121101041849   \n",
       "reverting_user                                                             5207410   \n",
       "reverting_user_text                                                    ClueBot III   \n",
       "revisions_reverted                                                              15   \n",
       "namespace_type                                                          other talk   \n",
       "reverted_timestamp_dt                                          2012-09-18 16:45:12   \n",
       "reverting_timestamp_dt                                         2012-11-01 04:18:49   \n",
       "time_to_revert                                                    43 days 11:33:37   \n",
       "time_to_revert_hrs                                                         1043.56   \n",
       "time_to_revert_days                                                        43.4817   \n",
       "reverting_year                                                                2012   \n",
       "time_to_revert_days_log10                                                  1.63831   \n",
       "time_to_revert_hrs_log10                                                   3.01852   \n",
       "reverting_comment_nobracket                            Archiving 1 discussion to .   \n",
       "botpair                                                  ClueBot III rv EdwardsBot   \n",
       "botpair_sorted                                       ['ClueBot III', 'EdwardsBot']   \n",
       "reverts_per_page_botpair                                                         9   \n",
       "reverts_per_page_botpair_sorted                                                  9   \n",
       "\n",
       "                                                                            535724  \n",
       "archived                                                                     False  \n",
       "language                                                                        en  \n",
       "page_namespace                                                                   0  \n",
       "rev_deleted                                                                  False  \n",
       "rev_id                                                                   469611160  \n",
       "rev_minor_edit                                                                True  \n",
       "rev_page                                                                  33069863  \n",
       "rev_parent_id                                                          4.50233e+08  \n",
       "rev_revert_offset                                                                1  \n",
       "rev_sha1                                           lffgv47hyv6hoaryhxbk6g3oy0fehgt  \n",
       "rev_timestamp                                                       20120104233108  \n",
       "rev_user                                                                  11292982  \n",
       "rev_user_text                                                             EmausBot  \n",
       "reverted_to_rev_id                                                       450233311  \n",
       "reverting_archived                                                           False  \n",
       "reverting_comment                [[User:Addbot|Bot:]] Migrating 1 interwiki lin...  \n",
       "reverting_deleted                                                            False  \n",
       "reverting_id                                                             546220946  \n",
       "reverting_minor_edit                                                          True  \n",
       "reverting_page                                                            33069863  \n",
       "reverting_parent_id                                                    4.69611e+08  \n",
       "reverting_sha1                                     jxn8eq2fek8pyzruxslnoowni5uc8bq  \n",
       "reverting_timestamp                                                 20130322074914  \n",
       "reverting_user                                                             6569922  \n",
       "reverting_user_text                                                         Addbot  \n",
       "revisions_reverted                                                               1  \n",
       "namespace_type                                                             article  \n",
       "reverted_timestamp_dt                                          2012-01-04 23:31:08  \n",
       "reverting_timestamp_dt                                         2013-03-22 07:49:14  \n",
       "time_to_revert                                                   442 days 08:18:06  \n",
       "time_to_revert_hrs                                                         10616.3  \n",
       "time_to_revert_days                                                        442.346  \n",
       "reverting_year                                                                2013  \n",
       "time_to_revert_days_log10                                                  2.64576  \n",
       "time_to_revert_hrs_log10                                                   4.02597  \n",
       "reverting_comment_nobracket        Migrating 1 interwiki links, now provided by on  \n",
       "botpair                                                         Addbot rv EmausBot  \n",
       "botpair_sorted                                              ['Addbot', 'EmausBot']  \n",
       "reverts_per_page_botpair                                                         1  \n",
       "reverts_per_page_botpair_sorted                                                  1  "
      ]
     },
     "execution_count": 37,
     "metadata": {},
     "output_type": "execute_result"
    }
   ],
   "source": [
    "df_all.sample(2).transpose()"
   ]
  },
  {
   "cell_type": "markdown",
   "metadata": {
    "collapsed": true
   },
   "source": [
    "## Output to file"
   ]
  },
  {
   "cell_type": "code",
   "execution_count": 38,
   "metadata": {
    "collapsed": true
   },
   "outputs": [],
   "source": [
    "df_all.to_pickle(\"../../datasets/parsed_dataframes/df_all_2016.pickle\")"
   ]
  },
  {
   "cell_type": "code",
   "execution_count": 39,
   "metadata": {
    "collapsed": true
   },
   "outputs": [],
   "source": [
    "!xz -k -e -9 ../../datasets/parsed_dataframes/df_all_2016.pickle"
   ]
  },
  {
   "cell_type": "code",
   "execution_count": 40,
   "metadata": {
    "collapsed": true
   },
   "outputs": [],
   "source": [
    "df_all.to_pickle(\"../../datasets/parsed_dataframes/df_all_2016.pickle\")"
   ]
  },
  {
   "cell_type": "code",
   "execution_count": 41,
   "metadata": {},
   "outputs": [
    {
     "name": "stdout",
     "output_type": "stream",
     "text": [
      "Total runtime:  11 minutes,  15 seconds\n"
     ]
    }
   ],
   "source": [
    "end = datetime.datetime.now()\n",
    "\n",
    "time_to_run = end - start\n",
    "minutes = int(time_to_run.seconds/60)\n",
    "seconds = time_to_run.seconds % 60\n",
    "print(\"Total runtime: \", minutes, \"minutes, \", seconds, \"seconds\")"
   ]
  },
  {
   "cell_type": "code",
   "execution_count": null,
   "metadata": {
    "collapsed": true
   },
   "outputs": [],
   "source": []
  }
 ],
 "metadata": {
  "anaconda-cloud": {},
  "kernelspec": {
   "display_name": "Python [default]",
   "language": "python",
   "name": "python3"
  },
  "language_info": {
   "codemirror_mode": {
    "name": "ipython",
    "version": 3
   },
   "file_extension": ".py",
   "mimetype": "text/x-python",
   "name": "python",
   "nbconvert_exporter": "python",
   "pygments_lexer": "ipython3",
   "version": "3.5.3"
  }
 },
 "nbformat": 4,
 "nbformat_minor": 2
}
