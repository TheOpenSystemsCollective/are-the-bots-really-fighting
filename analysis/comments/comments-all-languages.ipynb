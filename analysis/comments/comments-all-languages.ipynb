{
 "cells": [
  {
   "cell_type": "code",
   "execution_count": 1,
   "metadata": {
    "collapsed": true
   },
   "outputs": [],
   "source": [
    "import pandas as pd\n",
    "import seaborn as sns\n",
    "import matplotlib.pyplot as plt\n",
    "import numpy as np\n",
    "import glob\n",
    "import pickle\n",
    "import numpy as np\n",
    "import mwapi\n",
    "%matplotlib inline"
   ]
  },
  {
   "cell_type": "code",
   "execution_count": 2,
   "metadata": {
    "collapsed": true
   },
   "outputs": [],
   "source": [
    "import datetime"
   ]
  },
  {
   "cell_type": "code",
   "execution_count": null,
   "metadata": {
    "collapsed": true
   },
   "outputs": [],
   "source": []
  },
  {
   "cell_type": "markdown",
   "metadata": {},
   "source": [
    "Note that this does not require Cython, the functions are just sped up using the `%%cython` magic"
   ]
  },
  {
   "cell_type": "code",
   "execution_count": 3,
   "metadata": {
    "collapsed": true
   },
   "outputs": [],
   "source": [
    "%load_ext Cython"
   ]
  },
  {
   "cell_type": "code",
   "execution_count": 4,
   "metadata": {},
   "outputs": [
    {
     "data": {
      "text/plain": [
       "datetime.datetime(2017, 4, 17, 11, 47, 45, 342267)"
      ]
     },
     "execution_count": 4,
     "metadata": {},
     "output_type": "execute_result"
    }
   ],
   "source": [
    "start = datetime.datetime.now()\n",
    "start"
   ]
  },
  {
   "cell_type": "markdown",
   "metadata": {},
   "source": [
    "## Data processing"
   ]
  },
  {
   "cell_type": "code",
   "execution_count": 5,
   "metadata": {},
   "outputs": [
    {
     "data": {
      "text/plain": [
       "['../../datasets/dewiki_20161001_reverted_bot2bot.tsv',\n",
       " '../../datasets/eswiki_20161001_reverted_bot2bot.tsv',\n",
       " '../../datasets/jawiki_20161001_reverted_bot2bot.tsv',\n",
       " '../../datasets/zhwiki_20161001_reverted_bot2bot.tsv',\n",
       " '../../datasets/ptwiki_20161001_reverted_bot2bot.tsv',\n",
       " '../../datasets/enwiki_20161201_reverted_bot2bot.tsv',\n",
       " '../../datasets/frwiki_20161001_reverted_bot2bot.tsv']"
      ]
     },
     "execution_count": 5,
     "metadata": {},
     "output_type": "execute_result"
    }
   ],
   "source": [
    "glob.glob(\"../../datasets/*bot2bot.tsv\")"
   ]
  },
  {
   "cell_type": "code",
   "execution_count": 6,
   "metadata": {
    "collapsed": true
   },
   "outputs": [],
   "source": [
    "df_dict = {}\n",
    "for filename in glob.glob(\"../../datasets/*bot2bot.tsv\"):\n",
    "    lang_code = filename[15:17]\n",
    "    df_dict[lang_code] = pd.read_csv(filename, sep=\"\\t\")"
   ]
  },
  {
   "cell_type": "code",
   "execution_count": 7,
   "metadata": {},
   "outputs": [
    {
     "name": "stdout",
     "output_type": "stream",
     "text": [
      "de 137844\n",
      "es 177368\n",
      "ja 89980\n",
      "zh 102846\n",
      "pt 141738\n",
      "en 1001093\n",
      "fr 193066\n"
     ]
    }
   ],
   "source": [
    "for lang, lang_df in df_dict.items():\n",
    "    print(lang, len(lang_df))"
   ]
  },
  {
   "cell_type": "code",
   "execution_count": 8,
   "metadata": {},
   "outputs": [
    {
     "data": {
      "text/html": [
       "<div>\n",
       "<table border=\"1\" class=\"dataframe\">\n",
       "  <thead>\n",
       "    <tr style=\"text-align: right;\">\n",
       "      <th></th>\n",
       "      <th>0</th>\n",
       "      <th>1</th>\n",
       "    </tr>\n",
       "  </thead>\n",
       "  <tbody>\n",
       "    <tr>\n",
       "      <th>rev_id</th>\n",
       "      <td>273691771</td>\n",
       "      <td>136526894</td>\n",
       "    </tr>\n",
       "    <tr>\n",
       "      <th>rev_timestamp</th>\n",
       "      <td>20090227173507</td>\n",
       "      <td>20070607044209</td>\n",
       "    </tr>\n",
       "    <tr>\n",
       "      <th>rev_user</th>\n",
       "      <td>6505923</td>\n",
       "      <td>4534303</td>\n",
       "    </tr>\n",
       "    <tr>\n",
       "      <th>rev_user_text</th>\n",
       "      <td>Kbdankbot</td>\n",
       "      <td>PbBot</td>\n",
       "    </tr>\n",
       "    <tr>\n",
       "      <th>rev_page</th>\n",
       "      <td>5040439</td>\n",
       "      <td>3046554</td>\n",
       "    </tr>\n",
       "    <tr>\n",
       "      <th>rev_sha1</th>\n",
       "      <td>qj45ne2z4yfexmpaz5wfnbm2yrmqt4j</td>\n",
       "      <td>3xtnw7u4w9h6cg1smw97mqnr1en6a55</td>\n",
       "    </tr>\n",
       "    <tr>\n",
       "      <th>rev_minor_edit</th>\n",
       "      <td>False</td>\n",
       "      <td>False</td>\n",
       "    </tr>\n",
       "    <tr>\n",
       "      <th>rev_deleted</th>\n",
       "      <td>False</td>\n",
       "      <td>False</td>\n",
       "    </tr>\n",
       "    <tr>\n",
       "      <th>rev_parent_id</th>\n",
       "      <td>2.59117e+08</td>\n",
       "      <td>1.20932e+08</td>\n",
       "    </tr>\n",
       "    <tr>\n",
       "      <th>archived</th>\n",
       "      <td>False</td>\n",
       "      <td>False</td>\n",
       "    </tr>\n",
       "    <tr>\n",
       "      <th>reverting_id</th>\n",
       "      <td>273789753</td>\n",
       "      <td>269875438</td>\n",
       "    </tr>\n",
       "    <tr>\n",
       "      <th>reverting_timestamp</th>\n",
       "      <td>20090228021925</td>\n",
       "      <td>20090210230337</td>\n",
       "    </tr>\n",
       "    <tr>\n",
       "      <th>reverting_user</th>\n",
       "      <td>1215485</td>\n",
       "      <td>7328338</td>\n",
       "    </tr>\n",
       "    <tr>\n",
       "      <th>reverting_user_text</th>\n",
       "      <td>Cydebot</td>\n",
       "      <td>Yobot</td>\n",
       "    </tr>\n",
       "    <tr>\n",
       "      <th>reverting_page</th>\n",
       "      <td>5040439</td>\n",
       "      <td>3046554</td>\n",
       "    </tr>\n",
       "    <tr>\n",
       "      <th>reverting_sha1</th>\n",
       "      <td>od1e685o9f5j7dtpd9zp2fhew3agjeq</td>\n",
       "      <td>f8ye1kj73h0ymwqj6rlsimwk3jd9tef</td>\n",
       "    </tr>\n",
       "    <tr>\n",
       "      <th>reverting_minor_edit</th>\n",
       "      <td>True</td>\n",
       "      <td>True</td>\n",
       "    </tr>\n",
       "    <tr>\n",
       "      <th>reverting_deleted</th>\n",
       "      <td>False</td>\n",
       "      <td>False</td>\n",
       "    </tr>\n",
       "    <tr>\n",
       "      <th>reverting_parent_id</th>\n",
       "      <td>2.73692e+08</td>\n",
       "      <td>1.36527e+08</td>\n",
       "    </tr>\n",
       "    <tr>\n",
       "      <th>reverting_archived</th>\n",
       "      <td>False</td>\n",
       "      <td>False</td>\n",
       "    </tr>\n",
       "    <tr>\n",
       "      <th>reverting_comment</th>\n",
       "      <td>Robot - Speedily moving category 9th-century i...</td>\n",
       "      <td>Removing {{1911 talk}} per [[Wikipedia:Templat...</td>\n",
       "    </tr>\n",
       "    <tr>\n",
       "      <th>rev_revert_offset</th>\n",
       "      <td>1</td>\n",
       "      <td>1</td>\n",
       "    </tr>\n",
       "    <tr>\n",
       "      <th>revisions_reverted</th>\n",
       "      <td>1</td>\n",
       "      <td>1</td>\n",
       "    </tr>\n",
       "    <tr>\n",
       "      <th>reverted_to_rev_id</th>\n",
       "      <td>259117355</td>\n",
       "      <td>120932016</td>\n",
       "    </tr>\n",
       "    <tr>\n",
       "      <th>page_namespace</th>\n",
       "      <td>0</td>\n",
       "      <td>1</td>\n",
       "    </tr>\n",
       "  </tbody>\n",
       "</table>\n",
       "</div>"
      ],
      "text/plain": [
       "                                                                      0  \\\n",
       "rev_id                                                        273691771   \n",
       "rev_timestamp                                            20090227173507   \n",
       "rev_user                                                        6505923   \n",
       "rev_user_text                                                 Kbdankbot   \n",
       "rev_page                                                        5040439   \n",
       "rev_sha1                                qj45ne2z4yfexmpaz5wfnbm2yrmqt4j   \n",
       "rev_minor_edit                                                    False   \n",
       "rev_deleted                                                       False   \n",
       "rev_parent_id                                               2.59117e+08   \n",
       "archived                                                          False   \n",
       "reverting_id                                                  273789753   \n",
       "reverting_timestamp                                      20090228021925   \n",
       "reverting_user                                                  1215485   \n",
       "reverting_user_text                                             Cydebot   \n",
       "reverting_page                                                  5040439   \n",
       "reverting_sha1                          od1e685o9f5j7dtpd9zp2fhew3agjeq   \n",
       "reverting_minor_edit                                               True   \n",
       "reverting_deleted                                                 False   \n",
       "reverting_parent_id                                         2.73692e+08   \n",
       "reverting_archived                                                False   \n",
       "reverting_comment     Robot - Speedily moving category 9th-century i...   \n",
       "rev_revert_offset                                                     1   \n",
       "revisions_reverted                                                    1   \n",
       "reverted_to_rev_id                                            259117355   \n",
       "page_namespace                                                        0   \n",
       "\n",
       "                                                                      1  \n",
       "rev_id                                                        136526894  \n",
       "rev_timestamp                                            20070607044209  \n",
       "rev_user                                                        4534303  \n",
       "rev_user_text                                                     PbBot  \n",
       "rev_page                                                        3046554  \n",
       "rev_sha1                                3xtnw7u4w9h6cg1smw97mqnr1en6a55  \n",
       "rev_minor_edit                                                    False  \n",
       "rev_deleted                                                       False  \n",
       "rev_parent_id                                               1.20932e+08  \n",
       "archived                                                          False  \n",
       "reverting_id                                                  269875438  \n",
       "reverting_timestamp                                      20090210230337  \n",
       "reverting_user                                                  7328338  \n",
       "reverting_user_text                                               Yobot  \n",
       "reverting_page                                                  3046554  \n",
       "reverting_sha1                          f8ye1kj73h0ymwqj6rlsimwk3jd9tef  \n",
       "reverting_minor_edit                                               True  \n",
       "reverting_deleted                                                 False  \n",
       "reverting_parent_id                                         1.36527e+08  \n",
       "reverting_archived                                                False  \n",
       "reverting_comment     Removing {{1911 talk}} per [[Wikipedia:Templat...  \n",
       "rev_revert_offset                                                     1  \n",
       "revisions_reverted                                                    1  \n",
       "reverted_to_rev_id                                            120932016  \n",
       "page_namespace                                                        1  "
      ]
     },
     "execution_count": 8,
     "metadata": {},
     "output_type": "execute_result"
    }
   ],
   "source": [
    "df_dict['en'][0:2].transpose()"
   ]
  },
  {
   "cell_type": "markdown",
   "metadata": {},
   "source": [
    "### Combining into one dataframe"
   ]
  },
  {
   "cell_type": "code",
   "execution_count": 9,
   "metadata": {
    "collapsed": true
   },
   "outputs": [],
   "source": [
    "df_all = df_dict['en'].copy()\n",
    "df_all = df_all.drop(df_all.index, axis=0)\n",
    "\n",
    "for lang, lang_df in df_dict.items():\n",
    "    lang_df['language'] = lang\n",
    "    df_all = pd.concat([df_all, lang_df])"
   ]
  },
  {
   "cell_type": "code",
   "execution_count": 10,
   "metadata": {},
   "outputs": [
    {
     "data": {
      "text/plain": [
       "en    1001093\n",
       "fr     193066\n",
       "es     177368\n",
       "pt     141738\n",
       "de     137844\n",
       "zh     102846\n",
       "ja      89980\n",
       "Name: language, dtype: int64"
      ]
     },
     "execution_count": 10,
     "metadata": {},
     "output_type": "execute_result"
    }
   ],
   "source": [
    "df_all['language'].value_counts()"
   ]
  },
  {
   "cell_type": "code",
   "execution_count": 11,
   "metadata": {
    "scrolled": true
   },
   "outputs": [
    {
     "name": "stdout",
     "output_type": "stream",
     "text": [
      "de 137844\n",
      "es 177368\n",
      "ja 89980\n",
      "zh 102846\n",
      "pt 141738\n",
      "en 1001093\n",
      "fr 193066\n"
     ]
    }
   ],
   "source": [
    "for lang, lang_df in df_dict.items():\n",
    "    print(lang, len(lang_df))\n",
    "    \n"
   ]
  },
  {
   "cell_type": "code",
   "execution_count": null,
   "metadata": {
    "collapsed": true
   },
   "outputs": [],
   "source": []
  },
  {
   "cell_type": "markdown",
   "metadata": {},
   "source": [
    "### Namespace type"
   ]
  },
  {
   "cell_type": "code",
   "execution_count": 12,
   "metadata": {
    "collapsed": true
   },
   "outputs": [],
   "source": [
    "def namespace_type(item):\n",
    "    if int(item) == 0:\n",
    "        return 'article'\n",
    "    elif int(item) == 14:\n",
    "        return 'category'\n",
    "    elif int(item) % 2 == 1:\n",
    "        return 'other talk'\n",
    "    else:\n",
    "        return 'other page'"
   ]
  },
  {
   "cell_type": "code",
   "execution_count": 13,
   "metadata": {
    "collapsed": true
   },
   "outputs": [],
   "source": [
    "df_all['namespace_type'] = df_all['page_namespace'].apply(namespace_type)"
   ]
  },
  {
   "cell_type": "code",
   "execution_count": 14,
   "metadata": {},
   "outputs": [
    {
     "data": {
      "text/plain": [
       "article       1122392\n",
       "category       365193\n",
       "other page     226994\n",
       "other talk     129356\n",
       "Name: namespace_type, dtype: int64"
      ]
     },
     "execution_count": 14,
     "metadata": {},
     "output_type": "execute_result"
    }
   ],
   "source": [
    "df_all['namespace_type'].value_counts()"
   ]
  },
  {
   "cell_type": "markdown",
   "metadata": {},
   "source": [
    "### Datetime parsing"
   ]
  },
  {
   "cell_type": "code",
   "execution_count": 15,
   "metadata": {
    "collapsed": true
   },
   "outputs": [],
   "source": [
    "def get_year(timestamp):\n",
    "    return timestamp.year"
   ]
  },
  {
   "cell_type": "code",
   "execution_count": 16,
   "metadata": {
    "collapsed": true
   },
   "outputs": [],
   "source": [
    "df_all['reverting_timestamp_dt'] = pd.to_datetime(df_all['reverting_timestamp'], format=\"%Y%m%d%H%M%S\")\n",
    "df_all['reverted_timestamp_dt'] = pd.to_datetime(df_all['rev_timestamp'], format=\"%Y%m%d%H%M%S\")\n",
    "\n",
    "df_all = df_all.set_index('reverting_timestamp_dt')\n",
    "\n",
    "df_all['reverting_timestamp_dt'] = pd.to_datetime(df_all['reverting_timestamp'], format=\"%Y%m%d%H%M%S\")\n",
    "\n",
    "df_all['time_to_revert'] = df_all['reverting_timestamp_dt']-df_all['reverted_timestamp_dt']\n",
    "\n",
    "df_all['time_to_revert_hrs'] = df_all['time_to_revert'].astype('timedelta64[s]')/(60*60)\n",
    "\n",
    "df_all['time_to_revert_days'] = df_all['time_to_revert'].astype('timedelta64[s]')/(60*60*24)\n",
    "\n",
    "df_all['reverting_year'] = df_all['reverting_timestamp_dt'].apply(get_year)"
   ]
  },
  {
   "cell_type": "markdown",
   "metadata": {},
   "source": [
    "### enwiki yearly bot-bot revert counts"
   ]
  },
  {
   "cell_type": "code",
   "execution_count": 17,
   "metadata": {},
   "outputs": [
    {
     "data": {
      "text/plain": [
       "2004         4\n",
       "2005       262\n",
       "2006      6238\n",
       "2007     34084\n",
       "2008     66228\n",
       "2009     72846\n",
       "2010     61780\n",
       "2011    126814\n",
       "2012     96084\n",
       "2013    403111\n",
       "2014     41188\n",
       "2015     49194\n",
       "2016     43260\n",
       "Name: reverting_year, dtype: int64"
      ]
     },
     "execution_count": 17,
     "metadata": {},
     "output_type": "execute_result"
    }
   ],
   "source": [
    "df_all[df_all['language']=='en'].reverting_year.value_counts().sort_index()"
   ]
  },
  {
   "cell_type": "markdown",
   "metadata": {},
   "source": [
    "### all langauges (in dataset) yearly bot-bot revert counts"
   ]
  },
  {
   "cell_type": "code",
   "execution_count": 18,
   "metadata": {},
   "outputs": [
    {
     "data": {
      "text/plain": [
       "2004       604\n",
       "2005      3196\n",
       "2006     12714\n",
       "2007     58850\n",
       "2008    109978\n",
       "2009    163096\n",
       "2010    137000\n",
       "2011    294004\n",
       "2012    206238\n",
       "2013    685235\n",
       "2014     53466\n",
       "2015     70826\n",
       "2016     48728\n",
       "Name: reverting_year, dtype: int64"
      ]
     },
     "execution_count": 18,
     "metadata": {},
     "output_type": "execute_result"
    }
   ],
   "source": [
    "df_all.reverting_year.value_counts().sort_index()"
   ]
  },
  {
   "cell_type": "markdown",
   "metadata": {},
   "source": [
    "### Other processing"
   ]
  },
  {
   "cell_type": "code",
   "execution_count": 19,
   "metadata": {
    "collapsed": true
   },
   "outputs": [],
   "source": [
    "def concat_botpair(row):\n",
    "    return str(row['reverting_user_text']) + \" rv \" + str(row['rev_user_text'])\n",
    "    \n",
    "df_all['botpair'] = df_all.apply(concat_botpair, axis=1)"
   ]
  },
  {
   "cell_type": "code",
   "execution_count": null,
   "metadata": {
    "collapsed": true
   },
   "outputs": [],
   "source": []
  },
  {
   "cell_type": "markdown",
   "metadata": {},
   "source": [
    "### Final data format"
   ]
  },
  {
   "cell_type": "code",
   "execution_count": 20,
   "metadata": {},
   "outputs": [
    {
     "data": {
      "text/html": [
       "<div>\n",
       "<table border=\"1\" class=\"dataframe\">\n",
       "  <thead>\n",
       "    <tr style=\"text-align: right;\">\n",
       "      <th>reverting_timestamp_dt</th>\n",
       "      <th>2012-01-20 16:44:57</th>\n",
       "      <th>2013-04-04 10:14:44</th>\n",
       "    </tr>\n",
       "  </thead>\n",
       "  <tbody>\n",
       "    <tr>\n",
       "      <th>archived</th>\n",
       "      <td>False</td>\n",
       "      <td>False</td>\n",
       "    </tr>\n",
       "    <tr>\n",
       "      <th>language</th>\n",
       "      <td>de</td>\n",
       "      <td>de</td>\n",
       "    </tr>\n",
       "    <tr>\n",
       "      <th>page_namespace</th>\n",
       "      <td>14</td>\n",
       "      <td>0</td>\n",
       "    </tr>\n",
       "    <tr>\n",
       "      <th>rev_deleted</th>\n",
       "      <td>False</td>\n",
       "      <td>False</td>\n",
       "    </tr>\n",
       "    <tr>\n",
       "      <th>rev_id</th>\n",
       "      <td>96266407</td>\n",
       "      <td>101368846</td>\n",
       "    </tr>\n",
       "    <tr>\n",
       "      <th>rev_minor_edit</th>\n",
       "      <td>True</td>\n",
       "      <td>True</td>\n",
       "    </tr>\n",
       "    <tr>\n",
       "      <th>rev_page</th>\n",
       "      <td>1877152</td>\n",
       "      <td>1877160</td>\n",
       "    </tr>\n",
       "    <tr>\n",
       "      <th>rev_parent_id</th>\n",
       "      <td>9.30174e+07</td>\n",
       "      <td>9.3911e+07</td>\n",
       "    </tr>\n",
       "    <tr>\n",
       "      <th>rev_revert_offset</th>\n",
       "      <td>1</td>\n",
       "      <td>1</td>\n",
       "    </tr>\n",
       "    <tr>\n",
       "      <th>rev_sha1</th>\n",
       "      <td>fx2pgr3i3i4toa5dlkj565cm4q5nihp</td>\n",
       "      <td>h0wxv23bff0urswa5o8d8nsvw0ft12n</td>\n",
       "    </tr>\n",
       "    <tr>\n",
       "      <th>rev_timestamp</th>\n",
       "      <td>20111121221223</td>\n",
       "      <td>20120327174704</td>\n",
       "    </tr>\n",
       "    <tr>\n",
       "      <th>rev_user</th>\n",
       "      <td>1052628</td>\n",
       "      <td>321232</td>\n",
       "    </tr>\n",
       "    <tr>\n",
       "      <th>rev_user_text</th>\n",
       "      <td>WikitanvirBot</td>\n",
       "      <td>VolkovBot</td>\n",
       "    </tr>\n",
       "    <tr>\n",
       "      <th>reverted_to_rev_id</th>\n",
       "      <td>93017365</td>\n",
       "      <td>93911048</td>\n",
       "    </tr>\n",
       "    <tr>\n",
       "      <th>reverting_archived</th>\n",
       "      <td>False</td>\n",
       "      <td>False</td>\n",
       "    </tr>\n",
       "    <tr>\n",
       "      <th>reverting_comment</th>\n",
       "      <td>r2.7.2) (Bot: Entferne: [[bg:Категория:Басейн ...</td>\n",
       "      <td>Bot: 1 [[Hilfe:Internationalisierung|Interwiki...</td>\n",
       "    </tr>\n",
       "    <tr>\n",
       "      <th>reverting_deleted</th>\n",
       "      <td>False</td>\n",
       "      <td>False</td>\n",
       "    </tr>\n",
       "    <tr>\n",
       "      <th>reverting_id</th>\n",
       "      <td>98616613</td>\n",
       "      <td>116985254</td>\n",
       "    </tr>\n",
       "    <tr>\n",
       "      <th>reverting_minor_edit</th>\n",
       "      <td>True</td>\n",
       "      <td>True</td>\n",
       "    </tr>\n",
       "    <tr>\n",
       "      <th>reverting_page</th>\n",
       "      <td>1877152</td>\n",
       "      <td>1877160</td>\n",
       "    </tr>\n",
       "    <tr>\n",
       "      <th>reverting_parent_id</th>\n",
       "      <td>9.62664e+07</td>\n",
       "      <td>1.01369e+08</td>\n",
       "    </tr>\n",
       "    <tr>\n",
       "      <th>reverting_sha1</th>\n",
       "      <td>cm8o4zouot9zck7zvu77il214a5aumw</td>\n",
       "      <td>9p0g4s3wnowqxya5aqkjcnam4e9x8je</td>\n",
       "    </tr>\n",
       "    <tr>\n",
       "      <th>reverting_timestamp</th>\n",
       "      <td>20120120164457</td>\n",
       "      <td>20130404101444</td>\n",
       "    </tr>\n",
       "    <tr>\n",
       "      <th>reverting_user</th>\n",
       "      <td>670382</td>\n",
       "      <td>1209855</td>\n",
       "    </tr>\n",
       "    <tr>\n",
       "      <th>reverting_user_text</th>\n",
       "      <td>MastiBot</td>\n",
       "      <td>KLBot2</td>\n",
       "    </tr>\n",
       "    <tr>\n",
       "      <th>revisions_reverted</th>\n",
       "      <td>1</td>\n",
       "      <td>1</td>\n",
       "    </tr>\n",
       "    <tr>\n",
       "      <th>namespace_type</th>\n",
       "      <td>category</td>\n",
       "      <td>article</td>\n",
       "    </tr>\n",
       "    <tr>\n",
       "      <th>reverted_timestamp_dt</th>\n",
       "      <td>2011-11-21 22:12:23</td>\n",
       "      <td>2012-03-27 17:47:04</td>\n",
       "    </tr>\n",
       "    <tr>\n",
       "      <th>reverting_timestamp_dt</th>\n",
       "      <td>2012-01-20 16:44:57</td>\n",
       "      <td>2013-04-04 10:14:44</td>\n",
       "    </tr>\n",
       "    <tr>\n",
       "      <th>time_to_revert</th>\n",
       "      <td>59 days 18:32:34</td>\n",
       "      <td>372 days 16:27:40</td>\n",
       "    </tr>\n",
       "    <tr>\n",
       "      <th>time_to_revert_hrs</th>\n",
       "      <td>1434.54</td>\n",
       "      <td>8944.46</td>\n",
       "    </tr>\n",
       "    <tr>\n",
       "      <th>time_to_revert_days</th>\n",
       "      <td>59.7726</td>\n",
       "      <td>372.686</td>\n",
       "    </tr>\n",
       "    <tr>\n",
       "      <th>reverting_year</th>\n",
       "      <td>2012</td>\n",
       "      <td>2013</td>\n",
       "    </tr>\n",
       "    <tr>\n",
       "      <th>botpair</th>\n",
       "      <td>MastiBot rv WikitanvirBot</td>\n",
       "      <td>KLBot2 rv VolkovBot</td>\n",
       "    </tr>\n",
       "  </tbody>\n",
       "</table>\n",
       "</div>"
      ],
      "text/plain": [
       "reverting_timestamp_dt                                2012-01-20 16:44:57  \\\n",
       "archived                                                            False   \n",
       "language                                                               de   \n",
       "page_namespace                                                         14   \n",
       "rev_deleted                                                         False   \n",
       "rev_id                                                           96266407   \n",
       "rev_minor_edit                                                       True   \n",
       "rev_page                                                          1877152   \n",
       "rev_parent_id                                                 9.30174e+07   \n",
       "rev_revert_offset                                                       1   \n",
       "rev_sha1                                  fx2pgr3i3i4toa5dlkj565cm4q5nihp   \n",
       "rev_timestamp                                              20111121221223   \n",
       "rev_user                                                          1052628   \n",
       "rev_user_text                                               WikitanvirBot   \n",
       "reverted_to_rev_id                                               93017365   \n",
       "reverting_archived                                                  False   \n",
       "reverting_comment       r2.7.2) (Bot: Entferne: [[bg:Категория:Басейн ...   \n",
       "reverting_deleted                                                   False   \n",
       "reverting_id                                                     98616613   \n",
       "reverting_minor_edit                                                 True   \n",
       "reverting_page                                                    1877152   \n",
       "reverting_parent_id                                           9.62664e+07   \n",
       "reverting_sha1                            cm8o4zouot9zck7zvu77il214a5aumw   \n",
       "reverting_timestamp                                        20120120164457   \n",
       "reverting_user                                                     670382   \n",
       "reverting_user_text                                              MastiBot   \n",
       "revisions_reverted                                                      1   \n",
       "namespace_type                                                   category   \n",
       "reverted_timestamp_dt                                 2011-11-21 22:12:23   \n",
       "reverting_timestamp_dt                                2012-01-20 16:44:57   \n",
       "time_to_revert                                           59 days 18:32:34   \n",
       "time_to_revert_hrs                                                1434.54   \n",
       "time_to_revert_days                                               59.7726   \n",
       "reverting_year                                                       2012   \n",
       "botpair                                         MastiBot rv WikitanvirBot   \n",
       "\n",
       "reverting_timestamp_dt                                2013-04-04 10:14:44  \n",
       "archived                                                            False  \n",
       "language                                                               de  \n",
       "page_namespace                                                          0  \n",
       "rev_deleted                                                         False  \n",
       "rev_id                                                          101368846  \n",
       "rev_minor_edit                                                       True  \n",
       "rev_page                                                          1877160  \n",
       "rev_parent_id                                                  9.3911e+07  \n",
       "rev_revert_offset                                                       1  \n",
       "rev_sha1                                  h0wxv23bff0urswa5o8d8nsvw0ft12n  \n",
       "rev_timestamp                                              20120327174704  \n",
       "rev_user                                                           321232  \n",
       "rev_user_text                                                   VolkovBot  \n",
       "reverted_to_rev_id                                               93911048  \n",
       "reverting_archived                                                  False  \n",
       "reverting_comment       Bot: 1 [[Hilfe:Internationalisierung|Interwiki...  \n",
       "reverting_deleted                                                   False  \n",
       "reverting_id                                                    116985254  \n",
       "reverting_minor_edit                                                 True  \n",
       "reverting_page                                                    1877160  \n",
       "reverting_parent_id                                           1.01369e+08  \n",
       "reverting_sha1                            9p0g4s3wnowqxya5aqkjcnam4e9x8je  \n",
       "reverting_timestamp                                        20130404101444  \n",
       "reverting_user                                                    1209855  \n",
       "reverting_user_text                                                KLBot2  \n",
       "revisions_reverted                                                      1  \n",
       "namespace_type                                                    article  \n",
       "reverted_timestamp_dt                                 2012-03-27 17:47:04  \n",
       "reverting_timestamp_dt                                2013-04-04 10:14:44  \n",
       "time_to_revert                                          372 days 16:27:40  \n",
       "time_to_revert_hrs                                                8944.46  \n",
       "time_to_revert_days                                               372.686  \n",
       "reverting_year                                                       2013  \n",
       "botpair                                               KLBot2 rv VolkovBot  "
      ]
     },
     "execution_count": 20,
     "metadata": {},
     "output_type": "execute_result"
    }
   ],
   "source": [
    "df_all[0:2].transpose()"
   ]
  },
  {
   "cell_type": "markdown",
   "metadata": {
    "collapsed": true
   },
   "source": [
    "# Comments analysis"
   ]
  },
  {
   "cell_type": "markdown",
   "metadata": {},
   "source": [
    "Function for removing text within square brackets or parentheses, which is useful for aggregating comment messages."
   ]
  },
  {
   "cell_type": "code",
   "execution_count": 21,
   "metadata": {
    "collapsed": true
   },
   "outputs": [],
   "source": [
    "%%cython\n",
    "# by http://stackoverflow.com/questions/14596884/remove-text-between-and-in-python\n",
    "\n",
    "def remove_brackets(str test_str):\n",
    "    \"\"\"\n",
    "    Takes a string and returns that string with text in brackets and parentheses removed\n",
    "    \"\"\"\n",
    "    \n",
    "    test_str = str(test_str)\n",
    "    ret = ''\n",
    "    skip1c = 0\n",
    "    skip2c = 0\n",
    "    for i in test_str:\n",
    "        if i == '[':\n",
    "            skip1c += 1\n",
    "        elif i == '(':\n",
    "            skip2c += 1\n",
    "        elif i == ']' and skip1c > 0:\n",
    "            skip1c -= 1\n",
    "        elif i == ')'and skip2c > 0:\n",
    "            skip2c -= 1\n",
    "        elif skip1c == 0 and skip2c == 0:\n",
    "            ret += i\n",
    "            \n",
    "    return \" \".join(ret.split())"
   ]
  },
  {
   "cell_type": "code",
   "execution_count": 22,
   "metadata": {
    "collapsed": true
   },
   "outputs": [],
   "source": [
    "df_all['reverting_comment_nobracket'] = df_all['reverting_comment'].apply(remove_brackets)"
   ]
  },
  {
   "cell_type": "markdown",
   "metadata": {},
   "source": [
    "### Comment parsing functions"
   ]
  },
  {
   "cell_type": "markdown",
   "metadata": {},
   "source": [
    "There are two functions that are used to parse comments. `comment_categorization()` runs first and applies a series of pattern matching to comments. If a match is not found, then `interwiki_confirm()` is called, which checks for languages codes in certain patterns that indicate interwiki links."
   ]
  },
  {
   "cell_type": "code",
   "execution_count": 23,
   "metadata": {
    "collapsed": true
   },
   "outputs": [],
   "source": [
    "%%cython\n",
    "def interwiki_confirm(str comment, str langcode):\n",
    "    \"\"\"\n",
    "    Takes a comment string, searches for language codes bordered by \n",
    "    two punctuation marks from [](){},: or one punctuation mark and\n",
    "    one space. Beginning and end of a comment string counts as a\n",
    "    space, not a punctuation mark.\n",
    "    \n",
    "    Does not recognize the current langcode.\n",
    "    \"\"\"\n",
    "    import string, re\n",
    "    \n",
    "    with open(\"lang_codes.tsv\", \"r\") as f:\n",
    "        lang_codes = f.read().split(\"\\n\")\n",
    "        \n",
    "    lang_codes.pop() # a blank '' is in the list that gets returned\n",
    "    \n",
    "    lang_codes.remove(langcode)\n",
    "    \n",
    "    #print(langcode in lang_codes)\n",
    "    \n",
    "    try:\n",
    "        comment = str(comment)\n",
    "        comment = comment.lower()\n",
    "        comment = comment.replace(\": \", \":\")\n",
    "        comment = \" \" + comment + \" \"  # pad start and end of string with non-punctuation\n",
    "        #print(comment)\n",
    "        \n",
    "    except Exception as e:\n",
    "        return 'other'\n",
    "    \n",
    "    for lang_code in lang_codes:\n",
    "        \n",
    "        lang_code_pos = comment.find(lang_code)\n",
    "        lang_code_len = len(lang_code)\n",
    "        \n",
    "        char_before = \" \"\n",
    "        char_after = \" \"\n",
    "        \n",
    "        if lang_code_pos >= 0:\n",
    "            char_before = comment[lang_code_pos-1]\n",
    "        \n",
    "            #print(\"Char before: '\", char_before, \"'\", sep='')\n",
    "             \n",
    "            char_after = comment[lang_code_pos+lang_code_len]\n",
    "\n",
    "            #print(\"Char after: '\", char_after, \"'\", sep='')\n",
    "            \n",
    "            if char_before in string.punctuation and char_after in \"[]{}(),:\":\n",
    "                #print(comment, lang_code)\n",
    "                return 'interwiki link cleanup -- suspected'\n",
    "            \n",
    "            elif char_after in string.punctuation and char_before in \"[]{}(),:\":\n",
    "                #print(comment, lang_code)\n",
    "                return 'interwiki link cleanup -- suspected'\n",
    "            \n",
    "            elif char_before == \" \" and char_after in \"[]{}(),:\":\n",
    "                #print(comment, lang_code)\n",
    "                return 'interwiki link cleanup -- suspected'\n",
    "            \n",
    "            elif char_after == \" \" and char_before in \"[]{}(),:\":\n",
    "                #print(comment, lang_code)\n",
    "                return 'interwiki link cleanup -- suspected'               \n",
    "    return 'other'\n",
    "    \n",
    "\n",
    "def comment_categorization(row):\n",
    "    \"\"\"\n",
    "    Takes a row from a pandas dataframe or dict and returns a string with a\n",
    "    kind of activity based on metadata. Used with df.apply(). Mostly parses\n",
    "    comments, but makes some use of usernames too.\n",
    "    \"\"\"\n",
    "    \n",
    "    reverting_user = str(row['reverting_user_text'])\n",
    "    \n",
    "    reverted_user = str(row['rev_user_text'])\n",
    "    \n",
    "    langcode = str(row['language'])\n",
    "    \n",
    "    if reverting_user.find(\"HBC AIV\") >= 0:\n",
    "        return 'AIV helperbot'\n",
    "    \n",
    "    try:\n",
    "        comment = str(row['reverting_comment'])\n",
    "    except Exception as e:\n",
    "        return 'other'\n",
    "    \n",
    "    comment_lower = comment.lower().strip()\n",
    "    comment_lower = \" \".join(comment_lower.split())\n",
    " \n",
    "    if comment == 'nan':\n",
    "        return \"deleted revision\"\n",
    "    \n",
    "    if reverting_user == 'Cyberbot II' and reverted_user == 'AnomieBOT' and comment.find(\"tagging/redirecting to OCC\") >= 0:\n",
    "        return 'botfight: Cyberbot II vs AnomieBOT date tagging'\n",
    "        \n",
    "    if reverting_user == 'AnomieBOT' and reverted_user == 'Cyberbot II' and comment.find(\"{{Deadlink}}\") >= 0:\n",
    "        return 'botfight: Cyberbot II vs AnomieBOT date tagging'                \n",
    "    \n",
    "    elif comment.find(\"Undoing massive unnecessary addition of infoboxneeded by a (now blocked) bot\") >= 0:\n",
    "        return \"botfight: infoboxneeded\"\n",
    "    \n",
    "    elif comment_lower.find(\"commonsdelinker\") >=0 and reverting_user.find(\"CommonsDelinker\") == -1:\n",
    "        return \"botfight: reverting CommonsDelinker\"\n",
    "        \n",
    "    elif comment.find(\"Reverted edits by [[Special:Contributions/ImageRemovalBot\") >= 0:\n",
    "        return \"botfight: 718bot vs ImageRemovalBot\"\n",
    "    \n",
    "    elif comment_lower.find(\"double redirect\") >= 0:\n",
    "        return \"fixing double redirect\"\n",
    "    \n",
    "    elif comment_lower.find(\"double-redirect\") >= 0:\n",
    "        return \"fixing double redirect\"\n",
    "\n",
    "    elif comment_lower.find(\"has been moved; it now redirects to\") >= 0:\n",
    "        return \"fixing double redirect\"\n",
    "    \n",
    "    elif comment_lower.find(\"correction du redirect\") >= 0:\n",
    "        return \"fixing double redirect\"   \n",
    "        \n",
    "    elif comment_lower.find(\"redirect tagging\") >= 0:\n",
    "        return \"redirect tagging/sorting\"\n",
    "    \n",
    "    elif comment_lower.find(\"sorting redirect\") >= 0:\n",
    "        return \"redirect tagging/sorting\"\n",
    "    \n",
    "    elif comment_lower.find(\"redirecciones\") >= 0 and comment_lower.find(\"categoría\") >= 0:\n",
    "        return \"category redirect cleanup\"    \n",
    "    \n",
    "    elif comment_lower.find(\"change redirected category\") >= 0:\n",
    "        return \"category redirect cleanup\"\n",
    "    \n",
    "    elif comment_lower.find(\"redirected category\") >=0:\n",
    "        return \"category redirect cleanup\"\n",
    "    \n",
    "    elif comment.find(\"[[User:Addbot|Bot:]] Adding \") >= 0:\n",
    "        return \"template tagging\"\n",
    "    \n",
    "    elif comment_lower.find(\"interwiki\") >= 0:\n",
    "        return \"interwiki link cleanup\"\n",
    "    \n",
    "    elif comment_lower.find(\"langlinks\") >= 0:\n",
    "        return \"interwiki link cleanup\"\n",
    "    \n",
    "    elif comment_lower.find(\"iw-link\") >= 0:\n",
    "        return \"interwiki link cleanup\"\n",
    "    \n",
    "    elif comment_lower.find(\"changing category\") >= 0:\n",
    "        return \"moving category\"\n",
    "    \n",
    "    elif comment_lower.find(\"recat per\") >= 0:\n",
    "        return \"moving category\"\n",
    "    \n",
    "    elif comment_lower.find(\"moving category\") >= 0:\n",
    "        return \"moving category\"\n",
    "    \n",
    "    elif comment_lower.find(\"re-categorisation\") >= 0:\n",
    "        return \"moving category\"\n",
    "    \n",
    "    elif comment_lower.find(\"recatégorisation\") >= 0:\n",
    "        return \"moving category\"   \n",
    "    \n",
    "    elif comment_lower.find(\"Updating users status to\") >= 0:\n",
    "        return \"user online status update\"\n",
    "    \n",
    "    elif comment_lower.find(\"{{Copy to Wikimedia Commons}} either because the file\") >= 0:\n",
    "        return \"template cleanup\"\n",
    "        \n",
    "    elif comment_lower.find(\"removing a protection template\") >= 0:\n",
    "        return \"protection template cleanup\"\n",
    "    \n",
    "    elif comment_lower.find(\"removing categorization template\") >= 0:\n",
    "        return \"template cleanup\"    \n",
    "    \n",
    "    elif comment_lower.find(\"rm ibid template per\") >= 0:\n",
    "        return \"template cleanup\"      \n",
    "    \n",
    "    elif comment_lower.find(\"page is not protected\") >= 0:\n",
    "        return \"template cleanup\"          \n",
    "    \n",
    "    elif comment_lower.find(\"removing protection template\") >= 0:\n",
    "        return \"template cleanup\"      \n",
    "    \n",
    "    elif comment_lower.find(\"removing orphan t\") >= 0:\n",
    "        return \"template cleanup\"\n",
    "    \n",
    "    elif comment_lower.find(\"non-applicable orphan\") >= 0:\n",
    "        return \"template cleanup\"\n",
    "    \n",
    "    elif comment_lower.find(\"plantilla\") >= 0 and comment_lower.find(\"huérfano\") >= 0:\n",
    "        return \"template cleanup\"\n",
    "    \n",
    "    elif comment_lower.find(\"removed orphan t\") >= 0:\n",
    "        return \"template cleanup\"    \n",
    "    \n",
    "    elif comment_lower.find(\"sandbox\") >= 0:\n",
    "        return \"clearing sandbox\"\n",
    "    \n",
    "    elif comment_lower.find(\"archiving\") >= 0:\n",
    "        return \"archiving\"\n",
    "    \n",
    "    elif comment_lower.find(\"duplicate on commons\") >= 0:\n",
    "        return \"commons image migration\"\n",
    "    \n",
    "    elif comment_lower.find(\"user:mathbot/changes to mathlists\") >= 0:\n",
    "        return \"mathbot mathlist updates\"\n",
    "        \n",
    "    elif comment_lower.find(\"link syntax\") >= 0:\n",
    "        return \"link syntax fixing\"\n",
    "    \n",
    "    elif comment_lower.find(\"links syntax\") >= 0:\n",
    "        return \"link syntax fixing\" \n",
    "        \n",
    "    elif comment_lower.find(\" per \") >= 0:\n",
    "        return \"has per justification\"  \n",
    "    \n",
    "    elif comment_lower.find(\" según\") >= 0:\n",
    "        return \"has per justification\"      \n",
    " \n",
    "    elif comment_lower.find(\"suite à discussion\") >= 0:\n",
    "        return \"has per justification\"  \n",
    "    \n",
    "    elif comment_lower.find(\"suite à conservation\") >= 0:\n",
    "        return \"has per justification\"     \n",
    "    \n",
    "    elif comment_lower.find(\"conforme pedido\") >= 0:\n",
    "        return \"has per justification\"\n",
    "    \n",
    "    elif comment_lower.find(\"revert\") >= 0:\n",
    "        return \"other w/ revert in comment\"  \n",
    "    \n",
    "    elif comment_lower.find(\"rv \") >= 0 or comment_lower.find(\"rv\") == 0:\n",
    "        return \"other w/ revert in comment\"  \n",
    "    \n",
    "    elif comment_lower.find(\"wikidata\") >= 0:\n",
    "        return \"interwiki link cleanup\"\n",
    "    \n",
    "    elif comment.find(\"言語間\") >=0:\n",
    "        return \"interwiki link cleanup\"\n",
    "        \n",
    "    elif comment_lower.find(\"interproyecto\") >=0:\n",
    "        return \"interwiki link cleanup\"    \n",
    "        \n",
    "    elif comment.find(\"语言链接\") >=0:\n",
    "        return \"interwiki link cleanup\"  \n",
    "    \n",
    "    elif comment.find(\"双重重定向\") >=0 or comment.find(\"雙重重定向\") >= 0:\n",
    "        return \"fixing double redirect\"   \n",
    "\n",
    "    elif comment.find(\"二重リダイレクト\") >=0:\n",
    "        return \"fixing double redirect\"  \n",
    "    \n",
    "    elif comment_lower.find(\"doppelten redirect\") >=0:\n",
    "        return \"fixing double redirect\"  \n",
    "    \n",
    "    elif comment_lower.find(\"doppelte weiterleitung\") >=0:\n",
    "        return \"fixing double redirect\"      \n",
    "    \n",
    "    elif comment_lower.find(\"redirectauflösung\") >=0:\n",
    "        return \"fixing double redirect\"      \n",
    "    \n",
    "    elif comment_lower.find(\"doble redirección\") >=0 or comment_lower.find(\"redirección doble\") >= 0:\n",
    "        return \"fixing double redirect\"  \n",
    "    \n",
    "    elif comment_lower.find(\"redireccionamento duplo\") >=0:\n",
    "        return \"fixing double redirect\"  \n",
    "\n",
    "    elif comment_lower.find(\"duplo redirecionamento\") >=0:\n",
    "        return \"fixing double redirect\"      \n",
    "    \n",
    "    elif comment_lower.find(\"suppression bandeau\") >= 0:\n",
    "        return \"template cleanup\"\n",
    "    \n",
    "    elif comment_lower.find(\"archiviert\") >= 0:\n",
    "        return \"archiving\"\n",
    "    \n",
    "    else:\n",
    "        return interwiki_confirm(comment, langcode)"
   ]
  },
  {
   "cell_type": "markdown",
   "metadata": {},
   "source": [
    "Testing interwiki confirm"
   ]
  },
  {
   "cell_type": "code",
   "execution_count": 24,
   "metadata": {},
   "outputs": [
    {
     "name": "stdout",
     "output_type": "stream",
     "text": [
      "Should return interwiki link cleanup -- suspected\n",
      "\t interwiki link cleanup -- suspected\n",
      "\t interwiki link cleanup -- suspected\n",
      "\t interwiki link cleanup -- suspected\n",
      "\t interwiki link cleanup -- suspected\n",
      "\t interwiki link cleanup -- suspected\n",
      "\t interwiki link cleanup -- suspected\n",
      "Should return other\n",
      "\t other\n",
      "\t other\n",
      "\t other\n",
      "\t other\n",
      "\t other\n",
      "\t other\n",
      "\t other\n",
      "\t other\n"
     ]
    }
   ],
   "source": [
    "tests_yes = [\"Robot adding [[es:Test]]\",\n",
    "             \"adding es:Test\",\n",
    "             \"linking es, it, en\",\n",
    "             \"modifying fr:\",\n",
    "             \"modifying:zh\",\n",
    "             \"modifying: ja\"]\n",
    "\n",
    "tests_no = [\"test\", \n",
    "            \"discuss policies on enwiki vs eswiki\", \n",
    "            \"it is done\", \n",
    "            \"per [[en:WP:AIV]]\",\n",
    "            \"it's not its\", \n",
    "            \"its not it's\",\n",
    "            \"modifying it all\",\n",
    "            \"modifying italy\"]\n",
    "\n",
    "print(\"Should return interwiki link cleanup -- suspected\")\n",
    "for test in tests_yes:\n",
    "    print(\"\\t\", interwiki_confirm(test, 'en'))\n",
    "\n",
    "print(\"Should return other\")\n",
    "for test in tests_no:\n",
    "    print(\"\\t\", interwiki_confirm(test, 'en'))"
   ]
  },
  {
   "cell_type": "markdown",
   "metadata": {},
   "source": [
    "Apply categorization"
   ]
  },
  {
   "cell_type": "code",
   "execution_count": 25,
   "metadata": {},
   "outputs": [
    {
     "name": "stdout",
     "output_type": "stream",
     "text": [
      "CPU times: user 7min 23s, sys: 5.94 s, total: 7min 29s\n",
      "Wall time: 7min 29s\n"
     ]
    }
   ],
   "source": [
    "%%time\n",
    "df_all['bottype'] = df_all.apply(comment_categorization, axis=1)"
   ]
  },
  {
   "cell_type": "markdown",
   "metadata": {},
   "source": [
    "## Analysis"
   ]
  },
  {
   "cell_type": "markdown",
   "metadata": {},
   "source": [
    "Much of what we're interested in are articles, which are in namespace 0. "
   ]
  },
  {
   "cell_type": "code",
   "execution_count": 26,
   "metadata": {
    "collapsed": true
   },
   "outputs": [],
   "source": [
    "df_all_ns0 = df_all[df_all['page_namespace']==0]"
   ]
  },
  {
   "cell_type": "markdown",
   "metadata": {
    "collapsed": true
   },
   "source": [
    "### Bottype counts and percentages across all languages in the dataset, articles only"
   ]
  },
  {
   "cell_type": "code",
   "execution_count": 27,
   "metadata": {},
   "outputs": [
    {
     "data": {
      "text/html": [
       "<div>\n",
       "<table border=\"1\" class=\"dataframe\">\n",
       "  <thead>\n",
       "    <tr style=\"text-align: right;\">\n",
       "      <th></th>\n",
       "      <th>count</th>\n",
       "      <th>percent</th>\n",
       "    </tr>\n",
       "  </thead>\n",
       "  <tbody>\n",
       "    <tr>\n",
       "      <th>interwiki link cleanup -- suspected</th>\n",
       "      <td>488984</td>\n",
       "      <td>43.57%</td>\n",
       "    </tr>\n",
       "    <tr>\n",
       "      <th>interwiki link cleanup</th>\n",
       "      <td>327372</td>\n",
       "      <td>29.17%</td>\n",
       "    </tr>\n",
       "    <tr>\n",
       "      <th>fixing double redirect</th>\n",
       "      <td>259022</td>\n",
       "      <td>23.08%</td>\n",
       "    </tr>\n",
       "    <tr>\n",
       "      <th>other</th>\n",
       "      <td>20170</td>\n",
       "      <td>1.8%</td>\n",
       "    </tr>\n",
       "    <tr>\n",
       "      <th>protection template cleanup</th>\n",
       "      <td>5686</td>\n",
       "      <td>0.51%</td>\n",
       "    </tr>\n",
       "    <tr>\n",
       "      <th>moving category</th>\n",
       "      <td>5230</td>\n",
       "      <td>0.47%</td>\n",
       "    </tr>\n",
       "    <tr>\n",
       "      <th>other w/ revert in comment</th>\n",
       "      <td>4852</td>\n",
       "      <td>0.43%</td>\n",
       "    </tr>\n",
       "    <tr>\n",
       "      <th>category redirect cleanup</th>\n",
       "      <td>3046</td>\n",
       "      <td>0.27%</td>\n",
       "    </tr>\n",
       "    <tr>\n",
       "      <th>template cleanup</th>\n",
       "      <td>2596</td>\n",
       "      <td>0.23%</td>\n",
       "    </tr>\n",
       "    <tr>\n",
       "      <th>has per justification</th>\n",
       "      <td>1934</td>\n",
       "      <td>0.17%</td>\n",
       "    </tr>\n",
       "    <tr>\n",
       "      <th>mathbot mathlist updates</th>\n",
       "      <td>1028</td>\n",
       "      <td>0.09%</td>\n",
       "    </tr>\n",
       "    <tr>\n",
       "      <th>botfight: Cyberbot II vs AnomieBOT date tagging</th>\n",
       "      <td>602</td>\n",
       "      <td>0.05%</td>\n",
       "    </tr>\n",
       "    <tr>\n",
       "      <th>redirect tagging/sorting</th>\n",
       "      <td>594</td>\n",
       "      <td>0.05%</td>\n",
       "    </tr>\n",
       "    <tr>\n",
       "      <th>botfight: reverting CommonsDelinker</th>\n",
       "      <td>514</td>\n",
       "      <td>0.05%</td>\n",
       "    </tr>\n",
       "    <tr>\n",
       "      <th>botfight: 718bot vs ImageRemovalBot</th>\n",
       "      <td>342</td>\n",
       "      <td>0.03%</td>\n",
       "    </tr>\n",
       "    <tr>\n",
       "      <th>botfight: infoboxneeded</th>\n",
       "      <td>196</td>\n",
       "      <td>0.02%</td>\n",
       "    </tr>\n",
       "    <tr>\n",
       "      <th>link syntax fixing</th>\n",
       "      <td>160</td>\n",
       "      <td>0.01%</td>\n",
       "    </tr>\n",
       "    <tr>\n",
       "      <th>template tagging</th>\n",
       "      <td>48</td>\n",
       "      <td>0.0%</td>\n",
       "    </tr>\n",
       "    <tr>\n",
       "      <th>clearing sandbox</th>\n",
       "      <td>10</td>\n",
       "      <td>0.0%</td>\n",
       "    </tr>\n",
       "    <tr>\n",
       "      <th>commons image migration</th>\n",
       "      <td>6</td>\n",
       "      <td>0.0%</td>\n",
       "    </tr>\n",
       "  </tbody>\n",
       "</table>\n",
       "</div>"
      ],
      "text/plain": [
       "                                                  count percent\n",
       "interwiki link cleanup -- suspected              488984  43.57%\n",
       "interwiki link cleanup                           327372  29.17%\n",
       "fixing double redirect                           259022  23.08%\n",
       "other                                             20170    1.8%\n",
       "protection template cleanup                        5686   0.51%\n",
       "moving category                                    5230   0.47%\n",
       "other w/ revert in comment                         4852   0.43%\n",
       "category redirect cleanup                          3046   0.27%\n",
       "template cleanup                                   2596   0.23%\n",
       "has per justification                              1934   0.17%\n",
       "mathbot mathlist updates                           1028   0.09%\n",
       "botfight: Cyberbot II vs AnomieBOT date tagging     602   0.05%\n",
       "redirect tagging/sorting                            594   0.05%\n",
       "botfight: reverting CommonsDelinker                 514   0.05%\n",
       "botfight: 718bot vs ImageRemovalBot                 342   0.03%\n",
       "botfight: infoboxneeded                             196   0.02%\n",
       "link syntax fixing                                  160   0.01%\n",
       "template tagging                                     48    0.0%\n",
       "clearing sandbox                                     10    0.0%\n",
       "commons image migration                               6    0.0%"
      ]
     },
     "execution_count": 27,
     "metadata": {},
     "output_type": "execute_result"
    }
   ],
   "source": [
    "type_counts = df_all_ns0['bottype'].value_counts().rename(\"count\")\n",
    "type_percent = df_all_ns0['bottype'].value_counts(normalize=True).rename(\"percent\") * 100\n",
    "type_percent = type_percent.round(2).astype(str) + \"%\"\n",
    "\n",
    "pd.concat([type_counts, type_percent], axis=1)"
   ]
  },
  {
   "cell_type": "markdown",
   "metadata": {},
   "source": [
    "### Bottype counts and percentages for each language, articles only"
   ]
  },
  {
   "cell_type": "code",
   "execution_count": 28,
   "metadata": {
    "collapsed": true
   },
   "outputs": [],
   "source": [
    "counts_dict = {}\n",
    "for lang in df_all_ns0['language'].unique():\n",
    "\n",
    "    df_lang_ns0 = df_all_ns0[df_all_ns0['language']==lang]\n",
    "    \n",
    "    type_counts = df_lang_ns0['bottype'].value_counts().rename(\"count\")\n",
    "    type_percent = df_lang_ns0['bottype'].value_counts(normalize=True).rename(\"percent\") * 100\n",
    "    type_percent = type_percent.round(2).astype(str) + \"%\"\n",
    "\n",
    "    counts_dict[lang]=pd.concat([type_counts, type_percent], axis=1)"
   ]
  },
  {
   "cell_type": "code",
   "execution_count": 29,
   "metadata": {},
   "outputs": [
    {
     "data": {
      "text/plain": [
       "array(['de', 'es', 'ja', 'zh', 'pt', 'en', 'fr'], dtype=object)"
      ]
     },
     "execution_count": 29,
     "metadata": {},
     "output_type": "execute_result"
    }
   ],
   "source": [
    "df_all_ns0['language'].unique()"
   ]
  },
  {
   "cell_type": "code",
   "execution_count": 30,
   "metadata": {},
   "outputs": [
    {
     "data": {
      "text/html": [
       "<div>\n",
       "<table border=\"1\" class=\"dataframe\">\n",
       "  <thead>\n",
       "    <tr style=\"text-align: right;\">\n",
       "      <th></th>\n",
       "      <th>count</th>\n",
       "      <th>percent</th>\n",
       "    </tr>\n",
       "  </thead>\n",
       "  <tbody>\n",
       "    <tr>\n",
       "      <th>fixing double redirect</th>\n",
       "      <td>220172</td>\n",
       "      <td>45.04%</td>\n",
       "    </tr>\n",
       "    <tr>\n",
       "      <th>interwiki link cleanup</th>\n",
       "      <td>168236</td>\n",
       "      <td>34.42%</td>\n",
       "    </tr>\n",
       "    <tr>\n",
       "      <th>interwiki link cleanup -- suspected</th>\n",
       "      <td>74204</td>\n",
       "      <td>15.18%</td>\n",
       "    </tr>\n",
       "    <tr>\n",
       "      <th>protection template cleanup</th>\n",
       "      <td>5674</td>\n",
       "      <td>1.16%</td>\n",
       "    </tr>\n",
       "    <tr>\n",
       "      <th>moving category</th>\n",
       "      <td>4672</td>\n",
       "      <td>0.96%</td>\n",
       "    </tr>\n",
       "    <tr>\n",
       "      <th>other</th>\n",
       "      <td>4530</td>\n",
       "      <td>0.93%</td>\n",
       "    </tr>\n",
       "    <tr>\n",
       "      <th>category redirect cleanup</th>\n",
       "      <td>2824</td>\n",
       "      <td>0.58%</td>\n",
       "    </tr>\n",
       "    <tr>\n",
       "      <th>template cleanup</th>\n",
       "      <td>2318</td>\n",
       "      <td>0.47%</td>\n",
       "    </tr>\n",
       "    <tr>\n",
       "      <th>other w/ revert in comment</th>\n",
       "      <td>2014</td>\n",
       "      <td>0.41%</td>\n",
       "    </tr>\n",
       "    <tr>\n",
       "      <th>mathbot mathlist updates</th>\n",
       "      <td>1028</td>\n",
       "      <td>0.21%</td>\n",
       "    </tr>\n",
       "    <tr>\n",
       "      <th>has per justification</th>\n",
       "      <td>716</td>\n",
       "      <td>0.15%</td>\n",
       "    </tr>\n",
       "    <tr>\n",
       "      <th>botfight: Cyberbot II vs AnomieBOT date tagging</th>\n",
       "      <td>602</td>\n",
       "      <td>0.12%</td>\n",
       "    </tr>\n",
       "    <tr>\n",
       "      <th>redirect tagging/sorting</th>\n",
       "      <td>594</td>\n",
       "      <td>0.12%</td>\n",
       "    </tr>\n",
       "    <tr>\n",
       "      <th>botfight: reverting CommonsDelinker</th>\n",
       "      <td>460</td>\n",
       "      <td>0.09%</td>\n",
       "    </tr>\n",
       "    <tr>\n",
       "      <th>botfight: 718bot vs ImageRemovalBot</th>\n",
       "      <td>340</td>\n",
       "      <td>0.07%</td>\n",
       "    </tr>\n",
       "    <tr>\n",
       "      <th>botfight: infoboxneeded</th>\n",
       "      <td>196</td>\n",
       "      <td>0.04%</td>\n",
       "    </tr>\n",
       "    <tr>\n",
       "      <th>link syntax fixing</th>\n",
       "      <td>160</td>\n",
       "      <td>0.03%</td>\n",
       "    </tr>\n",
       "    <tr>\n",
       "      <th>template tagging</th>\n",
       "      <td>48</td>\n",
       "      <td>0.01%</td>\n",
       "    </tr>\n",
       "    <tr>\n",
       "      <th>commons image migration</th>\n",
       "      <td>6</td>\n",
       "      <td>0.0%</td>\n",
       "    </tr>\n",
       "    <tr>\n",
       "      <th>clearing sandbox</th>\n",
       "      <td>2</td>\n",
       "      <td>0.0%</td>\n",
       "    </tr>\n",
       "  </tbody>\n",
       "</table>\n",
       "</div>"
      ],
      "text/plain": [
       "                                                  count percent\n",
       "fixing double redirect                           220172  45.04%\n",
       "interwiki link cleanup                           168236  34.42%\n",
       "interwiki link cleanup -- suspected               74204  15.18%\n",
       "protection template cleanup                        5674   1.16%\n",
       "moving category                                    4672   0.96%\n",
       "other                                              4530   0.93%\n",
       "category redirect cleanup                          2824   0.58%\n",
       "template cleanup                                   2318   0.47%\n",
       "other w/ revert in comment                         2014   0.41%\n",
       "mathbot mathlist updates                           1028   0.21%\n",
       "has per justification                               716   0.15%\n",
       "botfight: Cyberbot II vs AnomieBOT date tagging     602   0.12%\n",
       "redirect tagging/sorting                            594   0.12%\n",
       "botfight: reverting CommonsDelinker                 460   0.09%\n",
       "botfight: 718bot vs ImageRemovalBot                 340   0.07%\n",
       "botfight: infoboxneeded                             196   0.04%\n",
       "link syntax fixing                                  160   0.03%\n",
       "template tagging                                     48   0.01%\n",
       "commons image migration                               6    0.0%\n",
       "clearing sandbox                                      2    0.0%"
      ]
     },
     "execution_count": 30,
     "metadata": {},
     "output_type": "execute_result"
    }
   ],
   "source": [
    "counts_dict['en']"
   ]
  },
  {
   "cell_type": "code",
   "execution_count": 31,
   "metadata": {},
   "outputs": [
    {
     "data": {
      "text/html": [
       "<div>\n",
       "<table border=\"1\" class=\"dataframe\">\n",
       "  <thead>\n",
       "    <tr style=\"text-align: right;\">\n",
       "      <th></th>\n",
       "      <th>count</th>\n",
       "      <th>percent</th>\n",
       "    </tr>\n",
       "  </thead>\n",
       "  <tbody>\n",
       "    <tr>\n",
       "      <th>interwiki link cleanup -- suspected</th>\n",
       "      <td>55262</td>\n",
       "      <td>79.85%</td>\n",
       "    </tr>\n",
       "    <tr>\n",
       "      <th>interwiki link cleanup</th>\n",
       "      <td>11488</td>\n",
       "      <td>16.6%</td>\n",
       "    </tr>\n",
       "    <tr>\n",
       "      <th>other</th>\n",
       "      <td>1832</td>\n",
       "      <td>2.65%</td>\n",
       "    </tr>\n",
       "    <tr>\n",
       "      <th>fixing double redirect</th>\n",
       "      <td>588</td>\n",
       "      <td>0.85%</td>\n",
       "    </tr>\n",
       "    <tr>\n",
       "      <th>other w/ revert in comment</th>\n",
       "      <td>24</td>\n",
       "      <td>0.03%</td>\n",
       "    </tr>\n",
       "    <tr>\n",
       "      <th>has per justification</th>\n",
       "      <td>14</td>\n",
       "      <td>0.02%</td>\n",
       "    </tr>\n",
       "  </tbody>\n",
       "</table>\n",
       "</div>"
      ],
      "text/plain": [
       "                                     count percent\n",
       "interwiki link cleanup -- suspected  55262  79.85%\n",
       "interwiki link cleanup               11488   16.6%\n",
       "other                                 1832   2.65%\n",
       "fixing double redirect                 588   0.85%\n",
       "other w/ revert in comment              24   0.03%\n",
       "has per justification                   14   0.02%"
      ]
     },
     "execution_count": 31,
     "metadata": {},
     "output_type": "execute_result"
    }
   ],
   "source": [
    "counts_dict['ja']"
   ]
  },
  {
   "cell_type": "code",
   "execution_count": 32,
   "metadata": {},
   "outputs": [
    {
     "data": {
      "text/html": [
       "<div>\n",
       "<table border=\"1\" class=\"dataframe\">\n",
       "  <thead>\n",
       "    <tr style=\"text-align: right;\">\n",
       "      <th></th>\n",
       "      <th>count</th>\n",
       "      <th>percent</th>\n",
       "    </tr>\n",
       "  </thead>\n",
       "  <tbody>\n",
       "    <tr>\n",
       "      <th>interwiki link cleanup -- suspected</th>\n",
       "      <td>47298</td>\n",
       "      <td>54.98%</td>\n",
       "    </tr>\n",
       "    <tr>\n",
       "      <th>interwiki link cleanup</th>\n",
       "      <td>30298</td>\n",
       "      <td>35.22%</td>\n",
       "    </tr>\n",
       "    <tr>\n",
       "      <th>fixing double redirect</th>\n",
       "      <td>7268</td>\n",
       "      <td>8.45%</td>\n",
       "    </tr>\n",
       "    <tr>\n",
       "      <th>other</th>\n",
       "      <td>634</td>\n",
       "      <td>0.74%</td>\n",
       "    </tr>\n",
       "    <tr>\n",
       "      <th>other w/ revert in comment</th>\n",
       "      <td>514</td>\n",
       "      <td>0.6%</td>\n",
       "    </tr>\n",
       "    <tr>\n",
       "      <th>has per justification</th>\n",
       "      <td>12</td>\n",
       "      <td>0.01%</td>\n",
       "    </tr>\n",
       "    <tr>\n",
       "      <th>botfight: reverting CommonsDelinker</th>\n",
       "      <td>6</td>\n",
       "      <td>0.01%</td>\n",
       "    </tr>\n",
       "  </tbody>\n",
       "</table>\n",
       "</div>"
      ],
      "text/plain": [
       "                                     count percent\n",
       "interwiki link cleanup -- suspected  47298  54.98%\n",
       "interwiki link cleanup               30298  35.22%\n",
       "fixing double redirect                7268   8.45%\n",
       "other                                  634   0.74%\n",
       "other w/ revert in comment             514    0.6%\n",
       "has per justification                   12   0.01%\n",
       "botfight: reverting CommonsDelinker      6   0.01%"
      ]
     },
     "execution_count": 32,
     "metadata": {},
     "output_type": "execute_result"
    }
   ],
   "source": [
    "counts_dict['zh']"
   ]
  },
  {
   "cell_type": "code",
   "execution_count": 33,
   "metadata": {},
   "outputs": [
    {
     "data": {
      "text/html": [
       "<div>\n",
       "<table border=\"1\" class=\"dataframe\">\n",
       "  <thead>\n",
       "    <tr style=\"text-align: right;\">\n",
       "      <th></th>\n",
       "      <th>count</th>\n",
       "      <th>percent</th>\n",
       "    </tr>\n",
       "  </thead>\n",
       "  <tbody>\n",
       "    <tr>\n",
       "      <th>interwiki link cleanup -- suspected</th>\n",
       "      <td>71062</td>\n",
       "      <td>64.71%</td>\n",
       "    </tr>\n",
       "    <tr>\n",
       "      <th>interwiki link cleanup</th>\n",
       "      <td>33898</td>\n",
       "      <td>30.87%</td>\n",
       "    </tr>\n",
       "    <tr>\n",
       "      <th>other</th>\n",
       "      <td>2758</td>\n",
       "      <td>2.51%</td>\n",
       "    </tr>\n",
       "    <tr>\n",
       "      <th>fixing double redirect</th>\n",
       "      <td>1972</td>\n",
       "      <td>1.8%</td>\n",
       "    </tr>\n",
       "    <tr>\n",
       "      <th>other w/ revert in comment</th>\n",
       "      <td>44</td>\n",
       "      <td>0.04%</td>\n",
       "    </tr>\n",
       "    <tr>\n",
       "      <th>moving category</th>\n",
       "      <td>20</td>\n",
       "      <td>0.02%</td>\n",
       "    </tr>\n",
       "    <tr>\n",
       "      <th>has per justification</th>\n",
       "      <td>20</td>\n",
       "      <td>0.02%</td>\n",
       "    </tr>\n",
       "    <tr>\n",
       "      <th>protection template cleanup</th>\n",
       "      <td>12</td>\n",
       "      <td>0.01%</td>\n",
       "    </tr>\n",
       "    <tr>\n",
       "      <th>template cleanup</th>\n",
       "      <td>10</td>\n",
       "      <td>0.01%</td>\n",
       "    </tr>\n",
       "    <tr>\n",
       "      <th>botfight: reverting CommonsDelinker</th>\n",
       "      <td>10</td>\n",
       "      <td>0.01%</td>\n",
       "    </tr>\n",
       "    <tr>\n",
       "      <th>category redirect cleanup</th>\n",
       "      <td>10</td>\n",
       "      <td>0.01%</td>\n",
       "    </tr>\n",
       "    <tr>\n",
       "      <th>botfight: 718bot vs ImageRemovalBot</th>\n",
       "      <td>2</td>\n",
       "      <td>0.0%</td>\n",
       "    </tr>\n",
       "  </tbody>\n",
       "</table>\n",
       "</div>"
      ],
      "text/plain": [
       "                                     count percent\n",
       "interwiki link cleanup -- suspected  71062  64.71%\n",
       "interwiki link cleanup               33898  30.87%\n",
       "other                                 2758   2.51%\n",
       "fixing double redirect                1972    1.8%\n",
       "other w/ revert in comment              44   0.04%\n",
       "moving category                         20   0.02%\n",
       "has per justification                   20   0.02%\n",
       "protection template cleanup             12   0.01%\n",
       "template cleanup                        10   0.01%\n",
       "botfight: reverting CommonsDelinker     10   0.01%\n",
       "category redirect cleanup               10   0.01%\n",
       "botfight: 718bot vs ImageRemovalBot      2    0.0%"
      ]
     },
     "execution_count": 33,
     "metadata": {},
     "output_type": "execute_result"
    }
   ],
   "source": [
    "counts_dict['de']"
   ]
  },
  {
   "cell_type": "code",
   "execution_count": 34,
   "metadata": {},
   "outputs": [
    {
     "data": {
      "text/html": [
       "<div>\n",
       "<table border=\"1\" class=\"dataframe\">\n",
       "  <thead>\n",
       "    <tr style=\"text-align: right;\">\n",
       "      <th></th>\n",
       "      <th>count</th>\n",
       "      <th>percent</th>\n",
       "    </tr>\n",
       "  </thead>\n",
       "  <tbody>\n",
       "    <tr>\n",
       "      <th>interwiki link cleanup -- suspected</th>\n",
       "      <td>82330</td>\n",
       "      <td>73.18%</td>\n",
       "    </tr>\n",
       "    <tr>\n",
       "      <th>interwiki link cleanup</th>\n",
       "      <td>20188</td>\n",
       "      <td>17.94%</td>\n",
       "    </tr>\n",
       "    <tr>\n",
       "      <th>fixing double redirect</th>\n",
       "      <td>6592</td>\n",
       "      <td>5.86%</td>\n",
       "    </tr>\n",
       "    <tr>\n",
       "      <th>other</th>\n",
       "      <td>2052</td>\n",
       "      <td>1.82%</td>\n",
       "    </tr>\n",
       "    <tr>\n",
       "      <th>has per justification</th>\n",
       "      <td>796</td>\n",
       "      <td>0.71%</td>\n",
       "    </tr>\n",
       "    <tr>\n",
       "      <th>moving category</th>\n",
       "      <td>538</td>\n",
       "      <td>0.48%</td>\n",
       "    </tr>\n",
       "    <tr>\n",
       "      <th>other w/ revert in comment</th>\n",
       "      <td>6</td>\n",
       "      <td>0.01%</td>\n",
       "    </tr>\n",
       "    <tr>\n",
       "      <th>clearing sandbox</th>\n",
       "      <td>4</td>\n",
       "      <td>0.0%</td>\n",
       "    </tr>\n",
       "    <tr>\n",
       "      <th>botfight: reverting CommonsDelinker</th>\n",
       "      <td>4</td>\n",
       "      <td>0.0%</td>\n",
       "    </tr>\n",
       "  </tbody>\n",
       "</table>\n",
       "</div>"
      ],
      "text/plain": [
       "                                     count percent\n",
       "interwiki link cleanup -- suspected  82330  73.18%\n",
       "interwiki link cleanup               20188  17.94%\n",
       "fixing double redirect                6592   5.86%\n",
       "other                                 2052   1.82%\n",
       "has per justification                  796   0.71%\n",
       "moving category                        538   0.48%\n",
       "other w/ revert in comment               6   0.01%\n",
       "clearing sandbox                         4    0.0%\n",
       "botfight: reverting CommonsDelinker      4    0.0%"
      ]
     },
     "execution_count": 34,
     "metadata": {},
     "output_type": "execute_result"
    }
   ],
   "source": [
    "counts_dict['fr']"
   ]
  },
  {
   "cell_type": "code",
   "execution_count": 35,
   "metadata": {},
   "outputs": [
    {
     "data": {
      "text/html": [
       "<div>\n",
       "<table border=\"1\" class=\"dataframe\">\n",
       "  <thead>\n",
       "    <tr style=\"text-align: right;\">\n",
       "      <th></th>\n",
       "      <th>count</th>\n",
       "      <th>percent</th>\n",
       "    </tr>\n",
       "  </thead>\n",
       "  <tbody>\n",
       "    <tr>\n",
       "      <th>interwiki link cleanup -- suspected</th>\n",
       "      <td>83176</td>\n",
       "      <td>69.27%</td>\n",
       "    </tr>\n",
       "    <tr>\n",
       "      <th>interwiki link cleanup</th>\n",
       "      <td>29964</td>\n",
       "      <td>24.96%</td>\n",
       "    </tr>\n",
       "    <tr>\n",
       "      <th>fixing double redirect</th>\n",
       "      <td>3816</td>\n",
       "      <td>3.18%</td>\n",
       "    </tr>\n",
       "    <tr>\n",
       "      <th>other</th>\n",
       "      <td>2986</td>\n",
       "      <td>2.49%</td>\n",
       "    </tr>\n",
       "    <tr>\n",
       "      <th>has per justification</th>\n",
       "      <td>72</td>\n",
       "      <td>0.06%</td>\n",
       "    </tr>\n",
       "    <tr>\n",
       "      <th>other w/ revert in comment</th>\n",
       "      <td>52</td>\n",
       "      <td>0.04%</td>\n",
       "    </tr>\n",
       "    <tr>\n",
       "      <th>clearing sandbox</th>\n",
       "      <td>2</td>\n",
       "      <td>0.0%</td>\n",
       "    </tr>\n",
       "    <tr>\n",
       "      <th>botfight: reverting CommonsDelinker</th>\n",
       "      <td>2</td>\n",
       "      <td>0.0%</td>\n",
       "    </tr>\n",
       "  </tbody>\n",
       "</table>\n",
       "</div>"
      ],
      "text/plain": [
       "                                     count percent\n",
       "interwiki link cleanup -- suspected  83176  69.27%\n",
       "interwiki link cleanup               29964  24.96%\n",
       "fixing double redirect                3816   3.18%\n",
       "other                                 2986   2.49%\n",
       "has per justification                   72   0.06%\n",
       "other w/ revert in comment              52   0.04%\n",
       "clearing sandbox                         2    0.0%\n",
       "botfight: reverting CommonsDelinker      2    0.0%"
      ]
     },
     "execution_count": 35,
     "metadata": {},
     "output_type": "execute_result"
    }
   ],
   "source": [
    "counts_dict['pt']"
   ]
  },
  {
   "cell_type": "code",
   "execution_count": 36,
   "metadata": {},
   "outputs": [
    {
     "data": {
      "text/html": [
       "<div>\n",
       "<table border=\"1\" class=\"dataframe\">\n",
       "  <thead>\n",
       "    <tr style=\"text-align: right;\">\n",
       "      <th></th>\n",
       "      <th>count</th>\n",
       "      <th>percent</th>\n",
       "    </tr>\n",
       "  </thead>\n",
       "  <tbody>\n",
       "    <tr>\n",
       "      <th>interwiki link cleanup -- suspected</th>\n",
       "      <td>75652</td>\n",
       "      <td>55.64%</td>\n",
       "    </tr>\n",
       "    <tr>\n",
       "      <th>interwiki link cleanup</th>\n",
       "      <td>33300</td>\n",
       "      <td>24.49%</td>\n",
       "    </tr>\n",
       "    <tr>\n",
       "      <th>fixing double redirect</th>\n",
       "      <td>18614</td>\n",
       "      <td>13.69%</td>\n",
       "    </tr>\n",
       "    <tr>\n",
       "      <th>other</th>\n",
       "      <td>5378</td>\n",
       "      <td>3.96%</td>\n",
       "    </tr>\n",
       "    <tr>\n",
       "      <th>other w/ revert in comment</th>\n",
       "      <td>2198</td>\n",
       "      <td>1.62%</td>\n",
       "    </tr>\n",
       "    <tr>\n",
       "      <th>has per justification</th>\n",
       "      <td>304</td>\n",
       "      <td>0.22%</td>\n",
       "    </tr>\n",
       "    <tr>\n",
       "      <th>template cleanup</th>\n",
       "      <td>268</td>\n",
       "      <td>0.2%</td>\n",
       "    </tr>\n",
       "    <tr>\n",
       "      <th>category redirect cleanup</th>\n",
       "      <td>212</td>\n",
       "      <td>0.16%</td>\n",
       "    </tr>\n",
       "    <tr>\n",
       "      <th>botfight: reverting CommonsDelinker</th>\n",
       "      <td>32</td>\n",
       "      <td>0.02%</td>\n",
       "    </tr>\n",
       "    <tr>\n",
       "      <th>clearing sandbox</th>\n",
       "      <td>2</td>\n",
       "      <td>0.0%</td>\n",
       "    </tr>\n",
       "  </tbody>\n",
       "</table>\n",
       "</div>"
      ],
      "text/plain": [
       "                                     count percent\n",
       "interwiki link cleanup -- suspected  75652  55.64%\n",
       "interwiki link cleanup               33300  24.49%\n",
       "fixing double redirect               18614  13.69%\n",
       "other                                 5378   3.96%\n",
       "other w/ revert in comment            2198   1.62%\n",
       "has per justification                  304   0.22%\n",
       "template cleanup                       268    0.2%\n",
       "category redirect cleanup              212   0.16%\n",
       "botfight: reverting CommonsDelinker     32   0.02%\n",
       "clearing sandbox                         2    0.0%"
      ]
     },
     "execution_count": 36,
     "metadata": {},
     "output_type": "execute_result"
    }
   ],
   "source": [
    "counts_dict['es']"
   ]
  },
  {
   "cell_type": "code",
   "execution_count": 37,
   "metadata": {},
   "outputs": [
    {
     "name": "stdout",
     "output_type": "stream",
     "text": [
      "Requirement already satisfied: mwapi in /home/staeiou/anaconda3/lib/python3.6/site-packages\r\n",
      "Requirement already satisfied: requests in /home/staeiou/anaconda3/lib/python3.6/site-packages (from mwapi)\r\n"
     ]
    }
   ],
   "source": [
    "!pip install mwapi"
   ]
  },
  {
   "cell_type": "markdown",
   "metadata": {},
   "source": [
    "### Validation of interwiki category by diffs"
   ]
  },
  {
   "cell_type": "code",
   "execution_count": 38,
   "metadata": {
    "collapsed": true
   },
   "outputs": [],
   "source": [
    "import mwapi\n",
    "import difflib\n",
    "\n",
    "session = mwapi.Session('https://en.wikipedia.org', user_agent=\"Research script by User:Staeiou\")"
   ]
  },
  {
   "cell_type": "code",
   "execution_count": 39,
   "metadata": {
    "collapsed": true
   },
   "outputs": [],
   "source": [
    "def get_revision(rev_id):\n",
    "    \n",
    "    try:\n",
    "        rev_get = session.get(action='query', prop='revisions', rvprop=\"content\", revids=rev_id)\n",
    "        rev_pages = rev_get['query']['pages']\n",
    "        for row in rev_pages.items():\n",
    "            return(row[1]['revisions'][0]['*'])\n",
    "    except:\n",
    "        return np.nan"
   ]
  },
  {
   "cell_type": "code",
   "execution_count": 40,
   "metadata": {
    "collapsed": true
   },
   "outputs": [],
   "source": [
    "def get_diff(row):\n",
    "    #print(row)\n",
    "    \n",
    "    try:\n",
    "        reverted_content = row['reverted_content'].split(\"\\n\")\n",
    "        reverting_content = row['reverting_content'].split(\"\\n\")\n",
    "\n",
    "        diff = difflib.unified_diff(reverted_content, reverting_content)\n",
    "\n",
    "        return '<br/>'.join(list(diff))\n",
    "    \n",
    "    except:\n",
    "        return np.nan\n",
    "      "
   ]
  },
  {
   "cell_type": "code",
   "execution_count": 41,
   "metadata": {
    "collapsed": true
   },
   "outputs": [],
   "source": [
    "def get_diff_api(row):\n",
    "    #print(row)\n",
    "    rev_id = row['rev_id']\n",
    "    reverting_id = row['reverting_id']\n",
    "    #print(rev_id, reverting_id)\n",
    "    rev_get = session.get(action='compare', fromrev=rev_id, torev=reverting_id)\n",
    "    #print(rev_get)\n",
    "    return rev_get['compare']['*']\n"
   ]
  },
  {
   "cell_type": "markdown",
   "metadata": {},
   "source": [
    "## Get sample for each bottype in en ns0"
   ]
  },
  {
   "cell_type": "code",
   "execution_count": 42,
   "metadata": {},
   "outputs": [
    {
     "data": {
      "text/plain": [
       "array(['moving category', 'interwiki link cleanup',\n",
       "       'interwiki link cleanup -- suspected', 'fixing double redirect',\n",
       "       'template cleanup', 'other', 'has per justification',\n",
       "       'category redirect cleanup', 'botfight: 718bot vs ImageRemovalBot',\n",
       "       'protection template cleanup', 'redirect tagging/sorting',\n",
       "       'other w/ revert in comment', 'template tagging',\n",
       "       'botfight: infoboxneeded', 'botfight: reverting CommonsDelinker',\n",
       "       'botfight: Cyberbot II vs AnomieBOT date tagging',\n",
       "       'commons image migration', 'clearing sandbox',\n",
       "       'mathbot mathlist updates', 'link syntax fixing'], dtype=object)"
      ]
     },
     "execution_count": 42,
     "metadata": {},
     "output_type": "execute_result"
    }
   ],
   "source": [
    "df_en_ns0 = df_all.query(\"language == 'en' and page_namespace == 0\")\n",
    "df_en_ns0['bottype'].unique()"
   ]
  },
  {
   "cell_type": "code",
   "execution_count": 43,
   "metadata": {},
   "outputs": [
    {
     "name": "stdout",
     "output_type": "stream",
     "text": [
      "moving category\n",
      "interwiki link cleanup\n",
      "interwiki link cleanup -- suspected\n",
      "fixing double redirect\n",
      "template cleanup\n",
      "other\n",
      "has per justification\n",
      "category redirect cleanup\n",
      "botfight: 718bot vs ImageRemovalBot\n",
      "protection template cleanup\n",
      "redirect tagging/sorting\n",
      "other w/ revert in comment\n",
      "template tagging\n"
     ]
    },
    {
     "name": "stderr",
     "output_type": "stream",
     "text": [
      "/home/staeiou/anaconda3/lib/python3.6/site-packages/ipykernel_launcher.py:14: SettingWithCopyWarning: \n",
      "A value is trying to be set on a copy of a slice from a DataFrame.\n",
      "Try using .loc[row_indexer,col_indexer] = value instead\n",
      "\n",
      "See the caveats in the documentation: http://pandas.pydata.org/pandas-docs/stable/indexing.html#indexing-view-versus-copy\n",
      "  \n",
      "/home/staeiou/anaconda3/lib/python3.6/site-packages/ipykernel_launcher.py:15: SettingWithCopyWarning: \n",
      "A value is trying to be set on a copy of a slice from a DataFrame.\n",
      "Try using .loc[row_indexer,col_indexer] = value instead\n",
      "\n",
      "See the caveats in the documentation: http://pandas.pydata.org/pandas-docs/stable/indexing.html#indexing-view-versus-copy\n",
      "  from ipykernel import kernelapp as app\n",
      "/home/staeiou/anaconda3/lib/python3.6/site-packages/ipykernel_launcher.py:17: SettingWithCopyWarning: \n",
      "A value is trying to be set on a copy of a slice from a DataFrame.\n",
      "Try using .loc[row_indexer,col_indexer] = value instead\n",
      "\n",
      "See the caveats in the documentation: http://pandas.pydata.org/pandas-docs/stable/indexing.html#indexing-view-versus-copy\n"
     ]
    },
    {
     "name": "stdout",
     "output_type": "stream",
     "text": [
      "botfight: infoboxneeded\n",
      "botfight: reverting CommonsDelinker\n",
      "botfight: Cyberbot II vs AnomieBOT date tagging\n",
      "commons image migration\n",
      "clearing sandbox\n",
      "mathbot mathlist updates\n",
      "link syntax fixing\n",
      "CPU times: user 2min 43s, sys: 3.22 s, total: 2min 47s\n",
      "Wall time: 37min 56s\n"
     ]
    }
   ],
   "source": [
    "%%time\n",
    "\n",
    "df_en_ns0_sample_dict = {}\n",
    "for bottype in df_en_ns0['bottype'].unique():\n",
    "    print(bottype)\n",
    "    type_df = df_en_ns0[df_en_ns0['bottype']==bottype]\n",
    "    \n",
    "    if len(type_df) > 5000:\n",
    "        type_df_sample = type_df.sample(round(len(type_df)/100))\n",
    "    elif len(type_df) > 100:\n",
    "        type_df_sample = type_df.sample(100)\n",
    "    else:\n",
    "        type_df_sample = type_df\n",
    "\n",
    "    type_df_sample['reverting_content'] = type_df_sample['reverting_id'].apply(get_revision)\n",
    "    type_df_sample['reverted_content'] = type_df_sample['rev_id'].apply(get_revision)\n",
    "\n",
    "    type_df_sample['diff'] = type_df_sample.apply(get_diff, axis=1)\n",
    "    \n",
    "    df_en_ns0_sample_dict[bottype] = type_df_sample"
   ]
  },
  {
   "cell_type": "code",
   "execution_count": 44,
   "metadata": {
    "collapsed": true
   },
   "outputs": [],
   "source": [
    "import pickle\n"
   ]
  },
  {
   "cell_type": "code",
   "execution_count": 45,
   "metadata": {
    "collapsed": true
   },
   "outputs": [],
   "source": [
    "\n",
    "with open(\"df_en_ns0_sample_dict.pickle\", \"wb\") as f: \n",
    "    pickle.dump(df_en_ns0_sample_dict, f)"
   ]
  },
  {
   "cell_type": "code",
   "execution_count": null,
   "metadata": {
    "collapsed": true
   },
   "outputs": [],
   "source": []
  },
  {
   "cell_type": "code",
   "execution_count": 46,
   "metadata": {
    "collapsed": true
   },
   "outputs": [],
   "source": [
    "pd.options.display.max_colwidth = -1\n"
   ]
  },
  {
   "cell_type": "code",
   "execution_count": null,
   "metadata": {
    "collapsed": true
   },
   "outputs": [],
   "source": []
  },
  {
   "cell_type": "code",
   "execution_count": 47,
   "metadata": {},
   "outputs": [
    {
     "name": "stdout",
     "output_type": "stream",
     "text": [
      "mkdir: cannot create directory ‘sample_tables/en/ns0’: File exists\r\n"
     ]
    }
   ],
   "source": [
    "!mkdir sample_tables/en/ns0"
   ]
  },
  {
   "cell_type": "code",
   "execution_count": 48,
   "metadata": {
    "collapsed": true
   },
   "outputs": [],
   "source": [
    "for bottype, bottype_df in df_en_ns0_sample_dict.items():\n",
    "    \n",
    "   \n",
    "    bottype_file = bottype.replace(\" \", \"_\")\n",
    "    bottype_file = bottype_file.replace(\"/\", \"_\")\n",
    "    filename = \"sample_tables/en/ns0/en_ns0_sample_\" + bottype_file + \".html\"\n",
    "    \n",
    "    bottype_df[['reverting_id','reverting_user_text',\n",
    "                             'rev_user_text',\n",
    "                             'reverting_comment',\n",
    "                             'diff']].to_html(filename, escape=False)\n",
    "    \n",
    "    with open(filename, 'r+') as f:\n",
    "        content = f.read()\n",
    "        f.seek(0, 0)\n",
    "        f.write(\"<a name='\" + bottype + \"'><h1>\" + bottype + \"</h1></a>\\r\\n\")\n",
    "        f.write(content)"
   ]
  },
  {
   "cell_type": "code",
   "execution_count": null,
   "metadata": {
    "collapsed": true
   },
   "outputs": [],
   "source": []
  },
  {
   "cell_type": "code",
   "execution_count": 49,
   "metadata": {
    "collapsed": true
   },
   "outputs": [],
   "source": [
    "!cat sample_tables/en/ns0/*.html > sample_tables/en/ns0/en_ns0_sample_all.html"
   ]
  },
  {
   "cell_type": "code",
   "execution_count": 50,
   "metadata": {
    "collapsed": true
   },
   "outputs": [],
   "source": [
    "with open(\"sample_tables/en/ns0/en_ns0_sample_all.html\", 'r+') as f:\n",
    "    content = f.read()\n",
    "    f.seek(0, 0)\n",
    "    f.write(\"<head><meta charset='UTF-8'></head>\\r\\n<body>\")\n",
    "    f.write(\"\"\"<style>\n",
    "                .dataframe {\n",
    "                    border:1px solid #C0C0C0;\n",
    "                    border-collapse:collapse;\n",
    "                    padding:5px;\n",
    "                    table-layout:fixed;\n",
    "                }\n",
    "                .dataframe th {\n",
    "                    border:1px solid #C0C0C0;\n",
    "                    padding:5px;\n",
    "                    background:#F0F0F0;\n",
    "                }\n",
    "                .dataframe td {\n",
    "                    border:1px solid #C0C0C0;\n",
    "                    padding:5px;\n",
    "                }\n",
    "            </style>\"\"\")\n",
    "    f.write(\"<table class='dataframe'>\")\n",
    "    f.write(\"<thead><tr><th>Bot type</th><th>Total count in enwiki ns0</th><th>Number of sample diffs</th>\")\n",
    "    \n",
    "    for bottype, bottype_df in df_en_ns0_sample_dict.items():\n",
    "        \n",
    "        len_df = str(len(df_en_ns0[df_en_ns0['bottype']==bottype]))\n",
    "        len_sample = str(len(bottype_df))\n",
    "        \n",
    "        toc_str = \"<tr><td><a href='#\" + bottype + \"'>\" + bottype + \"</a></td>\\r\\n\"\n",
    "        toc_str += \"<td>\" + len_df + \"</td>\"\n",
    "        toc_str += \"<td>\" + len_sample + \"</td></tr>\"\n",
    "        f.write(toc_str)\n",
    "    f.write(\"</table>\")\n",
    "    f.write(content)"
   ]
  },
  {
   "cell_type": "code",
   "execution_count": null,
   "metadata": {
    "collapsed": true
   },
   "outputs": [],
   "source": []
  },
  {
   "cell_type": "code",
   "execution_count": null,
   "metadata": {
    "collapsed": true
   },
   "outputs": [],
   "source": []
  },
  {
   "cell_type": "code",
   "execution_count": null,
   "metadata": {
    "collapsed": true
   },
   "outputs": [],
   "source": []
  },
  {
   "cell_type": "markdown",
   "metadata": {},
   "source": [
    "## Get sample for each bottype in fr ns0"
   ]
  },
  {
   "cell_type": "code",
   "execution_count": 51,
   "metadata": {},
   "outputs": [
    {
     "data": {
      "text/plain": [
       "array(['interwiki link cleanup -- suspected', 'interwiki link cleanup',\n",
       "       'other', 'has per justification', 'fixing double redirect',\n",
       "       'moving category', 'other w/ revert in comment',\n",
       "       'botfight: reverting CommonsDelinker', 'clearing sandbox'], dtype=object)"
      ]
     },
     "execution_count": 51,
     "metadata": {},
     "output_type": "execute_result"
    }
   ],
   "source": [
    "df_fr_ns0 = df_all.query(\"language == 'fr' and page_namespace == 0\")\n",
    "df_fr_ns0['bottype'].unique()"
   ]
  },
  {
   "cell_type": "code",
   "execution_count": 52,
   "metadata": {},
   "outputs": [
    {
     "name": "stdout",
     "output_type": "stream",
     "text": [
      "interwiki link cleanup -- suspected\n",
      "interwiki link cleanup\n",
      "other\n",
      "has per justification\n",
      "fixing double redirect\n",
      "moving category\n",
      "other w/ revert in comment\n"
     ]
    },
    {
     "name": "stderr",
     "output_type": "stream",
     "text": [
      "/home/staeiou/anaconda3/lib/python3.6/site-packages/ipykernel_launcher.py:14: SettingWithCopyWarning: \n",
      "A value is trying to be set on a copy of a slice from a DataFrame.\n",
      "Try using .loc[row_indexer,col_indexer] = value instead\n",
      "\n",
      "See the caveats in the documentation: http://pandas.pydata.org/pandas-docs/stable/indexing.html#indexing-view-versus-copy\n",
      "  \n",
      "/home/staeiou/anaconda3/lib/python3.6/site-packages/ipykernel_launcher.py:15: SettingWithCopyWarning: \n",
      "A value is trying to be set on a copy of a slice from a DataFrame.\n",
      "Try using .loc[row_indexer,col_indexer] = value instead\n",
      "\n",
      "See the caveats in the documentation: http://pandas.pydata.org/pandas-docs/stable/indexing.html#indexing-view-versus-copy\n",
      "  from ipykernel import kernelapp as app\n",
      "/home/staeiou/anaconda3/lib/python3.6/site-packages/ipykernel_launcher.py:17: SettingWithCopyWarning: \n",
      "A value is trying to be set on a copy of a slice from a DataFrame.\n",
      "Try using .loc[row_indexer,col_indexer] = value instead\n",
      "\n",
      "See the caveats in the documentation: http://pandas.pydata.org/pandas-docs/stable/indexing.html#indexing-view-versus-copy\n"
     ]
    },
    {
     "name": "stdout",
     "output_type": "stream",
     "text": [
      "botfight: reverting CommonsDelinker\n",
      "clearing sandbox\n",
      "CPU times: user 41.6 s, sys: 956 ms, total: 42.6 s\n",
      "Wall time: 8min 48s\n"
     ]
    }
   ],
   "source": [
    "%%time\n",
    "\n",
    "df_fr_ns0_sample_dict = {}\n",
    "for bottype in df_fr_ns0['bottype'].unique():\n",
    "    print(bottype)\n",
    "    type_df = df_fr_ns0[df_fr_ns0['bottype']==bottype]\n",
    "    \n",
    "    if len(type_df) > 5000:\n",
    "        type_df_sample = type_df.sample(round(len(type_df)/100))\n",
    "    elif len(type_df) > 100:\n",
    "        type_df_sample = type_df.sample(100)\n",
    "    else:\n",
    "        type_df_sample = type_df\n",
    "\n",
    "    type_df_sample['reverting_content'] = type_df_sample['reverting_id'].apply(get_revision)\n",
    "    type_df_sample['reverted_content'] = type_df_sample['rev_id'].apply(get_revision)\n",
    "\n",
    "    type_df_sample['diff'] = type_df_sample.apply(get_diff, axis=1)\n",
    "    \n",
    "    df_fr_ns0_sample_dict[bottype] = type_df_sample"
   ]
  },
  {
   "cell_type": "code",
   "execution_count": 53,
   "metadata": {
    "collapsed": true
   },
   "outputs": [],
   "source": [
    "import pickle\n"
   ]
  },
  {
   "cell_type": "code",
   "execution_count": 54,
   "metadata": {},
   "outputs": [],
   "source": [
    "with open(\"df_en_ns0_sample_dict.pickle\", \"wb\") as f: \n",
    "    pickle.dump(df_en_ns0_sample_dict, f)"
   ]
  },
  {
   "cell_type": "code",
   "execution_count": null,
   "metadata": {
    "collapsed": true
   },
   "outputs": [],
   "source": []
  },
  {
   "cell_type": "code",
   "execution_count": 55,
   "metadata": {
    "collapsed": true
   },
   "outputs": [],
   "source": [
    "pd.options.display.max_colwidth = -1\n"
   ]
  },
  {
   "cell_type": "code",
   "execution_count": null,
   "metadata": {
    "collapsed": true
   },
   "outputs": [],
   "source": []
  },
  {
   "cell_type": "code",
   "execution_count": 56,
   "metadata": {},
   "outputs": [
    {
     "name": "stdout",
     "output_type": "stream",
     "text": [
      "mkdir: cannot create directory ‘sample_tables/en/ns0’: File exists\r\n"
     ]
    }
   ],
   "source": [
    "!mkdir sample_tables/en/ns0"
   ]
  },
  {
   "cell_type": "code",
   "execution_count": 57,
   "metadata": {
    "collapsed": true
   },
   "outputs": [],
   "source": [
    "for bottype, bottype_df in df_fr_ns0_sample_dict.items():\n",
    "    \n",
    "   \n",
    "    bottype_file = bottype.replace(\" \", \"_\")\n",
    "    bottype_file = bottype_file.replace(\"/\", \"_\")\n",
    "    filename = \"sample_tables/fr/ns0/fr_ns0_sample_\" + bottype_file + \".html\"\n",
    "    \n",
    "    bottype_df[['reverting_id','reverting_user_text',\n",
    "                             'rev_user_text',\n",
    "                             'reverting_comment',\n",
    "                             'diff']].to_html(filename, escape=False)\n",
    "    \n",
    "    with open(filename, 'r+') as f:\n",
    "        content = f.read()\n",
    "        f.seek(0, 0)\n",
    "        f.write(\"<a name='\" + bottype + \"'><h1>\" + bottype + \"</h1></a>\\r\\n\")\n",
    "        f.write(content)"
   ]
  },
  {
   "cell_type": "code",
   "execution_count": null,
   "metadata": {
    "collapsed": true
   },
   "outputs": [],
   "source": []
  },
  {
   "cell_type": "code",
   "execution_count": 58,
   "metadata": {
    "collapsed": true
   },
   "outputs": [],
   "source": [
    "!cat sample_tables/en/ns0/*.html > sample_tables/en/ns0/en_ns0_sample_all.html"
   ]
  },
  {
   "cell_type": "code",
   "execution_count": 59,
   "metadata": {
    "collapsed": true
   },
   "outputs": [],
   "source": [
    "with open(\"sample_tables/fr/ns0/fr_ns0_sample_all.html\", 'r+') as f:\n",
    "    content = f.read()\n",
    "    f.seek(0, 0)\n",
    "    f.write(\"<head><meta charset='UTF-8'></head>\\r\\n<body>\")\n",
    "    f.write(\"\"\"<style>\n",
    "                .dataframe {\n",
    "                    border:1px solid #C0C0C0;\n",
    "                    border-collapse:collapse;\n",
    "                    padding:5px;\n",
    "                    table-layout:fixed;\n",
    "                }\n",
    "                .dataframe th {\n",
    "                    border:1px solid #C0C0C0;\n",
    "                    padding:5px;\n",
    "                    background:#F0F0F0;\n",
    "                }\n",
    "                .dataframe td {\n",
    "                    border:1px solid #C0C0C0;\n",
    "                    padding:5px;\n",
    "                }\n",
    "            </style>\"\"\")\n",
    "    f.write(\"<table class='dataframe'>\")\n",
    "    f.write(\"<thead><tr><th>Bot type</th><th>Total count in frwiki ns0</th><th>Number of sample diffs</th>\")\n",
    "    \n",
    "    for bottype, bottype_df in df_en_ns0_sample_dict.items():\n",
    "        \n",
    "        len_df = str(len(df_en_ns0[df_en_ns0['bottype']==bottype]))\n",
    "        len_sample = str(len(bottype_df))\n",
    "        \n",
    "        toc_str = \"<tr><td><a href='#\" + bottype + \"'>\" + bottype + \"</a></td>\\r\\n\"\n",
    "        toc_str += \"<td>\" + len_df + \"</td>\"\n",
    "        toc_str += \"<td>\" + len_sample + \"</td></tr>\"\n",
    "        f.write(toc_str)\n",
    "    f.write(\"</table>\")\n",
    "    f.write(content)"
   ]
  },
  {
   "cell_type": "code",
   "execution_count": null,
   "metadata": {
    "collapsed": true
   },
   "outputs": [],
   "source": []
  },
  {
   "cell_type": "markdown",
   "metadata": {},
   "source": [
    "### What was not categorized?"
   ]
  },
  {
   "cell_type": "code",
   "execution_count": 60,
   "metadata": {},
   "outputs": [
    {
     "name": "stdout",
     "output_type": "stream",
     "text": [
      "374 \t Bot: Mudança automática  (-[Ff]lag[_ ]of[_ ]Roraima.svg +Bandeira de Roraima.svg)\n",
      "274 \t +:zh-cn fix:zh\n",
      "218 \t Bot: Mudança automática  (-[Ff]lag[_ ]of[_ ]Rio[_ ]Grande[_ ]do[_ ]Sul.svg +Bandeira Estado RioGrandedoSul Brasil.svg)\n",
      "172 \t robot  Modificado: en\n",
      "146 \t Updating users status to: online (BOT EDIT)\n",
      "128 \t r2.7.1) (robot Modificado: [[ce:Тоба:Vikipediya:Kuckepaş]]\n",
      "124 \t trocando categoria - pedido em [[WP:CR]] utilizando [[Wikipedia:AutoWikiBrowser|AWB]]\n",
      "120 \t r2.7.1) (robot Modificado: [[ce:Кадегар:Vikipediya:Kuckepaş]]\n",
      "118 \t Bot: Mudança automática  (-[Ff]lag[_ ]of[_ ]Bahia.svg +Bandeira da Bahia.svg)\n",
      "116 \t robot  Adding: sk\n",
      "116 \t r2.7.1) (機器人 修改: [[ce:Тоба:Vikipediya:Kuckepaş]]\n",
      "112 \t robot  Añadido: pl\n",
      "112 \t r2.7.1) (ロボットによる 変更: [[ce:Тоба:Vikipediya:Kuckepaş]]\n",
      "112 \t r2.7.1) (Bot: Modificando: [[ce:Тоба:Vikipediya:Kuckepaş]]\n",
      "108 \t r2.7.1) (機器人 修改: [[ce:Кадегар:Vikipediya:Kuckepaş]]\n",
      "108 \t +:zh-tw,zh-cn fix:zh\n",
      "108 \t r2.7.1) (robot Modifying: [[ce:Тоба:Vikipediya:Kuckepaş]]\n",
      "106 \t r2.7.1) (robot Modifying: [[ce:Кадегар:Vikipediya:Kuckepaş]]\n",
      "106 \t r2.7.1) (ロボットによる 変更: [[ce:Кадегар:Vikipediya:Kuckepaş]]\n",
      "106 \t r2.7.1) (Bot: Modificando: [[ce:Кадегар:Vikipediya:Kuckepaş]]\n",
      "104 \t r2.7.1) (robot Modifie: [[ce:Тоба:Vikipediya:Kuckepaş]]\n",
      "98 \t r2.7.1) (robot Modifie: [[ce:Кадегар:Vikipediya:Kuckepaş]]\n",
      "92 \t Bot:  Ändere: en\n",
      "90 \t robot  Adicionando: es\n",
      "86 \t robot  Modifie: en\n",
      "84 \t Bot: Mudança automática (-\\[\\[(en|cy|ru|sl|et|he|ja|nds|tr):Categoria: +[[\\1:Category:)\n",
      "74 \t Updating users status to: offline (BOT EDIT)\n",
      "66 \t Robot: Reemplazo automático de texto  (-\\{\\{\\s*[Ll]ang\\s*\\|\\s*(?:en|de|fr|it|pt)\\s*\\|(.*?)\\}\\} +\\1)\n",
      "64 \t Bot: Mudança automática  (-[Ff]lag[_ ]of[_ ]Distrito[_ ]Federal.svg +Bandeira do Distrito Federal.svg)\n",
      "64 \t wf.  +:zh-cn fix:zh\n",
      "62 \t robot  Modificado: de\n",
      "60 \t robot  Añadido: de\n",
      "58 \t Bot: Mudança automática  (-[Ff]lag[_ ]of[_ ]Espírito[_ ]Santo.svg +Bandeira do Espírito Santo.svg)\n",
      "56 \t robot  Adicionando: pl\n",
      "50 \t Bot: Mudança automática  (-[Ff]lag[_ ]of[_ ]Paraíba.svg +Bandeira da Paraíba.svg)\n",
      "48 \t robot  Ajoute: pl\n",
      "44 \t Bot: Mudança automática  (-[Ff]lag[_ ]of[_ ]Minas[_ ]Gerais.svg +Bandeira de Minas Gerais.svg)\n",
      "42 \t Bot:  Ergänze: en\n",
      "38 \t Bot:  Ergänze: pl\n",
      "38 \t Bot: Entferne: [[sa:परवेज़ मुशऱ्रफ]]\n",
      "38 \t robot Eliminado: [[sa:परवेज़ मुशऱ्रफ]]\n",
      "36 \t 機器人 移除: [[sa:परवेज़ मुशऱ्रफ]]\n",
      "36 \t robot  Modifying: de\n",
      "36 \t robot  Añadido: en\n",
      "36 \t Bot: Mudança automática  (-[Ff]lag[_ ]of[_ ]Pernambuco.svg +Bandeira de Pernambuco.svg)\n",
      "34 \t robot  Eliminado: pl\n",
      "34 \t robot Retire: [[sa:परवेज़ मुशऱ्रफ]]\n",
      "34 \t ロボットによる 除去: [[sa:परवेज़ मुशऱ्रफ]]\n",
      "32 \t r2.7.1) (ロボットによる 変更: [[bo:པོ་དོལ་སིག​]]\n",
      "32 \t robot  Añadido: zh\n",
      "32 \t robot  Añadido: it\n",
      "32 \t +:zh-tw fix:zh\n",
      "32 \t robot  Modifying: es\n",
      "30 \t Bot: Mudança automática  (-[Ff]lag[_ ]of[_ ]Pará.svg +Bandeira do Pará.svg)\n",
      "30 \t Bot: Mudança automática  (-[Ff]lag[_ ]of[_ ]Rondônia.svg +Bandeira de Rondônia.svg)\n",
      "30 \t robot Ajoute: [[cdo:Category:Dô̤-gáu]]\n",
      "30 \t r2.7.1) (機器人 修改: [[bo:པོ་དོལ་སིག​]]\n",
      "30 \t Bot: Adicionando: [[cdo:Category:Dô̤-gáu]]\n",
      "30 \t robot Añadido: [[cdo:Category:Dô̤-gáu]]\n",
      "30 \t Bot: Ergänze: [[cdo:Category:Dô̤-gáu]]\n",
      "28 \t r2.7.1) (ロボットによる 追加: [[sa:परवेज़ मुशर्रफ़]] 変更: [[hi:परवेज़ मुशर्रफ़]]\n",
      "28 \t robot Ajoute: [[cdo:Category:Báe̤k Mī-ciŭ]]\n",
      "28 \t r2.7.1) (robot Añadido: [[sa:परवेज़ मुशर्रफ़]] Modificado: [[hi:परवेज़ मुशर्रफ़]]\n",
      "28 \t r2.7.1) (Bot: Ergänze: [[sa:परवेज़ मुशर्रफ़]] Ändere: [[hi:परवेज़ मुशर्रफ़]]\n",
      "28 \t 機器人 新增: [[cdo:Category:Báe̤k Mī-ciŭ]]\n",
      "28 \t robot  Modifie: de\n",
      "28 \t ロボットによる 追加: [[cdo:Category:Dô̤-gáu]]\n",
      "28 \t Bot: Mudança automática  (-[Ff]lag[_ ]of[_ ]Tocantins.svg +Bandeira do Tocantins.svg)\n",
      "28 \t robot  Modifying: en\n",
      "28 \t 機器人 新增: [[cdo:Category:Dô̤-gáu]]\n",
      "28 \t r2.5.2) (機器人 新增: an, ast, ca, cs, fa, fr, ja, la, pt, sk, sl\n",
      "28 \t robot Añadido: [[cdo:Category:Báe̤k Mī-ciŭ]]\n",
      "28 \t r2.7.1) (robot Ajoute: [[sa:परवेज़ मुशर्रफ़]] Modifie: [[hi:परवेज़ मुशर्रफ़]]\n",
      "28 \t r2.7.1) (機器人 新增: [[sa:परवेज़ मुशर्रफ़]] 修改: [[hi:परवेज़ मुशर्रफ़]]\n",
      "28 \t ロボットによる 追加: [[cdo:Category:Báe̤k Mī-ciŭ]]\n",
      "26 \t Bot: Ergänze: [[cdo:Category:Báe̤k Mī-ciŭ]]\n",
      "26 \t robot  Añadido: fr\n",
      "26 \t robot  Modifie: es\n",
      "26 \t robot  Modificando: en\n",
      "26 \t r2.7.1) (robot Adding: [[sa:परवेज़ मुशर्रफ़]] Modifying: [[hi:परवेज़ मुशर्रफ़]]\n",
      "26 \t robot  Modificado: zh\n",
      "26 \t Bot: Adicionando: [[cdo:Category:Báe̤k Mī-ciŭ]]\n",
      "581156 \tOther cases\n"
     ]
    }
   ],
   "source": [
    "other_count = 0\n",
    "for comment, count in df_all[df_all['bottype']=='interwiki link cleanup -- suspected']['reverting_comment'].value_counts().iteritems():\n",
    "    if count > 25:\n",
    "        print(count, \"\\t\", comment)\n",
    "    else:\n",
    "        other_count = other_count + count\n",
    "print(other_count, \"\\tOther cases\")"
   ]
  },
  {
   "cell_type": "code",
   "execution_count": 61,
   "metadata": {},
   "outputs": [
    {
     "name": "stdout",
     "output_type": "stream",
     "text": [
      "7268 \t Removing redlinks.\n",
      "3364 \t No broken #section links left\n",
      "3036 \t Robot: Automatically cleaned\n",
      "2084 \t Bot: Entferne:\n",
      "1752 \t Robot : Remplacement modèle {{Wikiprojet droit/rattachement précis non vérifié}} par {{Wikiprojet droit}}\n",
      "1696 \t r2.7.1)\n",
      "1668 \t Bot: Automatically cleaned\n",
      "1648 \t BOT: Removing {{Copy to Wikimedia Commons}} either because the file no longer meets the criteria for or because the file is already on Commons.\n",
      "1520 \t WildBot was summoned\n",
      "1500 \t 取消（）的编辑；更改回的最后一个版本\n",
      "1456 \t Automated archival of 1 sections to\n",
      "1082 \t mise en forme\n",
      "1040 \t Removing completed dates from holding cell. Errors?\n",
      "984 \t BOT: removing {{}} either because the file no longer meets the criteria for or because the file is already on Commons\n",
      "910 \t -\n",
      "902 \t No ambiguous links left\n",
      "892 \t Robô: A corrigir o redirecionamento duplo para\n",
      "872 \t r2.7.3)\n",
      "806 \t 机器人: 加速才女机器人更新\n",
      "714 \t r2.7.2)\n",
      "670 \t bot: 「削除告知」\n",
      "632 \t Tagging for a wikiproject using tag {{WikiProject Genetics|class=|importance=|imageneeded=|imagedetails=|unref=}}\n",
      "616 \t No ambiguous links left; No broken #section links left\n",
      "592 \t BOT: Removing {{Orphan Image}} from a non-orphaned file\n",
      "568 \t 机器人: 本页被自动清理\n",
      "546 \t BOT: Removing {{Orphan image}} because the file is not orphaned.\n",
      "510 \t Retrait de l'évaluation biographique\n",
      "494 \t BOT adding project banner Added {{}}, class=Stub, auto=yes.\n",
      "476 \t robot Eliminado:\n",
      "456 \t foi movido, passando a redirecionar para\n",
      "450 \t Correcting template, Replaced: {{4CC → {{disambig using\n",
      "412 \t r2.6.4)\n",
      "410 \t BOT - Updating template from\n",
      "400 \t Bot: Fix tags\n",
      "394 \t Redirect useless unwatched talk page to someplace useful.\n",
      "366 \t Botによる「リダイレクト削除告知」メンテナンス。\n",
      "352 \t BOT - Actualizando plantilla\n",
      "346 \t Перемещение 1 интервики-ссылки в Викиданные\n",
      "336 \t robot Modificado:\n",
      "316 \t Bot: 本页被自动清理\n",
      "298 \t Robot: fixing misdirected talk page redirect\n",
      "286 \t limpando afluentes de {{lembrete}}, Replaced: {{Lembrete}} →\n",
      "282 \t ) De-tagging for by request , Removed: {{ChicagoWikiProject|class=Stub|importance=|auto=yes}},\n",
      "278 \t ) Mk V's orders were faulty, does not apply, removed: {{WikiProject Songs|class=Stub|importance=|auto=yes}}\n",
      "276 \t BOT: Removing from MTC priority list\n",
      "262 \t Updating users status to : online\n",
      "244 \t : Updated status.\n",
      "238 \t robot Modifying:\n",
      "238 \t BOT: Actualizando contador.\n",
      "234 \t ) Mk V's orders were faulty, does not apply, removed: {{WikiProject Songs|class=Start|auto=inherit|importance=}}\n",
      "232 \t Bot : Remplacement de texte automatisé\n",
      "232 \t robot Modifie:\n",
      "232 \t ) De-tagging for by request , Removed: {{ChicagoWikiProject|class=stub|inherited=yes|importance=}},\n",
      "226 \t r2.7.2+)\n",
      "218 \t ) De-tagging for by request , Removed: {{ChicagoWikiProject|class=start|inherited=yes|importance=}},\n",
      "216 \t bot: oldid=50493295\n",
      "216 \t Robô: A remover:\n",
      "212 \t robot Removing:\n",
      "208 \t Bot: Modificando:\n",
      "206 \t robot Retire:\n",
      "206 \t Bot: entferne veraltete Botmeldung\n",
      "202 \t Bot: Fixing broken section link\n",
      "200 \t BOT: Remove {{Copy to Wikimedia Commons}}; the file may not be eligible for Commons\n",
      "180 \t Bot: Removendo:\n",
      "176 \t Empty. rm .\n",
      "166 \t robot Retire :\n",
      "162 \t Robot: Cambiada la plantilla: Catmás\n",
      "160 \t ロボットによる 除去:\n",
      "150 \t r2.6.5)\n",
      "148 \t Incorrect or non-existing Commonscat\n",
      "146 \t BOT adding India project banner Added {{}}, class=Stub, auto=yes.\n",
      "144 \t Added listas tag in WPBiography template .\n",
      "140 \t Updating Status to online\n",
      "140 \t Add category Rockaway, Queens that was inadvertently deleted using\n",
      "134 \t Automated archival of 2 sections to\n",
      "134 \t Repair\n",
      "130 \t ) Mk V's orders were faulty, does not apply, removed: {{WikiProject Songs|class=Stub|auto=inherit|importance=}}\n",
      "128 \t 清理\n",
      "120 \t Moving an RFC to list.\n",
      "116 \t : removing {{}} either because the file no longer meets the criteria for or because the file is already at Commons\n",
      "116 \t Robot - Result of discussion was Keep; removing CFD template.\n",
      "114 \t Incorrect Commonscat\n",
      "114 \t Archiviere 1 Abschnitt nach\n",
      "110 \t has been moved, it is now a redirect to\n",
      "110 \t 楽曲でないので除去 using\n",
      "106 \t r2.5.2)\n",
      "106 \t r2.5.1)\n",
      "104 \t BOT - Reporting apparent vandalism by to .\n",
      "104 \t Correction lien vers Wikipédia:Pages à supprimer/Membres de l'Ordre du Canada, par ordre alphabétique -> avant déplacement\n",
      "102 \t Rescuing 1 sources. #IABot\n",
      "100 \t All files on are now checked.\n",
      "100 \t Перемещение 2 интервики-ссылок в Викиданные\n",
      "98 \t PJ音楽 カテゴリ\n",
      "98 \t 1 archive template merged to {{}}\n",
      "96 \t Added listas to WPBiography .\n",
      "94 \t 機器人 移除:\n",
      "92 \t robot Añadido:\n",
      "88 \t Updating users status to : offline\n",
      "88 \t Correction: créer n'était pas nécéssaire, puisque la plante est . Allez, on refait tout dans l'autre sens...\n",
      "88 \t fix redirect, Replaced: Recurring and minor characters in 24 → Minor characters in 24,\n",
      "86 \t Bot: Fixing broken redirect to moved target page\n",
      "84 \t correction d'initiative malheureuse...\n",
      "84 \t BOT - Actualizando detalles para\n",
      "82 \t Bot: removendo {{Lembrete}} por\n",
      "82 \t 机器人: 增加分类重定向模板，用于维护\n",
      "80 \t BOT: Noting that file has no inbound file usage\n",
      "78 \t Bot: trasladando categoría -\n",
      "78 \t Bot: Actualizando plantilla desde Wikinoticias\n",
      "74 \t Bot, Supprime commonscat, n'existe pas\n",
      "74 \t 机器人: 沙盒被自动清理\n",
      "74 \t Fusión de plantillas\n",
      "74 \t Bot Eliminado:\n",
      "72 \t Bot:\n",
      "68 \t Bot: suspected broken section links\n",
      "66 \t ) Mk V's orders were faulty, probably does not apply, removed: {{WikiProject Canada|geography=yes|class=Stub|importance=|auto=yes}}\n",
      "66 \t Bot - Actualizando plantilla desde Wikinoticias\n",
      "64 \t BOT: Removing {{}} because this file no longer has orphaned revisions\n",
      "64 \t BOT adding India project banner class=Stub, auto=yes.\n",
      "62 \t robot Adding:\n",
      "60 \t Bot: Cambiando #REDIRECT por #REDIRECCIÓN.\n",
      "58 \t \n",
      "56 \t Fix page header. Errors?\n",
      "56 \t Robot: Changing template: corp-stub\n",
      "54 \t BOT - automated removal of category\n",
      "54 \t liens avec le portail trop faible, Replaced: |Floride}} → }}\n",
      "52 \t Removed . File is not an orphan.\n",
      "50 \t r2.6.3)\n",
      "50 \t fixed anchor link, replaced: →\n",
      "50 \t -cat\n",
      "48 \t Remove bad tag by Reedy Bot , Replaced: {{OH-Project|class=|importance=}} →\n",
      "48 \t : trocando Bandeira_da_Bahia.svg por Flag_of_Bahia.svg\n",
      "48 \t 机器人: 请求快速删除（）\n",
      "48 \t BOT-TRIAL: Removing {{Orphan image}} because the file is not orphaned.\n",
      "46 \t Bot: idioma = Inglés.\n",
      "46 \t adding project banner Added {{}}, class=Stub, auto=yes.\n",
      "46 \t Empty. rm . 1 comment removed.\n",
      "46 \t Images to be used in monument lists: 0\n",
      "46 \t Removing redlinks\n",
      "46 \t BOT: This file no longer appears to be eligible for transfer to Commons\n",
      "44 \t r2.5.4)\n",
      "44 \t Bot: Modificando\n",
      "42 \t Restoring Template_talk:X2 header\n",
      "42 \t Images to be used in monument lists: 1\n",
      "42 \t Restoring Template_talk:X1 header\n",
      "40 \t Restoring Template_talk:X5 header\n",
      "40 \t Bot: Limpiando zona de pruebas\n",
      "40 \t ボットによる: 「」への二重転送を修正\n",
      "40 \t ) De-tagging for by request , Removed: {{ChicagoWikiProject|class=|importance=}},\n",
      "40 \t BOT - Limpiando páginas que se han borrado\n",
      "40 \t Restoring Template_talk:X9 header\n",
      "40 \t Restoring Template_talk:X3 header\n",
      "40 \t Restoring Template_talk:X8 header\n",
      "40 \t Restoring Template_talk:X4 header\n",
      "40 \t Bot: Eliminando\n",
      "38 \t Robot : retire de Catégorie:Cacographie\n",
      "38 \t Restoring Template_talk:X6 header\n",
      "38 \t Wikipedia python library\n",
      "38 \t Restoring Template_talk:X7 header\n",
      "38 \t Fix page header Errors?\n",
      "38 \t Robot : Remplacement de texte automatisé\n",
      "36 \t ROBOT - Removing WPLISTS template\n",
      "36 \t Update licensing in accordance with\n",
      "36 \t Bothinweis abgearbeitet\n",
      "36 \t Robot: modificadas Categoría:Juzgados por el Tribunal Penal Internacional para la ex Yugoslavia a Categoría:Juzgados por el Tribunal Penal Internacional para la ex-Yugoslavia\n",
      "36 \t Daily update. See for changes.\n",
      "34 \t Bot: Cambiada Categoría:Ciclistas de la Comunidad Foral de Navarra\n",
      "34 \t Robot: Fixing broken redirect to moved target page\n",
      "34 \t Updating Status to offline\n",
      "34 \t /* top */ error fixes using\n",
      "32 \t Robô: A adicionar:\n",
      "32 \t Robot: Retirando {{}} por no estar protegido\n",
      "32 \t /* top */WikiProject Astronomy Fix\n",
      "32 \t FIx up portal template and general fixes\n",
      "32 \t using\n",
      "32 \t Bot: arreglo la redirección rota hacia la página de destino trasladada \"\"\n",
      "30 \t Tag/Date tags and general fixes, added tag\n",
      "30 \t Bot: Mudança automática\n",
      "30 \t +marca projeto offline utilizando\n",
      "30 \t ) Mk V's orders were faulty, does not apply, removed: {{WikiProject Songs|class=B|auto=inherit|importance=}}\n",
      "30 \t Suppression d'évaluation France\n",
      "30 \t ) Mk V's orders were faulty, probably does not apply, removed: {{WikiProject Canada|geography=yes|class=Start|auto=inherit|importance=}}\n",
      "30 \t Robot: modificadas Categoría:Juzgados por el Tribunal Penal Internacional para la ex-Yugoslavia a Categoría:Juzgados por el Tribunal Penal Internacional para la ex Yugoslavia\n",
      "30 \t Tagging living=no→yes. using\n",
      "30 \t Bot - Actualizando número de CADs\n",
      "30 \t Bot: Cambiada Categoría:Monumentos de Zamora\n",
      "30 \t Bot: adding redirect template\n",
      "28 \t : Arreglando referencias y otros\n",
      "28 \t Bot: category redirect - changing to\n",
      "28 \t Bot : ratissage automatique du bac à sable\n",
      "28 \t removing {{pp-pc1}} as page is not pending changes-protected\n",
      "28 \t Pequeñas correcciones .\n",
      "28 \t Bot: Removing Deletion Tag: This image is used in the article space;\n",
      "26 \t Bot: Moviendo categoría\n",
      "26 \t Remove bad tag by Reedy Bot\n",
      "26 \t fix fr : -->\n",
      "26 \t r2.5.5)\n",
      "26 \t Adding protection templates)\n",
      "26 \t Robô: A modificar: →\n",
      "26 \t Updating Noticeboard topics\n",
      "26 \t 机器人移除：\n",
      "26 \t /* External links */ error fixes + using\n",
      "26 \t Images to be used in monument lists: 5\n",
      "12525 \tOther cases\n"
     ]
    }
   ],
   "source": [
    "other_count = 0\n",
    "for comment, count in df_all[df_all['bottype']=='other']['reverting_comment_nobracket'].value_counts().iteritems():\n",
    "    if count > 25:\n",
    "        print(count, \"\\t\", comment)\n",
    "    else:\n",
    "        other_count = other_count + count\n",
    "print(other_count, \"\\tOther cases\")"
   ]
  },
  {
   "cell_type": "code",
   "execution_count": 62,
   "metadata": {},
   "outputs": [
    {
     "name": "stdout",
     "output_type": "stream",
     "text": [
      "7268 \t Removing redlinks.\n",
      "3364 \t No broken #section links left\n",
      "3036 \t Robot: Automatically cleaned\n",
      "1752 \t Robot : Remplacement modèle {{Wikiprojet droit/rattachement précis non vérifié}} par {{Wikiprojet droit}}\n",
      "1668 \t Bot: Automatically cleaned\n",
      "1648 \t BOT: Removing {{Copy to Wikimedia Commons}} either because the file no longer meets the criteria for [[WP:TRANSFER|transfer]] or because the file is already on Commons.\n",
      "1520 \t WildBot was summoned\n",
      "1082 \t mise en forme\n",
      "1040 \t (BOT) Removing completed dates from holding cell. Errors? [[User:AnomieBOT/shutoff/PUICloser]]\n",
      "984 \t BOT: removing {{[[Template:Copy to Wikimedia Commons|Copy to Wikimedia Commons]]}} either because the file no longer meets the criteria for [[WP:TRANSFER|transfer]] or because the file is already on Commons\n",
      "910 \t -\n",
      "902 \t No ambiguous links left\n",
      "670 \t bot: [[Wikipedia:リダイレクトの削除依頼]]「削除告知」\n",
      "632 \t Tagging for a wikiproject using tag {{WikiProject Genetics|class=|importance=|imageneeded=|imagedetails=|unref=}}\n",
      "616 \t No ambiguous links left; No broken #section links left\n",
      "614 \t 机器人: 加速才女机器人更新 (候选积压)\n",
      "592 \t BOT: Removing {{Orphan Image}} from a non-orphaned file\n",
      "546 \t BOT: Removing {{Orphan image}} because the file is not orphaned.\n",
      "496 \t Retrait de l'évaluation biographique (abandonnée)\n",
      "494 \t BOT adding [[WP:IND|India]] project banner ([[User:Kingbotk/P|Plugin]]) Added {{[[Template:WP India|WP India]]}}, class=Stub, auto=yes.\n",
      "486 \t 机器人: 本页被自动清理\n",
      "450 \t Correcting template, Replaced: {{4CC → {{disambig  using [[Project:AWB|AWB]]\n",
      "410 \t BOT - Updating template from [[:n:|Wikinews]]\n",
      "400 \t Bot: Fix tags\n",
      "396 \t 取消[[Special:Contributions/Jimmy-bot|Jimmy-bot]]（[[User talk:Jimmy-bot|对话]]）的编辑；更改回[[Special:Contributions/Jason924tw|Jason924tw]]的最后一个版本\n",
      "394 \t Redirect useless unwatched talk page to someplace useful.\n",
      "366 \t Botによる「リダイレクト削除告知」メンテナンス。[[Wikipedia:リダイレクトの削除依頼]]\n",
      "352 \t BOT - Actualizando plantilla\n",
      "336 \t 取消[[Special:Contributions/Jimmy-bot|Jimmy-bot]]（[[User talk:Jimmy-bot|对话]]）的编辑；更改回[[Special:Contributions/1j1z2|1j1z2]]的最后一个版本\n",
      "316 \t Bot: 本页被自动清理\n",
      "298 \t Robot: fixing misdirected talk page redirect\n",
      "286 \t limpando afluentes de {{lembrete}}, Replaced: {{Lembrete}} →\n",
      "282 \t [[User:Xenobot/6|Bot]]) De-tagging for [[WP:CHICAGO]] by request , Removed: {{ChicagoWikiProject|class=Stub|importance=|auto=yes}},\n",
      "278 \t [[User:Xenobot/6|Bot]]) Mk V's orders were faulty, [[WP:SONGS]] does not apply, removed: {{WikiProject Songs|class=Stub|importance=|auto=yes}}\n",
      "276 \t BOT: Removing from MTC priority list\n",
      "262 \t Updating users status to : online (BOT EDIT)\n",
      "244 \t [[WP:BOT|Bot]]: Updated status.\n",
      "238 \t BOT: Actualizando contador.\n",
      "234 \t [[User:Xenobot/6|Bot]]) Mk V's orders were faulty, [[WP:SONGS]] does not apply, removed: {{WikiProject Songs|class=Start|auto=inherit|importance=}}\n",
      "232 \t Bot : Remplacement de texte automatisé (-Nuvola_actions_next.png +1rightarrow.png)\n",
      "232 \t [[User:Xenobot/6|Bot]]) De-tagging for [[WP:CHICAGO]] by request , Removed: {{ChicagoWikiProject|class=stub|inherited=yes|importance=}},\n",
      "222 \t 取消[[Special:Contributions/Jimmy-bot|Jimmy-bot]]（[[User talk:Jimmy-bot|对话]]）的编辑；更改回[[Special:Contributions/Liflon|Liflon]]的最后一个版本\n",
      "218 \t [[User:Xenobot/6|Bot]]) De-tagging for [[WP:CHICAGO]] by request , Removed: {{ChicagoWikiProject|class=start|inherited=yes|importance=}},\n",
      "216 \t bot: [[WP:BOTREQ#ガンダムに関する告知除去]] oldid=50493295\n",
      "206 \t Bot: entferne veraltete Botmeldung\n",
      "202 \t Bot: Fixing broken section link\n",
      "200 \t BOT: Remove {{Copy to Wikimedia Commons}}; the file may not be eligible for Commons\n",
      "192 \t 机器人: 加速才女机器人更新\n",
      "162 \t Robot: Cambiada la plantilla: Catmás\n",
      "148 \t Incorrect or non-existing Commonscat\n",
      "146 \t BOT adding India project banner ([[User:Kingbotk/P|Plugin]]) Added {{[[Template:WP India|WP India]]}}, class=Stub, auto=yes.\n",
      "144 \t Added listas tag in WPBiography template (used DEFAULTSORT value from article page).  [[User_talk:ListasBot|Did I get it wrong?]]\n",
      "140 \t Add category Rockaway, Queens that was inadvertently deleted  using [[Project:AWB|AWB]]\n",
      "140 \t Updating Status to online (BOT EDIT)\n",
      "130 \t [[User:Xenobot/6|Bot]]) Mk V's orders were faulty, [[WP:SONGS]] does not apply, removed: {{WikiProject Songs|class=Stub|auto=inherit|importance=}}\n",
      "120 \t Moving an RFC to list. (FB2)\n",
      "120 \t 清理[[:Category:调用重复模板参数的页面|调用重复模板参数的页面]]\n",
      "116 \t Repair [[:Category:Pages using duplicate arguments in template calls|duplicate template args]]\n",
      "116 \t Robot - Result of [[WP:CFD|CFD]] discussion was Keep; removing CFD template(s).\n",
      "116 \t [[Wikipedia:Bots|BOT]]: removing {{[[Template:Copy to Wikimedia Commons|Copy to Wikimedia Commons]]}} either because the file no longer meets the criteria for [[WP:TRANSFER|transfer]] or because the file is already at Commons\n",
      "114 \t Incorrect Commonscat\n",
      "110 \t 楽曲でないので除去 using [[Project:AWB|AWB]]\n",
      "102 \t Rescuing 1 sources. #IABot\n",
      "100 \t All files on [[Wikipedia:Contributor copyright investigations/Md iet]] are now checked.\n",
      "98 \t [[WP:BOTREQ#議論を告知するテンプレートの除去依頼]] PJ音楽 カテゴリ\n",
      "98 \t 1 archive template merged to {{[[template:webarchive|webarchive]]}} ([[User:Green_Cardamom/Webarchive_template_merge|WAM]])\n",
      "88 \t fix redirect, Replaced: Recurring and minor characters in 24 → Minor characters in 24,\n",
      "88 \t Updating users status to : offline (BOT EDIT)\n",
      "88 \t Correction: créer [[fougères (ville)]] n'était pas nécéssaire, puisque la plante est [[fougère]]. Allez, on refait tout dans l'autre sens...\n",
      "84 \t correction d'initiative malheureuse...\n",
      "82 \t Bot: removendo {{Lembrete}} por [[Wikipedia:Páginas para eliminar/Predefinição:Lembrete]]\n",
      "82 \t Added listas to WPBiography (used DEFAULTSORT from article). [[User talk:ListasBot|Did I get it wrong?]]\n",
      "82 \t 机器人: 本页被自动清理 (Py@GAE)\n",
      "82 \t 机器人: 增加分类重定向模板，用于维护\n",
      "80 \t BOT: Noting that file has no inbound file usage\n",
      "78 \t Bot: trasladando categoría - [[Categoría:Personajes de El señor de los anillos]] (v1.34)\n",
      "78 \t Bot: Actualizando plantilla desde Wikinoticias\n",
      "74 \t 机器人: 沙盒被自动清理\n",
      "74 \t Fusión de plantillas\n",
      "72 \t Automated archival of 1 sections to [[User talk:SilverStar/Archive 2]]\n",
      "68 \t 取消[[Special:Contributions/Jimmy-bot|Jimmy-bot]]（[[User talk:Jimmy-bot|对话]]）的编辑；更改回[[Special:Contributions/Sz-iwbot|Sz-iwbot]]的最后一个版本\n",
      "68 \t Bot: suspected broken section links\n",
      "66 \t 取消[[Special:Contributions/Jimmy-bot|Jimmy-bot]]（[[User talk:Jimmy-bot|对话]]）的编辑；更改回[[Special:Contributions/Kolyma|Kolyma]]的最后一个版本\n",
      "66 \t [[User:Xenobot/6|Bot]]) Mk V's orders were faulty, [[WP:GEOCANADA]] probably does not apply, removed: {{WikiProject Canada|geography=yes|class=Stub|importance=|auto=yes}}\n",
      "66 \t Bot - Actualizando plantilla desde Wikinoticias\n",
      "64 \t BOT adding India project banner ([[User:Kingbotk/P|Plugin]]) class=Stub, auto=yes.\n",
      "64 \t BOT: Removing {{[[Template:Orphaned non-free revisions|Orphaned non-free revisions]]}} because this file no longer has orphaned revisions\n",
      "62 \t Bot: [[Usuario:FrescoBot/Enlaces|sintaxis de los enlaces]]\n",
      "60 \t Bot: Cambiando #REDIRECT por #REDIRECCIÓN.\n",
      "56 \t (BOT) Fix page header. Errors? [[User:AnomieBOT/shutoff/TFDClerk]]\n",
      "56 \t Robot: Changing template: corp-stub\n",
      "54 \t BOT - automated removal of category [[Category:Filipino singers|Filipino singers]]\n",
      "54 \t liens avec le portail trop faible, Replaced: |Floride}} → }}\n",
      "52 \t Correction lien vers Wikipédia:Pages à supprimer/Membres de l'Ordre du Canada, par ordre alphabétique -> [[fr:Discussion:Membres de l'Ordre du Canada, par ordre alphabétique/Suppression]] avant déplacement\n",
      "52 \t Removed [[Template:di-orphaned fair use]]. File is not an orphan.\n",
      "52 \t Correction lien vers Wikipédia:Pages à supprimer/Membres de l'Ordre du Canada, par ordre alphabétique -> [[Discuter:Membres de l'Ordre du Canada, par ordre alphabétique/Suppression]] avant déplacement\n",
      "50 \t Robô: A corrigir o redirecionamento duplo para [[Juan Carlos da Espanha]]\n",
      "50 \t -cat\n",
      "48 \t BOT-TRIAL: Removing {{Orphan image}} because the file is not orphaned.\n",
      "48 \t Remove bad tag by Reedy Bot , Replaced: {{OH-Project|class=|importance=}} →\n",
      "48 \t [[:commons:User:Orgullobot/commands|Bot]]: trocando Bandeira_da_Bahia.svg por Flag_of_Bahia.svg\n",
      "48 \t 取消[[Special:Contributions/Jimmy-bot|Jimmy-bot]]（[[User talk:Jimmy-bot|对话]]）的编辑；更改回[[Special:Contributions/Littletung|Littletung]]的最后一个版本\n",
      "48 \t 机器人: 请求快速删除（[[WP:CSD#O4|CSD O4]]）\n",
      "46 \t adding [[WP:IND|India]] project banner ([[User:Kingbotk/P|Plugin]]) Added {{[[Template:WP India|WP India]]}}, class=Stub, auto=yes.\n",
      "46 \t BOT: This file no longer appears to be eligible for transfer to Commons\n",
      "46 \t Removing redlinks\n",
      "46 \t Bot: idioma = Inglés.\n",
      "46 \t Images to be used in monument lists: 0\n",
      "42 \t Images to be used in monument lists: 1\n",
      "42 \t [[User:Addbot|Bot:]] Restoring Template_talk:X2 header\n",
      "42 \t [[User:Addbot|Bot:]] Restoring Template_talk:X1 header\n",
      "40 \t [[User:Addbot|Bot:]] Restoring Template_talk:X9 header\n",
      "40 \t Bot: Limpiando zona de pruebas\n",
      "40 \t BOT - Reporting apparent vandalism by [[User:Tom on Tires]] to [[Talk:Agnosticism]].\n",
      "40 \t [[User:Xenobot/6|Bot]]) De-tagging for [[WP:CHICAGO]] by request , Removed: {{ChicagoWikiProject|class=|importance=}},\n",
      "40 \t [[User:Addbot|Bot:]] Restoring Template_talk:X3 header\n",
      "40 \t [[User:Addbot|Bot:]] Restoring Template_talk:X4 header\n",
      "40 \t [[User:Addbot|Bot:]] Restoring Template_talk:X5 header\n",
      "40 \t BOT - Limpiando páginas que se han borrado\n",
      "40 \t [[User:Addbot|Bot:]] Restoring Template_talk:X8 header\n",
      "38 \t [[User:Addbot|Bot:]] Restoring Template_talk:X7 header\n",
      "38 \t 取消[[Special:Contributions/Jimmy-bot|Jimmy-bot]]（[[User talk:Jimmy-bot|对话]]）的编辑；更改回[[Special:Contributions/Quest for Truth|Quest for Truth]]的最后一个版本\n",
      "38 \t [[User:Addbot|Bot:]] Restoring Template_talk:X6 header\n",
      "38 \t Wikipedia python library\n",
      "36 \t ROBOT - Removing WPLISTS template\n",
      "36 \t Daily update. See [[User:Mathbot/Changes mathlist]] for changes.\n",
      "36 \t Bothinweis abgearbeitet\n",
      "36 \t Robot: modificadas Categoría:Juzgados por el Tribunal Penal Internacional para la ex Yugoslavia a Categoría:Juzgados por el Tribunal Penal Internacional para la ex-Yugoslavia\n",
      "36 \t Update licensing in accordance with [[WP:Image license migration|image license migration]]\n",
      "34 \t Updating Status to offline (BOT EDIT)\n",
      "34 \t Automated archival of 1 sections to [[User talk:Menasim/Archives/Archive 2]]\n",
      "34 \t Bot: Cambiada Categoría:Ciclistas de la Comunidad Foral de Navarra\n",
      "32 \t /* top */WikiProject Astronomy Fix\n",
      "32 \t Bot: Modificando [[Categoria:Apelidos]]\n",
      "32 \t FIx up portal template and general fixes\n",
      "32 \t Robot: Retirando {{[[Template:Semiprotegida|Semiprotegida]]}} por no estar protegido\n",
      "32 \t 取消[[Special:Contributions/Jimmy-bot|Jimmy-bot]]（[[User talk:Jimmy-bot|对话]]）的编辑；更改回[[Special:Contributions/Iokseng|Iokseng]]的最后一个版本\n",
      "30 \t [[User:T13bot/tasks/1|T13bot task 1]] using [[Project:AWB|AWB]]\n",
      "30 \t +marca projeto offline utilizando [[Project:AWB|AWB]] (7852)\n",
      "30 \t [[User:Xenobot/6|Bot]]) Mk V's orders were faulty, [[WP:SONGS]] does not apply, removed: {{WikiProject Songs|class=B|auto=inherit|importance=}}\n",
      "30 \t Robot: modificadas Categoría:Juzgados por el Tribunal Penal Internacional para la ex-Yugoslavia a Categoría:Juzgados por el Tribunal Penal Internacional para la ex Yugoslavia\n",
      "30 \t Tag/Date tags and general  fixes, added [[:Category:Category needed|uncategorised]] tag\n",
      "30 \t 取消[[Special:Contributions/Jimmy-bot|Jimmy-bot]]（[[User talk:Jimmy-bot|对话]]）的编辑；更改回[[Special:Contributions/PhiLiP|PhiLiP]]的最后一个版本\n",
      "30 \t Bot: Cambiada Categoría:Monumentos de Zamora\n",
      "30 \t Suppression d'évaluation France (doublon avec Lorraine)\n",
      "30 \t Bot: adding redirect template\n",
      "30 \t Automated archival of 1 sections to [[User talk:Onthost/Archive]]\n",
      "30 \t [[User:Xenobot/6|Bot]]) Mk V's orders were faulty, [[WP:GEOCANADA]] probably does not apply, removed: {{WikiProject Canada|geography=yes|class=Start|auto=inherit|importance=}}\n",
      "30 \t Tagging([[User:Kingbotk/P|Plugin++]]) living=no→yes. using [[Project:AutoWikiBrowser|AWB]]\n",
      "30 \t Bot - Actualizando número de CADs\n",
      "28 \t Pequeñas correcciones [[WP:CEM]].\n",
      "28 \t [[People's Liberation Army]] has been moved, it is now a redirect to [[Chinese People's Liberation Army]]\n",
      "28 \t removing {{pp-pc1}} as page is not pending changes-protected\n",
      "28 \t Bot: category redirect - changing [[:Category:English businesspeople]] to [[:Category:English business people]]\n",
      "28 \t 取消[[Special:Contributions/Jimmy-bot|Jimmy-bot]]（[[User talk:Jimmy-bot|对话]]）的编辑；更改回[[Special:Contributions/NigelSoft|NigelSoft]]的最后一个版本\n",
      "28 \t Bot : ratissage automatique du bac à sable\n",
      "28 \t [[Usuario:Bigsus-bot/Corrector ortográfico|Bot]]: Arreglando referencias y otros\n",
      "28 \t Bot: Removing Deletion Tag: This image is used in the article space; [[User:DASHBot/F5|shutoff]]\n",
      "26 \t Bot: Moviendo categoría\n",
      "26 \t Automated archival of 1 sections to [[User talk:Michaelbeckham/Archive 1]]\n",
      "26 \t Automated archival of 1 sections to [[User:Darry2385/Archive]]\n",
      "26 \t Remove bad tag by Reedy Bot\n",
      "26 \t Automated archival of 1 sections to [[User talk:Randfan/Archive/Archive 03]]\n",
      "26 \t Images to be used in monument lists: 5\n",
      "26 \t Adding protection templates) (bot\n",
      "26 \t Updating Noticeboard topics\n",
      "26691 \tOther cases\n"
     ]
    }
   ],
   "source": [
    "other_count = 0\n",
    "for comment, count in df_all[df_all['bottype']=='other']['reverting_comment'].value_counts().iteritems():\n",
    "    if count > 25:\n",
    "        print(count, \"\\t\", comment)\n",
    "    else:\n",
    "        other_count = other_count + count\n",
    "print(other_count, \"\\tOther cases\")"
   ]
  },
  {
   "cell_type": "code",
   "execution_count": 63,
   "metadata": {},
   "outputs": [
    {
     "data": {
      "text/plain": [
       "112510"
      ]
     },
     "execution_count": 63,
     "metadata": {},
     "output_type": "execute_result"
    }
   ],
   "source": [
    "len(df_lang_ns0)"
   ]
  },
  {
   "cell_type": "code",
   "execution_count": 64,
   "metadata": {},
   "outputs": [
    {
     "name": "stdout",
     "output_type": "stream",
     "text": [
      "114 \t -\n",
      "78 \t Bot: trasladando categoría - [[Categoría:Personajes de El señor de los anillos]] (v1.34)\n",
      "74 \t Fusión de plantillas\n",
      "60 \t Bot: Cambiando #REDIRECT por #REDIRECCIÓN.\n",
      "60 \t Bot: [[Usuario:FrescoBot/Enlaces|sintaxis de los enlaces]]\n",
      "46 \t Bot: idioma = Inglés.\n",
      "36 \t Robot: modificadas Categoría:Juzgados por el Tribunal Penal Internacional para la ex Yugoslavia a Categoría:Juzgados por el Tribunal Penal Internacional para la ex-Yugoslavia\n",
      "34 \t Bot: Cambiada Categoría:Ciclistas de la Comunidad Foral de Navarra\n",
      "32 \t Robot: Retirando {{[[Template:Semiprotegida|Semiprotegida]]}} por no estar protegido\n",
      "30 \t Robot: modificadas Categoría:Juzgados por el Tribunal Penal Internacional para la ex-Yugoslavia a Categoría:Juzgados por el Tribunal Penal Internacional para la ex Yugoslavia\n",
      "30 \t Bot: Cambiada Categoría:Monumentos de Zamora\n",
      "28 \t [[Usuario:Bigsus-bot/Corrector ortográfico|Bot]]: Arreglando referencias y otros\n",
      "24 \t Pequeñas correcciones [[WP:CEM]].\n",
      "24 \t Bot: Moviendo categoría\n",
      "22 \t r2.7.1) (robot Modificado: [[bo:པོ་དོལ་སིག​]]\n",
      "22 \t Bot: Cambiada Categoría:Organizaciones señaladas como terroristas\n",
      "22 \t Bot: Cambiada Categoría:Partidos políticos de Cataluña de ámbito autonómico\n",
      "20 \t Bot: Cambiada Categoría:Patrimonio de la humanidad en China\n",
      "18 \t Robot: Bahréin -> Baréin\n",
      "16 \t retirando {{Spoiler}} borrada en consulta de borrado\n",
      "16 \t Bot: Aplicando la nueva ortografía\n",
      "14 \t robot  Modificado: fi\n",
      "14 \t Bot: arreglo la redirección rota hacia la página de destino trasladada \"[[Ministerio de Defensa (Argentina)]]\"\n",
      "12 \t r2.6.4) (robot Modificado: [[bo:པོ་དོལ་སིག]]\n",
      "12 \t Bot: Cambiada Categoría:Patrimonio de la humanidad en Australia\n",
      "12 \t Bot: Arreglando sintaxis de redirección ([[PR:CW]])\n",
      "10 \t Bot: moviendo categorías - [[Categoría:Películas de los Estados Unidos]] (v1.34)\n",
      "10 \t Bot: Cambiada Categoría:Monumentos de Huelva\n",
      "10 \t Bot: reemplazo de categoría Módems por Módem\n",
      "10 \t Bot: Cambiada Categoría:Patrimonio de la humanidad en Rusia\n",
      "8 \t Bot: Cambiada Categoría:Aeropuertos de Irak por Categoría:Aeropuertos de Iraq\n",
      "8 \t Robot: modificadas Categoría:Fiscales del Tribunal Penal Internacional para la ex-Yugoslavia a Categoría:Fiscales del Tribunal Penal Internacional para la ex Yugoslavia\n",
      "8 \t Robot: modificadas Categoría:Fiscales del Tribunal Penal Internacional para la ex Yugoslavia a Categoría:Fiscales del Tribunal Penal Internacional para la ex-Yugoslavia\n",
      "8 \t Robot: Fixing broken redirect to moved target page [[Sueño americano]]\n",
      "8 \t robot  Añadido: nb\n",
      "8 \t Correcciones menores, ([[WP:CEM]])\n",
      "8 \t r2.7.3) (Bot: Añadiendo [[en:Electromagnetic induction]]\n",
      "8 \t (Bot) Correcciones ortográficas\n",
      "8 \t Bot: Eliminando plantilla de [[WP:PPP|protección]] por no estar protegido\n",
      "6 \t Bot: Cambiada Categoría:Monumentos de la provincia de Huelva\n",
      "6 \t Bot: Cambiada Categoría:Patrimonio de la humanidad en la India\n",
      "6 \t Robot: Fixing broken redirect to moved target page [[San Fernando de Apure]]\n",
      "6 \t error ortográfico\n",
      "6 \t Bot: Cambiada Categoría:Organizaciones señaladas como terroristas de España\n",
      "6 \t robot  Modificado: ro\n",
      "6 \t robot Modificado: [[bo:པོ་དོལ་སིག]]\n",
      "6 \t Bot: Corrección de errores menores ([[PR:CEM]])\n",
      "4348 \tOther cases\n"
     ]
    }
   ],
   "source": [
    "lang_l = 'es'\n",
    "other_count = 0\n",
    "df_lang_ns0 = df_all_ns0[df_all_ns0['language']==lang_l]\n",
    "\n",
    "for comment, count in df_lang_ns0[df_lang_ns0['bottype']=='other']['reverting_comment'].value_counts().iteritems():\n",
    "    if count > 5:\n",
    "        print(count, \"\\t\", comment)\n",
    "    else:\n",
    "        other_count = other_count + count\n",
    "print(other_count, \"\\tOther cases\")"
   ]
  },
  {
   "cell_type": "markdown",
   "metadata": {
    "collapsed": true
   },
   "source": [
    "## How long did this take to run?"
   ]
  },
  {
   "cell_type": "code",
   "execution_count": 65,
   "metadata": {},
   "outputs": [
    {
     "data": {
      "text/plain": [
       "datetime.datetime(2017, 4, 17, 12, 48, 31, 722292)"
      ]
     },
     "execution_count": 65,
     "metadata": {},
     "output_type": "execute_result"
    }
   ],
   "source": [
    "end = datetime.datetime.now()\n",
    "end"
   ]
  },
  {
   "cell_type": "code",
   "execution_count": 66,
   "metadata": {},
   "outputs": [
    {
     "name": "stdout",
     "output_type": "stream",
     "text": [
      "Total runtime:  60 minutes,  46 seconds\n"
     ]
    }
   ],
   "source": [
    "time_to_run = end - start\n",
    "minutes = int(time_to_run.seconds/60)\n",
    "seconds = time_to_run.seconds % 60\n",
    "print(\"Total runtime: \", minutes, \"minutes, \", seconds, \"seconds\")"
   ]
  },
  {
   "cell_type": "code",
   "execution_count": null,
   "metadata": {
    "collapsed": true
   },
   "outputs": [],
   "source": []
  },
  {
   "cell_type": "code",
   "execution_count": null,
   "metadata": {
    "collapsed": true
   },
   "outputs": [],
   "source": []
  },
  {
   "cell_type": "code",
   "execution_count": 67,
   "metadata": {},
   "outputs": [
    {
     "data": {
      "image/png": "[encoded data removed]",
      "text/plain": [
       "<matplotlib.figure.Figure at 0x7f5a26c719b0>"
      ]
     },
     "metadata": {},
     "output_type": "display_data"
    }
   ],
   "source": [
    "sns.set(font_scale=2)\n",
    "pal = sns.color_palette(\"husl\", 7)\n",
    "g = sns.FacetGrid(df_all, palette=pal, hue=\"language\", size=8, aspect=2)\n",
    "g.map(sns.kdeplot, \"time_to_revert_days\", clip=[0,(365*2)])\n",
    "#g.add_legend()\n",
    "leg = plt.legend()\n",
    "\n",
    "for legobj in leg.legendHandles:\n",
    "    legobj.set_linewidth(8.0)"
   ]
  },
  {
   "cell_type": "code",
   "execution_count": null,
   "metadata": {
    "collapsed": true
   },
   "outputs": [],
   "source": []
  },
  {
   "cell_type": "code",
   "execution_count": null,
   "metadata": {
    "collapsed": true
   },
   "outputs": [],
   "source": []
  },
  {
   "cell_type": "code",
   "execution_count": null,
   "metadata": {
    "collapsed": true
   },
   "outputs": [],
   "source": []
  },
  {
   "cell_type": "code",
   "execution_count": null,
   "metadata": {
    "collapsed": true
   },
   "outputs": [],
   "source": []
  },
  {
   "cell_type": "code",
   "execution_count": null,
   "metadata": {
    "collapsed": true
   },
   "outputs": [],
   "source": []
  },
  {
   "cell_type": "code",
   "execution_count": null,
   "metadata": {
    "collapsed": true
   },
   "outputs": [],
   "source": []
  },
  {
   "cell_type": "code",
   "execution_count": null,
   "metadata": {
    "collapsed": true
   },
   "outputs": [],
   "source": []
  },
  {
   "cell_type": "code",
   "execution_count": null,
   "metadata": {
    "collapsed": true
   },
   "outputs": [],
   "source": []
  },
  {
   "cell_type": "code",
   "execution_count": null,
   "metadata": {
    "collapsed": true
   },
   "outputs": [],
   "source": []
  },
  {
   "cell_type": "code",
   "execution_count": null,
   "metadata": {
    "collapsed": true
   },
   "outputs": [],
   "source": []
  },
  {
   "cell_type": "markdown",
   "metadata": {},
   "source": [
    "## Export possible botfights"
   ]
  },
  {
   "cell_type": "code",
   "execution_count": 68,
   "metadata": {
    "collapsed": true
   },
   "outputs": [],
   "source": [
    "def is_possible_botfight(bottype_str):\n",
    "    if bottype_str == 'other':\n",
    "        return True\n",
    "    elif bottype_str == 'other w/ revert in comment':\n",
    "        return True\n",
    "    elif bottype_str.find('botfight') >= 0:\n",
    "        return True\n",
    "    else:\n",
    "        return False"
   ]
  },
  {
   "cell_type": "code",
   "execution_count": 69,
   "metadata": {
    "collapsed": true
   },
   "outputs": [],
   "source": [
    "df_possible_botfights_mask = df_all['bottype'].apply(is_possible_botfight)"
   ]
  },
  {
   "cell_type": "code",
   "execution_count": 70,
   "metadata": {
    "collapsed": true
   },
   "outputs": [],
   "source": [
    "df_possible_botfights = df_all[df_possible_botfights_mask]\n",
    "df_possible_botfights_ns0 = df_possible_botfights[df_possible_botfights['page_namespace']==0]"
   ]
  },
  {
   "cell_type": "code",
   "execution_count": 71,
   "metadata": {},
   "outputs": [
    {
     "data": {
      "text/plain": [
       "en    50125\n",
       "es    9876 \n",
       "fr    6174 \n",
       "de    6168 \n",
       "zh    5336 \n",
       "pt    3728 \n",
       "ja    2116 \n",
       "Name: language, dtype: int64"
      ]
     },
     "execution_count": 71,
     "metadata": {},
     "output_type": "execute_result"
    }
   ],
   "source": [
    "df_possible_botfights['language'].value_counts()"
   ]
  },
  {
   "cell_type": "code",
   "execution_count": 72,
   "metadata": {},
   "outputs": [
    {
     "data": {
      "text/plain": [
       "en    8142\n",
       "es    7608\n",
       "pt    3040\n",
       "de    2814\n",
       "fr    2062\n",
       "ja    1856\n",
       "zh    1154\n",
       "Name: language, dtype: int64"
      ]
     },
     "execution_count": 72,
     "metadata": {},
     "output_type": "execute_result"
    }
   ],
   "source": [
    "df_possible_botfights_ns0['language'].value_counts()"
   ]
  },
  {
   "cell_type": "code",
   "execution_count": 73,
   "metadata": {},
   "outputs": [
    {
     "data": {
      "text/html": [
       "<div>\n",
       "<table border=\"1\" class=\"dataframe\">\n",
       "  <thead>\n",
       "    <tr style=\"text-align: right;\">\n",
       "      <th>reverting_timestamp_dt</th>\n",
       "      <th>2010-11-25 13:37:40</th>\n",
       "      <th>2011-09-01 06:01:21</th>\n",
       "    </tr>\n",
       "  </thead>\n",
       "  <tbody>\n",
       "    <tr>\n",
       "      <th>archived</th>\n",
       "      <td>False</td>\n",
       "      <td>False</td>\n",
       "    </tr>\n",
       "    <tr>\n",
       "      <th>language</th>\n",
       "      <td>de</td>\n",
       "      <td>de</td>\n",
       "    </tr>\n",
       "    <tr>\n",
       "      <th>page_namespace</th>\n",
       "      <td>0</td>\n",
       "      <td>0</td>\n",
       "    </tr>\n",
       "    <tr>\n",
       "      <th>rev_deleted</th>\n",
       "      <td>False</td>\n",
       "      <td>False</td>\n",
       "    </tr>\n",
       "    <tr>\n",
       "      <th>rev_id</th>\n",
       "      <td>81826985</td>\n",
       "      <td>92814820</td>\n",
       "    </tr>\n",
       "    <tr>\n",
       "      <th>rev_minor_edit</th>\n",
       "      <td>True</td>\n",
       "      <td>True</td>\n",
       "    </tr>\n",
       "    <tr>\n",
       "      <th>rev_page</th>\n",
       "      <td>4970640</td>\n",
       "      <td>1883148</td>\n",
       "    </tr>\n",
       "    <tr>\n",
       "      <th>rev_parent_id</th>\n",
       "      <td>7.78714e+07</td>\n",
       "      <td>9.00531e+07</td>\n",
       "    </tr>\n",
       "    <tr>\n",
       "      <th>rev_revert_offset</th>\n",
       "      <td>1</td>\n",
       "      <td>1</td>\n",
       "    </tr>\n",
       "    <tr>\n",
       "      <th>rev_sha1</th>\n",
       "      <td>gjkzzrawns34qsxbyrhhjdtigs8xluj</td>\n",
       "      <td>dy0u870vlr8qmtjco1tvyzpjedcaca5</td>\n",
       "    </tr>\n",
       "    <tr>\n",
       "      <th>rev_timestamp</th>\n",
       "      <td>20101123013822</td>\n",
       "      <td>20110824080606</td>\n",
       "    </tr>\n",
       "    <tr>\n",
       "      <th>rev_user</th>\n",
       "      <td>579528</td>\n",
       "      <td>901616</td>\n",
       "    </tr>\n",
       "    <tr>\n",
       "      <th>rev_user_text</th>\n",
       "      <td>MystBot</td>\n",
       "      <td>EmausBot</td>\n",
       "    </tr>\n",
       "    <tr>\n",
       "      <th>reverted_to_rev_id</th>\n",
       "      <td>77871450</td>\n",
       "      <td>90053101</td>\n",
       "    </tr>\n",
       "    <tr>\n",
       "      <th>reverting_archived</th>\n",
       "      <td>False</td>\n",
       "      <td>False</td>\n",
       "    </tr>\n",
       "    <tr>\n",
       "      <th>reverting_comment</th>\n",
       "      <td>[r2.5.2] Bot: Entferne: [[en:Ocean Drive (Group)]]</td>\n",
       "      <td>Bot: Entferne: [[kk:ЦИНКИТ]] (deleted)</td>\n",
       "    </tr>\n",
       "    <tr>\n",
       "      <th>reverting_deleted</th>\n",
       "      <td>False</td>\n",
       "      <td>False</td>\n",
       "    </tr>\n",
       "    <tr>\n",
       "      <th>reverting_id</th>\n",
       "      <td>81921822</td>\n",
       "      <td>93118753</td>\n",
       "    </tr>\n",
       "    <tr>\n",
       "      <th>reverting_minor_edit</th>\n",
       "      <td>True</td>\n",
       "      <td>True</td>\n",
       "    </tr>\n",
       "    <tr>\n",
       "      <th>reverting_page</th>\n",
       "      <td>4970640</td>\n",
       "      <td>1883148</td>\n",
       "    </tr>\n",
       "    <tr>\n",
       "      <th>reverting_parent_id</th>\n",
       "      <td>8.1827e+07</td>\n",
       "      <td>9.28148e+07</td>\n",
       "    </tr>\n",
       "    <tr>\n",
       "      <th>reverting_sha1</th>\n",
       "      <td>ouh00ume6era01ryhls92o9h8md0adj</td>\n",
       "      <td>oll9602nw2k2ma1679tvmaekx2mwlyq</td>\n",
       "    </tr>\n",
       "    <tr>\n",
       "      <th>reverting_timestamp</th>\n",
       "      <td>20101125133740</td>\n",
       "      <td>20110901060121</td>\n",
       "    </tr>\n",
       "    <tr>\n",
       "      <th>reverting_user</th>\n",
       "      <td>627628</td>\n",
       "      <td>1181084</td>\n",
       "    </tr>\n",
       "    <tr>\n",
       "      <th>reverting_user_text</th>\n",
       "      <td>Xqbot</td>\n",
       "      <td>MerlIwBot</td>\n",
       "    </tr>\n",
       "    <tr>\n",
       "      <th>revisions_reverted</th>\n",
       "      <td>1</td>\n",
       "      <td>1</td>\n",
       "    </tr>\n",
       "    <tr>\n",
       "      <th>namespace_type</th>\n",
       "      <td>article</td>\n",
       "      <td>article</td>\n",
       "    </tr>\n",
       "    <tr>\n",
       "      <th>reverted_timestamp_dt</th>\n",
       "      <td>2010-11-23 01:38:22</td>\n",
       "      <td>2011-08-24 08:06:06</td>\n",
       "    </tr>\n",
       "    <tr>\n",
       "      <th>reverting_timestamp_dt</th>\n",
       "      <td>2010-11-25 13:37:40</td>\n",
       "      <td>2011-09-01 06:01:21</td>\n",
       "    </tr>\n",
       "    <tr>\n",
       "      <th>time_to_revert</th>\n",
       "      <td>2 days 11:59:18</td>\n",
       "      <td>7 days 21:55:15</td>\n",
       "    </tr>\n",
       "    <tr>\n",
       "      <th>time_to_revert_hrs</th>\n",
       "      <td>59.9883</td>\n",
       "      <td>189.921</td>\n",
       "    </tr>\n",
       "    <tr>\n",
       "      <th>time_to_revert_days</th>\n",
       "      <td>2.49951</td>\n",
       "      <td>7.91337</td>\n",
       "    </tr>\n",
       "    <tr>\n",
       "      <th>reverting_year</th>\n",
       "      <td>2010</td>\n",
       "      <td>2011</td>\n",
       "    </tr>\n",
       "    <tr>\n",
       "      <th>botpair</th>\n",
       "      <td>Xqbot rv MystBot</td>\n",
       "      <td>MerlIwBot rv EmausBot</td>\n",
       "    </tr>\n",
       "    <tr>\n",
       "      <th>reverting_comment_nobracket</th>\n",
       "      <td>Bot: Entferne:</td>\n",
       "      <td>Bot: Entferne:</td>\n",
       "    </tr>\n",
       "    <tr>\n",
       "      <th>bottype</th>\n",
       "      <td>other</td>\n",
       "      <td>other</td>\n",
       "    </tr>\n",
       "  </tbody>\n",
       "</table>\n",
       "</div>"
      ],
      "text/plain": [
       "reverting_timestamp_dt                                      2010-11-25 13:37:40  \\\n",
       "archived                     False                                                \n",
       "language                     de                                                   \n",
       "page_namespace               0                                                    \n",
       "rev_deleted                  False                                                \n",
       "rev_id                       81826985                                             \n",
       "rev_minor_edit               True                                                 \n",
       "rev_page                     4970640                                              \n",
       "rev_parent_id                7.78714e+07                                          \n",
       "rev_revert_offset            1                                                    \n",
       "rev_sha1                     gjkzzrawns34qsxbyrhhjdtigs8xluj                      \n",
       "rev_timestamp                20101123013822                                       \n",
       "rev_user                     579528                                               \n",
       "rev_user_text                MystBot                                              \n",
       "reverted_to_rev_id           77871450                                             \n",
       "reverting_archived           False                                                \n",
       "reverting_comment            [r2.5.2] Bot: Entferne: [[en:Ocean Drive (Group)]]   \n",
       "reverting_deleted            False                                                \n",
       "reverting_id                 81921822                                             \n",
       "reverting_minor_edit         True                                                 \n",
       "reverting_page               4970640                                              \n",
       "reverting_parent_id          8.1827e+07                                           \n",
       "reverting_sha1               ouh00ume6era01ryhls92o9h8md0adj                      \n",
       "reverting_timestamp          20101125133740                                       \n",
       "reverting_user               627628                                               \n",
       "reverting_user_text          Xqbot                                                \n",
       "revisions_reverted           1                                                    \n",
       "namespace_type               article                                              \n",
       "reverted_timestamp_dt        2010-11-23 01:38:22                                  \n",
       "reverting_timestamp_dt       2010-11-25 13:37:40                                  \n",
       "time_to_revert               2 days 11:59:18                                      \n",
       "time_to_revert_hrs           59.9883                                              \n",
       "time_to_revert_days          2.49951                                              \n",
       "reverting_year               2010                                                 \n",
       "botpair                      Xqbot rv MystBot                                     \n",
       "reverting_comment_nobracket  Bot: Entferne:                                       \n",
       "bottype                      other                                                \n",
       "\n",
       "reverting_timestamp_dt                          2011-09-01 06:01:21  \n",
       "archived                     False                                   \n",
       "language                     de                                      \n",
       "page_namespace               0                                       \n",
       "rev_deleted                  False                                   \n",
       "rev_id                       92814820                                \n",
       "rev_minor_edit               True                                    \n",
       "rev_page                     1883148                                 \n",
       "rev_parent_id                9.00531e+07                             \n",
       "rev_revert_offset            1                                       \n",
       "rev_sha1                     dy0u870vlr8qmtjco1tvyzpjedcaca5         \n",
       "rev_timestamp                20110824080606                          \n",
       "rev_user                     901616                                  \n",
       "rev_user_text                EmausBot                                \n",
       "reverted_to_rev_id           90053101                                \n",
       "reverting_archived           False                                   \n",
       "reverting_comment            Bot: Entferne: [[kk:ЦИНКИТ]] (deleted)  \n",
       "reverting_deleted            False                                   \n",
       "reverting_id                 93118753                                \n",
       "reverting_minor_edit         True                                    \n",
       "reverting_page               1883148                                 \n",
       "reverting_parent_id          9.28148e+07                             \n",
       "reverting_sha1               oll9602nw2k2ma1679tvmaekx2mwlyq         \n",
       "reverting_timestamp          20110901060121                          \n",
       "reverting_user               1181084                                 \n",
       "reverting_user_text          MerlIwBot                               \n",
       "revisions_reverted           1                                       \n",
       "namespace_type               article                                 \n",
       "reverted_timestamp_dt        2011-08-24 08:06:06                     \n",
       "reverting_timestamp_dt       2011-09-01 06:01:21                     \n",
       "time_to_revert               7 days 21:55:15                         \n",
       "time_to_revert_hrs           189.921                                 \n",
       "time_to_revert_days          7.91337                                 \n",
       "reverting_year               2011                                    \n",
       "botpair                      MerlIwBot rv EmausBot                   \n",
       "reverting_comment_nobracket  Bot: Entferne:                          \n",
       "bottype                      other                                   "
      ]
     },
     "execution_count": 73,
     "metadata": {},
     "output_type": "execute_result"
    }
   ],
   "source": [
    "df_possible_botfights[0:2].transpose()"
   ]
  },
  {
   "cell_type": "code",
   "execution_count": 74,
   "metadata": {
    "collapsed": true
   },
   "outputs": [],
   "source": [
    "df_possible_botfights.to_pickle(\"data/possible_botfights.pickle\")\n",
    "df_possible_botfights.to_csv(\"data/possible_botfights.tsv\", sep=\"\\t\")"
   ]
  },
  {
   "cell_type": "code",
   "execution_count": null,
   "metadata": {
    "collapsed": true
   },
   "outputs": [],
   "source": []
  },
  {
   "cell_type": "code",
   "execution_count": null,
   "metadata": {
    "collapsed": true
   },
   "outputs": [],
   "source": []
  }
 ],
 "metadata": {
  "kernelspec": {
   "display_name": "Python 3",
   "language": "python",
   "name": "python3"
  },
  "language_info": {
   "codemirror_mode": {
    "name": "ipython",
    "version": 3
   },
   "file_extension": ".py",
   "mimetype": "text/x-python",
   "name": "python",
   "nbconvert_exporter": "python",
   "pygments_lexer": "ipython3",
   "version": "3.6.0"
  }
 },
 "nbformat": 4,
 "nbformat_minor": 2
}
