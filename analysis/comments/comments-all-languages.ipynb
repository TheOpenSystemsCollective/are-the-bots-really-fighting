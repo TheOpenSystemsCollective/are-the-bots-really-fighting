{
 "cells": [
  {
   "cell_type": "code",
   "execution_count": 1,
   "metadata": {
    "collapsed": true
   },
   "outputs": [],
   "source": [
    "import pandas as pd\n",
    "import seaborn as sns\n",
    "import matplotlib.pyplot as plt\n",
    "import numpy as np\n",
    "import glob\n",
    "%matplotlib inline"
   ]
  },
  {
   "cell_type": "code",
   "execution_count": 2,
   "metadata": {
    "collapsed": true
   },
   "outputs": [],
   "source": [
    "import datetime"
   ]
  },
  {
   "cell_type": "code",
   "execution_count": null,
   "metadata": {
    "collapsed": true
   },
   "outputs": [],
   "source": []
  },
  {
   "cell_type": "markdown",
   "metadata": {},
   "source": [
    "Note that this does not require Cython, the functions are just sped up using the `%%cython` magic"
   ]
  },
  {
   "cell_type": "code",
   "execution_count": 3,
   "metadata": {
    "collapsed": true
   },
   "outputs": [],
   "source": [
    "%load_ext Cython"
   ]
  },
  {
   "cell_type": "code",
   "execution_count": 4,
   "metadata": {},
   "outputs": [
    {
     "data": {
      "text/plain": [
       "datetime.datetime(2017, 4, 16, 13, 22, 2, 397092)"
      ]
     },
     "execution_count": 4,
     "metadata": {},
     "output_type": "execute_result"
    }
   ],
   "source": [
    "start = datetime.datetime.now()\n",
    "start"
   ]
  },
  {
   "cell_type": "markdown",
   "metadata": {},
   "source": [
    "## Data processing"
   ]
  },
  {
   "cell_type": "code",
   "execution_count": 5,
   "metadata": {},
   "outputs": [
    {
     "data": {
      "text/plain": [
       "['../../datasets/enwiki_20161201_reverted_bot2bot.tsv',\n",
       " '../../datasets/zhwiki_20161001_reverted_bot2bot.tsv',\n",
       " '../../datasets/ptwiki_20161001_reverted_bot2bot.tsv',\n",
       " '../../datasets/frwiki_20161001_reverted_bot2bot.tsv',\n",
       " '../../datasets/jawiki_20161001_reverted_bot2bot.tsv',\n",
       " '../../datasets/dewiki_20161001_reverted_bot2bot.tsv',\n",
       " '../../datasets/eswiki_20161001_reverted_bot2bot.tsv']"
      ]
     },
     "execution_count": 5,
     "metadata": {},
     "output_type": "execute_result"
    }
   ],
   "source": [
    "glob.glob(\"../../datasets/*bot2bot.tsv\")"
   ]
  },
  {
   "cell_type": "code",
   "execution_count": 6,
   "metadata": {
    "collapsed": true
   },
   "outputs": [],
   "source": [
    "df_dict = {}\n",
    "for filename in glob.glob(\"../../datasets/*bot2bot.tsv\"):\n",
    "    lang_code = filename[15:17]\n",
    "    df_dict[lang_code] = pd.read_csv(filename, sep=\"\\t\")"
   ]
  },
  {
   "cell_type": "code",
   "execution_count": 7,
   "metadata": {},
   "outputs": [
    {
     "name": "stdout",
     "output_type": "stream",
     "text": [
      "en 1001093\n",
      "zh 102846\n",
      "pt 141738\n",
      "fr 193066\n",
      "ja 89980\n",
      "de 137844\n",
      "es 177368\n"
     ]
    }
   ],
   "source": [
    "for lang, lang_df in df_dict.items():\n",
    "    print(lang, len(lang_df))"
   ]
  },
  {
   "cell_type": "code",
   "execution_count": 8,
   "metadata": {},
   "outputs": [
    {
     "data": {
      "text/html": [
       "<div>\n",
       "<table border=\"1\" class=\"dataframe\">\n",
       "  <thead>\n",
       "    <tr style=\"text-align: right;\">\n",
       "      <th></th>\n",
       "      <th>0</th>\n",
       "      <th>1</th>\n",
       "    </tr>\n",
       "  </thead>\n",
       "  <tbody>\n",
       "    <tr>\n",
       "      <th>rev_id</th>\n",
       "      <td>273691771</td>\n",
       "      <td>136526894</td>\n",
       "    </tr>\n",
       "    <tr>\n",
       "      <th>rev_timestamp</th>\n",
       "      <td>20090227173507</td>\n",
       "      <td>20070607044209</td>\n",
       "    </tr>\n",
       "    <tr>\n",
       "      <th>rev_user</th>\n",
       "      <td>6505923</td>\n",
       "      <td>4534303</td>\n",
       "    </tr>\n",
       "    <tr>\n",
       "      <th>rev_user_text</th>\n",
       "      <td>Kbdankbot</td>\n",
       "      <td>PbBot</td>\n",
       "    </tr>\n",
       "    <tr>\n",
       "      <th>rev_page</th>\n",
       "      <td>5040439</td>\n",
       "      <td>3046554</td>\n",
       "    </tr>\n",
       "    <tr>\n",
       "      <th>rev_sha1</th>\n",
       "      <td>qj45ne2z4yfexmpaz5wfnbm2yrmqt4j</td>\n",
       "      <td>3xtnw7u4w9h6cg1smw97mqnr1en6a55</td>\n",
       "    </tr>\n",
       "    <tr>\n",
       "      <th>rev_minor_edit</th>\n",
       "      <td>False</td>\n",
       "      <td>False</td>\n",
       "    </tr>\n",
       "    <tr>\n",
       "      <th>rev_deleted</th>\n",
       "      <td>False</td>\n",
       "      <td>False</td>\n",
       "    </tr>\n",
       "    <tr>\n",
       "      <th>rev_parent_id</th>\n",
       "      <td>2.59117e+08</td>\n",
       "      <td>1.20932e+08</td>\n",
       "    </tr>\n",
       "    <tr>\n",
       "      <th>archived</th>\n",
       "      <td>False</td>\n",
       "      <td>False</td>\n",
       "    </tr>\n",
       "    <tr>\n",
       "      <th>reverting_id</th>\n",
       "      <td>273789753</td>\n",
       "      <td>269875438</td>\n",
       "    </tr>\n",
       "    <tr>\n",
       "      <th>reverting_timestamp</th>\n",
       "      <td>20090228021925</td>\n",
       "      <td>20090210230337</td>\n",
       "    </tr>\n",
       "    <tr>\n",
       "      <th>reverting_user</th>\n",
       "      <td>1215485</td>\n",
       "      <td>7328338</td>\n",
       "    </tr>\n",
       "    <tr>\n",
       "      <th>reverting_user_text</th>\n",
       "      <td>Cydebot</td>\n",
       "      <td>Yobot</td>\n",
       "    </tr>\n",
       "    <tr>\n",
       "      <th>reverting_page</th>\n",
       "      <td>5040439</td>\n",
       "      <td>3046554</td>\n",
       "    </tr>\n",
       "    <tr>\n",
       "      <th>reverting_sha1</th>\n",
       "      <td>od1e685o9f5j7dtpd9zp2fhew3agjeq</td>\n",
       "      <td>f8ye1kj73h0ymwqj6rlsimwk3jd9tef</td>\n",
       "    </tr>\n",
       "    <tr>\n",
       "      <th>reverting_minor_edit</th>\n",
       "      <td>True</td>\n",
       "      <td>True</td>\n",
       "    </tr>\n",
       "    <tr>\n",
       "      <th>reverting_deleted</th>\n",
       "      <td>False</td>\n",
       "      <td>False</td>\n",
       "    </tr>\n",
       "    <tr>\n",
       "      <th>reverting_parent_id</th>\n",
       "      <td>2.73692e+08</td>\n",
       "      <td>1.36527e+08</td>\n",
       "    </tr>\n",
       "    <tr>\n",
       "      <th>reverting_archived</th>\n",
       "      <td>False</td>\n",
       "      <td>False</td>\n",
       "    </tr>\n",
       "    <tr>\n",
       "      <th>reverting_comment</th>\n",
       "      <td>Robot - Speedily moving category 9th-century i...</td>\n",
       "      <td>Removing {{1911 talk}} per [[Wikipedia:Templat...</td>\n",
       "    </tr>\n",
       "    <tr>\n",
       "      <th>rev_revert_offset</th>\n",
       "      <td>1</td>\n",
       "      <td>1</td>\n",
       "    </tr>\n",
       "    <tr>\n",
       "      <th>revisions_reverted</th>\n",
       "      <td>1</td>\n",
       "      <td>1</td>\n",
       "    </tr>\n",
       "    <tr>\n",
       "      <th>reverted_to_rev_id</th>\n",
       "      <td>259117355</td>\n",
       "      <td>120932016</td>\n",
       "    </tr>\n",
       "    <tr>\n",
       "      <th>page_namespace</th>\n",
       "      <td>0</td>\n",
       "      <td>1</td>\n",
       "    </tr>\n",
       "  </tbody>\n",
       "</table>\n",
       "</div>"
      ],
      "text/plain": [
       "                                                                      0  \\\n",
       "rev_id                                                        273691771   \n",
       "rev_timestamp                                            20090227173507   \n",
       "rev_user                                                        6505923   \n",
       "rev_user_text                                                 Kbdankbot   \n",
       "rev_page                                                        5040439   \n",
       "rev_sha1                                qj45ne2z4yfexmpaz5wfnbm2yrmqt4j   \n",
       "rev_minor_edit                                                    False   \n",
       "rev_deleted                                                       False   \n",
       "rev_parent_id                                               2.59117e+08   \n",
       "archived                                                          False   \n",
       "reverting_id                                                  273789753   \n",
       "reverting_timestamp                                      20090228021925   \n",
       "reverting_user                                                  1215485   \n",
       "reverting_user_text                                             Cydebot   \n",
       "reverting_page                                                  5040439   \n",
       "reverting_sha1                          od1e685o9f5j7dtpd9zp2fhew3agjeq   \n",
       "reverting_minor_edit                                               True   \n",
       "reverting_deleted                                                 False   \n",
       "reverting_parent_id                                         2.73692e+08   \n",
       "reverting_archived                                                False   \n",
       "reverting_comment     Robot - Speedily moving category 9th-century i...   \n",
       "rev_revert_offset                                                     1   \n",
       "revisions_reverted                                                    1   \n",
       "reverted_to_rev_id                                            259117355   \n",
       "page_namespace                                                        0   \n",
       "\n",
       "                                                                      1  \n",
       "rev_id                                                        136526894  \n",
       "rev_timestamp                                            20070607044209  \n",
       "rev_user                                                        4534303  \n",
       "rev_user_text                                                     PbBot  \n",
       "rev_page                                                        3046554  \n",
       "rev_sha1                                3xtnw7u4w9h6cg1smw97mqnr1en6a55  \n",
       "rev_minor_edit                                                    False  \n",
       "rev_deleted                                                       False  \n",
       "rev_parent_id                                               1.20932e+08  \n",
       "archived                                                          False  \n",
       "reverting_id                                                  269875438  \n",
       "reverting_timestamp                                      20090210230337  \n",
       "reverting_user                                                  7328338  \n",
       "reverting_user_text                                               Yobot  \n",
       "reverting_page                                                  3046554  \n",
       "reverting_sha1                          f8ye1kj73h0ymwqj6rlsimwk3jd9tef  \n",
       "reverting_minor_edit                                               True  \n",
       "reverting_deleted                                                 False  \n",
       "reverting_parent_id                                         1.36527e+08  \n",
       "reverting_archived                                                False  \n",
       "reverting_comment     Removing {{1911 talk}} per [[Wikipedia:Templat...  \n",
       "rev_revert_offset                                                     1  \n",
       "revisions_reverted                                                    1  \n",
       "reverted_to_rev_id                                            120932016  \n",
       "page_namespace                                                        1  "
      ]
     },
     "execution_count": 8,
     "metadata": {},
     "output_type": "execute_result"
    }
   ],
   "source": [
    "df_dict['en'][0:2].transpose()"
   ]
  },
  {
   "cell_type": "markdown",
   "metadata": {},
   "source": [
    "### Combining into one dataframe"
   ]
  },
  {
   "cell_type": "code",
   "execution_count": 9,
   "metadata": {
    "collapsed": true
   },
   "outputs": [],
   "source": [
    "df_all = df_dict['en'].copy()\n",
    "df_all = df_all.drop(df_all.index, axis=0)\n",
    "\n",
    "for lang, lang_df in df_dict.items():\n",
    "    lang_df['language'] = lang\n",
    "    df_all = pd.concat([df_all, lang_df])"
   ]
  },
  {
   "cell_type": "code",
   "execution_count": 10,
   "metadata": {},
   "outputs": [
    {
     "data": {
      "text/plain": [
       "en    1001093\n",
       "fr     193066\n",
       "es     177368\n",
       "pt     141738\n",
       "de     137844\n",
       "zh     102846\n",
       "ja      89980\n",
       "Name: language, dtype: int64"
      ]
     },
     "execution_count": 10,
     "metadata": {},
     "output_type": "execute_result"
    }
   ],
   "source": [
    "df_all['language'].value_counts()"
   ]
  },
  {
   "cell_type": "code",
   "execution_count": 11,
   "metadata": {
    "scrolled": true
   },
   "outputs": [
    {
     "name": "stdout",
     "output_type": "stream",
     "text": [
      "en 1001093\n",
      "zh 102846\n",
      "pt 141738\n",
      "fr 193066\n",
      "ja 89980\n",
      "de 137844\n",
      "es 177368\n"
     ]
    }
   ],
   "source": [
    "for lang, lang_df in df_dict.items():\n",
    "    print(lang, len(lang_df))\n",
    "    \n"
   ]
  },
  {
   "cell_type": "code",
   "execution_count": null,
   "metadata": {
    "collapsed": true
   },
   "outputs": [],
   "source": []
  },
  {
   "cell_type": "markdown",
   "metadata": {},
   "source": [
    "### Namespace type"
   ]
  },
  {
   "cell_type": "code",
   "execution_count": 12,
   "metadata": {
    "collapsed": true
   },
   "outputs": [],
   "source": [
    "def namespace_type(item):\n",
    "    if int(item) == 0:\n",
    "        return 'article'\n",
    "    elif int(item) == 14:\n",
    "        return 'category'\n",
    "    elif int(item) % 2 == 1:\n",
    "        return 'other talk'\n",
    "    else:\n",
    "        return 'other page'"
   ]
  },
  {
   "cell_type": "code",
   "execution_count": 13,
   "metadata": {
    "collapsed": true
   },
   "outputs": [],
   "source": [
    "df_all['namespace_type'] = df_all['page_namespace'].apply(namespace_type)"
   ]
  },
  {
   "cell_type": "code",
   "execution_count": 14,
   "metadata": {},
   "outputs": [
    {
     "data": {
      "text/plain": [
       "article       1122392\n",
       "category       365193\n",
       "other page     226994\n",
       "other talk     129356\n",
       "Name: namespace_type, dtype: int64"
      ]
     },
     "execution_count": 14,
     "metadata": {},
     "output_type": "execute_result"
    }
   ],
   "source": [
    "df_all['namespace_type'].value_counts()"
   ]
  },
  {
   "cell_type": "markdown",
   "metadata": {},
   "source": [
    "### Datetime parsing"
   ]
  },
  {
   "cell_type": "code",
   "execution_count": 15,
   "metadata": {
    "collapsed": true
   },
   "outputs": [],
   "source": [
    "def get_year(timestamp):\n",
    "    return timestamp.year"
   ]
  },
  {
   "cell_type": "code",
   "execution_count": 16,
   "metadata": {
    "collapsed": true
   },
   "outputs": [],
   "source": [
    "df_all['reverting_timestamp_dt'] = pd.to_datetime(df_all['reverting_timestamp'], format=\"%Y%m%d%H%M%S\")\n",
    "df_all['reverted_timestamp_dt'] = pd.to_datetime(df_all['rev_timestamp'], format=\"%Y%m%d%H%M%S\")\n",
    "\n",
    "df_all = df_all.set_index('reverting_timestamp_dt')\n",
    "\n",
    "df_all['reverting_timestamp_dt'] = pd.to_datetime(df_all['reverting_timestamp'], format=\"%Y%m%d%H%M%S\")\n",
    "\n",
    "df_all['time_to_revert'] = df_all['reverting_timestamp_dt']-df_all['reverted_timestamp_dt']\n",
    "\n",
    "df_all['time_to_revert_hrs'] = df_all['time_to_revert'].astype('timedelta64[s]')/(60*60)\n",
    "\n",
    "df_all['time_to_revert_days'] = df_all['time_to_revert'].astype('timedelta64[s]')/(60*60*24)\n",
    "\n",
    "df_all['reverting_year'] = df_all['reverting_timestamp_dt'].apply(get_year)"
   ]
  },
  {
   "cell_type": "markdown",
   "metadata": {},
   "source": [
    "### enwiki yearly bot-bot revert counts"
   ]
  },
  {
   "cell_type": "code",
   "execution_count": 17,
   "metadata": {},
   "outputs": [
    {
     "data": {
      "text/plain": [
       "2004         4\n",
       "2005       262\n",
       "2006      6238\n",
       "2007     34084\n",
       "2008     66228\n",
       "2009     72846\n",
       "2010     61780\n",
       "2011    126814\n",
       "2012     96084\n",
       "2013    403111\n",
       "2014     41188\n",
       "2015     49194\n",
       "2016     43260\n",
       "Name: reverting_year, dtype: int64"
      ]
     },
     "execution_count": 17,
     "metadata": {},
     "output_type": "execute_result"
    }
   ],
   "source": [
    "df_all[df_all['language']=='en'].reverting_year.value_counts().sort_index()"
   ]
  },
  {
   "cell_type": "markdown",
   "metadata": {},
   "source": [
    "### all langauges (in dataset) yearly bot-bot revert counts"
   ]
  },
  {
   "cell_type": "code",
   "execution_count": 18,
   "metadata": {},
   "outputs": [
    {
     "data": {
      "text/plain": [
       "2004       604\n",
       "2005      3196\n",
       "2006     12714\n",
       "2007     58850\n",
       "2008    109978\n",
       "2009    163096\n",
       "2010    137000\n",
       "2011    294004\n",
       "2012    206238\n",
       "2013    685235\n",
       "2014     53466\n",
       "2015     70826\n",
       "2016     48728\n",
       "Name: reverting_year, dtype: int64"
      ]
     },
     "execution_count": 18,
     "metadata": {},
     "output_type": "execute_result"
    }
   ],
   "source": [
    "df_all.reverting_year.value_counts().sort_index()"
   ]
  },
  {
   "cell_type": "markdown",
   "metadata": {},
   "source": [
    "### Other processing"
   ]
  },
  {
   "cell_type": "code",
   "execution_count": 19,
   "metadata": {
    "collapsed": true
   },
   "outputs": [],
   "source": [
    "def concat_botpair(row):\n",
    "    return str(row['reverting_user_text']) + \" rv \" + str(row['rev_user_text'])\n",
    "    \n",
    "df_all['botpair'] = df_all.apply(concat_botpair, axis=1)"
   ]
  },
  {
   "cell_type": "code",
   "execution_count": null,
   "metadata": {
    "collapsed": true
   },
   "outputs": [],
   "source": []
  },
  {
   "cell_type": "markdown",
   "metadata": {},
   "source": [
    "### Final data format"
   ]
  },
  {
   "cell_type": "code",
   "execution_count": 20,
   "metadata": {},
   "outputs": [
    {
     "data": {
      "text/html": [
       "<div>\n",
       "<table border=\"1\" class=\"dataframe\">\n",
       "  <thead>\n",
       "    <tr style=\"text-align: right;\">\n",
       "      <th>reverting_timestamp_dt</th>\n",
       "      <th>2009-02-28 02:19:25</th>\n",
       "      <th>2009-02-10 23:03:37</th>\n",
       "    </tr>\n",
       "  </thead>\n",
       "  <tbody>\n",
       "    <tr>\n",
       "      <th>archived</th>\n",
       "      <td>False</td>\n",
       "      <td>False</td>\n",
       "    </tr>\n",
       "    <tr>\n",
       "      <th>language</th>\n",
       "      <td>en</td>\n",
       "      <td>en</td>\n",
       "    </tr>\n",
       "    <tr>\n",
       "      <th>page_namespace</th>\n",
       "      <td>0</td>\n",
       "      <td>1</td>\n",
       "    </tr>\n",
       "    <tr>\n",
       "      <th>rev_deleted</th>\n",
       "      <td>False</td>\n",
       "      <td>False</td>\n",
       "    </tr>\n",
       "    <tr>\n",
       "      <th>rev_id</th>\n",
       "      <td>273691771</td>\n",
       "      <td>136526894</td>\n",
       "    </tr>\n",
       "    <tr>\n",
       "      <th>rev_minor_edit</th>\n",
       "      <td>False</td>\n",
       "      <td>False</td>\n",
       "    </tr>\n",
       "    <tr>\n",
       "      <th>rev_page</th>\n",
       "      <td>5040439</td>\n",
       "      <td>3046554</td>\n",
       "    </tr>\n",
       "    <tr>\n",
       "      <th>rev_parent_id</th>\n",
       "      <td>2.59117e+08</td>\n",
       "      <td>1.20932e+08</td>\n",
       "    </tr>\n",
       "    <tr>\n",
       "      <th>rev_revert_offset</th>\n",
       "      <td>1</td>\n",
       "      <td>1</td>\n",
       "    </tr>\n",
       "    <tr>\n",
       "      <th>rev_sha1</th>\n",
       "      <td>qj45ne2z4yfexmpaz5wfnbm2yrmqt4j</td>\n",
       "      <td>3xtnw7u4w9h6cg1smw97mqnr1en6a55</td>\n",
       "    </tr>\n",
       "    <tr>\n",
       "      <th>rev_timestamp</th>\n",
       "      <td>20090227173507</td>\n",
       "      <td>20070607044209</td>\n",
       "    </tr>\n",
       "    <tr>\n",
       "      <th>rev_user</th>\n",
       "      <td>6505923</td>\n",
       "      <td>4534303</td>\n",
       "    </tr>\n",
       "    <tr>\n",
       "      <th>rev_user_text</th>\n",
       "      <td>Kbdankbot</td>\n",
       "      <td>PbBot</td>\n",
       "    </tr>\n",
       "    <tr>\n",
       "      <th>reverted_to_rev_id</th>\n",
       "      <td>259117355</td>\n",
       "      <td>120932016</td>\n",
       "    </tr>\n",
       "    <tr>\n",
       "      <th>reverting_archived</th>\n",
       "      <td>False</td>\n",
       "      <td>False</td>\n",
       "    </tr>\n",
       "    <tr>\n",
       "      <th>reverting_comment</th>\n",
       "      <td>Robot - Speedily moving category 9th-century i...</td>\n",
       "      <td>Removing {{1911 talk}} per [[Wikipedia:Templat...</td>\n",
       "    </tr>\n",
       "    <tr>\n",
       "      <th>reverting_deleted</th>\n",
       "      <td>False</td>\n",
       "      <td>False</td>\n",
       "    </tr>\n",
       "    <tr>\n",
       "      <th>reverting_id</th>\n",
       "      <td>273789753</td>\n",
       "      <td>269875438</td>\n",
       "    </tr>\n",
       "    <tr>\n",
       "      <th>reverting_minor_edit</th>\n",
       "      <td>True</td>\n",
       "      <td>True</td>\n",
       "    </tr>\n",
       "    <tr>\n",
       "      <th>reverting_page</th>\n",
       "      <td>5040439</td>\n",
       "      <td>3046554</td>\n",
       "    </tr>\n",
       "    <tr>\n",
       "      <th>reverting_parent_id</th>\n",
       "      <td>2.73692e+08</td>\n",
       "      <td>1.36527e+08</td>\n",
       "    </tr>\n",
       "    <tr>\n",
       "      <th>reverting_sha1</th>\n",
       "      <td>od1e685o9f5j7dtpd9zp2fhew3agjeq</td>\n",
       "      <td>f8ye1kj73h0ymwqj6rlsimwk3jd9tef</td>\n",
       "    </tr>\n",
       "    <tr>\n",
       "      <th>reverting_timestamp</th>\n",
       "      <td>20090228021925</td>\n",
       "      <td>20090210230337</td>\n",
       "    </tr>\n",
       "    <tr>\n",
       "      <th>reverting_user</th>\n",
       "      <td>1215485</td>\n",
       "      <td>7328338</td>\n",
       "    </tr>\n",
       "    <tr>\n",
       "      <th>reverting_user_text</th>\n",
       "      <td>Cydebot</td>\n",
       "      <td>Yobot</td>\n",
       "    </tr>\n",
       "    <tr>\n",
       "      <th>revisions_reverted</th>\n",
       "      <td>1</td>\n",
       "      <td>1</td>\n",
       "    </tr>\n",
       "    <tr>\n",
       "      <th>namespace_type</th>\n",
       "      <td>article</td>\n",
       "      <td>other talk</td>\n",
       "    </tr>\n",
       "    <tr>\n",
       "      <th>reverted_timestamp_dt</th>\n",
       "      <td>2009-02-27 17:35:07</td>\n",
       "      <td>2007-06-07 04:42:09</td>\n",
       "    </tr>\n",
       "    <tr>\n",
       "      <th>reverting_timestamp_dt</th>\n",
       "      <td>2009-02-28 02:19:25</td>\n",
       "      <td>2009-02-10 23:03:37</td>\n",
       "    </tr>\n",
       "    <tr>\n",
       "      <th>time_to_revert</th>\n",
       "      <td>0 days 08:44:18</td>\n",
       "      <td>614 days 18:21:28</td>\n",
       "    </tr>\n",
       "    <tr>\n",
       "      <th>time_to_revert_hrs</th>\n",
       "      <td>8.73833</td>\n",
       "      <td>14754.4</td>\n",
       "    </tr>\n",
       "    <tr>\n",
       "      <th>time_to_revert_days</th>\n",
       "      <td>0.364097</td>\n",
       "      <td>614.765</td>\n",
       "    </tr>\n",
       "    <tr>\n",
       "      <th>reverting_year</th>\n",
       "      <td>2009</td>\n",
       "      <td>2009</td>\n",
       "    </tr>\n",
       "    <tr>\n",
       "      <th>botpair</th>\n",
       "      <td>Cydebot rv Kbdankbot</td>\n",
       "      <td>Yobot rv PbBot</td>\n",
       "    </tr>\n",
       "  </tbody>\n",
       "</table>\n",
       "</div>"
      ],
      "text/plain": [
       "reverting_timestamp_dt                                2009-02-28 02:19:25  \\\n",
       "archived                                                            False   \n",
       "language                                                               en   \n",
       "page_namespace                                                          0   \n",
       "rev_deleted                                                         False   \n",
       "rev_id                                                          273691771   \n",
       "rev_minor_edit                                                      False   \n",
       "rev_page                                                          5040439   \n",
       "rev_parent_id                                                 2.59117e+08   \n",
       "rev_revert_offset                                                       1   \n",
       "rev_sha1                                  qj45ne2z4yfexmpaz5wfnbm2yrmqt4j   \n",
       "rev_timestamp                                              20090227173507   \n",
       "rev_user                                                          6505923   \n",
       "rev_user_text                                                   Kbdankbot   \n",
       "reverted_to_rev_id                                              259117355   \n",
       "reverting_archived                                                  False   \n",
       "reverting_comment       Robot - Speedily moving category 9th-century i...   \n",
       "reverting_deleted                                                   False   \n",
       "reverting_id                                                    273789753   \n",
       "reverting_minor_edit                                                 True   \n",
       "reverting_page                                                    5040439   \n",
       "reverting_parent_id                                           2.73692e+08   \n",
       "reverting_sha1                            od1e685o9f5j7dtpd9zp2fhew3agjeq   \n",
       "reverting_timestamp                                        20090228021925   \n",
       "reverting_user                                                    1215485   \n",
       "reverting_user_text                                               Cydebot   \n",
       "revisions_reverted                                                      1   \n",
       "namespace_type                                                    article   \n",
       "reverted_timestamp_dt                                 2009-02-27 17:35:07   \n",
       "reverting_timestamp_dt                                2009-02-28 02:19:25   \n",
       "time_to_revert                                            0 days 08:44:18   \n",
       "time_to_revert_hrs                                                8.73833   \n",
       "time_to_revert_days                                              0.364097   \n",
       "reverting_year                                                       2009   \n",
       "botpair                                              Cydebot rv Kbdankbot   \n",
       "\n",
       "reverting_timestamp_dt                                2009-02-10 23:03:37  \n",
       "archived                                                            False  \n",
       "language                                                               en  \n",
       "page_namespace                                                          1  \n",
       "rev_deleted                                                         False  \n",
       "rev_id                                                          136526894  \n",
       "rev_minor_edit                                                      False  \n",
       "rev_page                                                          3046554  \n",
       "rev_parent_id                                                 1.20932e+08  \n",
       "rev_revert_offset                                                       1  \n",
       "rev_sha1                                  3xtnw7u4w9h6cg1smw97mqnr1en6a55  \n",
       "rev_timestamp                                              20070607044209  \n",
       "rev_user                                                          4534303  \n",
       "rev_user_text                                                       PbBot  \n",
       "reverted_to_rev_id                                              120932016  \n",
       "reverting_archived                                                  False  \n",
       "reverting_comment       Removing {{1911 talk}} per [[Wikipedia:Templat...  \n",
       "reverting_deleted                                                   False  \n",
       "reverting_id                                                    269875438  \n",
       "reverting_minor_edit                                                 True  \n",
       "reverting_page                                                    3046554  \n",
       "reverting_parent_id                                           1.36527e+08  \n",
       "reverting_sha1                            f8ye1kj73h0ymwqj6rlsimwk3jd9tef  \n",
       "reverting_timestamp                                        20090210230337  \n",
       "reverting_user                                                    7328338  \n",
       "reverting_user_text                                                 Yobot  \n",
       "revisions_reverted                                                      1  \n",
       "namespace_type                                                 other talk  \n",
       "reverted_timestamp_dt                                 2007-06-07 04:42:09  \n",
       "reverting_timestamp_dt                                2009-02-10 23:03:37  \n",
       "time_to_revert                                          614 days 18:21:28  \n",
       "time_to_revert_hrs                                                14754.4  \n",
       "time_to_revert_days                                               614.765  \n",
       "reverting_year                                                       2009  \n",
       "botpair                                                    Yobot rv PbBot  "
      ]
     },
     "execution_count": 20,
     "metadata": {},
     "output_type": "execute_result"
    }
   ],
   "source": [
    "df_all[0:2].transpose()"
   ]
  },
  {
   "cell_type": "markdown",
   "metadata": {
    "collapsed": true
   },
   "source": [
    "# Comments analysis"
   ]
  },
  {
   "cell_type": "markdown",
   "metadata": {},
   "source": [
    "Function for removing text within square brackets or parentheses, which is useful for aggregating comment messages."
   ]
  },
  {
   "cell_type": "code",
   "execution_count": 21,
   "metadata": {
    "collapsed": true
   },
   "outputs": [],
   "source": [
    "%%cython\n",
    "# by http://stackoverflow.com/questions/14596884/remove-text-between-and-in-python\n",
    "\n",
    "def remove_brackets(str test_str):\n",
    "    \"\"\"\n",
    "    Takes a string and returns that string with text in brackets and parentheses removed\n",
    "    \"\"\"\n",
    "    \n",
    "    test_str = str(test_str)\n",
    "    ret = ''\n",
    "    skip1c = 0\n",
    "    skip2c = 0\n",
    "    for i in test_str:\n",
    "        if i == '[':\n",
    "            skip1c += 1\n",
    "        elif i == '(':\n",
    "            skip2c += 1\n",
    "        elif i == ']' and skip1c > 0:\n",
    "            skip1c -= 1\n",
    "        elif i == ')'and skip2c > 0:\n",
    "            skip2c -= 1\n",
    "        elif skip1c == 0 and skip2c == 0:\n",
    "            ret += i\n",
    "            \n",
    "    return \" \".join(ret.split())"
   ]
  },
  {
   "cell_type": "code",
   "execution_count": 22,
   "metadata": {
    "collapsed": true
   },
   "outputs": [],
   "source": [
    "df_all['reverting_comment_nobracket'] = df_all['reverting_comment'].apply(remove_brackets)"
   ]
  },
  {
   "cell_type": "markdown",
   "metadata": {},
   "source": [
    "### Comment parsing functions"
   ]
  },
  {
   "cell_type": "markdown",
   "metadata": {},
   "source": [
    "There are two functions that are used to parse comments. `comment_categorization()` runs first and applies a series of pattern matching to comments. If a match is not found, then `interwiki_confirm()` is called, which checks for languages codes in certain patterns that indicate interwiki links."
   ]
  },
  {
   "cell_type": "code",
   "execution_count": 23,
   "metadata": {},
   "outputs": [],
   "source": [
    "%%cython\n",
    "def interwiki_confirm(str comment, str langcode):\n",
    "    \"\"\"\n",
    "    Takes a comment string, searches for language codes bordered by \n",
    "    two punctuation marks from [](){},: or one punctuation mark and\n",
    "    one space. Beginning and end of a comment string counts as a\n",
    "    space, not a punctuation mark.\n",
    "    \n",
    "    Does not recognize the current langcode.\n",
    "    \"\"\"\n",
    "    import string, re\n",
    "    \n",
    "    with open(\"lang_codes.tsv\", \"r\") as f:\n",
    "        lang_codes = f.read().split(\"\\n\")\n",
    "        \n",
    "    lang_codes.pop() # a blank '' is in the list that gets returned\n",
    "    \n",
    "    lang_codes.remove(langcode)\n",
    "    \n",
    "    #print(langcode in lang_codes)\n",
    "    \n",
    "    try:\n",
    "        comment = str(comment)\n",
    "        comment = comment.lower()\n",
    "        comment = comment.replace(\": \", \":\")\n",
    "        comment = \" \" + comment + \" \"  # pad start and end of string with non-punctuation\n",
    "        #print(comment)\n",
    "        \n",
    "    except Exception as e:\n",
    "        return 'other'\n",
    "    \n",
    "    for lang_code in lang_codes:\n",
    "        \n",
    "        lang_code_pos = comment.find(lang_code)\n",
    "        lang_code_len = len(lang_code)\n",
    "        \n",
    "        char_before = \" \"\n",
    "        char_after = \" \"\n",
    "        \n",
    "        if lang_code_pos >= 0:\n",
    "            char_before = comment[lang_code_pos-1]\n",
    "        \n",
    "            #print(\"Char before: '\", char_before, \"'\", sep='')\n",
    "             \n",
    "            char_after = comment[lang_code_pos+lang_code_len]\n",
    "\n",
    "            #print(\"Char after: '\", char_after, \"'\", sep='')\n",
    "            \n",
    "            if char_before in string.punctuation and char_after in \"[]{}(),:\":\n",
    "                #print(comment, lang_code)\n",
    "                return 'interwiki link cleanup -- suspected'\n",
    "            \n",
    "            elif char_after in string.punctuation and char_before in \"[]{}(),:\":\n",
    "                #print(comment, lang_code)\n",
    "                return 'interwiki link cleanup -- suspected'\n",
    "            \n",
    "            elif char_before == \" \" and char_after in \"[]{}(),:\":\n",
    "                #print(comment, lang_code)\n",
    "                return 'interwiki link cleanup -- suspected'\n",
    "            \n",
    "            elif char_after == \" \" and char_before in \"[]{}(),:\":\n",
    "                #print(comment, lang_code)\n",
    "                return 'interwiki link cleanup -- suspected'               \n",
    "    return 'other'\n",
    "    \n",
    "\n",
    "def comment_categorization(row):\n",
    "    \"\"\"\n",
    "    Takes a row from a pandas dataframe or dict and returns a string with a\n",
    "    kind of activity based on metadata. Used with df.apply(). Mostly parses\n",
    "    comments, but makes some use of usernames too.\n",
    "    \"\"\"\n",
    "    \n",
    "    reverting_user = str(row['reverting_user_text'])\n",
    "    \n",
    "    reverted_user = str(row['rev_user_text'])\n",
    "    \n",
    "    langcode = str(row['language'])\n",
    "    \n",
    "    if reverting_user.find(\"HBC AIV\") >= 0:\n",
    "        return 'AIV helperbot'\n",
    "    \n",
    "    try:\n",
    "        comment = str(row['reverting_comment'])\n",
    "    except Exception as e:\n",
    "        return 'other'\n",
    "    \n",
    "    comment_lower = comment.lower().strip()\n",
    "    comment_lower = \" \".join(comment_lower.split())\n",
    " \n",
    "    if comment == 'nan':\n",
    "        return \"deleted revision\"\n",
    "    \n",
    "    if reverting_user == 'Cyberbot II' and reverted_user == 'AnomieBOT' and comment.find(\"tagging/redirecting to OCC\") >= 0:\n",
    "        return 'botfight: Cyberbot II vs AnomieBOT date tagging'\n",
    "        \n",
    "    if reverting_user == 'AnomieBOT' and reverted_user == 'Cyberbot II' and comment.find(\"{{Deadlink}}\") >= 0:\n",
    "        return 'botfight: Cyberbot II vs AnomieBOT date tagging'                \n",
    "    \n",
    "    elif comment.find(\"Undoing massive unnecessary addition of infoboxneeded by a (now blocked) bot\") >= 0:\n",
    "        return \"botfight: infoboxneeded\"\n",
    "    \n",
    "    elif comment_lower.find(\"commonsdelinker\") >=0 and reverting_user.find(\"CommonsDelinker\") == -1:\n",
    "        return \"botfight: reverting CommonsDelinker\"\n",
    "        \n",
    "    elif comment.find(\"Reverted edits by [[Special:Contributions/ImageRemovalBot\") >= 0:\n",
    "        return \"botfight: 718bot vs ImageRemovalBot\"\n",
    "    \n",
    "    elif comment_lower.find(\"double redirect\") >= 0:\n",
    "        return \"fixing double redirect\"\n",
    "    \n",
    "    elif comment_lower.find(\"double-redirect\") >= 0:\n",
    "        return \"fixing double redirect\"\n",
    "\n",
    "    elif comment_lower.find(\"has been moved; it now redirects to\") >= 0:\n",
    "        return \"fixing double redirect\"\n",
    "    \n",
    "    elif comment_lower.find(\"correction du redirect\") >= 0:\n",
    "        return \"fixing double redirect\"   \n",
    "        \n",
    "    elif comment_lower.find(\"redirect tagging\") >= 0:\n",
    "        return \"redirect tagging/sorting\"\n",
    "    \n",
    "    elif comment_lower.find(\"sorting redirect\") >= 0:\n",
    "        return \"redirect tagging/sorting\"\n",
    "    \n",
    "    elif comment_lower.find(\"redirecciones\") >= 0 and comment_lower.find(\"categoría\") >= 0:\n",
    "        return \"category redirect cleanup\"    \n",
    "    \n",
    "    elif comment_lower.find(\"change redirected category\") >= 0:\n",
    "        return \"category redirect cleanup\"\n",
    "    \n",
    "    elif comment_lower.find(\"redirected category\") >=0:\n",
    "        return \"category redirect cleanup\"\n",
    "    \n",
    "    elif comment.find(\"[[User:Addbot|Bot:]] Adding \") >= 0:\n",
    "        return \"template tagging\"\n",
    "    \n",
    "    elif comment_lower.find(\"interwiki\") >= 0:\n",
    "        return \"interwiki link cleanup\"\n",
    "    \n",
    "    elif comment_lower.find(\"langlinks\") >= 0:\n",
    "        return \"interwiki link cleanup\"\n",
    "    \n",
    "    elif comment_lower.find(\"iw-link\") >= 0:\n",
    "        return \"interwiki link cleanup\"\n",
    "    \n",
    "    elif comment_lower.find(\"changing category\") >= 0:\n",
    "        return \"moving category\"\n",
    "    \n",
    "    elif comment_lower.find(\"recat per\") >= 0:\n",
    "        return \"moving category\"\n",
    "    \n",
    "    elif comment_lower.find(\"moving category\") >= 0:\n",
    "        return \"moving category\"\n",
    "    \n",
    "    elif comment_lower.find(\"re-categorisation\") >= 0:\n",
    "        return \"moving category\"\n",
    "    \n",
    "    elif comment_lower.find(\"recatégorisation\") >= 0:\n",
    "        return \"moving category\"   \n",
    "    \n",
    "    elif comment_lower.find(\"Updating users status to\") >= 0:\n",
    "        return \"user online status update\"\n",
    "    \n",
    "    elif comment_lower.find(\"{{Copy to Wikimedia Commons}} either because the file\") >= 0:\n",
    "        return \"template cleanup\"\n",
    "        \n",
    "    elif comment_lower.find(\"removing a protection template\") >= 0:\n",
    "        return \"protection template cleanup\"\n",
    "    \n",
    "    elif comment_lower.find(\"removing categorization template\") >= 0:\n",
    "        return \"template cleanup\"    \n",
    "    \n",
    "    elif comment_lower.find(\"rm ibid template per\") >= 0:\n",
    "        return \"template cleanup\"      \n",
    "    \n",
    "    elif comment_lower.find(\"page is not protected\") >= 0:\n",
    "        return \"template cleanup\"          \n",
    "    \n",
    "    elif comment_lower.find(\"removing protection template\") >= 0:\n",
    "        return \"template cleanup\"      \n",
    "    \n",
    "    elif comment_lower.find(\"removing orphan t\") >= 0:\n",
    "        return \"template cleanup\"\n",
    "    \n",
    "    elif comment_lower.find(\"non-applicable orphan\") >= 0:\n",
    "        return \"template cleanup\"\n",
    "    \n",
    "    elif comment_lower.find(\"plantilla\") >= 0 and comment_lower.find(\"huérfano\") >= 0:\n",
    "        return \"template cleanup\"\n",
    "    \n",
    "    elif comment_lower.find(\"removed orphan t\") >= 0:\n",
    "        return \"template cleanup\"    \n",
    "    \n",
    "    elif comment_lower.find(\"sandbox\") >= 0:\n",
    "        return \"clearing sandbox\"\n",
    "    \n",
    "    elif comment_lower.find(\"archiving\") >= 0:\n",
    "        return \"archiving\"\n",
    "    \n",
    "    elif comment_lower.find(\"duplicate on commons\") >= 0:\n",
    "        return \"commons image migration\"\n",
    "    \n",
    "    elif comment_lower.find(\"user:mathbot/changes to mathlists\") >= 0:\n",
    "        return \"mathbot mathlist updates\"\n",
    "        \n",
    "    elif comment_lower.find(\"link syntax\") >= 0:\n",
    "        return \"link syntax fixing\"\n",
    "    \n",
    "    elif comment_lower.find(\"links syntax\") >= 0:\n",
    "        return \"link syntax fixing\" \n",
    "        \n",
    "    elif comment_lower.find(\" per \") >= 0:\n",
    "        return \"has per justification\"  \n",
    "    \n",
    "    elif comment_lower.find(\" según\") >= 0:\n",
    "        return \"has per justification\"      \n",
    " \n",
    "    elif comment_lower.find(\"suite à discussion\") >= 0:\n",
    "        return \"has per justification\"  \n",
    "    \n",
    "    elif comment_lower.find(\"suite à conservation\") >= 0:\n",
    "        return \"has per justification\"     \n",
    "    \n",
    "    elif comment_lower.find(\"conforme pedido\") >= 0:\n",
    "        return \"has per justification\"\n",
    "    \n",
    "    elif comment_lower.find(\"revert\") >= 0:\n",
    "        return \"other w/ revert in comment\"  \n",
    "    \n",
    "    elif comment_lower.find(\"rv \") >= 0 or comment_lower.find(\"rv\") == 0:\n",
    "        return \"other w/ revert in comment\"  \n",
    "    \n",
    "    elif comment_lower.find(\"wikidata\") >= 0:\n",
    "        return \"interwiki link cleanup\"\n",
    "    \n",
    "    elif comment.find(\"言語間\") >=0:\n",
    "        return \"interwiki link cleanup\"\n",
    "        \n",
    "    elif comment_lower.find(\"interproyecto\") >=0:\n",
    "        return \"interwiki link cleanup\"    \n",
    "        \n",
    "    elif comment.find(\"语言链接\") >=0:\n",
    "        return \"interwiki link cleanup\"  \n",
    "    \n",
    "    elif comment.find(\"双重重定向\") >=0 or comment.find(\"雙重重定向\") >= 0:\n",
    "        return \"fixing double redirect\"   \n",
    "\n",
    "    elif comment.find(\"二重リダイレクト\") >=0:\n",
    "        return \"fixing double redirect\"  \n",
    "    \n",
    "    elif comment_lower.find(\"doppelten redirect\") >=0:\n",
    "        return \"fixing double redirect\"  \n",
    "    \n",
    "    elif comment_lower.find(\"doppelte weiterleitung\") >=0:\n",
    "        return \"fixing double redirect\"      \n",
    "    \n",
    "    elif comment_lower.find(\"redirectauflösung\") >=0:\n",
    "        return \"fixing double redirect\"      \n",
    "    \n",
    "    elif comment_lower.find(\"doble redirección\") >=0 or comment_lower.find(\"redirección doble\") >= 0:\n",
    "        return \"fixing double redirect\"  \n",
    "    \n",
    "    elif comment_lower.find(\"redireccionamento duplo\") >=0:\n",
    "        return \"fixing double redirect\"  \n",
    "\n",
    "    elif comment_lower.find(\"duplo redirecionamento\") >=0:\n",
    "        return \"fixing double redirect\"      \n",
    "    \n",
    "    elif comment_lower.find(\"suppression bandeau\") >= 0:\n",
    "        return \"template cleanup\"\n",
    "    \n",
    "    elif comment_lower.find(\"archiviert\") >= 0:\n",
    "        return \"archiving\"\n",
    "    \n",
    "    else:\n",
    "        return interwiki_confirm(comment, langcode)"
   ]
  },
  {
   "cell_type": "markdown",
   "metadata": {},
   "source": [
    "Testing interwiki confirm"
   ]
  },
  {
   "cell_type": "code",
   "execution_count": 24,
   "metadata": {},
   "outputs": [
    {
     "name": "stdout",
     "output_type": "stream",
     "text": [
      "Should return interwiki link cleanup -- suspected\n",
      "\t interwiki link cleanup -- suspected\n",
      "\t interwiki link cleanup -- suspected\n",
      "\t interwiki link cleanup -- suspected\n",
      "\t interwiki link cleanup -- suspected\n",
      "\t interwiki link cleanup -- suspected\n",
      "\t interwiki link cleanup -- suspected\n",
      "Should return other\n",
      "\t other\n",
      "\t other\n",
      "\t other\n",
      "\t other\n",
      "\t other\n",
      "\t other\n",
      "\t other\n",
      "\t other\n"
     ]
    }
   ],
   "source": [
    "tests_yes = [\"Robot adding [[es:Test]]\",\n",
    "             \"adding es:Test\",\n",
    "             \"linking es, it, en\",\n",
    "             \"modifying fr:\",\n",
    "             \"modifying:zh\",\n",
    "             \"modifying: ja\"]\n",
    "\n",
    "tests_no = [\"test\", \n",
    "            \"discuss policies on enwiki vs eswiki\", \n",
    "            \"it is done\", \n",
    "            \"per [[en:WP:AIV]]\",\n",
    "            \"it's not its\", \n",
    "            \"its not it's\",\n",
    "            \"modifying it all\",\n",
    "            \"modifying italy\"]\n",
    "\n",
    "print(\"Should return interwiki link cleanup -- suspected\")\n",
    "for test in tests_yes:\n",
    "    print(\"\\t\", interwiki_confirm(test, 'en'))\n",
    "\n",
    "print(\"Should return other\")\n",
    "for test in tests_no:\n",
    "    print(\"\\t\", interwiki_confirm(test, 'en'))"
   ]
  },
  {
   "cell_type": "markdown",
   "metadata": {},
   "source": [
    "Apply categorization"
   ]
  },
  {
   "cell_type": "code",
   "execution_count": 25,
   "metadata": {},
   "outputs": [
    {
     "name": "stdout",
     "output_type": "stream",
     "text": [
      "CPU times: user 6min 45s, sys: 7.78 s, total: 6min 52s\n",
      "Wall time: 6min 54s\n"
     ]
    }
   ],
   "source": [
    "%%time\n",
    "df_all['bottype'] = df_all.apply(comment_categorization, axis=1)"
   ]
  },
  {
   "cell_type": "markdown",
   "metadata": {},
   "source": [
    "## Analysis"
   ]
  },
  {
   "cell_type": "markdown",
   "metadata": {},
   "source": [
    "Much of what we're interested in are articles, which are in namespace 0. "
   ]
  },
  {
   "cell_type": "code",
   "execution_count": 26,
   "metadata": {
    "collapsed": true
   },
   "outputs": [],
   "source": [
    "df_all_ns0 = df_all[df_all['page_namespace']==0]"
   ]
  },
  {
   "cell_type": "markdown",
   "metadata": {
    "collapsed": true
   },
   "source": [
    "### Bottype counts and percentages across all languages in the dataset, articles only"
   ]
  },
  {
   "cell_type": "code",
   "execution_count": 27,
   "metadata": {},
   "outputs": [
    {
     "data": {
      "text/html": [
       "<div>\n",
       "<table border=\"1\" class=\"dataframe\">\n",
       "  <thead>\n",
       "    <tr style=\"text-align: right;\">\n",
       "      <th></th>\n",
       "      <th>count</th>\n",
       "      <th>percent</th>\n",
       "    </tr>\n",
       "  </thead>\n",
       "  <tbody>\n",
       "    <tr>\n",
       "      <th>interwiki link cleanup -- suspected</th>\n",
       "      <td>488984</td>\n",
       "      <td>43.57%</td>\n",
       "    </tr>\n",
       "    <tr>\n",
       "      <th>interwiki link cleanup</th>\n",
       "      <td>327372</td>\n",
       "      <td>29.17%</td>\n",
       "    </tr>\n",
       "    <tr>\n",
       "      <th>fixing double redirect</th>\n",
       "      <td>259022</td>\n",
       "      <td>23.08%</td>\n",
       "    </tr>\n",
       "    <tr>\n",
       "      <th>other</th>\n",
       "      <td>20170</td>\n",
       "      <td>1.8%</td>\n",
       "    </tr>\n",
       "    <tr>\n",
       "      <th>protection template cleanup</th>\n",
       "      <td>5686</td>\n",
       "      <td>0.51%</td>\n",
       "    </tr>\n",
       "    <tr>\n",
       "      <th>moving category</th>\n",
       "      <td>5230</td>\n",
       "      <td>0.47%</td>\n",
       "    </tr>\n",
       "    <tr>\n",
       "      <th>other w/ revert in comment</th>\n",
       "      <td>4852</td>\n",
       "      <td>0.43%</td>\n",
       "    </tr>\n",
       "    <tr>\n",
       "      <th>category redirect cleanup</th>\n",
       "      <td>3046</td>\n",
       "      <td>0.27%</td>\n",
       "    </tr>\n",
       "    <tr>\n",
       "      <th>template cleanup</th>\n",
       "      <td>2596</td>\n",
       "      <td>0.23%</td>\n",
       "    </tr>\n",
       "    <tr>\n",
       "      <th>has per justification</th>\n",
       "      <td>1934</td>\n",
       "      <td>0.17%</td>\n",
       "    </tr>\n",
       "    <tr>\n",
       "      <th>mathbot mathlist updates</th>\n",
       "      <td>1028</td>\n",
       "      <td>0.09%</td>\n",
       "    </tr>\n",
       "    <tr>\n",
       "      <th>botfight: Cyberbot II vs AnomieBOT date tagging</th>\n",
       "      <td>602</td>\n",
       "      <td>0.05%</td>\n",
       "    </tr>\n",
       "    <tr>\n",
       "      <th>redirect tagging/sorting</th>\n",
       "      <td>594</td>\n",
       "      <td>0.05%</td>\n",
       "    </tr>\n",
       "    <tr>\n",
       "      <th>botfight: reverting CommonsDelinker</th>\n",
       "      <td>514</td>\n",
       "      <td>0.05%</td>\n",
       "    </tr>\n",
       "    <tr>\n",
       "      <th>botfight: 718bot vs ImageRemovalBot</th>\n",
       "      <td>342</td>\n",
       "      <td>0.03%</td>\n",
       "    </tr>\n",
       "    <tr>\n",
       "      <th>botfight: infoboxneeded</th>\n",
       "      <td>196</td>\n",
       "      <td>0.02%</td>\n",
       "    </tr>\n",
       "    <tr>\n",
       "      <th>link syntax fixing</th>\n",
       "      <td>160</td>\n",
       "      <td>0.01%</td>\n",
       "    </tr>\n",
       "    <tr>\n",
       "      <th>template tagging</th>\n",
       "      <td>48</td>\n",
       "      <td>0.0%</td>\n",
       "    </tr>\n",
       "    <tr>\n",
       "      <th>clearing sandbox</th>\n",
       "      <td>10</td>\n",
       "      <td>0.0%</td>\n",
       "    </tr>\n",
       "    <tr>\n",
       "      <th>commons image migration</th>\n",
       "      <td>6</td>\n",
       "      <td>0.0%</td>\n",
       "    </tr>\n",
       "  </tbody>\n",
       "</table>\n",
       "</div>"
      ],
      "text/plain": [
       "                                                  count percent\n",
       "interwiki link cleanup -- suspected              488984  43.57%\n",
       "interwiki link cleanup                           327372  29.17%\n",
       "fixing double redirect                           259022  23.08%\n",
       "other                                             20170    1.8%\n",
       "protection template cleanup                        5686   0.51%\n",
       "moving category                                    5230   0.47%\n",
       "other w/ revert in comment                         4852   0.43%\n",
       "category redirect cleanup                          3046   0.27%\n",
       "template cleanup                                   2596   0.23%\n",
       "has per justification                              1934   0.17%\n",
       "mathbot mathlist updates                           1028   0.09%\n",
       "botfight: Cyberbot II vs AnomieBOT date tagging     602   0.05%\n",
       "redirect tagging/sorting                            594   0.05%\n",
       "botfight: reverting CommonsDelinker                 514   0.05%\n",
       "botfight: 718bot vs ImageRemovalBot                 342   0.03%\n",
       "botfight: infoboxneeded                             196   0.02%\n",
       "link syntax fixing                                  160   0.01%\n",
       "template tagging                                     48    0.0%\n",
       "clearing sandbox                                     10    0.0%\n",
       "commons image migration                               6    0.0%"
      ]
     },
     "execution_count": 27,
     "metadata": {},
     "output_type": "execute_result"
    }
   ],
   "source": [
    "type_counts = df_all_ns0['bottype'].value_counts().rename(\"count\")\n",
    "type_percent = df_all_ns0['bottype'].value_counts(normalize=True).rename(\"percent\") * 100\n",
    "type_percent = type_percent.round(2).astype(str) + \"%\"\n",
    "\n",
    "pd.concat([type_counts, type_percent], axis=1)"
   ]
  },
  {
   "cell_type": "markdown",
   "metadata": {},
   "source": [
    "### Bottype counts and percentages for each language, articles only"
   ]
  },
  {
   "cell_type": "code",
   "execution_count": 28,
   "metadata": {
    "collapsed": true
   },
   "outputs": [],
   "source": [
    "counts_dict = {}\n",
    "for lang in df_all_ns0['language'].unique():\n",
    "\n",
    "    df_lang_ns0 = df_all_ns0[df_all_ns0['language']==lang]\n",
    "    \n",
    "    type_counts = df_lang_ns0['bottype'].value_counts().rename(\"count\")\n",
    "    type_percent = df_lang_ns0['bottype'].value_counts(normalize=True).rename(\"percent\") * 100\n",
    "    type_percent = type_percent.round(2).astype(str) + \"%\"\n",
    "\n",
    "    counts_dict[lang]=pd.concat([type_counts, type_percent], axis=1)"
   ]
  },
  {
   "cell_type": "code",
   "execution_count": 29,
   "metadata": {},
   "outputs": [
    {
     "data": {
      "text/plain": [
       "array(['en', 'zh', 'pt', 'fr', 'ja', 'de', 'es'], dtype=object)"
      ]
     },
     "execution_count": 29,
     "metadata": {},
     "output_type": "execute_result"
    }
   ],
   "source": [
    "df_all_ns0['language'].unique()"
   ]
  },
  {
   "cell_type": "code",
   "execution_count": 30,
   "metadata": {},
   "outputs": [
    {
     "data": {
      "text/html": [
       "<div>\n",
       "<table border=\"1\" class=\"dataframe\">\n",
       "  <thead>\n",
       "    <tr style=\"text-align: right;\">\n",
       "      <th></th>\n",
       "      <th>count</th>\n",
       "      <th>percent</th>\n",
       "    </tr>\n",
       "  </thead>\n",
       "  <tbody>\n",
       "    <tr>\n",
       "      <th>fixing double redirect</th>\n",
       "      <td>220172</td>\n",
       "      <td>45.04%</td>\n",
       "    </tr>\n",
       "    <tr>\n",
       "      <th>interwiki link cleanup</th>\n",
       "      <td>168236</td>\n",
       "      <td>34.42%</td>\n",
       "    </tr>\n",
       "    <tr>\n",
       "      <th>interwiki link cleanup -- suspected</th>\n",
       "      <td>74204</td>\n",
       "      <td>15.18%</td>\n",
       "    </tr>\n",
       "    <tr>\n",
       "      <th>protection template cleanup</th>\n",
       "      <td>5674</td>\n",
       "      <td>1.16%</td>\n",
       "    </tr>\n",
       "    <tr>\n",
       "      <th>moving category</th>\n",
       "      <td>4672</td>\n",
       "      <td>0.96%</td>\n",
       "    </tr>\n",
       "    <tr>\n",
       "      <th>other</th>\n",
       "      <td>4530</td>\n",
       "      <td>0.93%</td>\n",
       "    </tr>\n",
       "    <tr>\n",
       "      <th>category redirect cleanup</th>\n",
       "      <td>2824</td>\n",
       "      <td>0.58%</td>\n",
       "    </tr>\n",
       "    <tr>\n",
       "      <th>template cleanup</th>\n",
       "      <td>2318</td>\n",
       "      <td>0.47%</td>\n",
       "    </tr>\n",
       "    <tr>\n",
       "      <th>other w/ revert in comment</th>\n",
       "      <td>2014</td>\n",
       "      <td>0.41%</td>\n",
       "    </tr>\n",
       "    <tr>\n",
       "      <th>mathbot mathlist updates</th>\n",
       "      <td>1028</td>\n",
       "      <td>0.21%</td>\n",
       "    </tr>\n",
       "    <tr>\n",
       "      <th>has per justification</th>\n",
       "      <td>716</td>\n",
       "      <td>0.15%</td>\n",
       "    </tr>\n",
       "    <tr>\n",
       "      <th>botfight: Cyberbot II vs AnomieBOT date tagging</th>\n",
       "      <td>602</td>\n",
       "      <td>0.12%</td>\n",
       "    </tr>\n",
       "    <tr>\n",
       "      <th>redirect tagging/sorting</th>\n",
       "      <td>594</td>\n",
       "      <td>0.12%</td>\n",
       "    </tr>\n",
       "    <tr>\n",
       "      <th>botfight: reverting CommonsDelinker</th>\n",
       "      <td>460</td>\n",
       "      <td>0.09%</td>\n",
       "    </tr>\n",
       "    <tr>\n",
       "      <th>botfight: 718bot vs ImageRemovalBot</th>\n",
       "      <td>340</td>\n",
       "      <td>0.07%</td>\n",
       "    </tr>\n",
       "    <tr>\n",
       "      <th>botfight: infoboxneeded</th>\n",
       "      <td>196</td>\n",
       "      <td>0.04%</td>\n",
       "    </tr>\n",
       "    <tr>\n",
       "      <th>link syntax fixing</th>\n",
       "      <td>160</td>\n",
       "      <td>0.03%</td>\n",
       "    </tr>\n",
       "    <tr>\n",
       "      <th>template tagging</th>\n",
       "      <td>48</td>\n",
       "      <td>0.01%</td>\n",
       "    </tr>\n",
       "    <tr>\n",
       "      <th>commons image migration</th>\n",
       "      <td>6</td>\n",
       "      <td>0.0%</td>\n",
       "    </tr>\n",
       "    <tr>\n",
       "      <th>clearing sandbox</th>\n",
       "      <td>2</td>\n",
       "      <td>0.0%</td>\n",
       "    </tr>\n",
       "  </tbody>\n",
       "</table>\n",
       "</div>"
      ],
      "text/plain": [
       "                                                  count percent\n",
       "fixing double redirect                           220172  45.04%\n",
       "interwiki link cleanup                           168236  34.42%\n",
       "interwiki link cleanup -- suspected               74204  15.18%\n",
       "protection template cleanup                        5674   1.16%\n",
       "moving category                                    4672   0.96%\n",
       "other                                              4530   0.93%\n",
       "category redirect cleanup                          2824   0.58%\n",
       "template cleanup                                   2318   0.47%\n",
       "other w/ revert in comment                         2014   0.41%\n",
       "mathbot mathlist updates                           1028   0.21%\n",
       "has per justification                               716   0.15%\n",
       "botfight: Cyberbot II vs AnomieBOT date tagging     602   0.12%\n",
       "redirect tagging/sorting                            594   0.12%\n",
       "botfight: reverting CommonsDelinker                 460   0.09%\n",
       "botfight: 718bot vs ImageRemovalBot                 340   0.07%\n",
       "botfight: infoboxneeded                             196   0.04%\n",
       "link syntax fixing                                  160   0.03%\n",
       "template tagging                                     48   0.01%\n",
       "commons image migration                               6    0.0%\n",
       "clearing sandbox                                      2    0.0%"
      ]
     },
     "execution_count": 30,
     "metadata": {},
     "output_type": "execute_result"
    }
   ],
   "source": [
    "counts_dict['en']"
   ]
  },
  {
   "cell_type": "code",
   "execution_count": 31,
   "metadata": {},
   "outputs": [
    {
     "data": {
      "text/html": [
       "<div>\n",
       "<table border=\"1\" class=\"dataframe\">\n",
       "  <thead>\n",
       "    <tr style=\"text-align: right;\">\n",
       "      <th></th>\n",
       "      <th>count</th>\n",
       "      <th>percent</th>\n",
       "    </tr>\n",
       "  </thead>\n",
       "  <tbody>\n",
       "    <tr>\n",
       "      <th>interwiki link cleanup -- suspected</th>\n",
       "      <td>55262</td>\n",
       "      <td>79.85%</td>\n",
       "    </tr>\n",
       "    <tr>\n",
       "      <th>interwiki link cleanup</th>\n",
       "      <td>11488</td>\n",
       "      <td>16.6%</td>\n",
       "    </tr>\n",
       "    <tr>\n",
       "      <th>other</th>\n",
       "      <td>1832</td>\n",
       "      <td>2.65%</td>\n",
       "    </tr>\n",
       "    <tr>\n",
       "      <th>fixing double redirect</th>\n",
       "      <td>588</td>\n",
       "      <td>0.85%</td>\n",
       "    </tr>\n",
       "    <tr>\n",
       "      <th>other w/ revert in comment</th>\n",
       "      <td>24</td>\n",
       "      <td>0.03%</td>\n",
       "    </tr>\n",
       "    <tr>\n",
       "      <th>has per justification</th>\n",
       "      <td>14</td>\n",
       "      <td>0.02%</td>\n",
       "    </tr>\n",
       "  </tbody>\n",
       "</table>\n",
       "</div>"
      ],
      "text/plain": [
       "                                     count percent\n",
       "interwiki link cleanup -- suspected  55262  79.85%\n",
       "interwiki link cleanup               11488   16.6%\n",
       "other                                 1832   2.65%\n",
       "fixing double redirect                 588   0.85%\n",
       "other w/ revert in comment              24   0.03%\n",
       "has per justification                   14   0.02%"
      ]
     },
     "execution_count": 31,
     "metadata": {},
     "output_type": "execute_result"
    }
   ],
   "source": [
    "counts_dict['ja']"
   ]
  },
  {
   "cell_type": "code",
   "execution_count": 32,
   "metadata": {},
   "outputs": [
    {
     "data": {
      "text/html": [
       "<div>\n",
       "<table border=\"1\" class=\"dataframe\">\n",
       "  <thead>\n",
       "    <tr style=\"text-align: right;\">\n",
       "      <th></th>\n",
       "      <th>count</th>\n",
       "      <th>percent</th>\n",
       "    </tr>\n",
       "  </thead>\n",
       "  <tbody>\n",
       "    <tr>\n",
       "      <th>interwiki link cleanup -- suspected</th>\n",
       "      <td>47298</td>\n",
       "      <td>54.98%</td>\n",
       "    </tr>\n",
       "    <tr>\n",
       "      <th>interwiki link cleanup</th>\n",
       "      <td>30298</td>\n",
       "      <td>35.22%</td>\n",
       "    </tr>\n",
       "    <tr>\n",
       "      <th>fixing double redirect</th>\n",
       "      <td>7268</td>\n",
       "      <td>8.45%</td>\n",
       "    </tr>\n",
       "    <tr>\n",
       "      <th>other</th>\n",
       "      <td>634</td>\n",
       "      <td>0.74%</td>\n",
       "    </tr>\n",
       "    <tr>\n",
       "      <th>other w/ revert in comment</th>\n",
       "      <td>514</td>\n",
       "      <td>0.6%</td>\n",
       "    </tr>\n",
       "    <tr>\n",
       "      <th>has per justification</th>\n",
       "      <td>12</td>\n",
       "      <td>0.01%</td>\n",
       "    </tr>\n",
       "    <tr>\n",
       "      <th>botfight: reverting CommonsDelinker</th>\n",
       "      <td>6</td>\n",
       "      <td>0.01%</td>\n",
       "    </tr>\n",
       "  </tbody>\n",
       "</table>\n",
       "</div>"
      ],
      "text/plain": [
       "                                     count percent\n",
       "interwiki link cleanup -- suspected  47298  54.98%\n",
       "interwiki link cleanup               30298  35.22%\n",
       "fixing double redirect                7268   8.45%\n",
       "other                                  634   0.74%\n",
       "other w/ revert in comment             514    0.6%\n",
       "has per justification                   12   0.01%\n",
       "botfight: reverting CommonsDelinker      6   0.01%"
      ]
     },
     "execution_count": 32,
     "metadata": {},
     "output_type": "execute_result"
    }
   ],
   "source": [
    "counts_dict['zh']"
   ]
  },
  {
   "cell_type": "code",
   "execution_count": 33,
   "metadata": {},
   "outputs": [
    {
     "data": {
      "text/html": [
       "<div>\n",
       "<table border=\"1\" class=\"dataframe\">\n",
       "  <thead>\n",
       "    <tr style=\"text-align: right;\">\n",
       "      <th></th>\n",
       "      <th>count</th>\n",
       "      <th>percent</th>\n",
       "    </tr>\n",
       "  </thead>\n",
       "  <tbody>\n",
       "    <tr>\n",
       "      <th>interwiki link cleanup -- suspected</th>\n",
       "      <td>71062</td>\n",
       "      <td>64.71%</td>\n",
       "    </tr>\n",
       "    <tr>\n",
       "      <th>interwiki link cleanup</th>\n",
       "      <td>33898</td>\n",
       "      <td>30.87%</td>\n",
       "    </tr>\n",
       "    <tr>\n",
       "      <th>other</th>\n",
       "      <td>2758</td>\n",
       "      <td>2.51%</td>\n",
       "    </tr>\n",
       "    <tr>\n",
       "      <th>fixing double redirect</th>\n",
       "      <td>1972</td>\n",
       "      <td>1.8%</td>\n",
       "    </tr>\n",
       "    <tr>\n",
       "      <th>other w/ revert in comment</th>\n",
       "      <td>44</td>\n",
       "      <td>0.04%</td>\n",
       "    </tr>\n",
       "    <tr>\n",
       "      <th>moving category</th>\n",
       "      <td>20</td>\n",
       "      <td>0.02%</td>\n",
       "    </tr>\n",
       "    <tr>\n",
       "      <th>has per justification</th>\n",
       "      <td>20</td>\n",
       "      <td>0.02%</td>\n",
       "    </tr>\n",
       "    <tr>\n",
       "      <th>protection template cleanup</th>\n",
       "      <td>12</td>\n",
       "      <td>0.01%</td>\n",
       "    </tr>\n",
       "    <tr>\n",
       "      <th>template cleanup</th>\n",
       "      <td>10</td>\n",
       "      <td>0.01%</td>\n",
       "    </tr>\n",
       "    <tr>\n",
       "      <th>botfight: reverting CommonsDelinker</th>\n",
       "      <td>10</td>\n",
       "      <td>0.01%</td>\n",
       "    </tr>\n",
       "    <tr>\n",
       "      <th>category redirect cleanup</th>\n",
       "      <td>10</td>\n",
       "      <td>0.01%</td>\n",
       "    </tr>\n",
       "    <tr>\n",
       "      <th>botfight: 718bot vs ImageRemovalBot</th>\n",
       "      <td>2</td>\n",
       "      <td>0.0%</td>\n",
       "    </tr>\n",
       "  </tbody>\n",
       "</table>\n",
       "</div>"
      ],
      "text/plain": [
       "                                     count percent\n",
       "interwiki link cleanup -- suspected  71062  64.71%\n",
       "interwiki link cleanup               33898  30.87%\n",
       "other                                 2758   2.51%\n",
       "fixing double redirect                1972    1.8%\n",
       "other w/ revert in comment              44   0.04%\n",
       "moving category                         20   0.02%\n",
       "has per justification                   20   0.02%\n",
       "protection template cleanup             12   0.01%\n",
       "template cleanup                        10   0.01%\n",
       "botfight: reverting CommonsDelinker     10   0.01%\n",
       "category redirect cleanup               10   0.01%\n",
       "botfight: 718bot vs ImageRemovalBot      2    0.0%"
      ]
     },
     "execution_count": 33,
     "metadata": {},
     "output_type": "execute_result"
    }
   ],
   "source": [
    "counts_dict['de']"
   ]
  },
  {
   "cell_type": "code",
   "execution_count": 34,
   "metadata": {},
   "outputs": [
    {
     "data": {
      "text/html": [
       "<div>\n",
       "<table border=\"1\" class=\"dataframe\">\n",
       "  <thead>\n",
       "    <tr style=\"text-align: right;\">\n",
       "      <th></th>\n",
       "      <th>count</th>\n",
       "      <th>percent</th>\n",
       "    </tr>\n",
       "  </thead>\n",
       "  <tbody>\n",
       "    <tr>\n",
       "      <th>interwiki link cleanup -- suspected</th>\n",
       "      <td>82330</td>\n",
       "      <td>73.18%</td>\n",
       "    </tr>\n",
       "    <tr>\n",
       "      <th>interwiki link cleanup</th>\n",
       "      <td>20188</td>\n",
       "      <td>17.94%</td>\n",
       "    </tr>\n",
       "    <tr>\n",
       "      <th>fixing double redirect</th>\n",
       "      <td>6592</td>\n",
       "      <td>5.86%</td>\n",
       "    </tr>\n",
       "    <tr>\n",
       "      <th>other</th>\n",
       "      <td>2052</td>\n",
       "      <td>1.82%</td>\n",
       "    </tr>\n",
       "    <tr>\n",
       "      <th>has per justification</th>\n",
       "      <td>796</td>\n",
       "      <td>0.71%</td>\n",
       "    </tr>\n",
       "    <tr>\n",
       "      <th>moving category</th>\n",
       "      <td>538</td>\n",
       "      <td>0.48%</td>\n",
       "    </tr>\n",
       "    <tr>\n",
       "      <th>other w/ revert in comment</th>\n",
       "      <td>6</td>\n",
       "      <td>0.01%</td>\n",
       "    </tr>\n",
       "    <tr>\n",
       "      <th>botfight: reverting CommonsDelinker</th>\n",
       "      <td>4</td>\n",
       "      <td>0.0%</td>\n",
       "    </tr>\n",
       "    <tr>\n",
       "      <th>clearing sandbox</th>\n",
       "      <td>4</td>\n",
       "      <td>0.0%</td>\n",
       "    </tr>\n",
       "  </tbody>\n",
       "</table>\n",
       "</div>"
      ],
      "text/plain": [
       "                                     count percent\n",
       "interwiki link cleanup -- suspected  82330  73.18%\n",
       "interwiki link cleanup               20188  17.94%\n",
       "fixing double redirect                6592   5.86%\n",
       "other                                 2052   1.82%\n",
       "has per justification                  796   0.71%\n",
       "moving category                        538   0.48%\n",
       "other w/ revert in comment               6   0.01%\n",
       "botfight: reverting CommonsDelinker      4    0.0%\n",
       "clearing sandbox                         4    0.0%"
      ]
     },
     "execution_count": 34,
     "metadata": {},
     "output_type": "execute_result"
    }
   ],
   "source": [
    "counts_dict['fr']"
   ]
  },
  {
   "cell_type": "code",
   "execution_count": 35,
   "metadata": {},
   "outputs": [
    {
     "data": {
      "text/html": [
       "<div>\n",
       "<table border=\"1\" class=\"dataframe\">\n",
       "  <thead>\n",
       "    <tr style=\"text-align: right;\">\n",
       "      <th></th>\n",
       "      <th>count</th>\n",
       "      <th>percent</th>\n",
       "    </tr>\n",
       "  </thead>\n",
       "  <tbody>\n",
       "    <tr>\n",
       "      <th>interwiki link cleanup -- suspected</th>\n",
       "      <td>83176</td>\n",
       "      <td>69.27%</td>\n",
       "    </tr>\n",
       "    <tr>\n",
       "      <th>interwiki link cleanup</th>\n",
       "      <td>29964</td>\n",
       "      <td>24.96%</td>\n",
       "    </tr>\n",
       "    <tr>\n",
       "      <th>fixing double redirect</th>\n",
       "      <td>3816</td>\n",
       "      <td>3.18%</td>\n",
       "    </tr>\n",
       "    <tr>\n",
       "      <th>other</th>\n",
       "      <td>2986</td>\n",
       "      <td>2.49%</td>\n",
       "    </tr>\n",
       "    <tr>\n",
       "      <th>has per justification</th>\n",
       "      <td>72</td>\n",
       "      <td>0.06%</td>\n",
       "    </tr>\n",
       "    <tr>\n",
       "      <th>other w/ revert in comment</th>\n",
       "      <td>52</td>\n",
       "      <td>0.04%</td>\n",
       "    </tr>\n",
       "    <tr>\n",
       "      <th>botfight: reverting CommonsDelinker</th>\n",
       "      <td>2</td>\n",
       "      <td>0.0%</td>\n",
       "    </tr>\n",
       "    <tr>\n",
       "      <th>clearing sandbox</th>\n",
       "      <td>2</td>\n",
       "      <td>0.0%</td>\n",
       "    </tr>\n",
       "  </tbody>\n",
       "</table>\n",
       "</div>"
      ],
      "text/plain": [
       "                                     count percent\n",
       "interwiki link cleanup -- suspected  83176  69.27%\n",
       "interwiki link cleanup               29964  24.96%\n",
       "fixing double redirect                3816   3.18%\n",
       "other                                 2986   2.49%\n",
       "has per justification                   72   0.06%\n",
       "other w/ revert in comment              52   0.04%\n",
       "botfight: reverting CommonsDelinker      2    0.0%\n",
       "clearing sandbox                         2    0.0%"
      ]
     },
     "execution_count": 35,
     "metadata": {},
     "output_type": "execute_result"
    }
   ],
   "source": [
    "counts_dict['pt']"
   ]
  },
  {
   "cell_type": "code",
   "execution_count": 36,
   "metadata": {},
   "outputs": [
    {
     "data": {
      "text/html": [
       "<div>\n",
       "<table border=\"1\" class=\"dataframe\">\n",
       "  <thead>\n",
       "    <tr style=\"text-align: right;\">\n",
       "      <th></th>\n",
       "      <th>count</th>\n",
       "      <th>percent</th>\n",
       "    </tr>\n",
       "  </thead>\n",
       "  <tbody>\n",
       "    <tr>\n",
       "      <th>interwiki link cleanup -- suspected</th>\n",
       "      <td>75652</td>\n",
       "      <td>55.64%</td>\n",
       "    </tr>\n",
       "    <tr>\n",
       "      <th>interwiki link cleanup</th>\n",
       "      <td>33300</td>\n",
       "      <td>24.49%</td>\n",
       "    </tr>\n",
       "    <tr>\n",
       "      <th>fixing double redirect</th>\n",
       "      <td>18614</td>\n",
       "      <td>13.69%</td>\n",
       "    </tr>\n",
       "    <tr>\n",
       "      <th>other</th>\n",
       "      <td>5378</td>\n",
       "      <td>3.96%</td>\n",
       "    </tr>\n",
       "    <tr>\n",
       "      <th>other w/ revert in comment</th>\n",
       "      <td>2198</td>\n",
       "      <td>1.62%</td>\n",
       "    </tr>\n",
       "    <tr>\n",
       "      <th>has per justification</th>\n",
       "      <td>304</td>\n",
       "      <td>0.22%</td>\n",
       "    </tr>\n",
       "    <tr>\n",
       "      <th>template cleanup</th>\n",
       "      <td>268</td>\n",
       "      <td>0.2%</td>\n",
       "    </tr>\n",
       "    <tr>\n",
       "      <th>category redirect cleanup</th>\n",
       "      <td>212</td>\n",
       "      <td>0.16%</td>\n",
       "    </tr>\n",
       "    <tr>\n",
       "      <th>botfight: reverting CommonsDelinker</th>\n",
       "      <td>32</td>\n",
       "      <td>0.02%</td>\n",
       "    </tr>\n",
       "    <tr>\n",
       "      <th>clearing sandbox</th>\n",
       "      <td>2</td>\n",
       "      <td>0.0%</td>\n",
       "    </tr>\n",
       "  </tbody>\n",
       "</table>\n",
       "</div>"
      ],
      "text/plain": [
       "                                     count percent\n",
       "interwiki link cleanup -- suspected  75652  55.64%\n",
       "interwiki link cleanup               33300  24.49%\n",
       "fixing double redirect               18614  13.69%\n",
       "other                                 5378   3.96%\n",
       "other w/ revert in comment            2198   1.62%\n",
       "has per justification                  304   0.22%\n",
       "template cleanup                       268    0.2%\n",
       "category redirect cleanup              212   0.16%\n",
       "botfight: reverting CommonsDelinker     32   0.02%\n",
       "clearing sandbox                         2    0.0%"
      ]
     },
     "execution_count": 36,
     "metadata": {},
     "output_type": "execute_result"
    }
   ],
   "source": [
    "counts_dict['es']"
   ]
  },
  {
   "cell_type": "code",
   "execution_count": null,
   "metadata": {
    "collapsed": true
   },
   "outputs": [],
   "source": []
  },
  {
   "cell_type": "markdown",
   "metadata": {},
   "source": [
    "### Validation of interwiki category by diffs"
   ]
  },
  {
   "cell_type": "code",
   "execution_count": 37,
   "metadata": {
    "collapsed": true
   },
   "outputs": [],
   "source": [
    "import mwapi\n",
    "import difflib\n",
    "\n",
    "session = mwapi.Session('https://en.wikipedia.org', user_agent=\"Research script by User:Staeiou\")"
   ]
  },
  {
   "cell_type": "code",
   "execution_count": 38,
   "metadata": {
    "collapsed": true
   },
   "outputs": [],
   "source": [
    "def get_revision(rev_id):\n",
    "    \n",
    "    try:\n",
    "        rev_get = session.get(action='query', prop='revisions', rvprop=\"content\", revids=rev_id)\n",
    "        rev_pages = rev_get['query']['pages']\n",
    "        for row in rev_pages.items():\n",
    "            return(row[1]['revisions'][0]['*'])\n",
    "    except:\n",
    "        return np.nan"
   ]
  },
  {
   "cell_type": "code",
   "execution_count": 39,
   "metadata": {
    "collapsed": true
   },
   "outputs": [],
   "source": [
    "def get_diff(row):\n",
    "    #print(row)\n",
    "    \n",
    "    try:\n",
    "        reverted_content = row['reverted_content'].split(\"\\n\")\n",
    "        reverting_content = row['reverting_content'].split(\"\\n\")\n",
    "\n",
    "        diff = difflib.unified_diff(reverted_content, reverting_content)\n",
    "\n",
    "        return '<br/>'.join(list(diff))\n",
    "    \n",
    "    except:\n",
    "        return np.nan\n",
    "      "
   ]
  },
  {
   "cell_type": "code",
   "execution_count": 40,
   "metadata": {
    "collapsed": true
   },
   "outputs": [],
   "source": [
    "def get_diff_api(row):\n",
    "    #print(row)\n",
    "    rev_id = row['rev_id']\n",
    "    reverting_id = row['reverting_id']\n",
    "    #print(rev_id, reverting_id)\n",
    "    rev_get = session.get(action='compare', fromrev=rev_id, torev=reverting_id)\n",
    "    #print(rev_get)\n",
    "    return rev_get['compare']['*']\n"
   ]
  },
  {
   "cell_type": "markdown",
   "metadata": {},
   "source": [
    "## Get sample for each bottype in en ns0"
   ]
  },
  {
   "cell_type": "code",
   "execution_count": 41,
   "metadata": {},
   "outputs": [
    {
     "data": {
      "text/plain": [
       "array(['moving category', 'interwiki link cleanup',\n",
       "       'interwiki link cleanup -- suspected', 'fixing double redirect',\n",
       "       'template cleanup', 'other', 'has per justification',\n",
       "       'category redirect cleanup', 'botfight: 718bot vs ImageRemovalBot',\n",
       "       'protection template cleanup', 'redirect tagging/sorting',\n",
       "       'other w/ revert in comment', 'template tagging',\n",
       "       'botfight: infoboxneeded', 'botfight: reverting CommonsDelinker',\n",
       "       'botfight: Cyberbot II vs AnomieBOT date tagging',\n",
       "       'commons image migration', 'clearing sandbox',\n",
       "       'mathbot mathlist updates', 'link syntax fixing'], dtype=object)"
      ]
     },
     "execution_count": 41,
     "metadata": {},
     "output_type": "execute_result"
    }
   ],
   "source": [
    "df_en_ns0 = df_all.query(\"language == 'en' and page_namespace == 0\")\n",
    "df_en_ns0['bottype'].unique()"
   ]
  },
  {
   "cell_type": "code",
   "execution_count": 42,
   "metadata": {},
   "outputs": [
    {
     "name": "stdout",
     "output_type": "stream",
     "text": [
      "moving category\n",
      "interwiki link cleanup\n",
      "interwiki link cleanup -- suspected\n",
      "fixing double redirect\n",
      "template cleanup\n",
      "other\n",
      "has per justification\n",
      "category redirect cleanup\n",
      "botfight: 718bot vs ImageRemovalBot\n",
      "protection template cleanup\n",
      "redirect tagging/sorting\n",
      "other w/ revert in comment\n",
      "template tagging\n"
     ]
    },
    {
     "name": "stderr",
     "output_type": "stream",
     "text": [
      "/home/staeiou/anaconda3/lib/python3.6/site-packages/ipykernel_launcher.py:14: SettingWithCopyWarning: \n",
      "A value is trying to be set on a copy of a slice from a DataFrame.\n",
      "Try using .loc[row_indexer,col_indexer] = value instead\n",
      "\n",
      "See the caveats in the documentation: http://pandas.pydata.org/pandas-docs/stable/indexing.html#indexing-view-versus-copy\n",
      "  \n",
      "/home/staeiou/anaconda3/lib/python3.6/site-packages/ipykernel_launcher.py:15: SettingWithCopyWarning: \n",
      "A value is trying to be set on a copy of a slice from a DataFrame.\n",
      "Try using .loc[row_indexer,col_indexer] = value instead\n",
      "\n",
      "See the caveats in the documentation: http://pandas.pydata.org/pandas-docs/stable/indexing.html#indexing-view-versus-copy\n",
      "  from ipykernel import kernelapp as app\n",
      "/home/staeiou/anaconda3/lib/python3.6/site-packages/ipykernel_launcher.py:17: SettingWithCopyWarning: \n",
      "A value is trying to be set on a copy of a slice from a DataFrame.\n",
      "Try using .loc[row_indexer,col_indexer] = value instead\n",
      "\n",
      "See the caveats in the documentation: http://pandas.pydata.org/pandas-docs/stable/indexing.html#indexing-view-versus-copy\n"
     ]
    },
    {
     "name": "stdout",
     "output_type": "stream",
     "text": [
      "botfight: infoboxneeded\n",
      "botfight: reverting CommonsDelinker\n",
      "botfight: Cyberbot II vs AnomieBOT date tagging\n",
      "commons image migration\n",
      "clearing sandbox\n",
      "mathbot mathlist updates\n",
      "link syntax fixing\n",
      "CPU times: user 3min 25s, sys: 4.88 s, total: 3min 30s\n",
      "Wall time: 46min 21s\n"
     ]
    }
   ],
   "source": [
    "%%time\n",
    "\n",
    "df_en_ns0_sample_dict = {}\n",
    "for bottype in df_en_ns0['bottype'].unique():\n",
    "    print(bottype)\n",
    "    type_df = df_en_ns0[df_en_ns0['bottype']==bottype]\n",
    "    \n",
    "    if len(type_df) > 5000:\n",
    "        type_df_sample = type_df.sample(round(len(type_df)/100))\n",
    "    elif len(type_df) > 100:\n",
    "        type_df_sample = type_df.sample(100)\n",
    "    else:\n",
    "        type_df_sample = type_df\n",
    "\n",
    "    type_df_sample['reverting_content'] = type_df_sample['reverting_id'].apply(get_revision)\n",
    "    type_df_sample['reverted_content'] = type_df_sample['rev_id'].apply(get_revision)\n",
    "\n",
    "    type_df_sample['diff'] = type_df_sample.apply(get_diff, axis=1)\n",
    "    \n",
    "    df_en_ns0_sample_dict[bottype] = type_df_sample"
   ]
  },
  {
   "cell_type": "code",
   "execution_count": 44,
   "metadata": {
    "collapsed": true
   },
   "outputs": [],
   "source": [
    "import pickle\n"
   ]
  },
  {
   "cell_type": "code",
   "execution_count": 45,
   "metadata": {
    "collapsed": true
   },
   "outputs": [],
   "source": [
    "\n",
    "with open(\"df_en_ns0_sample_dict.pickle\", \"wb\") as f: \n",
    "    pickle.dump(df_en_ns0_sample_dict, f)"
   ]
  },
  {
   "cell_type": "code",
   "execution_count": null,
   "metadata": {
    "collapsed": true
   },
   "outputs": [],
   "source": []
  },
  {
   "cell_type": "code",
   "execution_count": 118,
   "metadata": {
    "collapsed": true
   },
   "outputs": [],
   "source": [
    "pd.options.display.max_colwidth = -1\n"
   ]
  },
  {
   "cell_type": "code",
   "execution_count": null,
   "metadata": {
    "collapsed": true
   },
   "outputs": [],
   "source": []
  },
  {
   "cell_type": "code",
   "execution_count": 121,
   "metadata": {},
   "outputs": [
    {
     "name": "stdout",
     "output_type": "stream",
     "text": [
      "mkdir: cannot create directory ‘sample_tables/en/ns0’: File exists\r\n"
     ]
    }
   ],
   "source": [
    "!mkdir sample_tables/en/ns0"
   ]
  },
  {
   "cell_type": "code",
   "execution_count": 132,
   "metadata": {},
   "outputs": [],
   "source": [
    "for bottype, bottype_df in df_en_ns0_sample_dict.items():\n",
    "    \n",
    "   \n",
    "    bottype_file = bottype.replace(\" \", \"_\")\n",
    "    bottype_file = bottype_file.replace(\"/\", \"_\")\n",
    "    filename = \"sample_tables/en/ns0/en_ns0_sample_\" + bottype_file + \".html\"\n",
    "    \n",
    "    bottype_df[['reverting_id','reverting_user_text',\n",
    "                             'rev_user_text',\n",
    "                             'reverting_comment',\n",
    "                             'diff']].to_html(filename, escape=False)\n",
    "    \n",
    "    with open(filename, 'r+') as f:\n",
    "        content = f.read()\n",
    "        f.seek(0, 0)\n",
    "        f.write(\"<a name='\" + bottype + \"'><h1>\" + bottype + \"</h1></a>\\r\\n\")\n",
    "        f.write(content)"
   ]
  },
  {
   "cell_type": "code",
   "execution_count": null,
   "metadata": {
    "collapsed": true
   },
   "outputs": [],
   "source": []
  },
  {
   "cell_type": "code",
   "execution_count": 133,
   "metadata": {},
   "outputs": [],
   "source": [
    "!cat sample_tables/en/ns0/*.html > sample_tables/en/ns0/en_ns0_sample_all.html"
   ]
  },
  {
   "cell_type": "code",
   "execution_count": 134,
   "metadata": {},
   "outputs": [],
   "source": [
    "with open(\"sample_tables/en/ns0/en_ns0_sample_all.html\", 'r+') as f:\n",
    "    content = f.read()\n",
    "    f.seek(0, 0)\n",
    "    f.write(\"<head><meta charset='UTF-8'></head>\\r\\n<body>\")\n",
    "    f.write(\"\"\"<style>\n",
    "                .dataframe {\n",
    "                    border:1px solid #C0C0C0;\n",
    "                    border-collapse:collapse;\n",
    "                    padding:5px;\n",
    "                    table-layout:fixed;\n",
    "                }\n",
    "                .dataframe th {\n",
    "                    border:1px solid #C0C0C0;\n",
    "                    padding:5px;\n",
    "                    background:#F0F0F0;\n",
    "                }\n",
    "                .dataframe td {\n",
    "                    border:1px solid #C0C0C0;\n",
    "                    padding:5px;\n",
    "                }\n",
    "            </style>\"\"\")\n",
    "    f.write(\"<table class='dataframe'>\")\n",
    "    f.write(\"<thead><tr><th>Bot type</th><th>Total count in enwiki ns0</th><th>Number of sample diffs</th>\")\n",
    "    \n",
    "    for bottype, bottype_df in df_en_ns0_sample_dict.items():\n",
    "        \n",
    "        len_df = str(len(df_en_ns0[df_en_ns0['bottype']==bottype]))\n",
    "        len_sample = str(len(bottype_df))\n",
    "        \n",
    "        toc_str = \"<tr><td><a href='#\" + bottype + \"'>\" + bottype + \"</a></td>\\r\\n\"\n",
    "        toc_str += \"<td>\" + len_df + \"</td>\"\n",
    "        toc_str += \"<td>\" + len_sample + \"</td></tr>\"\n",
    "        f.write(toc_str)\n",
    "    f.write(\"</table>\")\n",
    "    f.write(content)"
   ]
  },
  {
   "cell_type": "code",
   "execution_count": null,
   "metadata": {
    "collapsed": true
   },
   "outputs": [],
   "source": []
  },
  {
   "cell_type": "code",
   "execution_count": null,
   "metadata": {
    "collapsed": true
   },
   "outputs": [],
   "source": []
  },
  {
   "cell_type": "code",
   "execution_count": null,
   "metadata": {
    "collapsed": true
   },
   "outputs": [],
   "source": []
  },
  {
   "cell_type": "markdown",
   "metadata": {},
   "source": [
    "## Get sample for each bottype in fr ns0"
   ]
  },
  {
   "cell_type": "code",
   "execution_count": 135,
   "metadata": {},
   "outputs": [
    {
     "data": {
      "text/plain": [
       "array(['interwiki link cleanup -- suspected', 'interwiki link cleanup',\n",
       "       'other', 'has per justification', 'fixing double redirect',\n",
       "       'moving category', 'other w/ revert in comment',\n",
       "       'botfight: reverting CommonsDelinker', 'clearing sandbox'], dtype=object)"
      ]
     },
     "execution_count": 135,
     "metadata": {},
     "output_type": "execute_result"
    }
   ],
   "source": [
    "df_fr_ns0 = df_all.query(\"language == 'fr' and page_namespace == 0\")\n",
    "df_fr_ns0['bottype'].unique()"
   ]
  },
  {
   "cell_type": "code",
   "execution_count": null,
   "metadata": {},
   "outputs": [
    {
     "name": "stdout",
     "output_type": "stream",
     "text": [
      "interwiki link cleanup -- suspected\n"
     ]
    }
   ],
   "source": [
    "%%time\n",
    "\n",
    "df_fr_ns0_sample_dict = {}\n",
    "for bottype in df_fr_ns0['bottype'].unique():\n",
    "    print(bottype)\n",
    "    type_df = df_fr_ns0[df_fr_ns0['bottype']==bottype]\n",
    "    \n",
    "    if len(type_df) > 5000:\n",
    "        type_df_sample = type_df.sample(round(len(type_df)/100))\n",
    "    elif len(type_df) > 100:\n",
    "        type_df_sample = type_df.sample(100)\n",
    "    else:\n",
    "        type_df_sample = type_df\n",
    "\n",
    "    type_df_sample['reverting_content'] = type_df_sample['reverting_id'].apply(get_revision)\n",
    "    type_df_sample['reverted_content'] = type_df_sample['rev_id'].apply(get_revision)\n",
    "\n",
    "    type_df_sample['diff'] = type_df_sample.apply(get_diff, axis=1)\n",
    "    \n",
    "    df_fr_ns0_sample_dict[bottype] = type_df_sample"
   ]
  },
  {
   "cell_type": "code",
   "execution_count": 44,
   "metadata": {
    "collapsed": true
   },
   "outputs": [],
   "source": [
    "import pickle\n"
   ]
  },
  {
   "cell_type": "code",
   "execution_count": 45,
   "metadata": {
    "collapsed": true
   },
   "outputs": [],
   "source": [
    "\n",
    "with open(\"df_en_ns0_sample_dict.pickle\", \"wb\") as f: \n",
    "    pickle.dump(df_en_ns0_sample_dict, f)"
   ]
  },
  {
   "cell_type": "code",
   "execution_count": null,
   "metadata": {
    "collapsed": true
   },
   "outputs": [],
   "source": []
  },
  {
   "cell_type": "code",
   "execution_count": 118,
   "metadata": {
    "collapsed": true
   },
   "outputs": [],
   "source": [
    "pd.options.display.max_colwidth = -1\n"
   ]
  },
  {
   "cell_type": "code",
   "execution_count": null,
   "metadata": {
    "collapsed": true
   },
   "outputs": [],
   "source": []
  },
  {
   "cell_type": "code",
   "execution_count": 121,
   "metadata": {},
   "outputs": [
    {
     "name": "stdout",
     "output_type": "stream",
     "text": [
      "mkdir: cannot create directory ‘sample_tables/en/ns0’: File exists\r\n"
     ]
    }
   ],
   "source": [
    "!mkdir sample_tables/en/ns0"
   ]
  },
  {
   "cell_type": "code",
   "execution_count": 132,
   "metadata": {
    "collapsed": true
   },
   "outputs": [],
   "source": [
    "for bottype, bottype_df in df_en_ns0_sample_dict.items():\n",
    "    \n",
    "   \n",
    "    bottype_file = bottype.replace(\" \", \"_\")\n",
    "    bottype_file = bottype_file.replace(\"/\", \"_\")\n",
    "    filename = \"sample_tables/en/ns0/en_ns0_sample_\" + bottype_file + \".html\"\n",
    "    \n",
    "    bottype_df[['reverting_id','reverting_user_text',\n",
    "                             'rev_user_text',\n",
    "                             'reverting_comment',\n",
    "                             'diff']].to_html(filename, escape=False)\n",
    "    \n",
    "    with open(filename, 'r+') as f:\n",
    "        content = f.read()\n",
    "        f.seek(0, 0)\n",
    "        f.write(\"<a name='\" + bottype + \"'><h1>\" + bottype + \"</h1></a>\\r\\n\")\n",
    "        f.write(content)"
   ]
  },
  {
   "cell_type": "code",
   "execution_count": null,
   "metadata": {
    "collapsed": true
   },
   "outputs": [],
   "source": []
  },
  {
   "cell_type": "code",
   "execution_count": 133,
   "metadata": {
    "collapsed": true
   },
   "outputs": [],
   "source": [
    "!cat sample_tables/en/ns0/*.html > sample_tables/en/ns0/en_ns0_sample_all.html"
   ]
  },
  {
   "cell_type": "code",
   "execution_count": 134,
   "metadata": {
    "collapsed": true
   },
   "outputs": [],
   "source": [
    "with open(\"sample_tables/en/ns0/en_ns0_sample_all.html\", 'r+') as f:\n",
    "    content = f.read()\n",
    "    f.seek(0, 0)\n",
    "    f.write(\"<head><meta charset='UTF-8'></head>\\r\\n<body>\")\n",
    "    f.write(\"\"\"<style>\n",
    "                .dataframe {\n",
    "                    border:1px solid #C0C0C0;\n",
    "                    border-collapse:collapse;\n",
    "                    padding:5px;\n",
    "                    table-layout:fixed;\n",
    "                }\n",
    "                .dataframe th {\n",
    "                    border:1px solid #C0C0C0;\n",
    "                    padding:5px;\n",
    "                    background:#F0F0F0;\n",
    "                }\n",
    "                .dataframe td {\n",
    "                    border:1px solid #C0C0C0;\n",
    "                    padding:5px;\n",
    "                }\n",
    "            </style>\"\"\")\n",
    "    f.write(\"<table class='dataframe'>\")\n",
    "    f.write(\"<thead><tr><th>Bot type</th><th>Total count in enwiki ns0</th><th>Number of sample diffs</th>\")\n",
    "    \n",
    "    for bottype, bottype_df in df_en_ns0_sample_dict.items():\n",
    "        \n",
    "        len_df = str(len(df_en_ns0[df_en_ns0['bottype']==bottype]))\n",
    "        len_sample = str(len(bottype_df))\n",
    "        \n",
    "        toc_str = \"<tr><td><a href='#\" + bottype + \"'>\" + bottype + \"</a></td>\\r\\n\"\n",
    "        toc_str += \"<td>\" + len_df + \"</td>\"\n",
    "        toc_str += \"<td>\" + len_sample + \"</td></tr>\"\n",
    "        f.write(toc_str)\n",
    "    f.write(\"</table>\")\n",
    "    f.write(content)"
   ]
  },
  {
   "cell_type": "code",
   "execution_count": null,
   "metadata": {
    "collapsed": true
   },
   "outputs": [],
   "source": []
  },
  {
   "cell_type": "markdown",
   "metadata": {},
   "source": [
    "### What was not categorized?"
   ]
  },
  {
   "cell_type": "code",
   "execution_count": null,
   "metadata": {},
   "outputs": [],
   "source": [
    "other_count = 0\n",
    "for comment, count in df_all[df_all['bottype']=='interwiki link cleanup -- suspected']['reverting_comment'].value_counts().iteritems():\n",
    "    if count > 25:\n",
    "        print(count, \"\\t\", comment)\n",
    "    else:\n",
    "        other_count = other_count + count\n",
    "print(other_count, \"\\tOther cases\")"
   ]
  },
  {
   "cell_type": "code",
   "execution_count": null,
   "metadata": {},
   "outputs": [],
   "source": [
    "other_count = 0\n",
    "for comment, count in df_all[df_all['bottype']=='other']['reverting_comment_nobracket'].value_counts().iteritems():\n",
    "    if count > 25:\n",
    "        print(count, \"\\t\", comment)\n",
    "    else:\n",
    "        other_count = other_count + count\n",
    "print(other_count, \"\\tOther cases\")"
   ]
  },
  {
   "cell_type": "code",
   "execution_count": null,
   "metadata": {},
   "outputs": [],
   "source": [
    "other_count = 0\n",
    "for comment, count in df_all[df_all['bottype']=='other']['reverting_comment'].value_counts().iteritems():\n",
    "    if count > 25:\n",
    "        print(count, \"\\t\", comment)\n",
    "    else:\n",
    "        other_count = other_count + count\n",
    "print(other_count, \"\\tOther cases\")"
   ]
  },
  {
   "cell_type": "code",
   "execution_count": null,
   "metadata": {},
   "outputs": [],
   "source": [
    "len(df_lang_ns0)"
   ]
  },
  {
   "cell_type": "code",
   "execution_count": null,
   "metadata": {},
   "outputs": [],
   "source": [
    "lang_l = 'es'\n",
    "other_count = 0\n",
    "df_lang_ns0 = df_all_ns0[df_all_ns0['language']==lang_l]\n",
    "\n",
    "for comment, count in df_lang_ns0[df_lang_ns0['bottype']=='other']['reverting_comment'].value_counts().iteritems():\n",
    "    if count > 5:\n",
    "        print(count, \"\\t\", comment)\n",
    "    else:\n",
    "        other_count = other_count + count\n",
    "print(other_count, \"\\tOther cases\")"
   ]
  },
  {
   "cell_type": "markdown",
   "metadata": {
    "collapsed": true
   },
   "source": [
    "## How long did this take to run?"
   ]
  },
  {
   "cell_type": "code",
   "execution_count": null,
   "metadata": {},
   "outputs": [],
   "source": [
    "end = datetime.datetime.now()\n",
    "end"
   ]
  },
  {
   "cell_type": "code",
   "execution_count": null,
   "metadata": {},
   "outputs": [],
   "source": [
    "time_to_run = end - start\n",
    "minutes = int(time_to_run.seconds/60)\n",
    "seconds = time_to_run.seconds % 60\n",
    "print(\"Total runtime: \", minutes, \"minutes, \", seconds, \"seconds\")"
   ]
  },
  {
   "cell_type": "code",
   "execution_count": null,
   "metadata": {
    "collapsed": true
   },
   "outputs": [],
   "source": []
  },
  {
   "cell_type": "code",
   "execution_count": null,
   "metadata": {
    "collapsed": true
   },
   "outputs": [],
   "source": []
  },
  {
   "cell_type": "code",
   "execution_count": null,
   "metadata": {},
   "outputs": [],
   "source": [
    "sns.set(font_scale=2)\n",
    "pal = sns.color_palette(\"husl\", 7)\n",
    "g = sns.FacetGrid(df_all, palette=pal, hue=\"language\", size=8, aspect=2)\n",
    "g.map(sns.kdeplot, \"time_to_revert_days\", clip=[0,(365*2)])\n",
    "#g.add_legend()\n",
    "leg = plt.legend()\n",
    "\n",
    "for legobj in leg.legendHandles:\n",
    "    legobj.set_linewidth(8.0)"
   ]
  },
  {
   "cell_type": "code",
   "execution_count": null,
   "metadata": {
    "collapsed": true
   },
   "outputs": [],
   "source": []
  },
  {
   "cell_type": "code",
   "execution_count": null,
   "metadata": {
    "collapsed": true
   },
   "outputs": [],
   "source": []
  },
  {
   "cell_type": "code",
   "execution_count": null,
   "metadata": {
    "collapsed": true
   },
   "outputs": [],
   "source": []
  },
  {
   "cell_type": "code",
   "execution_count": null,
   "metadata": {
    "collapsed": true
   },
   "outputs": [],
   "source": []
  },
  {
   "cell_type": "code",
   "execution_count": null,
   "metadata": {
    "collapsed": true
   },
   "outputs": [],
   "source": []
  },
  {
   "cell_type": "code",
   "execution_count": null,
   "metadata": {
    "collapsed": true
   },
   "outputs": [],
   "source": []
  },
  {
   "cell_type": "code",
   "execution_count": null,
   "metadata": {
    "collapsed": true
   },
   "outputs": [],
   "source": []
  },
  {
   "cell_type": "code",
   "execution_count": null,
   "metadata": {
    "collapsed": true
   },
   "outputs": [],
   "source": []
  },
  {
   "cell_type": "code",
   "execution_count": null,
   "metadata": {
    "collapsed": true
   },
   "outputs": [],
   "source": []
  },
  {
   "cell_type": "code",
   "execution_count": null,
   "metadata": {
    "collapsed": true
   },
   "outputs": [],
   "source": []
  },
  {
   "cell_type": "markdown",
   "metadata": {},
   "source": [
    "## Export possible botfights"
   ]
  },
  {
   "cell_type": "code",
   "execution_count": null,
   "metadata": {
    "collapsed": true
   },
   "outputs": [],
   "source": [
    "def is_possible_botfight(bottype_str):\n",
    "    if bottype_str == 'other':\n",
    "        return True\n",
    "    elif bottype_str == 'other w/ revert in comment':\n",
    "        return True\n",
    "    elif bottype_str.find('botfight') >= 0:\n",
    "        return True\n",
    "    else:\n",
    "        return False"
   ]
  },
  {
   "cell_type": "code",
   "execution_count": null,
   "metadata": {
    "collapsed": true
   },
   "outputs": [],
   "source": [
    "df_possible_botfights_mask = df_all['bottype'].apply(is_possible_botfight)"
   ]
  },
  {
   "cell_type": "code",
   "execution_count": null,
   "metadata": {
    "collapsed": true
   },
   "outputs": [],
   "source": [
    "df_possible_botfights = df_all[df_possible_botfights_mask]\n",
    "df_possible_botfights_ns0 = df_possible_botfights[df_possible_botfights['page_namespace']==0]"
   ]
  },
  {
   "cell_type": "code",
   "execution_count": null,
   "metadata": {},
   "outputs": [],
   "source": [
    "df_possible_botfights['language'].value_counts()"
   ]
  },
  {
   "cell_type": "code",
   "execution_count": null,
   "metadata": {},
   "outputs": [],
   "source": [
    "df_possible_botfights_ns0['language'].value_counts()"
   ]
  },
  {
   "cell_type": "code",
   "execution_count": null,
   "metadata": {},
   "outputs": [],
   "source": [
    "df_possible_botfights[0:2].transpose()"
   ]
  },
  {
   "cell_type": "code",
   "execution_count": null,
   "metadata": {
    "collapsed": true
   },
   "outputs": [],
   "source": [
    "df_possible_botfights.to_pickle(\"data/possible_botfights.pickle\")\n",
    "df_possible_botfights.to_csv(\"data/possible_botfights.tsv\", sep=\"\\t\")"
   ]
  },
  {
   "cell_type": "code",
   "execution_count": null,
   "metadata": {
    "collapsed": true
   },
   "outputs": [],
   "source": []
  },
  {
   "cell_type": "code",
   "execution_count": null,
   "metadata": {
    "collapsed": true
   },
   "outputs": [],
   "source": []
  }
 ],
 "metadata": {
  "kernelspec": {
   "display_name": "Python 3",
   "language": "python",
   "name": "python3"
  },
  "language_info": {
   "codemirror_mode": {
    "name": "ipython",
    "version": 3
   },
   "file_extension": ".py",
   "mimetype": "text/x-python",
   "name": "python",
   "nbconvert_exporter": "python",
   "pygments_lexer": "ipython3",
   "version": "3.6.1"
  }
 },
 "nbformat": 4,
 "nbformat_minor": 2
}
