{
 "cells": [
  {
   "cell_type": "code",
   "execution_count": 3,
   "metadata": {},
   "outputs": [
    {
     "name": "stdout",
     "output_type": "stream",
     "text": [
      "../../datasets/crosswiki_category_bot_20170328.tsv\r\n",
      "../../datasets/crosswiki_unified_bot_20170328.tsv\r\n",
      "../../datasets/enwiki_20161201_reverted_bot2bot.tsv\r\n"
     ]
    }
   ],
   "source": [
    "!ls ../../datasets/*.tsv"
   ]
  },
  {
   "cell_type": "code",
   "execution_count": 70,
   "metadata": {
    "collapsed": true
   },
   "outputs": [],
   "source": [
    "import pandas as pd\n",
    "import seaborn as sns\n",
    "import matplotlib.pyplot as plt\n",
    "import numpy as np\n",
    "%matplotlib inline"
   ]
  },
  {
   "cell_type": "code",
   "execution_count": 8,
   "metadata": {
    "collapsed": true
   },
   "outputs": [],
   "source": [
    "en_df = pd.read_csv(\"../../datasets/enwiki_20161201_reverted_bot2bot.tsv\", sep=\"\\t\")"
   ]
  },
  {
   "cell_type": "code",
   "execution_count": 9,
   "metadata": {},
   "outputs": [
    {
     "data": {
      "text/plain": [
       "987111"
      ]
     },
     "execution_count": 9,
     "metadata": {},
     "output_type": "execute_result"
    }
   ],
   "source": [
    "len(en_df)"
   ]
  },
  {
   "cell_type": "code",
   "execution_count": 12,
   "metadata": {},
   "outputs": [
    {
     "data": {
      "text/html": [
       "<div>\n",
       "<table border=\"1\" class=\"dataframe\">\n",
       "  <thead>\n",
       "    <tr style=\"text-align: right;\">\n",
       "      <th></th>\n",
       "      <th>0</th>\n",
       "      <th>1</th>\n",
       "      <th>2</th>\n",
       "    </tr>\n",
       "  </thead>\n",
       "  <tbody>\n",
       "    <tr>\n",
       "      <th>rev_id</th>\n",
       "      <td>273691771</td>\n",
       "      <td>136526894</td>\n",
       "      <td>506140139</td>\n",
       "    </tr>\n",
       "    <tr>\n",
       "      <th>rev_timestamp</th>\n",
       "      <td>20090227173507</td>\n",
       "      <td>20070607044209</td>\n",
       "      <td>20120806230228</td>\n",
       "    </tr>\n",
       "    <tr>\n",
       "      <th>rev_user</th>\n",
       "      <td>6505923</td>\n",
       "      <td>4534303</td>\n",
       "      <td>5570079</td>\n",
       "    </tr>\n",
       "    <tr>\n",
       "      <th>rev_user_text</th>\n",
       "      <td>Kbdankbot</td>\n",
       "      <td>PbBot</td>\n",
       "      <td>PixelBot</td>\n",
       "    </tr>\n",
       "    <tr>\n",
       "      <th>rev_page</th>\n",
       "      <td>5040439</td>\n",
       "      <td>3046554</td>\n",
       "      <td>13693134</td>\n",
       "    </tr>\n",
       "    <tr>\n",
       "      <th>rev_sha1</th>\n",
       "      <td>qj45ne2z4yfexmpaz5wfnbm2yrmqt4j</td>\n",
       "      <td>3xtnw7u4w9h6cg1smw97mqnr1en6a55</td>\n",
       "      <td>kfi23g79zarzum6nfu4bp7sc0zpig9j</td>\n",
       "    </tr>\n",
       "    <tr>\n",
       "      <th>rev_minor_edit</th>\n",
       "      <td>False</td>\n",
       "      <td>False</td>\n",
       "      <td>True</td>\n",
       "    </tr>\n",
       "    <tr>\n",
       "      <th>rev_deleted</th>\n",
       "      <td>False</td>\n",
       "      <td>False</td>\n",
       "      <td>False</td>\n",
       "    </tr>\n",
       "    <tr>\n",
       "      <th>rev_parent_id</th>\n",
       "      <td>2.59117e+08</td>\n",
       "      <td>1.20932e+08</td>\n",
       "      <td>2.82784e+08</td>\n",
       "    </tr>\n",
       "    <tr>\n",
       "      <th>archived</th>\n",
       "      <td>False</td>\n",
       "      <td>False</td>\n",
       "      <td>False</td>\n",
       "    </tr>\n",
       "    <tr>\n",
       "      <th>reverting_id</th>\n",
       "      <td>273789753</td>\n",
       "      <td>269875438</td>\n",
       "      <td>544995034</td>\n",
       "    </tr>\n",
       "    <tr>\n",
       "      <th>reverting_timestamp</th>\n",
       "      <td>20090228021925</td>\n",
       "      <td>20090210230337</td>\n",
       "      <td>20130317165042</td>\n",
       "    </tr>\n",
       "    <tr>\n",
       "      <th>reverting_user</th>\n",
       "      <td>1215485</td>\n",
       "      <td>7328338</td>\n",
       "      <td>6569922</td>\n",
       "    </tr>\n",
       "    <tr>\n",
       "      <th>reverting_user_text</th>\n",
       "      <td>Cydebot</td>\n",
       "      <td>Yobot</td>\n",
       "      <td>Addbot</td>\n",
       "    </tr>\n",
       "    <tr>\n",
       "      <th>reverting_page</th>\n",
       "      <td>5040439</td>\n",
       "      <td>3046554</td>\n",
       "      <td>13693134</td>\n",
       "    </tr>\n",
       "    <tr>\n",
       "      <th>reverting_sha1</th>\n",
       "      <td>od1e685o9f5j7dtpd9zp2fhew3agjeq</td>\n",
       "      <td>f8ye1kj73h0ymwqj6rlsimwk3jd9tef</td>\n",
       "      <td>l22uj8x4c52du6qmxn6jco1ixxxf8tj</td>\n",
       "    </tr>\n",
       "    <tr>\n",
       "      <th>reverting_minor_edit</th>\n",
       "      <td>True</td>\n",
       "      <td>True</td>\n",
       "      <td>True</td>\n",
       "    </tr>\n",
       "    <tr>\n",
       "      <th>reverting_deleted</th>\n",
       "      <td>False</td>\n",
       "      <td>False</td>\n",
       "      <td>False</td>\n",
       "    </tr>\n",
       "    <tr>\n",
       "      <th>reverting_parent_id</th>\n",
       "      <td>2.73692e+08</td>\n",
       "      <td>1.36527e+08</td>\n",
       "      <td>5.0614e+08</td>\n",
       "    </tr>\n",
       "    <tr>\n",
       "      <th>reverting_archived</th>\n",
       "      <td>False</td>\n",
       "      <td>False</td>\n",
       "      <td>False</td>\n",
       "    </tr>\n",
       "    <tr>\n",
       "      <th>rev_revert_offset</th>\n",
       "      <td>1</td>\n",
       "      <td>1</td>\n",
       "      <td>1</td>\n",
       "    </tr>\n",
       "    <tr>\n",
       "      <th>revisions_reverted</th>\n",
       "      <td>1</td>\n",
       "      <td>1</td>\n",
       "      <td>1</td>\n",
       "    </tr>\n",
       "    <tr>\n",
       "      <th>reverted_to_rev_id</th>\n",
       "      <td>259117355</td>\n",
       "      <td>120932016</td>\n",
       "      <td>282784287</td>\n",
       "    </tr>\n",
       "    <tr>\n",
       "      <th>page_namespace</th>\n",
       "      <td>0</td>\n",
       "      <td>1</td>\n",
       "      <td>0</td>\n",
       "    </tr>\n",
       "  </tbody>\n",
       "</table>\n",
       "</div>"
      ],
      "text/plain": [
       "                                                    0  \\\n",
       "rev_id                                      273691771   \n",
       "rev_timestamp                          20090227173507   \n",
       "rev_user                                      6505923   \n",
       "rev_user_text                               Kbdankbot   \n",
       "rev_page                                      5040439   \n",
       "rev_sha1              qj45ne2z4yfexmpaz5wfnbm2yrmqt4j   \n",
       "rev_minor_edit                                  False   \n",
       "rev_deleted                                     False   \n",
       "rev_parent_id                             2.59117e+08   \n",
       "archived                                        False   \n",
       "reverting_id                                273789753   \n",
       "reverting_timestamp                    20090228021925   \n",
       "reverting_user                                1215485   \n",
       "reverting_user_text                           Cydebot   \n",
       "reverting_page                                5040439   \n",
       "reverting_sha1        od1e685o9f5j7dtpd9zp2fhew3agjeq   \n",
       "reverting_minor_edit                             True   \n",
       "reverting_deleted                               False   \n",
       "reverting_parent_id                       2.73692e+08   \n",
       "reverting_archived                              False   \n",
       "rev_revert_offset                                   1   \n",
       "revisions_reverted                                  1   \n",
       "reverted_to_rev_id                          259117355   \n",
       "page_namespace                                      0   \n",
       "\n",
       "                                                    1  \\\n",
       "rev_id                                      136526894   \n",
       "rev_timestamp                          20070607044209   \n",
       "rev_user                                      4534303   \n",
       "rev_user_text                                   PbBot   \n",
       "rev_page                                      3046554   \n",
       "rev_sha1              3xtnw7u4w9h6cg1smw97mqnr1en6a55   \n",
       "rev_minor_edit                                  False   \n",
       "rev_deleted                                     False   \n",
       "rev_parent_id                             1.20932e+08   \n",
       "archived                                        False   \n",
       "reverting_id                                269875438   \n",
       "reverting_timestamp                    20090210230337   \n",
       "reverting_user                                7328338   \n",
       "reverting_user_text                             Yobot   \n",
       "reverting_page                                3046554   \n",
       "reverting_sha1        f8ye1kj73h0ymwqj6rlsimwk3jd9tef   \n",
       "reverting_minor_edit                             True   \n",
       "reverting_deleted                               False   \n",
       "reverting_parent_id                       1.36527e+08   \n",
       "reverting_archived                              False   \n",
       "rev_revert_offset                                   1   \n",
       "revisions_reverted                                  1   \n",
       "reverted_to_rev_id                          120932016   \n",
       "page_namespace                                      1   \n",
       "\n",
       "                                                    2  \n",
       "rev_id                                      506140139  \n",
       "rev_timestamp                          20120806230228  \n",
       "rev_user                                      5570079  \n",
       "rev_user_text                                PixelBot  \n",
       "rev_page                                     13693134  \n",
       "rev_sha1              kfi23g79zarzum6nfu4bp7sc0zpig9j  \n",
       "rev_minor_edit                                   True  \n",
       "rev_deleted                                     False  \n",
       "rev_parent_id                             2.82784e+08  \n",
       "archived                                        False  \n",
       "reverting_id                                544995034  \n",
       "reverting_timestamp                    20130317165042  \n",
       "reverting_user                                6569922  \n",
       "reverting_user_text                            Addbot  \n",
       "reverting_page                               13693134  \n",
       "reverting_sha1        l22uj8x4c52du6qmxn6jco1ixxxf8tj  \n",
       "reverting_minor_edit                             True  \n",
       "reverting_deleted                               False  \n",
       "reverting_parent_id                        5.0614e+08  \n",
       "reverting_archived                              False  \n",
       "rev_revert_offset                                   1  \n",
       "revisions_reverted                                  1  \n",
       "reverted_to_rev_id                          282784287  \n",
       "page_namespace                                      0  "
      ]
     },
     "execution_count": 12,
     "metadata": {},
     "output_type": "execute_result"
    }
   ],
   "source": [
    "en_df[0:3].transpose()"
   ]
  },
  {
   "cell_type": "markdown",
   "metadata": {},
   "source": [
    "## Datetime parsing"
   ]
  },
  {
   "cell_type": "code",
   "execution_count": 22,
   "metadata": {
    "collapsed": true
   },
   "outputs": [],
   "source": [
    "en_df['reverting_timestamp_dt'] = pd.to_datetime(en_df['reverting_timestamp'], format=\"%Y%m%d%H%M%S\")\n",
    "en_df['reverted_timestamp_dt'] = pd.to_datetime(en_df['rev_timestamp'], format=\"%Y%m%d%H%M%S\")\n",
    "\n",
    "en_df = en_df.set_index('reverting_timestamp_dt')\n",
    "\n",
    "en_df['reverting_timestamp_dt'] = pd.to_datetime(en_df['reverting_timestamp'], format=\"%Y%m%d%H%M%S\")\n"
   ]
  },
  {
   "cell_type": "code",
   "execution_count": 24,
   "metadata": {},
   "outputs": [],
   "source": [
    "en_df['time_to_revert'] = en_df['reverting_timestamp_dt']-en_df['reverted_timestamp_dt']"
   ]
  },
  {
   "cell_type": "code",
   "execution_count": 47,
   "metadata": {},
   "outputs": [],
   "source": [
    "en_df['time_to_revert_hrs'] = en_df['time_to_revert'].astype('timedelta64[s]')/(60*60)"
   ]
  },
  {
   "cell_type": "markdown",
   "metadata": {},
   "source": [
    "### Descriptive statistics for time to revert, hours"
   ]
  },
  {
   "cell_type": "code",
   "execution_count": 163,
   "metadata": {},
   "outputs": [
    {
     "data": {
      "text/plain": [
       "count    987111.000000\n",
       "mean       7027.190431\n",
       "std       10921.958097\n",
       "min           0.000278\n",
       "25%          27.774306\n",
       "50%        1705.154167\n",
       "75%       10583.207778\n",
       "max      115774.512500\n",
       "Name: time_to_revert_hrs, dtype: float64"
      ]
     },
     "execution_count": 163,
     "metadata": {},
     "output_type": "execute_result"
    }
   ],
   "source": [
    "en_df.time_to_revert_hrs.describe()"
   ]
  },
  {
   "cell_type": "markdown",
   "metadata": {},
   "source": [
    "### Descriptive statistics for time to revert, days"
   ]
  },
  {
   "cell_type": "code",
   "execution_count": 166,
   "metadata": {},
   "outputs": [
    {
     "data": {
      "text/plain": [
       "count    987111.000000\n",
       "mean        292.799601\n",
       "std         455.081587\n",
       "min           0.000012\n",
       "25%           1.157263\n",
       "50%          71.048090\n",
       "75%         440.966991\n",
       "max        4823.938021\n",
       "Name: time_to_revert_hrs, dtype: float64"
      ]
     },
     "execution_count": 166,
     "metadata": {},
     "output_type": "execute_result"
    }
   ],
   "source": [
    "(en_df.time_to_revert_hrs/24).describe()"
   ]
  },
  {
   "cell_type": "markdown",
   "metadata": {},
   "source": [
    "## Plotting distribution of time differences"
   ]
  },
  {
   "cell_type": "code",
   "execution_count": 195,
   "metadata": {
    "collapsed": true
   },
   "outputs": [],
   "source": [
    "bins=[0,(1/60),(5/60),(10/60),(30/60),1,2,4,8,12,24,72,(24*7), (24*30), (24*180), (24*365), (24*365*2)]\n",
    "bin_labels = [\"<=1 min\",\n",
    "              \"5 mins\",\n",
    "              \"10 mins\",\n",
    "              \"30 mins\",\n",
    "              \"1 hr\",\n",
    "              \"2 hrs\",\n",
    "              \"4 hrs\",\n",
    "              \"8 hrs\",\n",
    "              \"12 hrs\",\n",
    "              \"24 hrs\",\n",
    "              \"3 days\",\n",
    "              \"7 days\",\n",
    "              \"30 days\",\n",
    "              \"180 days\",\n",
    "              \"1 year\",\n",
    "              \">2 years\"]\n",
    "\n",
    "count, division = np.histogram(en_df['time_to_revert_hrs'], bins=bins)"
   ]
  },
  {
   "cell_type": "code",
   "execution_count": 196,
   "metadata": {},
   "outputs": [
    {
     "data": {
      "image/png": "[encoded data removed]",
      "text/plain": [
       "<matplotlib.figure.Figure at 0x7f6ee77256d8>"
      ]
     },
     "metadata": {},
     "output_type": "display_data"
    }
   ],
   "source": [
    "sns.set(font_scale=2)\n",
    "fig, ax = plt.subplots(figsize=[11,8])\n",
    "sns.barplot(x=count, y=division[1:], ax=ax, orient=\"h\")\n",
    "txt = ax.set_yticklabels(bin_labels)\n",
    "#lt.xticks(rotation='vertical')"
   ]
  },
  {
   "cell_type": "code",
   "execution_count": 197,
   "metadata": {},
   "outputs": [],
   "source": [
    "bins=[0,(5/60),1,24,(24*7), (24*30), (24*90), (24*180), (24*365), (24*365*2)]\n",
    "bin_labels = [\"<5 mins\",\n",
    "              \"5-60 mins\",\n",
    "              \"1-24 hrs\",\n",
    "              \"1-7 days\",\n",
    "              \"7-30 days\",\n",
    "              \"30-90 days\",\n",
    "              \"90-180 days\",\n",
    "              \"180 days-1 year\",\n",
    "              \"1-2 years\",\n",
    "              \">2 years\"]\n",
    "count, division = np.histogram(en_df['time_to_revert_hrs'], bins=bins)"
   ]
  },
  {
   "cell_type": "code",
   "execution_count": 198,
   "metadata": {},
   "outputs": [
    {
     "data": {
      "text/plain": [
       "<matplotlib.text.Text at 0x7f6ee75329e8>"
      ]
     },
     "execution_count": 198,
     "metadata": {},
     "output_type": "execute_result"
    },
    {
     "data": {
      "image/png": "[encoded data removed]",
      "text/plain": [
       "<matplotlib.figure.Figure at 0x7f6ee7532e48>"
      ]
     },
     "metadata": {},
     "output_type": "display_data"
    }
   ],
   "source": [
    "sns.set(font_scale=2)\n",
    "fig, ax = plt.subplots(figsize=[11,8])\n",
    "sns.barplot(x=count, y=division[1:], ax=ax, orient=\"h\")\n",
    "txt = ax.set_yticklabels(bin_labels)\n",
    "#plt.xticks(rotation='vertical')\n",
    "ax.set_xlabel(\"Number of reverts\")\n",
    "ax.set_ylabel(\"Time to revert\")\n",
    "plt.suptitle(\"Time to revert distribution for enwiki\")"
   ]
  },
  {
   "cell_type": "code",
   "execution_count": null,
   "metadata": {
    "collapsed": true
   },
   "outputs": [],
   "source": []
  },
  {
   "cell_type": "code",
   "execution_count": null,
   "metadata": {
    "collapsed": true
   },
   "outputs": [],
   "source": []
  },
  {
   "cell_type": "code",
   "execution_count": null,
   "metadata": {
    "collapsed": true
   },
   "outputs": [],
   "source": []
  }
 ],
 "metadata": {
  "kernelspec": {
   "display_name": "Python 3",
   "language": "python",
   "name": "python3"
  },
  "language_info": {
   "codemirror_mode": {
    "name": "ipython",
    "version": 3
   },
   "file_extension": ".py",
   "mimetype": "text/x-python",
   "name": "python",
   "nbconvert_exporter": "python",
   "pygments_lexer": "ipython3",
   "version": "3.6.1"
  }
 },
 "nbformat": 4,
 "nbformat_minor": 2
}
