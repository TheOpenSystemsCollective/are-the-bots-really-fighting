{
 "cells": [
  {
   "cell_type": "markdown",
   "metadata": {},
   "source": [
    "# Exploring Addbot's \"doom month\"\n",
    "\n",
    "Load the English Wikipedia table of bot-bot reverts, process dates:"
   ]
  },
  {
   "cell_type": "code",
   "execution_count": 1,
   "metadata": {},
   "outputs": [],
   "source": [
    "library(data.table)\n",
    "library(ggplot2)\n",
    "\n",
    "dt = data.table(read.table(\"../../datasets/reverted_bot2bot/enwiki_20170420.tsv.bz2\", sep=\"\\t\", header=T, quote=\"\",\n",
    "                          comment.char=\"\"))\n",
    "dt$rev_ts = as.POSIXct(format(dt$rev_timestamp, scientific=F), format=\"%Y%m%d%H%M%S\")\n",
    "dt$rev_month = as.Date(paste(format(dt$rev_ts, \"%Y-%m-\"), \"01\", sep=\"\"))\n",
    "dt$rev_day = as.Date(dt$rev_ts)\n",
    "dt$reverting_ts = as.POSIXct(format(dt$reverting_timestamp, scientific=F), format=\"%Y%m%d%H%M%S\")\n",
    "dt$reverting_month = as.Date(paste(format(dt$reverting_ts, \"%Y-%m-\"), \"01\", sep=\"\"))\n",
    "dt$reverting_day = as.Date(dt$reverting_ts)"
   ]
  },
  {
   "cell_type": "markdown",
   "metadata": {},
   "source": [
    "What does this dataframe look like?"
   ]
  },
  {
   "cell_type": "code",
   "execution_count": 2,
   "metadata": {},
   "outputs": [
    {
     "data": {
      "text/html": [
       "<table>\n",
       "<thead><tr><th scope=col>rev_id</th><th scope=col>rev_timestamp</th><th scope=col>rev_user</th><th scope=col>rev_user_text</th><th scope=col>rev_page</th><th scope=col>rev_sha1</th><th scope=col>rev_minor_edit</th><th scope=col>rev_deleted</th><th scope=col>rev_parent_id</th><th scope=col>archived</th><th scope=col>⋯</th><th scope=col>rev_revert_offset</th><th scope=col>revisions_reverted</th><th scope=col>reverted_to_rev_id</th><th scope=col>page_namespace</th><th scope=col>rev_ts</th><th scope=col>rev_month</th><th scope=col>rev_day</th><th scope=col>reverting_ts</th><th scope=col>reverting_month</th><th scope=col>reverting_day</th></tr></thead>\n",
       "<tbody>\n",
       "\t<tr><td>273691771                      </td><td>2.009023e+13                   </td><td> 6505923                       </td><td>Kbdankbot                      </td><td> 5040439                       </td><td>qj45ne2z4yfexmpaz5wfnbm2yrmqt4j</td><td>False                          </td><td>False                          </td><td>259117355                      </td><td>False                          </td><td>⋯                              </td><td> 1                             </td><td> 1                             </td><td>259117355                      </td><td> 0                             </td><td>2009-02-27 17:35:07            </td><td>2009-02-01                     </td><td>2009-02-28                     </td><td>2009-02-28 02:19:25            </td><td>2009-02-01                     </td><td>2009-02-28                     </td></tr>\n",
       "\t<tr><td>136526894                      </td><td>2.007061e+13                   </td><td> 4534303                       </td><td>PbBot                          </td><td> 3046554                       </td><td>3xtnw7u4w9h6cg1smw97mqnr1en6a55</td><td>False                          </td><td>False                          </td><td>120932016                      </td><td>False                          </td><td>⋯                              </td><td> 1                             </td><td> 1                             </td><td>120932016                      </td><td> 1                             </td><td>2007-06-07 04:42:09            </td><td>2007-06-01                     </td><td>2007-06-07                     </td><td>2009-02-10 23:03:37            </td><td>2009-02-01                     </td><td>2009-02-11                     </td></tr>\n",
       "\t<tr><td>506140139                      </td><td>2.012081e+13                   </td><td> 5570079                       </td><td>PixelBot                       </td><td>13693134                       </td><td>kfi23g79zarzum6nfu4bp7sc0zpig9j</td><td>True                           </td><td>False                          </td><td>282784287                      </td><td>False                          </td><td>⋯                              </td><td> 1                             </td><td> 1                             </td><td>282784287                      </td><td> 0                             </td><td>2012-08-06 23:02:28            </td><td>2012-08-01                     </td><td>2012-08-07                     </td><td>2013-03-17 16:50:42            </td><td>2013-03-01                     </td><td>2013-03-17                     </td></tr>\n",
       "\t<tr><td>480021175                      </td><td>2.012030e+13                   </td><td> 6929011                       </td><td>CarsracBot                     </td><td> 9518147                       </td><td>hwnqcwihv5ca5ijyzw4mk6q4o67ouep</td><td>True                           </td><td>False                          </td><td>472951378                      </td><td>False                          </td><td>⋯                              </td><td> 1                             </td><td> 1                             </td><td>472951378                      </td><td> 0                             </td><td>2012-03-03 19:13:45            </td><td>2012-03-01                     </td><td>2012-03-04                     </td><td>2012-06-05 18:20:02            </td><td>2012-06-01                     </td><td>2012-06-06                     </td></tr>\n",
       "\t<tr><td>147117624                      </td><td>2.007073e+13                   </td><td>  279219                       </td><td>RussBot                        </td><td>11539331                       </td><td>6szcxb7xgiz6vub80iznv0oggnciyc3</td><td>True                           </td><td>False                          </td><td>135093925                      </td><td>False                          </td><td>⋯                              </td><td> 1                             </td><td> 1                             </td><td>135093925                      </td><td> 0                             </td><td>2007-07-26 00:29:18            </td><td>2007-07-01                     </td><td>2007-07-26                     </td><td>2012-11-17 01:09:56            </td><td>2012-11-01                     </td><td>2012-11-17                     </td></tr>\n",
       "\t<tr><td>349876265                      </td><td>2.010031e+13                   </td><td>11292982                       </td><td>EmausBot                       </td><td>18754878                       </td><td>1sp9240gjlgx8llm5z0dpd57v0pd4hg</td><td>False                          </td><td>False                          </td><td>293896099                      </td><td>False                          </td><td>⋯                              </td><td>11                             </td><td>11                             </td><td>293896099                      </td><td>14                             </td><td>2010-03-14 21:10:51            </td><td>2010-03-01                     </td><td>2010-03-15                     </td><td>2013-03-19 08:55:44            </td><td>2013-03-01                     </td><td>2013-03-19                     </td></tr>\n",
       "</tbody>\n",
       "</table>\n"
      ],
      "text/latex": [
       "\\begin{tabular}{r|lllllllllllllllllllllllllllllll}\n",
       " rev\\_id & rev\\_timestamp & rev\\_user & rev\\_user\\_text & rev\\_page & rev\\_sha1 & rev\\_minor\\_edit & rev\\_deleted & rev\\_parent\\_id & archived & ⋯ & rev\\_revert\\_offset & revisions\\_reverted & reverted\\_to\\_rev\\_id & page\\_namespace & rev\\_ts & rev\\_month & rev\\_day & reverting\\_ts & reverting\\_month & reverting\\_day\\\\\n",
       "\\hline\n",
       "\t 273691771                       & 2.009023e+13                    &  6505923                        & Kbdankbot                       &  5040439                        & qj45ne2z4yfexmpaz5wfnbm2yrmqt4j & False                           & False                           & 259117355                       & False                           & ⋯                               &  1                              &  1                              & 259117355                       &  0                              & 2009-02-27 17:35:07             & 2009-02-01                      & 2009-02-28                      & 2009-02-28 02:19:25             & 2009-02-01                      & 2009-02-28                     \\\\\n",
       "\t 136526894                       & 2.007061e+13                    &  4534303                        & PbBot                           &  3046554                        & 3xtnw7u4w9h6cg1smw97mqnr1en6a55 & False                           & False                           & 120932016                       & False                           & ⋯                               &  1                              &  1                              & 120932016                       &  1                              & 2007-06-07 04:42:09             & 2007-06-01                      & 2007-06-07                      & 2009-02-10 23:03:37             & 2009-02-01                      & 2009-02-11                     \\\\\n",
       "\t 506140139                       & 2.012081e+13                    &  5570079                        & PixelBot                        & 13693134                        & kfi23g79zarzum6nfu4bp7sc0zpig9j & True                            & False                           & 282784287                       & False                           & ⋯                               &  1                              &  1                              & 282784287                       &  0                              & 2012-08-06 23:02:28             & 2012-08-01                      & 2012-08-07                      & 2013-03-17 16:50:42             & 2013-03-01                      & 2013-03-17                     \\\\\n",
       "\t 480021175                       & 2.012030e+13                    &  6929011                        & CarsracBot                      &  9518147                        & hwnqcwihv5ca5ijyzw4mk6q4o67ouep & True                            & False                           & 472951378                       & False                           & ⋯                               &  1                              &  1                              & 472951378                       &  0                              & 2012-03-03 19:13:45             & 2012-03-01                      & 2012-03-04                      & 2012-06-05 18:20:02             & 2012-06-01                      & 2012-06-06                     \\\\\n",
       "\t 147117624                       & 2.007073e+13                    &   279219                        & RussBot                         & 11539331                        & 6szcxb7xgiz6vub80iznv0oggnciyc3 & True                            & False                           & 135093925                       & False                           & ⋯                               &  1                              &  1                              & 135093925                       &  0                              & 2007-07-26 00:29:18             & 2007-07-01                      & 2007-07-26                      & 2012-11-17 01:09:56             & 2012-11-01                      & 2012-11-17                     \\\\\n",
       "\t 349876265                       & 2.010031e+13                    & 11292982                        & EmausBot                        & 18754878                        & 1sp9240gjlgx8llm5z0dpd57v0pd4hg & False                           & False                           & 293896099                       & False                           & ⋯                               & 11                              & 11                              & 293896099                       & 14                              & 2010-03-14 21:10:51             & 2010-03-01                      & 2010-03-15                      & 2013-03-19 08:55:44             & 2013-03-01                      & 2013-03-19                     \\\\\n",
       "\\end{tabular}\n"
      ],
      "text/markdown": [
       "\n",
       "rev_id | rev_timestamp | rev_user | rev_user_text | rev_page | rev_sha1 | rev_minor_edit | rev_deleted | rev_parent_id | archived | ⋯ | rev_revert_offset | revisions_reverted | reverted_to_rev_id | page_namespace | rev_ts | rev_month | rev_day | reverting_ts | reverting_month | reverting_day | \n",
       "|---|---|---|---|---|---|\n",
       "| 273691771                       | 2.009023e+13                    |  6505923                        | Kbdankbot                       |  5040439                        | qj45ne2z4yfexmpaz5wfnbm2yrmqt4j | False                           | False                           | 259117355                       | False                           | ⋯                               |  1                              |  1                              | 259117355                       |  0                              | 2009-02-27 17:35:07             | 2009-02-01                      | 2009-02-28                      | 2009-02-28 02:19:25             | 2009-02-01                      | 2009-02-28                      | \n",
       "| 136526894                       | 2.007061e+13                    |  4534303                        | PbBot                           |  3046554                        | 3xtnw7u4w9h6cg1smw97mqnr1en6a55 | False                           | False                           | 120932016                       | False                           | ⋯                               |  1                              |  1                              | 120932016                       |  1                              | 2007-06-07 04:42:09             | 2007-06-01                      | 2007-06-07                      | 2009-02-10 23:03:37             | 2009-02-01                      | 2009-02-11                      | \n",
       "| 506140139                       | 2.012081e+13                    |  5570079                        | PixelBot                        | 13693134                        | kfi23g79zarzum6nfu4bp7sc0zpig9j | True                            | False                           | 282784287                       | False                           | ⋯                               |  1                              |  1                              | 282784287                       |  0                              | 2012-08-06 23:02:28             | 2012-08-01                      | 2012-08-07                      | 2013-03-17 16:50:42             | 2013-03-01                      | 2013-03-17                      | \n",
       "| 480021175                       | 2.012030e+13                    |  6929011                        | CarsracBot                      |  9518147                        | hwnqcwihv5ca5ijyzw4mk6q4o67ouep | True                            | False                           | 472951378                       | False                           | ⋯                               |  1                              |  1                              | 472951378                       |  0                              | 2012-03-03 19:13:45             | 2012-03-01                      | 2012-03-04                      | 2012-06-05 18:20:02             | 2012-06-01                      | 2012-06-06                      | \n",
       "| 147117624                       | 2.007073e+13                    |   279219                        | RussBot                         | 11539331                        | 6szcxb7xgiz6vub80iznv0oggnciyc3 | True                            | False                           | 135093925                       | False                           | ⋯                               |  1                              |  1                              | 135093925                       |  0                              | 2007-07-26 00:29:18             | 2007-07-01                      | 2007-07-26                      | 2012-11-17 01:09:56             | 2012-11-01                      | 2012-11-17                      | \n",
       "| 349876265                       | 2.010031e+13                    | 11292982                        | EmausBot                        | 18754878                        | 1sp9240gjlgx8llm5z0dpd57v0pd4hg | False                           | False                           | 293896099                       | False                           | ⋯                               | 11                              | 11                              | 293896099                       | 14                              | 2010-03-14 21:10:51             | 2010-03-01                      | 2010-03-15                      | 2013-03-19 08:55:44             | 2013-03-01                      | 2013-03-19                      | \n",
       "\n",
       "\n"
      ],
      "text/plain": [
       "  rev_id    rev_timestamp rev_user rev_user_text rev_page\n",
       "1 273691771 2.009023e+13   6505923 Kbdankbot      5040439\n",
       "2 136526894 2.007061e+13   4534303 PbBot          3046554\n",
       "3 506140139 2.012081e+13   5570079 PixelBot      13693134\n",
       "4 480021175 2.012030e+13   6929011 CarsracBot     9518147\n",
       "5 147117624 2.007073e+13    279219 RussBot       11539331\n",
       "6 349876265 2.010031e+13  11292982 EmausBot      18754878\n",
       "  rev_sha1                        rev_minor_edit rev_deleted rev_parent_id\n",
       "1 qj45ne2z4yfexmpaz5wfnbm2yrmqt4j False          False       259117355    \n",
       "2 3xtnw7u4w9h6cg1smw97mqnr1en6a55 False          False       120932016    \n",
       "3 kfi23g79zarzum6nfu4bp7sc0zpig9j True           False       282784287    \n",
       "4 hwnqcwihv5ca5ijyzw4mk6q4o67ouep True           False       472951378    \n",
       "5 6szcxb7xgiz6vub80iznv0oggnciyc3 True           False       135093925    \n",
       "6 1sp9240gjlgx8llm5z0dpd57v0pd4hg False          False       293896099    \n",
       "  archived ⋯ rev_revert_offset revisions_reverted reverted_to_rev_id\n",
       "1 False    ⋯  1                 1                 259117355         \n",
       "2 False    ⋯  1                 1                 120932016         \n",
       "3 False    ⋯  1                 1                 282784287         \n",
       "4 False    ⋯  1                 1                 472951378         \n",
       "5 False    ⋯  1                 1                 135093925         \n",
       "6 False    ⋯ 11                11                 293896099         \n",
       "  page_namespace rev_ts              rev_month  rev_day    reverting_ts       \n",
       "1  0             2009-02-27 17:35:07 2009-02-01 2009-02-28 2009-02-28 02:19:25\n",
       "2  1             2007-06-07 04:42:09 2007-06-01 2007-06-07 2009-02-10 23:03:37\n",
       "3  0             2012-08-06 23:02:28 2012-08-01 2012-08-07 2013-03-17 16:50:42\n",
       "4  0             2012-03-03 19:13:45 2012-03-01 2012-03-04 2012-06-05 18:20:02\n",
       "5  0             2007-07-26 00:29:18 2007-07-01 2007-07-26 2012-11-17 01:09:56\n",
       "6 14             2010-03-14 21:10:51 2010-03-01 2010-03-15 2013-03-19 08:55:44\n",
       "  reverting_month reverting_day\n",
       "1 2009-02-01      2009-02-28   \n",
       "2 2009-02-01      2009-02-11   \n",
       "3 2013-03-01      2013-03-17   \n",
       "4 2012-06-01      2012-06-06   \n",
       "5 2012-11-01      2012-11-17   \n",
       "6 2013-03-01      2013-03-19   "
      ]
     },
     "metadata": {},
     "output_type": "display_data"
    }
   ],
   "source": [
    "head(dt)\n"
   ]
  },
  {
   "cell_type": "markdown",
   "metadata": {},
   "source": [
    "How many bot-bot reverts per month?"
   ]
  },
  {
   "cell_type": "code",
   "execution_count": 3,
   "metadata": {},
   "outputs": [
    {
     "data": {
      "text/html": [
       "<table>\n",
       "<thead><tr><th scope=col>reverting_month</th><th scope=col>reverts</th></tr></thead>\n",
       "<tbody>\n",
       "\t<tr><td>2013-03-01</td><td>79586     </td></tr>\n",
       "\t<tr><td>2011-08-01</td><td> 6018     </td></tr>\n",
       "\t<tr><td>2013-04-01</td><td> 4021     </td></tr>\n",
       "\t<tr><td>2013-02-01</td><td> 3997     </td></tr>\n",
       "\t<tr><td>2013-01-01</td><td> 3193     </td></tr>\n",
       "\t<tr><td>2011-11-01</td><td> 2921     </td></tr>\n",
       "\t<tr><td>2012-09-01</td><td> 2660     </td></tr>\n",
       "\t<tr><td>2012-02-01</td><td> 2629     </td></tr>\n",
       "\t<tr><td>2011-09-01</td><td> 2495     </td></tr>\n",
       "\t<tr><td>2011-07-01</td><td> 2491     </td></tr>\n",
       "</tbody>\n",
       "</table>\n"
      ],
      "text/latex": [
       "\\begin{tabular}{r|ll}\n",
       " reverting\\_month & reverts\\\\\n",
       "\\hline\n",
       "\t 2013-03-01 & 79586     \\\\\n",
       "\t 2011-08-01 &  6018     \\\\\n",
       "\t 2013-04-01 &  4021     \\\\\n",
       "\t 2013-02-01 &  3997     \\\\\n",
       "\t 2013-01-01 &  3193     \\\\\n",
       "\t 2011-11-01 &  2921     \\\\\n",
       "\t 2012-09-01 &  2660     \\\\\n",
       "\t 2012-02-01 &  2629     \\\\\n",
       "\t 2011-09-01 &  2495     \\\\\n",
       "\t 2011-07-01 &  2491     \\\\\n",
       "\\end{tabular}\n"
      ],
      "text/markdown": [
       "\n",
       "reverting_month | reverts | \n",
       "|---|---|---|---|---|---|---|---|---|---|\n",
       "| 2013-03-01 | 79586      | \n",
       "| 2011-08-01 |  6018      | \n",
       "| 2013-04-01 |  4021      | \n",
       "| 2013-02-01 |  3997      | \n",
       "| 2013-01-01 |  3193      | \n",
       "| 2011-11-01 |  2921      | \n",
       "| 2012-09-01 |  2660      | \n",
       "| 2012-02-01 |  2629      | \n",
       "| 2011-09-01 |  2495      | \n",
       "| 2011-07-01 |  2491      | \n",
       "\n",
       "\n"
      ],
      "text/plain": [
       "   reverting_month reverts\n",
       "1  2013-03-01      79586  \n",
       "2  2011-08-01       6018  \n",
       "3  2013-04-01       4021  \n",
       "4  2013-02-01       3997  \n",
       "5  2013-01-01       3193  \n",
       "6  2011-11-01       2921  \n",
       "7  2012-09-01       2660  \n",
       "8  2012-02-01       2629  \n",
       "9  2011-09-01       2495  \n",
       "10 2011-07-01       2491  "
      ]
     },
     "metadata": {},
     "output_type": "display_data"
    }
   ],
   "source": [
    "month_reverts = dt[page_namespace == 0,list(reverts=length(rev_id)), list(reverting_month)]\n",
    "month_reverts[order(month_reverts$reverts, decreasing=T)][1:10,]"
   ]
  },
  {
   "cell_type": "markdown",
   "metadata": {},
   "source": [
    "In the \"doom month\" of March 2013, which bots made the most bot-bot reverts?"
   ]
  },
  {
   "cell_type": "code",
   "execution_count": 4,
   "metadata": {},
   "outputs": [
    {
     "data": {
      "text/html": [
       "<table>\n",
       "<thead><tr><th scope=col>reverting_user_text</th><th scope=col>reverts</th></tr></thead>\n",
       "<tbody>\n",
       "\t<tr><td>Addbot        </td><td>73275         </td></tr>\n",
       "\t<tr><td>EmausBot      </td><td> 3230         </td></tr>\n",
       "\t<tr><td>KLBot2        </td><td> 1083         </td></tr>\n",
       "\t<tr><td>AvicBot       </td><td>  886         </td></tr>\n",
       "\t<tr><td>AvocatoBot    </td><td>  459         </td></tr>\n",
       "\t<tr><td>Legobot       </td><td>  272         </td></tr>\n",
       "\t<tr><td>DumbBOT       </td><td>  150         </td></tr>\n",
       "\t<tr><td>Xqbot         </td><td>   94         </td></tr>\n",
       "\t<tr><td>タチコマ robot</td><td>   65         </td></tr>\n",
       "\t<tr><td>JAnDbot       </td><td>   53         </td></tr>\n",
       "</tbody>\n",
       "</table>\n"
      ],
      "text/latex": [
       "\\begin{tabular}{r|ll}\n",
       " reverting\\_user\\_text & reverts\\\\\n",
       "\\hline\n",
       "\t Addbot         & 73275         \\\\\n",
       "\t EmausBot       &  3230         \\\\\n",
       "\t KLBot2         &  1083         \\\\\n",
       "\t AvicBot        &   886         \\\\\n",
       "\t AvocatoBot     &   459         \\\\\n",
       "\t Legobot        &   272         \\\\\n",
       "\t DumbBOT        &   150         \\\\\n",
       "\t Xqbot          &    94         \\\\\n",
       "\t タチコマ robot &    65         \\\\\n",
       "\t JAnDbot        &    53         \\\\\n",
       "\\end{tabular}\n"
      ],
      "text/markdown": [
       "\n",
       "reverting_user_text | reverts | \n",
       "|---|---|---|---|---|---|---|---|---|---|\n",
       "| Addbot         | 73275          | \n",
       "| EmausBot       |  3230          | \n",
       "| KLBot2         |  1083          | \n",
       "| AvicBot        |   886          | \n",
       "| AvocatoBot     |   459          | \n",
       "| Legobot        |   272          | \n",
       "| DumbBOT        |   150          | \n",
       "| Xqbot          |    94          | \n",
       "| タチコマ robot |    65          | \n",
       "| JAnDbot        |    53          | \n",
       "\n",
       "\n"
      ],
      "text/plain": [
       "   reverting_user_text reverts\n",
       "1  Addbot              73275  \n",
       "2  EmausBot             3230  \n",
       "3  KLBot2               1083  \n",
       "4  AvicBot               886  \n",
       "5  AvocatoBot            459  \n",
       "6  Legobot               272  \n",
       "7  DumbBOT               150  \n",
       "8  Xqbot                  94  \n",
       "9  タチコマ robot         65  \n",
       "10 JAnDbot                53  "
      ]
     },
     "metadata": {},
     "output_type": "display_data"
    }
   ],
   "source": [
    "doom_reverts = dt[\n",
    "    page_namespace == 0 & reverting_month == \"2013-03-01\", \n",
    "    list(reverts=length(rev_id)), \n",
    "    list(reverting_user_text)]\n",
    "doom_reverts[order(doom_reverts$reverts, decreasing=T)][1:10,]"
   ]
  },
  {
   "cell_type": "markdown",
   "metadata": {},
   "source": [
    "In this month, who is Addbot reverting?"
   ]
  },
  {
   "cell_type": "code",
   "execution_count": 5,
   "metadata": {},
   "outputs": [
    {
     "data": {
      "text/html": [
       "<table>\n",
       "<thead><tr><th scope=col>rev_user_text</th><th scope=col>reverteds</th></tr></thead>\n",
       "<tbody>\n",
       "\t<tr><td>EmausBot   </td><td>15182      </td></tr>\n",
       "\t<tr><td>ZéroBot    </td><td>12837      </td></tr>\n",
       "\t<tr><td>TuHan-Bot  </td><td> 4483      </td></tr>\n",
       "\t<tr><td>Luckas-bot </td><td> 3837      </td></tr>\n",
       "\t<tr><td>Makecat-bot</td><td> 3384      </td></tr>\n",
       "\t<tr><td>Zorrobot   </td><td> 3071      </td></tr>\n",
       "\t<tr><td>Thijs!bot  </td><td> 2805      </td></tr>\n",
       "\t<tr><td>SieBot     </td><td> 2034      </td></tr>\n",
       "\t<tr><td>MystBot    </td><td> 1751      </td></tr>\n",
       "\t<tr><td>YFdyh-bot  </td><td> 1702      </td></tr>\n",
       "</tbody>\n",
       "</table>\n"
      ],
      "text/latex": [
       "\\begin{tabular}{r|ll}\n",
       " rev\\_user\\_text & reverteds\\\\\n",
       "\\hline\n",
       "\t EmausBot    & 15182      \\\\\n",
       "\t ZéroBot     & 12837      \\\\\n",
       "\t TuHan-Bot   &  4483      \\\\\n",
       "\t Luckas-bot  &  3837      \\\\\n",
       "\t Makecat-bot &  3384      \\\\\n",
       "\t Zorrobot    &  3071      \\\\\n",
       "\t Thijs!bot   &  2805      \\\\\n",
       "\t SieBot      &  2034      \\\\\n",
       "\t MystBot     &  1751      \\\\\n",
       "\t YFdyh-bot   &  1702      \\\\\n",
       "\\end{tabular}\n"
      ],
      "text/markdown": [
       "\n",
       "rev_user_text | reverteds | \n",
       "|---|---|---|---|---|---|---|---|---|---|\n",
       "| EmausBot    | 15182       | \n",
       "| ZéroBot     | 12837       | \n",
       "| TuHan-Bot   |  4483       | \n",
       "| Luckas-bot  |  3837       | \n",
       "| Makecat-bot |  3384       | \n",
       "| Zorrobot    |  3071       | \n",
       "| Thijs!bot   |  2805       | \n",
       "| SieBot      |  2034       | \n",
       "| MystBot     |  1751       | \n",
       "| YFdyh-bot   |  1702       | \n",
       "\n",
       "\n"
      ],
      "text/plain": [
       "   rev_user_text reverteds\n",
       "1  EmausBot      15182    \n",
       "2  ZéroBot       12837    \n",
       "3  TuHan-Bot      4483    \n",
       "4  Luckas-bot     3837    \n",
       "5  Makecat-bot    3384    \n",
       "6  Zorrobot       3071    \n",
       "7  Thijs!bot      2805    \n",
       "8  SieBot         2034    \n",
       "9  MystBot        1751    \n",
       "10 YFdyh-bot      1702    "
      ]
     },
     "metadata": {},
     "output_type": "display_data"
    }
   ],
   "source": [
    "addbot_reverts = dt[\n",
    "    page_namespace == 0 & reverting_month == \"2013-03-01\" & reverting_user_text == \"Addbot\", \n",
    "    list(reverteds=length(rev_id)), \n",
    "    list(rev_user_text)]\n",
    "addbot_reverts[order(addbot_reverts$reverteds, decreasing=T)][1:10,]"
   ]
  },
  {
   "cell_type": "markdown",
   "metadata": {},
   "source": [
    "## Visualization\n",
    "\n",
    "### Plot the frequency of reverts:"
   ]
  },
  {
   "cell_type": "code",
   "execution_count": 6,
   "metadata": {},
   "outputs": [
    {
     "data": {},
     "metadata": {},
     "output_type": "display_data"
    },
    {
     "data": {
      "image/png": "[encoded data removed]",
      "text/plain": [
       "plot without title"
      ]
     },
     "metadata": {},
     "output_type": "display_data"
    }
   ],
   "source": [
    "addbot_doom_month = dt[\n",
    "    page_namespace == 0 & reverting_user_text == \"Addbot\" & reverting_ts >= \"2013-03-05\" & reverting_ts < \"2013-03-25\", \n",
    "    list(reverts=length(rev_id)), \n",
    "    list(day=as.Date(reverting_ts))]\n",
    "ggplot(addbot_doom_month, aes(x=day, y=reverts)) + \n",
    "theme_bw() + \n",
    "geom_line()"
   ]
  },
  {
   "cell_type": "markdown",
   "metadata": {},
   "source": [
    "### Time to revert -- how long ago were these original edits made before Addbot reverted them?"
   ]
  },
  {
   "cell_type": "code",
   "execution_count": 7,
   "metadata": {},
   "outputs": [
    {
     "data": {},
     "metadata": {},
     "output_type": "display_data"
    },
    {
     "data": {
      "image/png": "[encoded data removed]",
      "text/plain": [
       "plot without title"
      ]
     },
     "metadata": {},
     "output_type": "display_data"
    }
   ],
   "source": [
    "addbot_time_to_revert = dt[\n",
    "    page_namespace == 0 & reverting_user_text == \"Addbot\" & reverting_ts >= \"2013-03-05\" & reverting_ts < \"2013-03-25\", \n",
    "    list(time_to_revert=as.numeric(difftime(reverting_ts, rev_ts, units=\"secs\")))]\n",
    "ggplot(addbot_time_to_revert, aes(x=time_to_revert)) + \n",
    "theme_bw() + \n",
    "geom_density() + \n",
    "scale_x_log10(breaks=c(60*60*24, 60*60*24*7, 60*60*24*30, 60*60*24*365, 60*60*24*365*5), \n",
    "              labels=c(\"day\",    \"week\",     \"month\",     \"year\",       \"5-year\"))"
   ]
  },
  {
   "cell_type": "code",
   "execution_count": null,
   "metadata": {},
   "outputs": [],
   "source": []
  },
  {
   "cell_type": "code",
   "execution_count": null,
   "metadata": {
    "collapsed": true
   },
   "outputs": [],
   "source": []
  }
 ],
 "metadata": {
  "kernelspec": {
   "display_name": "R",
   "language": "R",
   "name": "ir"
  },
  "language_info": {
   "codemirror_mode": "r",
   "file_extension": ".r",
   "mimetype": "text/x-r-source",
   "name": "R",
   "pygments_lexer": "r",
   "version": "3.3.2"
  }
 },
 "nbformat": 4,
 "nbformat_minor": 1
}
