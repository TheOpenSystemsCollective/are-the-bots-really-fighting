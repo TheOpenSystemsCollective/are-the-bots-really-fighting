{
 "cells": [
  {
   "cell_type": "markdown",
   "metadata": {},
   "source": [
    "# Exploring the darknessbot vs xqbot cases over the Japan-U.S. relations redirects\n",
    "\n",
    "Question: when the human editors renamed the pages on `Japan–United_States_relations`, what did these two bots do to redirects to this page?\n",
    "\n",
    "Load the English Wikipedia table of bot-bot reverts, process dates:"
   ]
  },
  {
   "cell_type": "code",
   "execution_count": 1,
   "metadata": {
    "collapsed": true
   },
   "outputs": [],
   "source": [
    "library(data.table)\n",
    "library(ggplot2)\n",
    "\n",
    "dt = data.table(read.table(\"../../datasets/reverted_bot2bot/enwiki_20170420.tsv.bz2\", sep=\"\\t\", header=T, quote=\"\",\n",
    "                          comment.char=\"\"))\n",
    "dt$rev_ts = as.POSIXct(format(dt$rev_timestamp, scientific=F), format=\"%Y%m%d%H%M%S\")\n",
    "dt$rev_month = as.Date(paste(format(dt$rev_ts, \"%Y-%m-\"), \"01\", sep=\"\"))\n",
    "dt$rev_day = as.Date(dt$rev_ts)\n",
    "dt$reverting_ts = as.POSIXct(format(dt$reverting_timestamp, scientific=F), format=\"%Y%m%d%H%M%S\")\n",
    "dt$reverting_month = as.Date(paste(format(dt$reverting_ts, \"%Y-%m-\"), \"01\", sep=\"\"))\n",
    "dt$reverting_day = as.Date(dt$reverting_ts)"
   ]
  },
  {
   "cell_type": "markdown",
   "metadata": {},
   "source": [
    "This is a list of `page_id` values for all redirects to `Japan–United_States_relations`, retreived with this query from Quarry: https://quarry.wmflabs.org/query/18187"
   ]
  },
  {
   "cell_type": "code",
   "execution_count": 2,
   "metadata": {
    "collapsed": true
   },
   "outputs": [],
   "source": [
    "# From https://quarry.wmflabs.org/query/18187\n",
    "redirect_pages = c(2991127,\n",
    "2991195,\n",
    "2991200,\n",
    "2991205,\n",
    "2991208,\n",
    "2991211,\n",
    "2994450,\n",
    "3080753,\n",
    "13148847,\n",
    "15333324,\n",
    "18313488,\n",
    "18322006,\n",
    "27530926,\n",
    "28734823,\n",
    "28734827,\n",
    "28734832,\n",
    "28734842,\n",
    "28734845,\n",
    "32089263,\n",
    "32157222,\n",
    "33089039,\n",
    "33445966,\n",
    "33681103,\n",
    "36233196,\n",
    "36233198,\n",
    "36233202,\n",
    "36233203,\n",
    "36233205,\n",
    "36233208,\n",
    "36233209,\n",
    "36233210,\n",
    "36233212,\n",
    "36233213,\n",
    "36233215,\n",
    "36233216,\n",
    "36233221,\n",
    "36233222,\n",
    "36233223,\n",
    "36233225,\n",
    "36233226,\n",
    "49828376,\n",
    "50552336,\n",
    "50754668,\n",
    "51337448,\n",
    "51998441,\n",
    "51999533,\n",
    "52320520)"
   ]
  },
  {
   "cell_type": "markdown",
   "metadata": {},
   "source": [
    "Fill out the metadata for each revert on these pages between DarknessBot and Xqbot, get the reverting comment"
   ]
  },
  {
   "cell_type": "code",
   "execution_count": 3,
   "metadata": {},
   "outputs": [
    {
     "data": {
      "text/html": [
       "<table>\n",
       "<thead><tr><th scope=col>rev_page</th><th scope=col>rev_user_text</th><th scope=col>reverting_user_text</th><th scope=col>reverting_day</th><th scope=col>reverting_comment</th></tr></thead>\n",
       "<tbody>\n",
       "\t<tr><td> 2991195                         </td><td>Xqbot                            </td><td>DarknessBot                      </td><td>2009-09-15                       </td><td>Fixing identified double redirect</td></tr>\n",
       "\t<tr><td> 3080753                         </td><td>Xqbot                            </td><td>DarknessBot                      </td><td>2009-09-16                       </td><td>Fixing identified double redirect</td></tr>\n",
       "\t<tr><td>15333324                         </td><td>Xqbot                            </td><td>DarknessBot                      </td><td>2009-09-16                       </td><td>Fixing identified double redirect</td></tr>\n",
       "\t<tr><td>13148847                         </td><td>Xqbot                            </td><td>DarknessBot                      </td><td>2009-09-16                       </td><td>Fixing identified double redirect</td></tr>\n",
       "\t<tr><td>18313488                         </td><td>Xqbot                            </td><td>DarknessBot                      </td><td>2009-09-16                       </td><td>Fixing identified double redirect</td></tr>\n",
       "\t<tr><td>18322006                         </td><td>Xqbot                            </td><td>DarknessBot                      </td><td>2009-09-16                       </td><td>Fixing identified double redirect</td></tr>\n",
       "\t<tr><td> 2991127                         </td><td>Xqbot                            </td><td>DarknessBot                      </td><td>2009-09-16                       </td><td>Fixing identified double redirect</td></tr>\n",
       "\t<tr><td> 2991200                         </td><td>Xqbot                            </td><td>DarknessBot                      </td><td>2009-09-16                       </td><td>Fixing identified double redirect</td></tr>\n",
       "\t<tr><td> 2991205                         </td><td>Xqbot                            </td><td>DarknessBot                      </td><td>2009-09-16                       </td><td>Fixing identified double redirect</td></tr>\n",
       "\t<tr><td> 2991208                         </td><td>Xqbot                            </td><td>DarknessBot                      </td><td>2009-09-16                       </td><td>Fixing identified double redirect</td></tr>\n",
       "\t<tr><td> 2991211                         </td><td>Xqbot                            </td><td>DarknessBot                      </td><td>2009-09-16                       </td><td>Fixing identified double redirect</td></tr>\n",
       "\t<tr><td> 2994450                         </td><td>Xqbot                            </td><td>DarknessBot                      </td><td>2009-09-16                       </td><td>Fixing identified double redirect</td></tr>\n",
       "\t<tr><td> 3080753                         </td><td>DarknessBot                      </td><td>Xqbot                            </td><td>2009-10-02                       </td><td>Robot: Fixing double redirect    </td></tr>\n",
       "\t<tr><td>15333324                         </td><td>DarknessBot                      </td><td>Xqbot                            </td><td>2009-10-02                       </td><td>Robot: Fixing double redirect    </td></tr>\n",
       "\t<tr><td>13148847                         </td><td>DarknessBot                      </td><td>Xqbot                            </td><td>2009-10-02                       </td><td>Robot: Fixing double redirect    </td></tr>\n",
       "\t<tr><td>18313488                         </td><td>DarknessBot                      </td><td>Xqbot                            </td><td>2009-10-02                       </td><td>Robot: Fixing double redirect    </td></tr>\n",
       "\t<tr><td>18322006                         </td><td>DarknessBot                      </td><td>Xqbot                            </td><td>2009-10-02                       </td><td>Robot: Fixing double redirect    </td></tr>\n",
       "\t<tr><td> 2991127                         </td><td>DarknessBot                      </td><td>Xqbot                            </td><td>2009-10-02                       </td><td>Robot: Fixing double redirect    </td></tr>\n",
       "\t<tr><td> 2991200                         </td><td>DarknessBot                      </td><td>Xqbot                            </td><td>2009-10-02                       </td><td>Robot: Fixing double redirect    </td></tr>\n",
       "\t<tr><td> 2991205                         </td><td>DarknessBot                      </td><td>Xqbot                            </td><td>2009-10-02                       </td><td>Robot: Fixing double redirect    </td></tr>\n",
       "\t<tr><td> 2991208                         </td><td>DarknessBot                      </td><td>Xqbot                            </td><td>2009-10-02                       </td><td>Robot: Fixing double redirect    </td></tr>\n",
       "\t<tr><td> 2991211                         </td><td>DarknessBot                      </td><td>Xqbot                            </td><td>2009-10-02                       </td><td>Robot: Fixing double redirect    </td></tr>\n",
       "\t<tr><td> 2994450                         </td><td>DarknessBot                      </td><td>Xqbot                            </td><td>2009-10-02                       </td><td>Robot: Fixing double redirect    </td></tr>\n",
       "</tbody>\n",
       "</table>\n"
      ],
      "text/latex": [
       "\\begin{tabular}{r|lllll}\n",
       " rev\\_page & rev\\_user\\_text & reverting\\_user\\_text & reverting\\_day & reverting\\_comment\\\\\n",
       "\\hline\n",
       "\t  2991195                          & Xqbot                             & DarknessBot                       & 2009-09-15                        & Fixing identified double redirect\\\\\n",
       "\t  3080753                          & Xqbot                             & DarknessBot                       & 2009-09-16                        & Fixing identified double redirect\\\\\n",
       "\t 15333324                          & Xqbot                             & DarknessBot                       & 2009-09-16                        & Fixing identified double redirect\\\\\n",
       "\t 13148847                          & Xqbot                             & DarknessBot                       & 2009-09-16                        & Fixing identified double redirect\\\\\n",
       "\t 18313488                          & Xqbot                             & DarknessBot                       & 2009-09-16                        & Fixing identified double redirect\\\\\n",
       "\t 18322006                          & Xqbot                             & DarknessBot                       & 2009-09-16                        & Fixing identified double redirect\\\\\n",
       "\t  2991127                          & Xqbot                             & DarknessBot                       & 2009-09-16                        & Fixing identified double redirect\\\\\n",
       "\t  2991200                          & Xqbot                             & DarknessBot                       & 2009-09-16                        & Fixing identified double redirect\\\\\n",
       "\t  2991205                          & Xqbot                             & DarknessBot                       & 2009-09-16                        & Fixing identified double redirect\\\\\n",
       "\t  2991208                          & Xqbot                             & DarknessBot                       & 2009-09-16                        & Fixing identified double redirect\\\\\n",
       "\t  2991211                          & Xqbot                             & DarknessBot                       & 2009-09-16                        & Fixing identified double redirect\\\\\n",
       "\t  2994450                          & Xqbot                             & DarknessBot                       & 2009-09-16                        & Fixing identified double redirect\\\\\n",
       "\t  3080753                          & DarknessBot                       & Xqbot                             & 2009-10-02                        & Robot: Fixing double redirect    \\\\\n",
       "\t 15333324                          & DarknessBot                       & Xqbot                             & 2009-10-02                        & Robot: Fixing double redirect    \\\\\n",
       "\t 13148847                          & DarknessBot                       & Xqbot                             & 2009-10-02                        & Robot: Fixing double redirect    \\\\\n",
       "\t 18313488                          & DarknessBot                       & Xqbot                             & 2009-10-02                        & Robot: Fixing double redirect    \\\\\n",
       "\t 18322006                          & DarknessBot                       & Xqbot                             & 2009-10-02                        & Robot: Fixing double redirect    \\\\\n",
       "\t  2991127                          & DarknessBot                       & Xqbot                             & 2009-10-02                        & Robot: Fixing double redirect    \\\\\n",
       "\t  2991200                          & DarknessBot                       & Xqbot                             & 2009-10-02                        & Robot: Fixing double redirect    \\\\\n",
       "\t  2991205                          & DarknessBot                       & Xqbot                             & 2009-10-02                        & Robot: Fixing double redirect    \\\\\n",
       "\t  2991208                          & DarknessBot                       & Xqbot                             & 2009-10-02                        & Robot: Fixing double redirect    \\\\\n",
       "\t  2991211                          & DarknessBot                       & Xqbot                             & 2009-10-02                        & Robot: Fixing double redirect    \\\\\n",
       "\t  2994450                          & DarknessBot                       & Xqbot                             & 2009-10-02                        & Robot: Fixing double redirect    \\\\\n",
       "\\end{tabular}\n"
      ],
      "text/markdown": [
       "\n",
       "rev_page | rev_user_text | reverting_user_text | reverting_day | reverting_comment | \n",
       "|---|---|---|---|---|---|---|---|---|---|---|---|---|---|---|---|---|---|---|---|---|---|---|\n",
       "|  2991195                          | Xqbot                             | DarknessBot                       | 2009-09-15                        | Fixing identified double redirect | \n",
       "|  3080753                          | Xqbot                             | DarknessBot                       | 2009-09-16                        | Fixing identified double redirect | \n",
       "| 15333324                          | Xqbot                             | DarknessBot                       | 2009-09-16                        | Fixing identified double redirect | \n",
       "| 13148847                          | Xqbot                             | DarknessBot                       | 2009-09-16                        | Fixing identified double redirect | \n",
       "| 18313488                          | Xqbot                             | DarknessBot                       | 2009-09-16                        | Fixing identified double redirect | \n",
       "| 18322006                          | Xqbot                             | DarknessBot                       | 2009-09-16                        | Fixing identified double redirect | \n",
       "|  2991127                          | Xqbot                             | DarknessBot                       | 2009-09-16                        | Fixing identified double redirect | \n",
       "|  2991200                          | Xqbot                             | DarknessBot                       | 2009-09-16                        | Fixing identified double redirect | \n",
       "|  2991205                          | Xqbot                             | DarknessBot                       | 2009-09-16                        | Fixing identified double redirect | \n",
       "|  2991208                          | Xqbot                             | DarknessBot                       | 2009-09-16                        | Fixing identified double redirect | \n",
       "|  2991211                          | Xqbot                             | DarknessBot                       | 2009-09-16                        | Fixing identified double redirect | \n",
       "|  2994450                          | Xqbot                             | DarknessBot                       | 2009-09-16                        | Fixing identified double redirect | \n",
       "|  3080753                          | DarknessBot                       | Xqbot                             | 2009-10-02                        | Robot: Fixing double redirect     | \n",
       "| 15333324                          | DarknessBot                       | Xqbot                             | 2009-10-02                        | Robot: Fixing double redirect     | \n",
       "| 13148847                          | DarknessBot                       | Xqbot                             | 2009-10-02                        | Robot: Fixing double redirect     | \n",
       "| 18313488                          | DarknessBot                       | Xqbot                             | 2009-10-02                        | Robot: Fixing double redirect     | \n",
       "| 18322006                          | DarknessBot                       | Xqbot                             | 2009-10-02                        | Robot: Fixing double redirect     | \n",
       "|  2991127                          | DarknessBot                       | Xqbot                             | 2009-10-02                        | Robot: Fixing double redirect     | \n",
       "|  2991200                          | DarknessBot                       | Xqbot                             | 2009-10-02                        | Robot: Fixing double redirect     | \n",
       "|  2991205                          | DarknessBot                       | Xqbot                             | 2009-10-02                        | Robot: Fixing double redirect     | \n",
       "|  2991208                          | DarknessBot                       | Xqbot                             | 2009-10-02                        | Robot: Fixing double redirect     | \n",
       "|  2991211                          | DarknessBot                       | Xqbot                             | 2009-10-02                        | Robot: Fixing double redirect     | \n",
       "|  2994450                          | DarknessBot                       | Xqbot                             | 2009-10-02                        | Robot: Fixing double redirect     | \n",
       "\n",
       "\n"
      ],
      "text/plain": [
       "   rev_page rev_user_text reverting_user_text reverting_day\n",
       "1   2991195 Xqbot         DarknessBot         2009-09-15   \n",
       "2   3080753 Xqbot         DarknessBot         2009-09-16   \n",
       "3  15333324 Xqbot         DarknessBot         2009-09-16   \n",
       "4  13148847 Xqbot         DarknessBot         2009-09-16   \n",
       "5  18313488 Xqbot         DarknessBot         2009-09-16   \n",
       "6  18322006 Xqbot         DarknessBot         2009-09-16   \n",
       "7   2991127 Xqbot         DarknessBot         2009-09-16   \n",
       "8   2991200 Xqbot         DarknessBot         2009-09-16   \n",
       "9   2991205 Xqbot         DarknessBot         2009-09-16   \n",
       "10  2991208 Xqbot         DarknessBot         2009-09-16   \n",
       "11  2991211 Xqbot         DarknessBot         2009-09-16   \n",
       "12  2994450 Xqbot         DarknessBot         2009-09-16   \n",
       "13  3080753 DarknessBot   Xqbot               2009-10-02   \n",
       "14 15333324 DarknessBot   Xqbot               2009-10-02   \n",
       "15 13148847 DarknessBot   Xqbot               2009-10-02   \n",
       "16 18313488 DarknessBot   Xqbot               2009-10-02   \n",
       "17 18322006 DarknessBot   Xqbot               2009-10-02   \n",
       "18  2991127 DarknessBot   Xqbot               2009-10-02   \n",
       "19  2991200 DarknessBot   Xqbot               2009-10-02   \n",
       "20  2991205 DarknessBot   Xqbot               2009-10-02   \n",
       "21  2991208 DarknessBot   Xqbot               2009-10-02   \n",
       "22  2991211 DarknessBot   Xqbot               2009-10-02   \n",
       "23  2994450 DarknessBot   Xqbot               2009-10-02   \n",
       "   reverting_comment                \n",
       "1  Fixing identified double redirect\n",
       "2  Fixing identified double redirect\n",
       "3  Fixing identified double redirect\n",
       "4  Fixing identified double redirect\n",
       "5  Fixing identified double redirect\n",
       "6  Fixing identified double redirect\n",
       "7  Fixing identified double redirect\n",
       "8  Fixing identified double redirect\n",
       "9  Fixing identified double redirect\n",
       "10 Fixing identified double redirect\n",
       "11 Fixing identified double redirect\n",
       "12 Fixing identified double redirect\n",
       "13 Robot: Fixing double redirect    \n",
       "14 Robot: Fixing double redirect    \n",
       "15 Robot: Fixing double redirect    \n",
       "16 Robot: Fixing double redirect    \n",
       "17 Robot: Fixing double redirect    \n",
       "18 Robot: Fixing double redirect    \n",
       "19 Robot: Fixing double redirect    \n",
       "20 Robot: Fixing double redirect    \n",
       "21 Robot: Fixing double redirect    \n",
       "22 Robot: Fixing double redirect    \n",
       "23 Robot: Fixing double redirect    "
      ]
     },
     "metadata": {},
     "output_type": "display_data"
    }
   ],
   "source": [
    "fight_reverts = dt[\n",
    "    rev_page %in% redirect_pages & \n",
    "    rev_user_text %in% c(\"DarknessBot\", \"Xqbot\") & \n",
    "    reverting_user_text %in% c(\"DarknessBot\", \"Xqbot\"),]\n",
    "fight_reverts[\n",
    "    order(fight_reverts$reverting_day),\n",
    "    list(rev_page, rev_user_text, reverting_user_text, reverting_day, reverting_comment),]"
   ]
  },
  {
   "cell_type": "markdown",
   "metadata": {},
   "source": [
    "Summarize:"
   ]
  },
  {
   "cell_type": "code",
   "execution_count": 4,
   "metadata": {},
   "outputs": [
    {
     "data": {
      "text/html": [
       "<table>\n",
       "<thead><tr><th scope=col>reverting_day</th><th scope=col>reverting_user_text</th><th scope=col>rev_user_text</th><th scope=col>reverting_comment</th><th scope=col>reverts</th></tr></thead>\n",
       "<tbody>\n",
       "\t<tr><td>2009-09-15                       </td><td>DarknessBot                      </td><td>Xqbot                            </td><td>Fixing identified double redirect</td><td> 1                               </td></tr>\n",
       "\t<tr><td>2009-09-16                       </td><td>DarknessBot                      </td><td>Xqbot                            </td><td>Fixing identified double redirect</td><td>11                               </td></tr>\n",
       "\t<tr><td>2009-10-02                       </td><td>Xqbot                            </td><td>DarknessBot                      </td><td>Robot: Fixing double redirect    </td><td>11                               </td></tr>\n",
       "</tbody>\n",
       "</table>\n"
      ],
      "text/latex": [
       "\\begin{tabular}{r|lllll}\n",
       " reverting\\_day & reverting\\_user\\_text & rev\\_user\\_text & reverting\\_comment & reverts\\\\\n",
       "\\hline\n",
       "\t 2009-09-15                        & DarknessBot                       & Xqbot                             & Fixing identified double redirect &  1                               \\\\\n",
       "\t 2009-09-16                        & DarknessBot                       & Xqbot                             & Fixing identified double redirect & 11                               \\\\\n",
       "\t 2009-10-02                        & Xqbot                             & DarknessBot                       & Robot: Fixing double redirect     & 11                               \\\\\n",
       "\\end{tabular}\n"
      ],
      "text/markdown": [
       "\n",
       "reverting_day | reverting_user_text | rev_user_text | reverting_comment | reverts | \n",
       "|---|---|---|\n",
       "| 2009-09-15                        | DarknessBot                       | Xqbot                             | Fixing identified double redirect |  1                                | \n",
       "| 2009-09-16                        | DarknessBot                       | Xqbot                             | Fixing identified double redirect | 11                                | \n",
       "| 2009-10-02                        | Xqbot                             | DarknessBot                       | Robot: Fixing double redirect     | 11                                | \n",
       "\n",
       "\n"
      ],
      "text/plain": [
       "  reverting_day reverting_user_text rev_user_text\n",
       "1 2009-09-15    DarknessBot         Xqbot        \n",
       "2 2009-09-16    DarknessBot         Xqbot        \n",
       "3 2009-10-02    Xqbot               DarknessBot  \n",
       "  reverting_comment                 reverts\n",
       "1 Fixing identified double redirect  1     \n",
       "2 Fixing identified double redirect 11     \n",
       "3 Robot: Fixing double redirect     11     "
      ]
     },
     "metadata": {},
     "output_type": "display_data"
    }
   ],
   "source": [
    "fight_reverts[\n",
    "    order(fight_reverts$reverting_day),\n",
    "    list(reverts=length(rev_page)),\n",
    "    list(reverting_day, reverting_user_text, rev_user_text, reverting_comment)]"
   ]
  },
  {
   "cell_type": "code",
   "execution_count": null,
   "metadata": {
    "collapsed": true
   },
   "outputs": [],
   "source": []
  }
 ],
 "metadata": {
  "kernelspec": {
   "display_name": "R",
   "language": "R",
   "name": "ir"
  },
  "language_info": {
   "codemirror_mode": "r",
   "file_extension": ".r",
   "mimetype": "text/x-r-source",
   "name": "R",
   "pygments_lexer": "r",
   "version": "3.3.2"
  }
 },
 "nbformat": 4,
 "nbformat_minor": 1
}
