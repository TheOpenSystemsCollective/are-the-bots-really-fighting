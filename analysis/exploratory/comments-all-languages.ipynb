{
 "cells": [
  {
   "cell_type": "code",
   "execution_count": 1,
   "metadata": {
    "collapsed": true
   },
   "outputs": [],
   "source": [
    "import pandas as pd\n",
    "import seaborn as sns\n",
    "import matplotlib.pyplot as plt\n",
    "import numpy as np\n",
    "import glob\n",
    "%matplotlib inline"
   ]
  },
  {
   "cell_type": "markdown",
   "metadata": {},
   "source": [
    "## Data processing"
   ]
  },
  {
   "cell_type": "code",
   "execution_count": 2,
   "metadata": {},
   "outputs": [
    {
     "data": {
      "text/plain": [
       "['../../datasets/enwiki_20161201_reverted_bot2bot.tsv',\n",
       " '../../datasets/zhwiki_20161001_reverted_bot2bot.tsv',\n",
       " '../../datasets/ptwiki_20161001_reverted_bot2bot.tsv',\n",
       " '../../datasets/frwiki_20161001_reverted_bot2bot.tsv',\n",
       " '../../datasets/jawiki_20161001_reverted_bot2bot.tsv',\n",
       " '../../datasets/dewiki_20161001_reverted_bot2bot.tsv',\n",
       " '../../datasets/eswiki_20161001_reverted_bot2bot.tsv']"
      ]
     },
     "execution_count": 2,
     "metadata": {},
     "output_type": "execute_result"
    }
   ],
   "source": [
    "glob.glob(\"../../datasets/*bot2bot.tsv\")"
   ]
  },
  {
   "cell_type": "code",
   "execution_count": 3,
   "metadata": {
    "collapsed": true
   },
   "outputs": [],
   "source": [
    "df_dict = {}\n",
    "for filename in glob.glob(\"../../datasets/*bot2bot.tsv\"):\n",
    "    lang_code = filename[15:17]\n",
    "    df_dict[lang_code] = pd.read_csv(filename, sep=\"\\t\")"
   ]
  },
  {
   "cell_type": "code",
   "execution_count": 4,
   "metadata": {},
   "outputs": [
    {
     "name": "stdout",
     "output_type": "stream",
     "text": [
      "en 1001093\n",
      "zh 102846\n",
      "pt 141738\n",
      "fr 193066\n",
      "ja 89980\n",
      "de 137844\n",
      "es 177368\n"
     ]
    }
   ],
   "source": [
    "for lang, lang_df in df_dict.items():\n",
    "    print(lang, len(lang_df))"
   ]
  },
  {
   "cell_type": "code",
   "execution_count": 5,
   "metadata": {},
   "outputs": [
    {
     "data": {
      "text/html": [
       "<div>\n",
       "<table border=\"1\" class=\"dataframe\">\n",
       "  <thead>\n",
       "    <tr style=\"text-align: right;\">\n",
       "      <th></th>\n",
       "      <th>0</th>\n",
       "      <th>1</th>\n",
       "    </tr>\n",
       "  </thead>\n",
       "  <tbody>\n",
       "    <tr>\n",
       "      <th>rev_id</th>\n",
       "      <td>273691771</td>\n",
       "      <td>136526894</td>\n",
       "    </tr>\n",
       "    <tr>\n",
       "      <th>rev_timestamp</th>\n",
       "      <td>20090227173507</td>\n",
       "      <td>20070607044209</td>\n",
       "    </tr>\n",
       "    <tr>\n",
       "      <th>rev_user</th>\n",
       "      <td>6505923</td>\n",
       "      <td>4534303</td>\n",
       "    </tr>\n",
       "    <tr>\n",
       "      <th>rev_user_text</th>\n",
       "      <td>Kbdankbot</td>\n",
       "      <td>PbBot</td>\n",
       "    </tr>\n",
       "    <tr>\n",
       "      <th>rev_page</th>\n",
       "      <td>5040439</td>\n",
       "      <td>3046554</td>\n",
       "    </tr>\n",
       "    <tr>\n",
       "      <th>rev_sha1</th>\n",
       "      <td>qj45ne2z4yfexmpaz5wfnbm2yrmqt4j</td>\n",
       "      <td>3xtnw7u4w9h6cg1smw97mqnr1en6a55</td>\n",
       "    </tr>\n",
       "    <tr>\n",
       "      <th>rev_minor_edit</th>\n",
       "      <td>False</td>\n",
       "      <td>False</td>\n",
       "    </tr>\n",
       "    <tr>\n",
       "      <th>rev_deleted</th>\n",
       "      <td>False</td>\n",
       "      <td>False</td>\n",
       "    </tr>\n",
       "    <tr>\n",
       "      <th>rev_parent_id</th>\n",
       "      <td>2.59117e+08</td>\n",
       "      <td>1.20932e+08</td>\n",
       "    </tr>\n",
       "    <tr>\n",
       "      <th>archived</th>\n",
       "      <td>False</td>\n",
       "      <td>False</td>\n",
       "    </tr>\n",
       "    <tr>\n",
       "      <th>reverting_id</th>\n",
       "      <td>273789753</td>\n",
       "      <td>269875438</td>\n",
       "    </tr>\n",
       "    <tr>\n",
       "      <th>reverting_timestamp</th>\n",
       "      <td>20090228021925</td>\n",
       "      <td>20090210230337</td>\n",
       "    </tr>\n",
       "    <tr>\n",
       "      <th>reverting_user</th>\n",
       "      <td>1215485</td>\n",
       "      <td>7328338</td>\n",
       "    </tr>\n",
       "    <tr>\n",
       "      <th>reverting_user_text</th>\n",
       "      <td>Cydebot</td>\n",
       "      <td>Yobot</td>\n",
       "    </tr>\n",
       "    <tr>\n",
       "      <th>reverting_page</th>\n",
       "      <td>5040439</td>\n",
       "      <td>3046554</td>\n",
       "    </tr>\n",
       "    <tr>\n",
       "      <th>reverting_sha1</th>\n",
       "      <td>od1e685o9f5j7dtpd9zp2fhew3agjeq</td>\n",
       "      <td>f8ye1kj73h0ymwqj6rlsimwk3jd9tef</td>\n",
       "    </tr>\n",
       "    <tr>\n",
       "      <th>reverting_minor_edit</th>\n",
       "      <td>True</td>\n",
       "      <td>True</td>\n",
       "    </tr>\n",
       "    <tr>\n",
       "      <th>reverting_deleted</th>\n",
       "      <td>False</td>\n",
       "      <td>False</td>\n",
       "    </tr>\n",
       "    <tr>\n",
       "      <th>reverting_parent_id</th>\n",
       "      <td>2.73692e+08</td>\n",
       "      <td>1.36527e+08</td>\n",
       "    </tr>\n",
       "    <tr>\n",
       "      <th>reverting_archived</th>\n",
       "      <td>False</td>\n",
       "      <td>False</td>\n",
       "    </tr>\n",
       "    <tr>\n",
       "      <th>reverting_comment</th>\n",
       "      <td>Robot - Speedily moving category 9th-century i...</td>\n",
       "      <td>Removing {{1911 talk}} per [[Wikipedia:Templat...</td>\n",
       "    </tr>\n",
       "    <tr>\n",
       "      <th>rev_revert_offset</th>\n",
       "      <td>1</td>\n",
       "      <td>1</td>\n",
       "    </tr>\n",
       "    <tr>\n",
       "      <th>revisions_reverted</th>\n",
       "      <td>1</td>\n",
       "      <td>1</td>\n",
       "    </tr>\n",
       "    <tr>\n",
       "      <th>reverted_to_rev_id</th>\n",
       "      <td>259117355</td>\n",
       "      <td>120932016</td>\n",
       "    </tr>\n",
       "    <tr>\n",
       "      <th>page_namespace</th>\n",
       "      <td>0</td>\n",
       "      <td>1</td>\n",
       "    </tr>\n",
       "  </tbody>\n",
       "</table>\n",
       "</div>"
      ],
      "text/plain": [
       "                                                                      0  \\\n",
       "rev_id                                                        273691771   \n",
       "rev_timestamp                                            20090227173507   \n",
       "rev_user                                                        6505923   \n",
       "rev_user_text                                                 Kbdankbot   \n",
       "rev_page                                                        5040439   \n",
       "rev_sha1                                qj45ne2z4yfexmpaz5wfnbm2yrmqt4j   \n",
       "rev_minor_edit                                                    False   \n",
       "rev_deleted                                                       False   \n",
       "rev_parent_id                                               2.59117e+08   \n",
       "archived                                                          False   \n",
       "reverting_id                                                  273789753   \n",
       "reverting_timestamp                                      20090228021925   \n",
       "reverting_user                                                  1215485   \n",
       "reverting_user_text                                             Cydebot   \n",
       "reverting_page                                                  5040439   \n",
       "reverting_sha1                          od1e685o9f5j7dtpd9zp2fhew3agjeq   \n",
       "reverting_minor_edit                                               True   \n",
       "reverting_deleted                                                 False   \n",
       "reverting_parent_id                                         2.73692e+08   \n",
       "reverting_archived                                                False   \n",
       "reverting_comment     Robot - Speedily moving category 9th-century i...   \n",
       "rev_revert_offset                                                     1   \n",
       "revisions_reverted                                                    1   \n",
       "reverted_to_rev_id                                            259117355   \n",
       "page_namespace                                                        0   \n",
       "\n",
       "                                                                      1  \n",
       "rev_id                                                        136526894  \n",
       "rev_timestamp                                            20070607044209  \n",
       "rev_user                                                        4534303  \n",
       "rev_user_text                                                     PbBot  \n",
       "rev_page                                                        3046554  \n",
       "rev_sha1                                3xtnw7u4w9h6cg1smw97mqnr1en6a55  \n",
       "rev_minor_edit                                                    False  \n",
       "rev_deleted                                                       False  \n",
       "rev_parent_id                                               1.20932e+08  \n",
       "archived                                                          False  \n",
       "reverting_id                                                  269875438  \n",
       "reverting_timestamp                                      20090210230337  \n",
       "reverting_user                                                  7328338  \n",
       "reverting_user_text                                               Yobot  \n",
       "reverting_page                                                  3046554  \n",
       "reverting_sha1                          f8ye1kj73h0ymwqj6rlsimwk3jd9tef  \n",
       "reverting_minor_edit                                               True  \n",
       "reverting_deleted                                                 False  \n",
       "reverting_parent_id                                         1.36527e+08  \n",
       "reverting_archived                                                False  \n",
       "reverting_comment     Removing {{1911 talk}} per [[Wikipedia:Templat...  \n",
       "rev_revert_offset                                                     1  \n",
       "revisions_reverted                                                    1  \n",
       "reverted_to_rev_id                                            120932016  \n",
       "page_namespace                                                        1  "
      ]
     },
     "execution_count": 5,
     "metadata": {},
     "output_type": "execute_result"
    }
   ],
   "source": [
    "df_dict['en'][0:2].transpose()"
   ]
  },
  {
   "cell_type": "markdown",
   "metadata": {},
   "source": [
    "### Combining into one dataframe"
   ]
  },
  {
   "cell_type": "code",
   "execution_count": 6,
   "metadata": {
    "collapsed": true
   },
   "outputs": [],
   "source": [
    "df_all = df_dict['en'].copy()\n",
    "df_all = df_all.drop(df_all.index, axis=0)\n",
    "\n",
    "for lang, lang_df in df_dict.items():\n",
    "    lang_df['language'] = lang\n",
    "    df_all = pd.concat([df_all, lang_df])"
   ]
  },
  {
   "cell_type": "code",
   "execution_count": 7,
   "metadata": {},
   "outputs": [
    {
     "data": {
      "text/plain": [
       "en    1001093\n",
       "fr     193066\n",
       "es     177368\n",
       "pt     141738\n",
       "de     137844\n",
       "zh     102846\n",
       "ja      89980\n",
       "Name: language, dtype: int64"
      ]
     },
     "execution_count": 7,
     "metadata": {},
     "output_type": "execute_result"
    }
   ],
   "source": [
    "df_all['language'].value_counts()"
   ]
  },
  {
   "cell_type": "code",
   "execution_count": 8,
   "metadata": {
    "scrolled": true
   },
   "outputs": [
    {
     "name": "stdout",
     "output_type": "stream",
     "text": [
      "en 1001093\n",
      "zh 102846\n",
      "pt 141738\n",
      "fr 193066\n",
      "ja 89980\n",
      "de 137844\n",
      "es 177368\n"
     ]
    }
   ],
   "source": [
    "for lang, lang_df in df_dict.items():\n",
    "    print(lang, len(lang_df))\n",
    "    \n"
   ]
  },
  {
   "cell_type": "code",
   "execution_count": null,
   "metadata": {
    "collapsed": true
   },
   "outputs": [],
   "source": []
  },
  {
   "cell_type": "markdown",
   "metadata": {},
   "source": [
    "### Namespace type"
   ]
  },
  {
   "cell_type": "code",
   "execution_count": 9,
   "metadata": {
    "collapsed": true
   },
   "outputs": [],
   "source": [
    "def namespace_type(item):\n",
    "    if int(item) == 0:\n",
    "        return 'article'\n",
    "    elif int(item) == 14:\n",
    "        return 'category'\n",
    "    elif int(item) % 2 == 1:\n",
    "        return 'other talk'\n",
    "    else:\n",
    "        return 'other page'"
   ]
  },
  {
   "cell_type": "code",
   "execution_count": 10,
   "metadata": {
    "collapsed": true
   },
   "outputs": [],
   "source": [
    "df_all['namespace_type'] = df_all['page_namespace'].apply(namespace_type)"
   ]
  },
  {
   "cell_type": "code",
   "execution_count": 11,
   "metadata": {},
   "outputs": [
    {
     "data": {
      "text/plain": [
       "article       1122392\n",
       "category       365193\n",
       "other page     226994\n",
       "other talk     129356\n",
       "Name: namespace_type, dtype: int64"
      ]
     },
     "execution_count": 11,
     "metadata": {},
     "output_type": "execute_result"
    }
   ],
   "source": [
    "df_all['namespace_type'].value_counts()"
   ]
  },
  {
   "cell_type": "markdown",
   "metadata": {},
   "source": [
    "### Datetime parsing"
   ]
  },
  {
   "cell_type": "code",
   "execution_count": 12,
   "metadata": {
    "collapsed": true
   },
   "outputs": [],
   "source": [
    "def get_year(timestamp):\n",
    "    return timestamp.year"
   ]
  },
  {
   "cell_type": "code",
   "execution_count": 13,
   "metadata": {
    "collapsed": true
   },
   "outputs": [],
   "source": [
    "df_all['reverting_timestamp_dt'] = pd.to_datetime(df_all['reverting_timestamp'], format=\"%Y%m%d%H%M%S\")\n",
    "df_all['reverted_timestamp_dt'] = pd.to_datetime(df_all['rev_timestamp'], format=\"%Y%m%d%H%M%S\")\n",
    "\n",
    "df_all = df_all.set_index('reverting_timestamp_dt')\n",
    "\n",
    "df_all['reverting_timestamp_dt'] = pd.to_datetime(df_all['reverting_timestamp'], format=\"%Y%m%d%H%M%S\")\n",
    "\n",
    "df_all['time_to_revert'] = df_all['reverting_timestamp_dt']-df_all['reverted_timestamp_dt']\n",
    "\n",
    "df_all['time_to_revert_hrs'] = df_all['time_to_revert'].astype('timedelta64[s]')/(60*60)\n",
    "\n",
    "df_all['time_to_revert_days'] = df_all['time_to_revert'].astype('timedelta64[s]')/(60*60*24)\n",
    "\n",
    "df_all['reverting_year'] = df_all['reverting_timestamp_dt'].apply(get_year)"
   ]
  },
  {
   "cell_type": "code",
   "execution_count": 14,
   "metadata": {},
   "outputs": [
    {
     "data": {
      "text/plain": [
       "2004         4\n",
       "2005       262\n",
       "2006      6238\n",
       "2007     34084\n",
       "2008     66228\n",
       "2009     72846\n",
       "2010     61780\n",
       "2011    126814\n",
       "2012     96084\n",
       "2013    403111\n",
       "2014     41188\n",
       "2015     49194\n",
       "2016     43260\n",
       "Name: reverting_year, dtype: int64"
      ]
     },
     "execution_count": 14,
     "metadata": {},
     "output_type": "execute_result"
    }
   ],
   "source": [
    "df_all[df_all['language']=='en'].reverting_year.value_counts().sort_index()"
   ]
  },
  {
   "cell_type": "code",
   "execution_count": 15,
   "metadata": {},
   "outputs": [
    {
     "data": {
      "text/plain": [
       "2004       604\n",
       "2005      3196\n",
       "2006     12714\n",
       "2007     58850\n",
       "2008    109978\n",
       "2009    163096\n",
       "2010    137000\n",
       "2011    294004\n",
       "2012    206238\n",
       "2013    685235\n",
       "2014     53466\n",
       "2015     70826\n",
       "2016     48728\n",
       "Name: reverting_year, dtype: int64"
      ]
     },
     "execution_count": 15,
     "metadata": {},
     "output_type": "execute_result"
    }
   ],
   "source": [
    "df_all.reverting_year.value_counts().sort_index()"
   ]
  },
  {
   "cell_type": "markdown",
   "metadata": {},
   "source": [
    "### Final data format"
   ]
  },
  {
   "cell_type": "code",
   "execution_count": 16,
   "metadata": {},
   "outputs": [
    {
     "data": {
      "text/html": [
       "<div>\n",
       "<table border=\"1\" class=\"dataframe\">\n",
       "  <thead>\n",
       "    <tr style=\"text-align: right;\">\n",
       "      <th>reverting_timestamp_dt</th>\n",
       "      <th>2009-02-28 02:19:25</th>\n",
       "      <th>2009-02-10 23:03:37</th>\n",
       "    </tr>\n",
       "  </thead>\n",
       "  <tbody>\n",
       "    <tr>\n",
       "      <th>archived</th>\n",
       "      <td>False</td>\n",
       "      <td>False</td>\n",
       "    </tr>\n",
       "    <tr>\n",
       "      <th>language</th>\n",
       "      <td>en</td>\n",
       "      <td>en</td>\n",
       "    </tr>\n",
       "    <tr>\n",
       "      <th>page_namespace</th>\n",
       "      <td>0</td>\n",
       "      <td>1</td>\n",
       "    </tr>\n",
       "    <tr>\n",
       "      <th>rev_deleted</th>\n",
       "      <td>False</td>\n",
       "      <td>False</td>\n",
       "    </tr>\n",
       "    <tr>\n",
       "      <th>rev_id</th>\n",
       "      <td>273691771</td>\n",
       "      <td>136526894</td>\n",
       "    </tr>\n",
       "    <tr>\n",
       "      <th>rev_minor_edit</th>\n",
       "      <td>False</td>\n",
       "      <td>False</td>\n",
       "    </tr>\n",
       "    <tr>\n",
       "      <th>rev_page</th>\n",
       "      <td>5040439</td>\n",
       "      <td>3046554</td>\n",
       "    </tr>\n",
       "    <tr>\n",
       "      <th>rev_parent_id</th>\n",
       "      <td>2.59117e+08</td>\n",
       "      <td>1.20932e+08</td>\n",
       "    </tr>\n",
       "    <tr>\n",
       "      <th>rev_revert_offset</th>\n",
       "      <td>1</td>\n",
       "      <td>1</td>\n",
       "    </tr>\n",
       "    <tr>\n",
       "      <th>rev_sha1</th>\n",
       "      <td>qj45ne2z4yfexmpaz5wfnbm2yrmqt4j</td>\n",
       "      <td>3xtnw7u4w9h6cg1smw97mqnr1en6a55</td>\n",
       "    </tr>\n",
       "    <tr>\n",
       "      <th>rev_timestamp</th>\n",
       "      <td>20090227173507</td>\n",
       "      <td>20070607044209</td>\n",
       "    </tr>\n",
       "    <tr>\n",
       "      <th>rev_user</th>\n",
       "      <td>6505923</td>\n",
       "      <td>4534303</td>\n",
       "    </tr>\n",
       "    <tr>\n",
       "      <th>rev_user_text</th>\n",
       "      <td>Kbdankbot</td>\n",
       "      <td>PbBot</td>\n",
       "    </tr>\n",
       "    <tr>\n",
       "      <th>reverted_to_rev_id</th>\n",
       "      <td>259117355</td>\n",
       "      <td>120932016</td>\n",
       "    </tr>\n",
       "    <tr>\n",
       "      <th>reverting_archived</th>\n",
       "      <td>False</td>\n",
       "      <td>False</td>\n",
       "    </tr>\n",
       "    <tr>\n",
       "      <th>reverting_comment</th>\n",
       "      <td>Robot - Speedily moving category 9th-century i...</td>\n",
       "      <td>Removing {{1911 talk}} per [[Wikipedia:Templat...</td>\n",
       "    </tr>\n",
       "    <tr>\n",
       "      <th>reverting_deleted</th>\n",
       "      <td>False</td>\n",
       "      <td>False</td>\n",
       "    </tr>\n",
       "    <tr>\n",
       "      <th>reverting_id</th>\n",
       "      <td>273789753</td>\n",
       "      <td>269875438</td>\n",
       "    </tr>\n",
       "    <tr>\n",
       "      <th>reverting_minor_edit</th>\n",
       "      <td>True</td>\n",
       "      <td>True</td>\n",
       "    </tr>\n",
       "    <tr>\n",
       "      <th>reverting_page</th>\n",
       "      <td>5040439</td>\n",
       "      <td>3046554</td>\n",
       "    </tr>\n",
       "    <tr>\n",
       "      <th>reverting_parent_id</th>\n",
       "      <td>2.73692e+08</td>\n",
       "      <td>1.36527e+08</td>\n",
       "    </tr>\n",
       "    <tr>\n",
       "      <th>reverting_sha1</th>\n",
       "      <td>od1e685o9f5j7dtpd9zp2fhew3agjeq</td>\n",
       "      <td>f8ye1kj73h0ymwqj6rlsimwk3jd9tef</td>\n",
       "    </tr>\n",
       "    <tr>\n",
       "      <th>reverting_timestamp</th>\n",
       "      <td>20090228021925</td>\n",
       "      <td>20090210230337</td>\n",
       "    </tr>\n",
       "    <tr>\n",
       "      <th>reverting_user</th>\n",
       "      <td>1215485</td>\n",
       "      <td>7328338</td>\n",
       "    </tr>\n",
       "    <tr>\n",
       "      <th>reverting_user_text</th>\n",
       "      <td>Cydebot</td>\n",
       "      <td>Yobot</td>\n",
       "    </tr>\n",
       "    <tr>\n",
       "      <th>revisions_reverted</th>\n",
       "      <td>1</td>\n",
       "      <td>1</td>\n",
       "    </tr>\n",
       "    <tr>\n",
       "      <th>namespace_type</th>\n",
       "      <td>article</td>\n",
       "      <td>other talk</td>\n",
       "    </tr>\n",
       "    <tr>\n",
       "      <th>reverted_timestamp_dt</th>\n",
       "      <td>2009-02-27 17:35:07</td>\n",
       "      <td>2007-06-07 04:42:09</td>\n",
       "    </tr>\n",
       "    <tr>\n",
       "      <th>reverting_timestamp_dt</th>\n",
       "      <td>2009-02-28 02:19:25</td>\n",
       "      <td>2009-02-10 23:03:37</td>\n",
       "    </tr>\n",
       "    <tr>\n",
       "      <th>time_to_revert</th>\n",
       "      <td>0 days 08:44:18</td>\n",
       "      <td>614 days 18:21:28</td>\n",
       "    </tr>\n",
       "    <tr>\n",
       "      <th>time_to_revert_hrs</th>\n",
       "      <td>8.73833</td>\n",
       "      <td>14754.4</td>\n",
       "    </tr>\n",
       "    <tr>\n",
       "      <th>time_to_revert_days</th>\n",
       "      <td>0.364097</td>\n",
       "      <td>614.765</td>\n",
       "    </tr>\n",
       "    <tr>\n",
       "      <th>reverting_year</th>\n",
       "      <td>2009</td>\n",
       "      <td>2009</td>\n",
       "    </tr>\n",
       "  </tbody>\n",
       "</table>\n",
       "</div>"
      ],
      "text/plain": [
       "reverting_timestamp_dt                                2009-02-28 02:19:25  \\\n",
       "archived                                                            False   \n",
       "language                                                               en   \n",
       "page_namespace                                                          0   \n",
       "rev_deleted                                                         False   \n",
       "rev_id                                                          273691771   \n",
       "rev_minor_edit                                                      False   \n",
       "rev_page                                                          5040439   \n",
       "rev_parent_id                                                 2.59117e+08   \n",
       "rev_revert_offset                                                       1   \n",
       "rev_sha1                                  qj45ne2z4yfexmpaz5wfnbm2yrmqt4j   \n",
       "rev_timestamp                                              20090227173507   \n",
       "rev_user                                                          6505923   \n",
       "rev_user_text                                                   Kbdankbot   \n",
       "reverted_to_rev_id                                              259117355   \n",
       "reverting_archived                                                  False   \n",
       "reverting_comment       Robot - Speedily moving category 9th-century i...   \n",
       "reverting_deleted                                                   False   \n",
       "reverting_id                                                    273789753   \n",
       "reverting_minor_edit                                                 True   \n",
       "reverting_page                                                    5040439   \n",
       "reverting_parent_id                                           2.73692e+08   \n",
       "reverting_sha1                            od1e685o9f5j7dtpd9zp2fhew3agjeq   \n",
       "reverting_timestamp                                        20090228021925   \n",
       "reverting_user                                                    1215485   \n",
       "reverting_user_text                                               Cydebot   \n",
       "revisions_reverted                                                      1   \n",
       "namespace_type                                                    article   \n",
       "reverted_timestamp_dt                                 2009-02-27 17:35:07   \n",
       "reverting_timestamp_dt                                2009-02-28 02:19:25   \n",
       "time_to_revert                                            0 days 08:44:18   \n",
       "time_to_revert_hrs                                                8.73833   \n",
       "time_to_revert_days                                              0.364097   \n",
       "reverting_year                                                       2009   \n",
       "\n",
       "reverting_timestamp_dt                                2009-02-10 23:03:37  \n",
       "archived                                                            False  \n",
       "language                                                               en  \n",
       "page_namespace                                                          1  \n",
       "rev_deleted                                                         False  \n",
       "rev_id                                                          136526894  \n",
       "rev_minor_edit                                                      False  \n",
       "rev_page                                                          3046554  \n",
       "rev_parent_id                                                 1.20932e+08  \n",
       "rev_revert_offset                                                       1  \n",
       "rev_sha1                                  3xtnw7u4w9h6cg1smw97mqnr1en6a55  \n",
       "rev_timestamp                                              20070607044209  \n",
       "rev_user                                                          4534303  \n",
       "rev_user_text                                                       PbBot  \n",
       "reverted_to_rev_id                                              120932016  \n",
       "reverting_archived                                                  False  \n",
       "reverting_comment       Removing {{1911 talk}} per [[Wikipedia:Templat...  \n",
       "reverting_deleted                                                   False  \n",
       "reverting_id                                                    269875438  \n",
       "reverting_minor_edit                                                 True  \n",
       "reverting_page                                                    3046554  \n",
       "reverting_parent_id                                           1.36527e+08  \n",
       "reverting_sha1                            f8ye1kj73h0ymwqj6rlsimwk3jd9tef  \n",
       "reverting_timestamp                                        20090210230337  \n",
       "reverting_user                                                    7328338  \n",
       "reverting_user_text                                                 Yobot  \n",
       "revisions_reverted                                                      1  \n",
       "namespace_type                                                 other talk  \n",
       "reverted_timestamp_dt                                 2007-06-07 04:42:09  \n",
       "reverting_timestamp_dt                                2009-02-10 23:03:37  \n",
       "time_to_revert                                          614 days 18:21:28  \n",
       "time_to_revert_hrs                                                14754.4  \n",
       "time_to_revert_days                                               614.765  \n",
       "reverting_year                                                       2009  "
      ]
     },
     "execution_count": 16,
     "metadata": {},
     "output_type": "execute_result"
    }
   ],
   "source": [
    "df_all[0:2].transpose()"
   ]
  },
  {
   "cell_type": "markdown",
   "metadata": {
    "collapsed": true
   },
   "source": [
    "# Comments analysis"
   ]
  },
  {
   "cell_type": "code",
   "execution_count": 17,
   "metadata": {},
   "outputs": [],
   "source": [
    "# by http://stackoverflow.com/questions/14596884/remove-text-between-and-in-python\n",
    "\n",
    "def remove_brackets(test_str):\n",
    "    test_str = str(test_str)\n",
    "    ret = ''\n",
    "    skip1c = 0\n",
    "    skip2c = 0\n",
    "    for i in test_str:\n",
    "        if i == '[':\n",
    "            skip1c += 1\n",
    "        elif i == '(':\n",
    "            skip2c += 1\n",
    "        elif i == ']' and skip1c > 0:\n",
    "            skip1c -= 1\n",
    "        elif i == ')'and skip2c > 0:\n",
    "            skip2c -= 1\n",
    "        elif skip1c == 0 and skip2c == 0:\n",
    "            ret += i\n",
    "            \n",
    "    return \" \".join(ret.split())"
   ]
  },
  {
   "cell_type": "code",
   "execution_count": 18,
   "metadata": {
    "collapsed": true
   },
   "outputs": [],
   "source": [
    "df_all['reverting_comment_nobracket'] = df_all['reverting_comment'].apply(remove_brackets)"
   ]
  },
  {
   "cell_type": "markdown",
   "metadata": {},
   "source": [
    "### Check for having a language code in between punctuation"
   ]
  },
  {
   "cell_type": "code",
   "execution_count": 19,
   "metadata": {
    "collapsed": true
   },
   "outputs": [],
   "source": [
    "def interwiki_confirm(comment):\n",
    "    \"\"\"\n",
    "    Takes a comment string, searches for language codes bordered by \n",
    "    two punctuation marks from [](){},: or one punctuation mark and\n",
    "    one space. Beginning and end of a comment string counts as a\n",
    "    space, not a punctuation mark.\n",
    "    \"\"\"\n",
    "    import string, re\n",
    "    \n",
    "    with open(\"lang_codes.tsv\", \"r\") as f:\n",
    "        lang_codes = f.read().split(\"\\n\")\n",
    "        \n",
    "    lang_codes.pop() # a blank '' is in the list that gets returned\n",
    "    \n",
    "    try:\n",
    "        comment = str(comment)\n",
    "        comment = comment.lower()\n",
    "        comment = \" \" + comment + \" \"  # pad start and end of string with non-punctuation\n",
    "        \n",
    "    except Exception as e:\n",
    "        return 'other'\n",
    "    \n",
    "    for lang_code in lang_codes:\n",
    "        \n",
    "        lang_code_pos = comment.find(lang_code)\n",
    "        lang_code_len = len(lang_code)\n",
    "        \n",
    "        char_before = \" \"\n",
    "        char_after = \" \"\n",
    "        \n",
    "        if lang_code_pos >= 0:\n",
    "            char_before = comment[lang_code_pos-1]\n",
    "        \n",
    "            #print(\"Char before: '\", char_before, \"'\", sep='')\n",
    "             \n",
    "            char_after = comment[lang_code_pos+lang_code_len]\n",
    "\n",
    "            #print(\"Char after: '\", char_after, \"'\", sep='')\n",
    "            \n",
    "            if char_before in string.punctuation and char_after in \"[]{}(),:\":\n",
    "                #print(lang_code)\n",
    "                return 'interwiki link cleanup -- suspected'\n",
    "            \n",
    "            elif char_before in string.punctuation and char_after == \"[]{}(),:\":\n",
    "                #print(lang_code)\n",
    "                return 'interwiki link cleanup -- suspected'\n",
    "            \n",
    "            elif char_before == \" \" and char_after in \"[]{}(),:\":\n",
    "                #print(lang_code)\n",
    "                return 'interwiki link cleanup -- suspected'\n",
    "\n",
    "\n",
    "               \n",
    "    return 'other'\n",
    "    "
   ]
  },
  {
   "cell_type": "markdown",
   "metadata": {},
   "source": [
    "Testing interwiki confirm"
   ]
  },
  {
   "cell_type": "code",
   "execution_count": 20,
   "metadata": {},
   "outputs": [
    {
     "name": "stdout",
     "output_type": "stream",
     "text": [
      "Should return interwiki link cleanup -- suspected\n",
      "\t interwiki link cleanup -- suspected\n",
      "\t interwiki link cleanup -- suspected\n",
      "\t interwiki link cleanup -- suspected\n",
      "Should return other\n",
      "\t other\n",
      "\t other\n",
      "\t other\n",
      "\t other\n",
      "\t other\n"
     ]
    }
   ],
   "source": [
    "tests_yes = [\"Robot adding [[es:Test]]\", \"adding es:Test\", \"linking es, it, en\"]\n",
    "tests_no = [\"test\", \"discuss policies on enwiki vs eswiki\", \"it is done\", \"it's not its\", \"its not it's\"]\n",
    "\n",
    "print(\"Should return interwiki link cleanup -- suspected\")\n",
    "for test in tests_yes:\n",
    "    print(\"\\t\", interwiki_confirm(test))\n",
    "\n",
    "print(\"Should return other\")\n",
    "for test in tests_no:\n",
    "    print(\"\\t\", interwiki_confirm(test))"
   ]
  },
  {
   "cell_type": "markdown",
   "metadata": {},
   "source": [
    "Comment parser"
   ]
  },
  {
   "cell_type": "code",
   "execution_count": 21,
   "metadata": {
    "collapsed": true
   },
   "outputs": [],
   "source": [
    "def comment_categorization(row):\n",
    "    \"\"\"\n",
    "    Takes a row from a pandas dataframe or dict and returns a string with a\n",
    "    kind of activity based on metadata. Used with df.apply(). Mostly parses\n",
    "    comments, but makes some use of usernames too.\n",
    "    \"\"\"\n",
    "    \n",
    "    reverting_user = str(row['reverting_user_text'])\n",
    "    \n",
    "    \n",
    "    if reverting_user.find(\"HBC AIV\") >= 0:\n",
    "        return 'AIV helperbot'\n",
    "    \n",
    "    try:\n",
    "        comment = str(row['reverting_comment'])\n",
    "    except Exception as e:\n",
    "        return 'other'\n",
    "    \n",
    "    comment_lower = comment.lower().strip()\n",
    "    comment_lower = \" \".join(comment_lower.split())\n",
    " \n",
    "    if comment == 'nan':\n",
    "        return \"deleted revision\"\n",
    "    \n",
    "    elif comment.find(\"Undoing massive unnecessary addition of infoboxneeded by a (now blocked) bot\") >= 0:\n",
    "        return \"botfight: infoboxneeded\"\n",
    "    \n",
    "    elif comment_lower.find(\"commonsdelinker\") >=0 and reverting_user.find(\"CommonsDelinker\") == -1:\n",
    "        return \"botfight: reverting CommonsDelinker\"\n",
    "        \n",
    "    elif comment.find(\"Reverted edits by [[Special:Contributions/ImageRemovalBot\") >= 0:\n",
    "        return \"botfight: 718bot vs ImageRemovalBot\"\n",
    "    \n",
    "    elif comment_lower.find(\"double redirect\") >= 0:\n",
    "        return \"fixing double redirect\"\n",
    "    \n",
    "    elif comment_lower.find(\"double-redirect\") >= 0:\n",
    "        return \"fixing double redirect\"\n",
    "\n",
    "    elif comment_lower.find(\"has been moved; it now redirects to\") >= 0:\n",
    "        return \"fixing double redirect\"\n",
    "        \n",
    "    elif comment_lower.find(\"redirect tagging\") >= 0:\n",
    "        return \"redirect tagging/sorting\"\n",
    "    \n",
    "    elif comment_lower.find(\"sorting redirect\") >= 0:\n",
    "        return \"redirect tagging/sorting\"\n",
    "    \n",
    "    elif comment_lower.find(\"change redirected category\") >= 0:\n",
    "        return \"category redirect cleanup\"\n",
    "    \n",
    "    elif comment_lower.find(\"redirected category\") >=0:\n",
    "        return \"category redirect cleanup\"\n",
    "    \n",
    "    elif comment.find(\"[[User:Addbot|Bot:]] Adding \") >= 0:\n",
    "        return \"template tagging\"\n",
    "    \n",
    "    elif comment_lower.find(\"interwiki\") >= 0:\n",
    "        return \"interwiki link cleanup\"\n",
    "    \n",
    "    elif comment_lower.find(\"langlinks\") >= 0:\n",
    "        return \"interwiki link cleanup\"\n",
    "    \n",
    "    elif comment_lower.find(\"iw-link\") >= 0:\n",
    "        return \"interwiki link cleanup\"\n",
    "    \n",
    "    elif comment_lower.find(\"changing category\") >= 0:\n",
    "        return \"moving category\"\n",
    "    \n",
    "    elif comment_lower.find(\"recat per\") >= 0:\n",
    "        return \"moving category\"\n",
    "    \n",
    "    elif comment_lower.find(\"moving category\") >= 0:\n",
    "        return \"moving category\"\n",
    "    \n",
    "    elif comment_lower.find(\"re-categorisation\") >= 0:\n",
    "        return \"moving category\"\n",
    "    \n",
    "    elif comment_lower.find(\"removing a protection template\") >= 0:\n",
    "        return \"protection template cleanup\"\n",
    "    \n",
    "    elif comment_lower.find(\"removing categorization template\") >= 0:\n",
    "        return \"template cleanup\"    \n",
    "    \n",
    "    elif comment_lower.find(\"rm ibid template per\") >= 0:\n",
    "        return \"template cleanup\"      \n",
    "    \n",
    "    elif comment_lower.find(\"page is not protected\") >= 0:\n",
    "        return \"template cleanup\"          \n",
    "    \n",
    "    elif comment_lower.find(\"removing protection template\") >= 0:\n",
    "        return \"template cleanup\"      \n",
    "    \n",
    "    elif comment_lower.find(\"removing orphan t\") >= 0:\n",
    "        return \"orphan template cleanup\"\n",
    "    \n",
    "    elif comment_lower.find(\"non-applicable orphan\") >= 0:\n",
    "        return \"orphan template cleanup\"\n",
    "    \n",
    "    elif comment_lower.find(\"removed orphan t\") >= 0:\n",
    "        return \"orphan template cleanup\"    \n",
    "    \n",
    "    elif comment_lower.find(\"sandbox\") >= 0:\n",
    "        return \"clearing sandbox\"\n",
    "    \n",
    "    elif comment_lower.find(\"archiving\") >= 0:\n",
    "        return \"archiving\"\n",
    "    \n",
    "    elif comment_lower.find(\"duplicate on commons\") >= 0:\n",
    "        return \"commons image migration\"\n",
    "    \n",
    "    elif comment_lower.find(\"user:mathbot/changes to mathlists\") >= 0:\n",
    "        return \"mathbot mathlist updates\"\n",
    "        \n",
    "    elif comment_lower.find(\"link syntax\") >= 0:\n",
    "        return \"link syntax fixing\"\n",
    "    \n",
    "    elif comment_lower.find(\"links syntax\") >= 0:\n",
    "        return \"link syntax fixing\" \n",
    "    \n",
    "    elif comment_lower.find(\" per\") >= 0:\n",
    "        return \"other w/ per justification\"  \n",
    "    \n",
    "    elif comment_lower.find(\"revert\") >= 0:\n",
    "        return \"other w/ revert in comment\"  \n",
    "    \n",
    "    elif comment_lower.find(\"rv \") >= 0 or comment_lower.find(\"rv\") == 0:\n",
    "        return \"other w/ revert in comment\"  \n",
    "    \n",
    "    elif comment_lower.find(\"wikidata\") >= 0:\n",
    "        return \"interwiki link cleanup -- suspected\"\n",
    "    \n",
    "    elif comment.find(\"言語間\") >=0:\n",
    "        return \"interwiki\"\n",
    "    \n",
    "    elif comment.find(\"语言链接\") >=0:\n",
    "        return \"interwiki\"  \n",
    "    \n",
    "    elif comment.find(\"双重重定向\") >=0:\n",
    "        return \"double redirect\"  \n",
    "\n",
    "    elif comment.find(\"二重リダイレクト\") >=0:\n",
    "        return \"double redirect\"  \n",
    "\n",
    "    \n",
    "    else:\n",
    "        return interwiki_confirm(comment)"
   ]
  },
  {
   "cell_type": "markdown",
   "metadata": {},
   "source": [
    "Apply categorization"
   ]
  },
  {
   "cell_type": "code",
   "execution_count": 22,
   "metadata": {},
   "outputs": [],
   "source": [
    "df_all['bottype'] = df_all.apply(comment_categorization, axis=1)\n"
   ]
  },
  {
   "cell_type": "markdown",
   "metadata": {},
   "source": [
    "## Analysis"
   ]
  },
  {
   "cell_type": "code",
   "execution_count": 53,
   "metadata": {
    "collapsed": true
   },
   "outputs": [],
   "source": [
    "df_all_ns0 = df_all[df_all['page_namespace']==0]"
   ]
  },
  {
   "cell_type": "code",
   "execution_count": null,
   "metadata": {
    "collapsed": true
   },
   "outputs": [],
   "source": []
  },
  {
   "cell_type": "code",
   "execution_count": 54,
   "metadata": {},
   "outputs": [
    {
     "data": {
      "text/html": [
       "<div>\n",
       "<table border=\"1\" class=\"dataframe\">\n",
       "  <thead>\n",
       "    <tr style=\"text-align: right;\">\n",
       "      <th></th>\n",
       "      <th>count</th>\n",
       "      <th>percent</th>\n",
       "    </tr>\n",
       "  </thead>\n",
       "  <tbody>\n",
       "    <tr>\n",
       "      <th>interwiki link cleanup -- suspected</th>\n",
       "      <td>546600</td>\n",
       "      <td>48.7%</td>\n",
       "    </tr>\n",
       "    <tr>\n",
       "      <th>fixing double redirect</th>\n",
       "      <td>227592</td>\n",
       "      <td>20.28%</td>\n",
       "    </tr>\n",
       "    <tr>\n",
       "      <th>interwiki link cleanup</th>\n",
       "      <td>226598</td>\n",
       "      <td>20.19%</td>\n",
       "    </tr>\n",
       "    <tr>\n",
       "      <th>other</th>\n",
       "      <td>53646</td>\n",
       "      <td>4.78%</td>\n",
       "    </tr>\n",
       "    <tr>\n",
       "      <th>interwiki</th>\n",
       "      <td>38878</td>\n",
       "      <td>3.46%</td>\n",
       "    </tr>\n",
       "    <tr>\n",
       "      <th>protection template cleanup</th>\n",
       "      <td>5686</td>\n",
       "      <td>0.51%</td>\n",
       "    </tr>\n",
       "    <tr>\n",
       "      <th>other w/ revert in comment</th>\n",
       "      <td>4852</td>\n",
       "      <td>0.43%</td>\n",
       "    </tr>\n",
       "    <tr>\n",
       "      <th>moving category</th>\n",
       "      <td>4692</td>\n",
       "      <td>0.42%</td>\n",
       "    </tr>\n",
       "    <tr>\n",
       "      <th>double redirect</th>\n",
       "      <td>4008</td>\n",
       "      <td>0.36%</td>\n",
       "    </tr>\n",
       "    <tr>\n",
       "      <th>category redirect cleanup</th>\n",
       "      <td>2834</td>\n",
       "      <td>0.25%</td>\n",
       "    </tr>\n",
       "    <tr>\n",
       "      <th>orphan template cleanup</th>\n",
       "      <td>2062</td>\n",
       "      <td>0.18%</td>\n",
       "    </tr>\n",
       "    <tr>\n",
       "      <th>other w/ per justification</th>\n",
       "      <td>1780</td>\n",
       "      <td>0.16%</td>\n",
       "    </tr>\n",
       "    <tr>\n",
       "      <th>mathbot mathlist updates</th>\n",
       "      <td>1028</td>\n",
       "      <td>0.09%</td>\n",
       "    </tr>\n",
       "    <tr>\n",
       "      <th>redirect tagging/sorting</th>\n",
       "      <td>594</td>\n",
       "      <td>0.05%</td>\n",
       "    </tr>\n",
       "    <tr>\n",
       "      <th>botfight: reverting CommonsDelinker</th>\n",
       "      <td>514</td>\n",
       "      <td>0.05%</td>\n",
       "    </tr>\n",
       "    <tr>\n",
       "      <th>botfight: 718bot vs ImageRemovalBot</th>\n",
       "      <td>342</td>\n",
       "      <td>0.03%</td>\n",
       "    </tr>\n",
       "    <tr>\n",
       "      <th>template cleanup</th>\n",
       "      <td>266</td>\n",
       "      <td>0.02%</td>\n",
       "    </tr>\n",
       "    <tr>\n",
       "      <th>botfight: infoboxneeded</th>\n",
       "      <td>196</td>\n",
       "      <td>0.02%</td>\n",
       "    </tr>\n",
       "    <tr>\n",
       "      <th>link syntax fixing</th>\n",
       "      <td>160</td>\n",
       "      <td>0.01%</td>\n",
       "    </tr>\n",
       "    <tr>\n",
       "      <th>template tagging</th>\n",
       "      <td>48</td>\n",
       "      <td>0.0%</td>\n",
       "    </tr>\n",
       "    <tr>\n",
       "      <th>clearing sandbox</th>\n",
       "      <td>10</td>\n",
       "      <td>0.0%</td>\n",
       "    </tr>\n",
       "    <tr>\n",
       "      <th>commons image migration</th>\n",
       "      <td>6</td>\n",
       "      <td>0.0%</td>\n",
       "    </tr>\n",
       "  </tbody>\n",
       "</table>\n",
       "</div>"
      ],
      "text/plain": [
       "                                      count percent\n",
       "interwiki link cleanup -- suspected  546600   48.7%\n",
       "fixing double redirect               227592  20.28%\n",
       "interwiki link cleanup               226598  20.19%\n",
       "other                                 53646   4.78%\n",
       "interwiki                             38878   3.46%\n",
       "protection template cleanup            5686   0.51%\n",
       "other w/ revert in comment             4852   0.43%\n",
       "moving category                        4692   0.42%\n",
       "double redirect                        4008   0.36%\n",
       "category redirect cleanup              2834   0.25%\n",
       "orphan template cleanup                2062   0.18%\n",
       "other w/ per justification             1780   0.16%\n",
       "mathbot mathlist updates               1028   0.09%\n",
       "redirect tagging/sorting                594   0.05%\n",
       "botfight: reverting CommonsDelinker     514   0.05%\n",
       "botfight: 718bot vs ImageRemovalBot     342   0.03%\n",
       "template cleanup                        266   0.02%\n",
       "botfight: infoboxneeded                 196   0.02%\n",
       "link syntax fixing                      160   0.01%\n",
       "template tagging                         48    0.0%\n",
       "clearing sandbox                         10    0.0%\n",
       "commons image migration                   6    0.0%"
      ]
     },
     "execution_count": 54,
     "metadata": {},
     "output_type": "execute_result"
    }
   ],
   "source": [
    "type_counts = df_all_ns0['bottype'].value_counts().rename(\"count\")\n",
    "type_percent = df_all_ns0['bottype'].value_counts(normalize=True).rename(\"percent\") * 100\n",
    "type_percent = type_percent.round(2).astype(str) + \"%\"\n",
    "\n",
    "pd.concat([type_counts, type_percent], axis=1)"
   ]
  },
  {
   "cell_type": "code",
   "execution_count": 55,
   "metadata": {
    "collapsed": true
   },
   "outputs": [],
   "source": [
    "counts_dict = {}\n",
    "for lang in df_all_ns0['language'].unique():\n",
    "\n",
    "    df_lang_ns0 = df_all_ns0[df_all_ns0['language']==lang]\n",
    "    \n",
    "    type_counts = df_lang_ns0['bottype'].value_counts().rename(\"count\")\n",
    "    type_percent = df_lang_ns0['bottype'].value_counts(normalize=True).rename(\"percent\") * 100\n",
    "    type_percent = type_percent.round(2).astype(str) + \"%\"\n",
    "\n",
    "    counts_dict[lang]=pd.concat([type_counts, type_percent], axis=1)"
   ]
  },
  {
   "cell_type": "code",
   "execution_count": 56,
   "metadata": {},
   "outputs": [
    {
     "data": {
      "text/plain": [
       "array(['en', 'zh', 'pt', 'fr', 'ja', 'de', 'es'], dtype=object)"
      ]
     },
     "execution_count": 56,
     "metadata": {},
     "output_type": "execute_result"
    }
   ],
   "source": [
    "df_all_ns0['language'].unique()"
   ]
  },
  {
   "cell_type": "code",
   "execution_count": 60,
   "metadata": {},
   "outputs": [
    {
     "data": {
      "text/html": [
       "<div>\n",
       "<table border=\"1\" class=\"dataframe\">\n",
       "  <thead>\n",
       "    <tr style=\"text-align: right;\">\n",
       "      <th></th>\n",
       "      <th>count</th>\n",
       "      <th>percent</th>\n",
       "    </tr>\n",
       "  </thead>\n",
       "  <tbody>\n",
       "    <tr>\n",
       "      <th>fixing double redirect</th>\n",
       "      <td>220172</td>\n",
       "      <td>45.04%</td>\n",
       "    </tr>\n",
       "    <tr>\n",
       "      <th>interwiki link cleanup</th>\n",
       "      <td>165388</td>\n",
       "      <td>33.84%</td>\n",
       "    </tr>\n",
       "    <tr>\n",
       "      <th>interwiki link cleanup -- suspected</th>\n",
       "      <td>77020</td>\n",
       "      <td>15.76%</td>\n",
       "    </tr>\n",
       "    <tr>\n",
       "      <th>protection template cleanup</th>\n",
       "      <td>5674</td>\n",
       "      <td>1.16%</td>\n",
       "    </tr>\n",
       "    <tr>\n",
       "      <th>other</th>\n",
       "      <td>5040</td>\n",
       "      <td>1.03%</td>\n",
       "    </tr>\n",
       "    <tr>\n",
       "      <th>moving category</th>\n",
       "      <td>4672</td>\n",
       "      <td>0.96%</td>\n",
       "    </tr>\n",
       "    <tr>\n",
       "      <th>category redirect cleanup</th>\n",
       "      <td>2824</td>\n",
       "      <td>0.58%</td>\n",
       "    </tr>\n",
       "    <tr>\n",
       "      <th>orphan template cleanup</th>\n",
       "      <td>2054</td>\n",
       "      <td>0.42%</td>\n",
       "    </tr>\n",
       "    <tr>\n",
       "      <th>other w/ revert in comment</th>\n",
       "      <td>2014</td>\n",
       "      <td>0.41%</td>\n",
       "    </tr>\n",
       "    <tr>\n",
       "      <th>mathbot mathlist updates</th>\n",
       "      <td>1028</td>\n",
       "      <td>0.21%</td>\n",
       "    </tr>\n",
       "    <tr>\n",
       "      <th>other w/ per justification</th>\n",
       "      <td>840</td>\n",
       "      <td>0.17%</td>\n",
       "    </tr>\n",
       "    <tr>\n",
       "      <th>redirect tagging/sorting</th>\n",
       "      <td>594</td>\n",
       "      <td>0.12%</td>\n",
       "    </tr>\n",
       "    <tr>\n",
       "      <th>botfight: reverting CommonsDelinker</th>\n",
       "      <td>460</td>\n",
       "      <td>0.09%</td>\n",
       "    </tr>\n",
       "    <tr>\n",
       "      <th>botfight: 718bot vs ImageRemovalBot</th>\n",
       "      <td>340</td>\n",
       "      <td>0.07%</td>\n",
       "    </tr>\n",
       "    <tr>\n",
       "      <th>template cleanup</th>\n",
       "      <td>264</td>\n",
       "      <td>0.05%</td>\n",
       "    </tr>\n",
       "    <tr>\n",
       "      <th>botfight: infoboxneeded</th>\n",
       "      <td>196</td>\n",
       "      <td>0.04%</td>\n",
       "    </tr>\n",
       "    <tr>\n",
       "      <th>link syntax fixing</th>\n",
       "      <td>160</td>\n",
       "      <td>0.03%</td>\n",
       "    </tr>\n",
       "    <tr>\n",
       "      <th>template tagging</th>\n",
       "      <td>48</td>\n",
       "      <td>0.01%</td>\n",
       "    </tr>\n",
       "    <tr>\n",
       "      <th>commons image migration</th>\n",
       "      <td>6</td>\n",
       "      <td>0.0%</td>\n",
       "    </tr>\n",
       "    <tr>\n",
       "      <th>clearing sandbox</th>\n",
       "      <td>2</td>\n",
       "      <td>0.0%</td>\n",
       "    </tr>\n",
       "  </tbody>\n",
       "</table>\n",
       "</div>"
      ],
      "text/plain": [
       "                                      count percent\n",
       "fixing double redirect               220172  45.04%\n",
       "interwiki link cleanup               165388  33.84%\n",
       "interwiki link cleanup -- suspected   77020  15.76%\n",
       "protection template cleanup            5674   1.16%\n",
       "other                                  5040   1.03%\n",
       "moving category                        4672   0.96%\n",
       "category redirect cleanup              2824   0.58%\n",
       "orphan template cleanup                2054   0.42%\n",
       "other w/ revert in comment             2014   0.41%\n",
       "mathbot mathlist updates               1028   0.21%\n",
       "other w/ per justification              840   0.17%\n",
       "redirect tagging/sorting                594   0.12%\n",
       "botfight: reverting CommonsDelinker     460   0.09%\n",
       "botfight: 718bot vs ImageRemovalBot     340   0.07%\n",
       "template cleanup                        264   0.05%\n",
       "botfight: infoboxneeded                 196   0.04%\n",
       "link syntax fixing                      160   0.03%\n",
       "template tagging                         48   0.01%\n",
       "commons image migration                   6    0.0%\n",
       "clearing sandbox                          2    0.0%"
      ]
     },
     "execution_count": 60,
     "metadata": {},
     "output_type": "execute_result"
    }
   ],
   "source": [
    "counts_dict['en']"
   ]
  },
  {
   "cell_type": "code",
   "execution_count": 61,
   "metadata": {},
   "outputs": [
    {
     "data": {
      "text/html": [
       "<div>\n",
       "<table border=\"1\" class=\"dataframe\">\n",
       "  <thead>\n",
       "    <tr style=\"text-align: right;\">\n",
       "      <th></th>\n",
       "      <th>count</th>\n",
       "      <th>percent</th>\n",
       "    </tr>\n",
       "  </thead>\n",
       "  <tbody>\n",
       "    <tr>\n",
       "      <th>interwiki link cleanup -- suspected</th>\n",
       "      <td>56070</td>\n",
       "      <td>81.02%</td>\n",
       "    </tr>\n",
       "    <tr>\n",
       "      <th>interwiki</th>\n",
       "      <td>10056</td>\n",
       "      <td>14.53%</td>\n",
       "    </tr>\n",
       "    <tr>\n",
       "      <th>other</th>\n",
       "      <td>2358</td>\n",
       "      <td>3.41%</td>\n",
       "    </tr>\n",
       "    <tr>\n",
       "      <th>double redirect</th>\n",
       "      <td>588</td>\n",
       "      <td>0.85%</td>\n",
       "    </tr>\n",
       "    <tr>\n",
       "      <th>other w/ per justification</th>\n",
       "      <td>82</td>\n",
       "      <td>0.12%</td>\n",
       "    </tr>\n",
       "    <tr>\n",
       "      <th>interwiki link cleanup</th>\n",
       "      <td>30</td>\n",
       "      <td>0.04%</td>\n",
       "    </tr>\n",
       "    <tr>\n",
       "      <th>other w/ revert in comment</th>\n",
       "      <td>24</td>\n",
       "      <td>0.03%</td>\n",
       "    </tr>\n",
       "  </tbody>\n",
       "</table>\n",
       "</div>"
      ],
      "text/plain": [
       "                                     count percent\n",
       "interwiki link cleanup -- suspected  56070  81.02%\n",
       "interwiki                            10056  14.53%\n",
       "other                                 2358   3.41%\n",
       "double redirect                        588   0.85%\n",
       "other w/ per justification              82   0.12%\n",
       "interwiki link cleanup                  30   0.04%\n",
       "other w/ revert in comment              24   0.03%"
      ]
     },
     "execution_count": 61,
     "metadata": {},
     "output_type": "execute_result"
    }
   ],
   "source": [
    "counts_dict['ja']"
   ]
  },
  {
   "cell_type": "code",
   "execution_count": 62,
   "metadata": {},
   "outputs": [
    {
     "data": {
      "text/html": [
       "<div>\n",
       "<table border=\"1\" class=\"dataframe\">\n",
       "  <thead>\n",
       "    <tr style=\"text-align: right;\">\n",
       "      <th></th>\n",
       "      <th>count</th>\n",
       "      <th>percent</th>\n",
       "    </tr>\n",
       "  </thead>\n",
       "  <tbody>\n",
       "    <tr>\n",
       "      <th>interwiki link cleanup -- suspected</th>\n",
       "      <td>48192</td>\n",
       "      <td>56.02%</td>\n",
       "    </tr>\n",
       "    <tr>\n",
       "      <th>interwiki</th>\n",
       "      <td>28822</td>\n",
       "      <td>33.5%</td>\n",
       "    </tr>\n",
       "    <tr>\n",
       "      <th>other</th>\n",
       "      <td>4552</td>\n",
       "      <td>5.29%</td>\n",
       "    </tr>\n",
       "    <tr>\n",
       "      <th>double redirect</th>\n",
       "      <td>3420</td>\n",
       "      <td>3.98%</td>\n",
       "    </tr>\n",
       "    <tr>\n",
       "      <th>other w/ revert in comment</th>\n",
       "      <td>514</td>\n",
       "      <td>0.6%</td>\n",
       "    </tr>\n",
       "    <tr>\n",
       "      <th>interwiki link cleanup</th>\n",
       "      <td>400</td>\n",
       "      <td>0.46%</td>\n",
       "    </tr>\n",
       "    <tr>\n",
       "      <th>other w/ per justification</th>\n",
       "      <td>72</td>\n",
       "      <td>0.08%</td>\n",
       "    </tr>\n",
       "    <tr>\n",
       "      <th>fixing double redirect</th>\n",
       "      <td>52</td>\n",
       "      <td>0.06%</td>\n",
       "    </tr>\n",
       "    <tr>\n",
       "      <th>botfight: reverting CommonsDelinker</th>\n",
       "      <td>6</td>\n",
       "      <td>0.01%</td>\n",
       "    </tr>\n",
       "  </tbody>\n",
       "</table>\n",
       "</div>"
      ],
      "text/plain": [
       "                                     count percent\n",
       "interwiki link cleanup -- suspected  48192  56.02%\n",
       "interwiki                            28822   33.5%\n",
       "other                                 4552   5.29%\n",
       "double redirect                       3420   3.98%\n",
       "other w/ revert in comment             514    0.6%\n",
       "interwiki link cleanup                 400   0.46%\n",
       "other w/ per justification              72   0.08%\n",
       "fixing double redirect                  52   0.06%\n",
       "botfight: reverting CommonsDelinker      6   0.01%"
      ]
     },
     "execution_count": 62,
     "metadata": {},
     "output_type": "execute_result"
    }
   ],
   "source": [
    "counts_dict['zh']"
   ]
  },
  {
   "cell_type": "code",
   "execution_count": 63,
   "metadata": {},
   "outputs": [
    {
     "data": {
      "text/html": [
       "<div>\n",
       "<table border=\"1\" class=\"dataframe\">\n",
       "  <thead>\n",
       "    <tr style=\"text-align: right;\">\n",
       "      <th></th>\n",
       "      <th>count</th>\n",
       "      <th>percent</th>\n",
       "    </tr>\n",
       "  </thead>\n",
       "  <tbody>\n",
       "    <tr>\n",
       "      <th>interwiki link cleanup -- suspected</th>\n",
       "      <td>71170</td>\n",
       "      <td>64.81%</td>\n",
       "    </tr>\n",
       "    <tr>\n",
       "      <th>interwiki link cleanup</th>\n",
       "      <td>33118</td>\n",
       "      <td>30.16%</td>\n",
       "    </tr>\n",
       "    <tr>\n",
       "      <th>other</th>\n",
       "      <td>5238</td>\n",
       "      <td>4.77%</td>\n",
       "    </tr>\n",
       "    <tr>\n",
       "      <th>other w/ per justification</th>\n",
       "      <td>178</td>\n",
       "      <td>0.16%</td>\n",
       "    </tr>\n",
       "    <tr>\n",
       "      <th>other w/ revert in comment</th>\n",
       "      <td>44</td>\n",
       "      <td>0.04%</td>\n",
       "    </tr>\n",
       "    <tr>\n",
       "      <th>moving category</th>\n",
       "      <td>20</td>\n",
       "      <td>0.02%</td>\n",
       "    </tr>\n",
       "    <tr>\n",
       "      <th>protection template cleanup</th>\n",
       "      <td>12</td>\n",
       "      <td>0.01%</td>\n",
       "    </tr>\n",
       "    <tr>\n",
       "      <th>botfight: reverting CommonsDelinker</th>\n",
       "      <td>10</td>\n",
       "      <td>0.01%</td>\n",
       "    </tr>\n",
       "    <tr>\n",
       "      <th>category redirect cleanup</th>\n",
       "      <td>10</td>\n",
       "      <td>0.01%</td>\n",
       "    </tr>\n",
       "    <tr>\n",
       "      <th>orphan template cleanup</th>\n",
       "      <td>8</td>\n",
       "      <td>0.01%</td>\n",
       "    </tr>\n",
       "    <tr>\n",
       "      <th>fixing double redirect</th>\n",
       "      <td>6</td>\n",
       "      <td>0.01%</td>\n",
       "    </tr>\n",
       "    <tr>\n",
       "      <th>template cleanup</th>\n",
       "      <td>2</td>\n",
       "      <td>0.0%</td>\n",
       "    </tr>\n",
       "    <tr>\n",
       "      <th>botfight: 718bot vs ImageRemovalBot</th>\n",
       "      <td>2</td>\n",
       "      <td>0.0%</td>\n",
       "    </tr>\n",
       "  </tbody>\n",
       "</table>\n",
       "</div>"
      ],
      "text/plain": [
       "                                     count percent\n",
       "interwiki link cleanup -- suspected  71170  64.81%\n",
       "interwiki link cleanup               33118  30.16%\n",
       "other                                 5238   4.77%\n",
       "other w/ per justification             178   0.16%\n",
       "other w/ revert in comment              44   0.04%\n",
       "moving category                         20   0.02%\n",
       "protection template cleanup             12   0.01%\n",
       "botfight: reverting CommonsDelinker     10   0.01%\n",
       "category redirect cleanup               10   0.01%\n",
       "orphan template cleanup                  8   0.01%\n",
       "fixing double redirect                   6   0.01%\n",
       "template cleanup                         2    0.0%\n",
       "botfight: 718bot vs ImageRemovalBot      2    0.0%"
      ]
     },
     "execution_count": 63,
     "metadata": {},
     "output_type": "execute_result"
    }
   ],
   "source": [
    "counts_dict['de']"
   ]
  },
  {
   "cell_type": "code",
   "execution_count": 64,
   "metadata": {},
   "outputs": [
    {
     "data": {
      "text/html": [
       "<div>\n",
       "<table border=\"1\" class=\"dataframe\">\n",
       "  <thead>\n",
       "    <tr style=\"text-align: right;\">\n",
       "      <th></th>\n",
       "      <th>count</th>\n",
       "      <th>percent</th>\n",
       "    </tr>\n",
       "  </thead>\n",
       "  <tbody>\n",
       "    <tr>\n",
       "      <th>interwiki link cleanup -- suspected</th>\n",
       "      <td>101752</td>\n",
       "      <td>90.44%</td>\n",
       "    </tr>\n",
       "    <tr>\n",
       "      <th>fixing double redirect</th>\n",
       "      <td>6568</td>\n",
       "      <td>5.84%</td>\n",
       "    </tr>\n",
       "    <tr>\n",
       "      <th>other</th>\n",
       "      <td>3898</td>\n",
       "      <td>3.46%</td>\n",
       "    </tr>\n",
       "    <tr>\n",
       "      <th>other w/ per justification</th>\n",
       "      <td>168</td>\n",
       "      <td>0.15%</td>\n",
       "    </tr>\n",
       "    <tr>\n",
       "      <th>interwiki link cleanup</th>\n",
       "      <td>110</td>\n",
       "      <td>0.1%</td>\n",
       "    </tr>\n",
       "    <tr>\n",
       "      <th>other w/ revert in comment</th>\n",
       "      <td>6</td>\n",
       "      <td>0.01%</td>\n",
       "    </tr>\n",
       "    <tr>\n",
       "      <th>clearing sandbox</th>\n",
       "      <td>4</td>\n",
       "      <td>0.0%</td>\n",
       "    </tr>\n",
       "    <tr>\n",
       "      <th>botfight: reverting CommonsDelinker</th>\n",
       "      <td>4</td>\n",
       "      <td>0.0%</td>\n",
       "    </tr>\n",
       "  </tbody>\n",
       "</table>\n",
       "</div>"
      ],
      "text/plain": [
       "                                      count percent\n",
       "interwiki link cleanup -- suspected  101752  90.44%\n",
       "fixing double redirect                 6568   5.84%\n",
       "other                                  3898   3.46%\n",
       "other w/ per justification              168   0.15%\n",
       "interwiki link cleanup                  110    0.1%\n",
       "other w/ revert in comment                6   0.01%\n",
       "clearing sandbox                          4    0.0%\n",
       "botfight: reverting CommonsDelinker       4    0.0%"
      ]
     },
     "execution_count": 64,
     "metadata": {},
     "output_type": "execute_result"
    }
   ],
   "source": [
    "counts_dict['fr']"
   ]
  },
  {
   "cell_type": "code",
   "execution_count": 65,
   "metadata": {},
   "outputs": [
    {
     "data": {
      "text/html": [
       "<div>\n",
       "<table border=\"1\" class=\"dataframe\">\n",
       "  <thead>\n",
       "    <tr style=\"text-align: right;\">\n",
       "      <th></th>\n",
       "      <th>count</th>\n",
       "      <th>percent</th>\n",
       "    </tr>\n",
       "  </thead>\n",
       "  <tbody>\n",
       "    <tr>\n",
       "      <th>interwiki link cleanup -- suspected</th>\n",
       "      <td>85318</td>\n",
       "      <td>71.06%</td>\n",
       "    </tr>\n",
       "    <tr>\n",
       "      <th>interwiki link cleanup</th>\n",
       "      <td>27256</td>\n",
       "      <td>22.7%</td>\n",
       "    </tr>\n",
       "    <tr>\n",
       "      <th>other</th>\n",
       "      <td>7300</td>\n",
       "      <td>6.08%</td>\n",
       "    </tr>\n",
       "    <tr>\n",
       "      <th>other w/ per justification</th>\n",
       "      <td>140</td>\n",
       "      <td>0.12%</td>\n",
       "    </tr>\n",
       "    <tr>\n",
       "      <th>other w/ revert in comment</th>\n",
       "      <td>52</td>\n",
       "      <td>0.04%</td>\n",
       "    </tr>\n",
       "    <tr>\n",
       "      <th>clearing sandbox</th>\n",
       "      <td>2</td>\n",
       "      <td>0.0%</td>\n",
       "    </tr>\n",
       "    <tr>\n",
       "      <th>botfight: reverting CommonsDelinker</th>\n",
       "      <td>2</td>\n",
       "      <td>0.0%</td>\n",
       "    </tr>\n",
       "  </tbody>\n",
       "</table>\n",
       "</div>"
      ],
      "text/plain": [
       "                                     count percent\n",
       "interwiki link cleanup -- suspected  85318  71.06%\n",
       "interwiki link cleanup               27256   22.7%\n",
       "other                                 7300   6.08%\n",
       "other w/ per justification             140   0.12%\n",
       "other w/ revert in comment              52   0.04%\n",
       "clearing sandbox                         2    0.0%\n",
       "botfight: reverting CommonsDelinker      2    0.0%"
      ]
     },
     "execution_count": 65,
     "metadata": {},
     "output_type": "execute_result"
    }
   ],
   "source": [
    "counts_dict['pt']"
   ]
  },
  {
   "cell_type": "code",
   "execution_count": 66,
   "metadata": {},
   "outputs": [
    {
     "data": {
      "text/html": [
       "<div>\n",
       "<table border=\"1\" class=\"dataframe\">\n",
       "  <thead>\n",
       "    <tr style=\"text-align: right;\">\n",
       "      <th></th>\n",
       "      <th>count</th>\n",
       "      <th>percent</th>\n",
       "    </tr>\n",
       "  </thead>\n",
       "  <tbody>\n",
       "    <tr>\n",
       "      <th>interwiki link cleanup -- suspected</th>\n",
       "      <td>107078</td>\n",
       "      <td>78.76%</td>\n",
       "    </tr>\n",
       "    <tr>\n",
       "      <th>other</th>\n",
       "      <td>25260</td>\n",
       "      <td>18.58%</td>\n",
       "    </tr>\n",
       "    <tr>\n",
       "      <th>other w/ revert in comment</th>\n",
       "      <td>2198</td>\n",
       "      <td>1.62%</td>\n",
       "    </tr>\n",
       "    <tr>\n",
       "      <th>fixing double redirect</th>\n",
       "      <td>794</td>\n",
       "      <td>0.58%</td>\n",
       "    </tr>\n",
       "    <tr>\n",
       "      <th>other w/ per justification</th>\n",
       "      <td>300</td>\n",
       "      <td>0.22%</td>\n",
       "    </tr>\n",
       "    <tr>\n",
       "      <th>interwiki link cleanup</th>\n",
       "      <td>296</td>\n",
       "      <td>0.22%</td>\n",
       "    </tr>\n",
       "    <tr>\n",
       "      <th>botfight: reverting CommonsDelinker</th>\n",
       "      <td>32</td>\n",
       "      <td>0.02%</td>\n",
       "    </tr>\n",
       "    <tr>\n",
       "      <th>clearing sandbox</th>\n",
       "      <td>2</td>\n",
       "      <td>0.0%</td>\n",
       "    </tr>\n",
       "  </tbody>\n",
       "</table>\n",
       "</div>"
      ],
      "text/plain": [
       "                                      count percent\n",
       "interwiki link cleanup -- suspected  107078  78.76%\n",
       "other                                 25260  18.58%\n",
       "other w/ revert in comment             2198   1.62%\n",
       "fixing double redirect                  794   0.58%\n",
       "other w/ per justification              300   0.22%\n",
       "interwiki link cleanup                  296   0.22%\n",
       "botfight: reverting CommonsDelinker      32   0.02%\n",
       "clearing sandbox                          2    0.0%"
      ]
     },
     "execution_count": 66,
     "metadata": {},
     "output_type": "execute_result"
    }
   ],
   "source": [
    "counts_dict['es']"
   ]
  },
  {
   "cell_type": "code",
   "execution_count": 28,
   "metadata": {},
   "outputs": [
    {
     "data": {
      "text/plain": [
       "<matplotlib.axes._subplots.AxesSubplot at 0x7fd2e5f2f3c8>"
      ]
     },
     "execution_count": 28,
     "metadata": {},
     "output_type": "execute_result"
    },
    {
     "data": {
      "image/png": "[encoded data removed]",
      "text/plain": [
       "<matplotlib.figure.Figure at 0x7fd2e5f2f198>"
      ]
     },
     "metadata": {},
     "output_type": "display_data"
    }
   ],
   "source": [
    "df_all_ns0['bottype'].value_counts().plot(kind='barh')"
   ]
  },
  {
   "cell_type": "code",
   "execution_count": null,
   "metadata": {
    "collapsed": true
   },
   "outputs": [],
   "source": []
  },
  {
   "cell_type": "code",
   "execution_count": null,
   "metadata": {
    "collapsed": true
   },
   "outputs": [],
   "source": []
  },
  {
   "cell_type": "code",
   "execution_count": 29,
   "metadata": {},
   "outputs": [
    {
     "ename": "NameError",
     "evalue": "name 'df' is not defined",
     "output_type": "error",
     "traceback": [
      "\u001b[0;31m---------------------------------------------------------------------------\u001b[0m",
      "\u001b[0;31mNameError\u001b[0m                                 Traceback (most recent call last)",
      "\u001b[0;32m<ipython-input-29-bd1537a90dd5>\u001b[0m in \u001b[0;36m<module>\u001b[0;34m()\u001b[0m\n\u001b[0;32m----> 1\u001b[0;31m \u001b[0mgp\u001b[0m \u001b[0;34m=\u001b[0m \u001b[0mdf\u001b[0m\u001b[0;34m.\u001b[0m\u001b[0mgroupby\u001b[0m\u001b[0;34m(\u001b[0m\u001b[0;34m[\u001b[0m\u001b[0mpd\u001b[0m\u001b[0;34m.\u001b[0m\u001b[0mTimeGrouper\u001b[0m\u001b[0;34m(\u001b[0m\u001b[0;34m'1D'\u001b[0m\u001b[0;34m,\u001b[0m \u001b[0mclosed\u001b[0m\u001b[0;34m=\u001b[0m\u001b[0;34m'left'\u001b[0m\u001b[0;34m)\u001b[0m\u001b[0;34m,\u001b[0m \u001b[0;34m'bottype'\u001b[0m\u001b[0;34m]\u001b[0m\u001b[0;34m)\u001b[0m\u001b[0;34m\u001b[0m\u001b[0m\n\u001b[0m",
      "\u001b[0;31mNameError\u001b[0m: name 'df' is not defined"
     ]
    }
   ],
   "source": [
    "gp = df.groupby([pd.TimeGrouper('1D', closed='left'), 'bottype'])"
   ]
  },
  {
   "cell_type": "code",
   "execution_count": null,
   "metadata": {
    "collapsed": true
   },
   "outputs": [],
   "source": [
    "ax1 = gp.rev_id.count().unstack().plot(kind='area', subplots=True, figsize=[12,40], sharex=False)"
   ]
  },
  {
   "cell_type": "code",
   "execution_count": null,
   "metadata": {
    "collapsed": true
   },
   "outputs": [],
   "source": []
  },
  {
   "cell_type": "code",
   "execution_count": 59,
   "metadata": {},
   "outputs": [
    {
     "name": "stdout",
     "output_type": "stream",
     "text": [
      "2250 \t 機器人:修正雙重重定向 →\n",
      "1534 \t 機器人:修正雙重重定向\n",
      "80 \t 機器人 移除:\n",
      "62 \t r2.7.1)\n",
      "48 \t robot Adding:\n",
      "44 \t r2.7.2)\n",
      "36 \t robot Removing:\n",
      "28 \t r2.7.3)\n",
      "24 \t 机器人移除：\n",
      "22 \t 机器人去除：\n",
      "16 \t robot Modifying: en\n",
      "14 \t 机器人：改变已重定向分类中的页面的分类\n",
      "12 \t /* 参考文献 */维基化 using\n",
      "12 \t 機器人:修正雙重重定向 ->\n",
      "12 \t 机器人:\n",
      "358 \tOther cases\n"
     ]
    }
   ],
   "source": [
    "df_lang_ns0 = df_all_ns0[df_all_ns0['language']=='zh']\n",
    "\n",
    "other_count = 0\n",
    "for comment, count in df_lang_ns0[df_lang_ns0['bottype']=='other']['reverting_comment_nobracket'].value_counts().iteritems():\n",
    "    if count > 10:\n",
    "        print(count, \"\\t\", comment)\n",
    "    else:\n",
    "        other_count = other_count + count\n",
    "print(other_count, \"\\tOther cases\")"
   ]
  },
  {
   "cell_type": "code",
   "execution_count": null,
   "metadata": {
    "collapsed": true
   },
   "outputs": [],
   "source": []
  }
 ],
 "metadata": {
  "kernelspec": {
   "display_name": "Python 3",
   "language": "python",
   "name": "python3"
  },
  "language_info": {
   "codemirror_mode": {
    "name": "ipython",
    "version": 3
   },
   "file_extension": ".py",
   "mimetype": "text/x-python",
   "name": "python",
   "nbconvert_exporter": "python",
   "pygments_lexer": "ipython3",
   "version": "3.6.1"
  }
 },
 "nbformat": 4,
 "nbformat_minor": 2
}
