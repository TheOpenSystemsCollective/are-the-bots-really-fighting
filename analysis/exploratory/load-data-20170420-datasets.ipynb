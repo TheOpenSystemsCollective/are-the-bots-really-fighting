{
 "cells": [
  {
   "cell_type": "code",
   "execution_count": 7,
   "metadata": {
    "collapsed": true
   },
   "outputs": [],
   "source": [
    "import pandas as pd\n",
    "import seaborn as sns\n",
    "import matplotlib.pyplot as plt\n",
    "import numpy as np\n",
    "import glob\n",
    "%matplotlib inline\n",
    "%load_ext Cython\n",
    "\n",
    "pd.set_option(\"display.max_columns\",100)"
   ]
  },
  {
   "cell_type": "code",
   "execution_count": 48,
   "metadata": {},
   "outputs": [
    {
     "name": "stdout",
     "output_type": "stream",
     "text": [
      "../../datasets/dewiki_20170420_reverted_bot2bot.tsv.bz2\r\n",
      "../../datasets/enwiki_20161201_reverted_bot2bot.tsv.bz2\r\n",
      "../../datasets/eswiki_20170420_reverted_bot2bot.tsv.bz2\r\n",
      "../../datasets/frwiki_20170420_reverted_bot2bot.tsv.bz2\r\n",
      "../../datasets/jawiki_20170420_reverted_bot2bot.tsv.bz2\r\n",
      "../../datasets/ptwiki_20170420_reverted_bot2bot.tsv.bz2\r\n",
      "../../datasets/zhwiki_20170420_reverted_bot2bot.tsv.bz2\r\n"
     ]
    }
   ],
   "source": [
    "!ls ../../datasets/??wiki_*.bz2"
   ]
  },
  {
   "cell_type": "code",
   "execution_count": 5,
   "metadata": {},
   "outputs": [
    {
     "name": "stdout",
     "output_type": "stream",
     "text": [
      "bunzip2: Output file ../../datasets/enwiki_20161201_reverted_bot2bot.tsv already exists.\r\n"
     ]
    }
   ],
   "source": [
    "!bunzip2 -k ../../datasets/??wiki_20170420_reverted_bot2bot.tsv.bz2\n",
    "!bunzip2 -k ../../datasets/enwiki_20161201_reverted_bot2bot.tsv.bz2"
   ]
  },
  {
   "cell_type": "markdown",
   "metadata": {},
   "source": [
    "## Data processing"
   ]
  },
  {
   "cell_type": "code",
   "execution_count": 49,
   "metadata": {},
   "outputs": [
    {
     "data": {
      "text/plain": [
       "['../../datasets/eswiki_20170420_reverted_bot2bot.tsv',\n",
       " '../../datasets/frwiki_20170420_reverted_bot2bot.tsv',\n",
       " '../../datasets/dewiki_20170420_reverted_bot2bot.tsv',\n",
       " '../../datasets/jawiki_20170420_reverted_bot2bot.tsv',\n",
       " '../../datasets/ptwiki_20170420_reverted_bot2bot.tsv',\n",
       " '../../datasets/zhwiki_20170420_reverted_bot2bot.tsv',\n",
       " '../../datasets/enwiki_20161201_reverted_bot2bot.tsv']"
      ]
     },
     "execution_count": 49,
     "metadata": {},
     "output_type": "execute_result"
    }
   ],
   "source": [
    "filelist = glob.glob(\"../../datasets/??wiki_20170420*.tsv\")\n",
    "filelist.append(glob.glob(\"../../datasets/enwiki_20161201_reverted_bot2bot.tsv\")[0])\n",
    "filelist"
   ]
  },
  {
   "cell_type": "code",
   "execution_count": 50,
   "metadata": {
    "collapsed": true
   },
   "outputs": [],
   "source": [
    "df_dict = {}\n",
    "for filename in filelist:\n",
    "    lang_code = filename[15:17]\n",
    "    df_dict[lang_code] = pd.read_csv(filename, sep=\"\\t\")\n",
    "    df_dict[lang_code] = df_dict[lang_code].drop_duplicates()"
   ]
  },
  {
   "cell_type": "code",
   "execution_count": 51,
   "metadata": {},
   "outputs": [
    {
     "name": "stdout",
     "output_type": "stream",
     "text": [
      "de 133711\n",
      "en 500553\n",
      "zh 51536\n",
      "es 88949\n",
      "pt 70973\n",
      "fr 96508\n",
      "ja 74577\n"
     ]
    }
   ],
   "source": [
    "for lang, lang_df in df_dict.items():\n",
    "    print(lang, len(lang_df))"
   ]
  },
  {
   "cell_type": "code",
   "execution_count": 52,
   "metadata": {},
   "outputs": [
    {
     "data": {
      "text/html": [
       "<div>\n",
       "<table border=\"1\" class=\"dataframe\">\n",
       "  <thead>\n",
       "    <tr style=\"text-align: right;\">\n",
       "      <th></th>\n",
       "      <th>0</th>\n",
       "      <th>1</th>\n",
       "    </tr>\n",
       "  </thead>\n",
       "  <tbody>\n",
       "    <tr>\n",
       "      <th>rev_id</th>\n",
       "      <td>273691771</td>\n",
       "      <td>136526894</td>\n",
       "    </tr>\n",
       "    <tr>\n",
       "      <th>rev_timestamp</th>\n",
       "      <td>20090227173507</td>\n",
       "      <td>20070607044209</td>\n",
       "    </tr>\n",
       "    <tr>\n",
       "      <th>rev_user</th>\n",
       "      <td>6505923</td>\n",
       "      <td>4534303</td>\n",
       "    </tr>\n",
       "    <tr>\n",
       "      <th>rev_user_text</th>\n",
       "      <td>Kbdankbot</td>\n",
       "      <td>PbBot</td>\n",
       "    </tr>\n",
       "    <tr>\n",
       "      <th>rev_page</th>\n",
       "      <td>5040439</td>\n",
       "      <td>3046554</td>\n",
       "    </tr>\n",
       "    <tr>\n",
       "      <th>rev_sha1</th>\n",
       "      <td>qj45ne2z4yfexmpaz5wfnbm2yrmqt4j</td>\n",
       "      <td>3xtnw7u4w9h6cg1smw97mqnr1en6a55</td>\n",
       "    </tr>\n",
       "    <tr>\n",
       "      <th>rev_minor_edit</th>\n",
       "      <td>False</td>\n",
       "      <td>False</td>\n",
       "    </tr>\n",
       "    <tr>\n",
       "      <th>rev_deleted</th>\n",
       "      <td>False</td>\n",
       "      <td>False</td>\n",
       "    </tr>\n",
       "    <tr>\n",
       "      <th>rev_parent_id</th>\n",
       "      <td>2.59117e+08</td>\n",
       "      <td>1.20932e+08</td>\n",
       "    </tr>\n",
       "    <tr>\n",
       "      <th>archived</th>\n",
       "      <td>False</td>\n",
       "      <td>False</td>\n",
       "    </tr>\n",
       "    <tr>\n",
       "      <th>reverting_id</th>\n",
       "      <td>273789753</td>\n",
       "      <td>269875438</td>\n",
       "    </tr>\n",
       "    <tr>\n",
       "      <th>reverting_timestamp</th>\n",
       "      <td>20090228021925</td>\n",
       "      <td>20090210230337</td>\n",
       "    </tr>\n",
       "    <tr>\n",
       "      <th>reverting_user</th>\n",
       "      <td>1215485</td>\n",
       "      <td>7328338</td>\n",
       "    </tr>\n",
       "    <tr>\n",
       "      <th>reverting_user_text</th>\n",
       "      <td>Cydebot</td>\n",
       "      <td>Yobot</td>\n",
       "    </tr>\n",
       "    <tr>\n",
       "      <th>reverting_page</th>\n",
       "      <td>5040439</td>\n",
       "      <td>3046554</td>\n",
       "    </tr>\n",
       "    <tr>\n",
       "      <th>reverting_sha1</th>\n",
       "      <td>od1e685o9f5j7dtpd9zp2fhew3agjeq</td>\n",
       "      <td>f8ye1kj73h0ymwqj6rlsimwk3jd9tef</td>\n",
       "    </tr>\n",
       "    <tr>\n",
       "      <th>reverting_minor_edit</th>\n",
       "      <td>True</td>\n",
       "      <td>True</td>\n",
       "    </tr>\n",
       "    <tr>\n",
       "      <th>reverting_deleted</th>\n",
       "      <td>False</td>\n",
       "      <td>False</td>\n",
       "    </tr>\n",
       "    <tr>\n",
       "      <th>reverting_parent_id</th>\n",
       "      <td>2.73692e+08</td>\n",
       "      <td>1.36527e+08</td>\n",
       "    </tr>\n",
       "    <tr>\n",
       "      <th>reverting_archived</th>\n",
       "      <td>False</td>\n",
       "      <td>False</td>\n",
       "    </tr>\n",
       "    <tr>\n",
       "      <th>reverting_comment</th>\n",
       "      <td>Robot - Speedily moving category 9th-century i...</td>\n",
       "      <td>Removing {{1911 talk}} per [[Wikipedia:Templat...</td>\n",
       "    </tr>\n",
       "    <tr>\n",
       "      <th>rev_revert_offset</th>\n",
       "      <td>1</td>\n",
       "      <td>1</td>\n",
       "    </tr>\n",
       "    <tr>\n",
       "      <th>revisions_reverted</th>\n",
       "      <td>1</td>\n",
       "      <td>1</td>\n",
       "    </tr>\n",
       "    <tr>\n",
       "      <th>reverted_to_rev_id</th>\n",
       "      <td>259117355</td>\n",
       "      <td>120932016</td>\n",
       "    </tr>\n",
       "    <tr>\n",
       "      <th>page_namespace</th>\n",
       "      <td>0</td>\n",
       "      <td>1</td>\n",
       "    </tr>\n",
       "  </tbody>\n",
       "</table>\n",
       "</div>"
      ],
      "text/plain": [
       "                                                                      0  \\\n",
       "rev_id                                                        273691771   \n",
       "rev_timestamp                                            20090227173507   \n",
       "rev_user                                                        6505923   \n",
       "rev_user_text                                                 Kbdankbot   \n",
       "rev_page                                                        5040439   \n",
       "rev_sha1                                qj45ne2z4yfexmpaz5wfnbm2yrmqt4j   \n",
       "rev_minor_edit                                                    False   \n",
       "rev_deleted                                                       False   \n",
       "rev_parent_id                                               2.59117e+08   \n",
       "archived                                                          False   \n",
       "reverting_id                                                  273789753   \n",
       "reverting_timestamp                                      20090228021925   \n",
       "reverting_user                                                  1215485   \n",
       "reverting_user_text                                             Cydebot   \n",
       "reverting_page                                                  5040439   \n",
       "reverting_sha1                          od1e685o9f5j7dtpd9zp2fhew3agjeq   \n",
       "reverting_minor_edit                                               True   \n",
       "reverting_deleted                                                 False   \n",
       "reverting_parent_id                                         2.73692e+08   \n",
       "reverting_archived                                                False   \n",
       "reverting_comment     Robot - Speedily moving category 9th-century i...   \n",
       "rev_revert_offset                                                     1   \n",
       "revisions_reverted                                                    1   \n",
       "reverted_to_rev_id                                            259117355   \n",
       "page_namespace                                                        0   \n",
       "\n",
       "                                                                      1  \n",
       "rev_id                                                        136526894  \n",
       "rev_timestamp                                            20070607044209  \n",
       "rev_user                                                        4534303  \n",
       "rev_user_text                                                     PbBot  \n",
       "rev_page                                                        3046554  \n",
       "rev_sha1                                3xtnw7u4w9h6cg1smw97mqnr1en6a55  \n",
       "rev_minor_edit                                                    False  \n",
       "rev_deleted                                                       False  \n",
       "rev_parent_id                                               1.20932e+08  \n",
       "archived                                                          False  \n",
       "reverting_id                                                  269875438  \n",
       "reverting_timestamp                                      20090210230337  \n",
       "reverting_user                                                  7328338  \n",
       "reverting_user_text                                               Yobot  \n",
       "reverting_page                                                  3046554  \n",
       "reverting_sha1                          f8ye1kj73h0ymwqj6rlsimwk3jd9tef  \n",
       "reverting_minor_edit                                               True  \n",
       "reverting_deleted                                                 False  \n",
       "reverting_parent_id                                         1.36527e+08  \n",
       "reverting_archived                                                False  \n",
       "reverting_comment     Removing {{1911 talk}} per [[Wikipedia:Templat...  \n",
       "rev_revert_offset                                                     1  \n",
       "revisions_reverted                                                    1  \n",
       "reverted_to_rev_id                                            120932016  \n",
       "page_namespace                                                        1  "
      ]
     },
     "execution_count": 52,
     "metadata": {},
     "output_type": "execute_result"
    }
   ],
   "source": [
    "df_dict['en'][0:2].transpose()"
   ]
  },
  {
   "cell_type": "markdown",
   "metadata": {},
   "source": [
    "### Combining into one dataframe"
   ]
  },
  {
   "cell_type": "code",
   "execution_count": 53,
   "metadata": {
    "collapsed": true
   },
   "outputs": [],
   "source": [
    "df_all = df_dict['en'].copy()\n",
    "df_all = df_all.drop(df_all.index, axis=0)\n",
    "\n",
    "for lang, lang_df in df_dict.items():\n",
    "    lang_df['language'] = lang\n",
    "    df_all = pd.concat([df_all, lang_df])"
   ]
  },
  {
   "cell_type": "code",
   "execution_count": 54,
   "metadata": {},
   "outputs": [
    {
     "data": {
      "text/plain": [
       "en    500553\n",
       "de    133711\n",
       "fr     96508\n",
       "es     88949\n",
       "ja     74577\n",
       "pt     70973\n",
       "zh     51536\n",
       "Name: language, dtype: int64"
      ]
     },
     "execution_count": 54,
     "metadata": {},
     "output_type": "execute_result"
    }
   ],
   "source": [
    "df_all['language'].value_counts()"
   ]
  },
  {
   "cell_type": "markdown",
   "metadata": {},
   "source": [
    "### Namespace type"
   ]
  },
  {
   "cell_type": "code",
   "execution_count": 55,
   "metadata": {
    "collapsed": true
   },
   "outputs": [],
   "source": [
    "def namespace_type(item):\n",
    "    if int(item) == 0:\n",
    "        return 'article'\n",
    "    elif int(item) == 14:\n",
    "        return 'category'\n",
    "    elif int(item) % 2 == 1:\n",
    "        return 'other talk'\n",
    "    else:\n",
    "        return 'other page'"
   ]
  },
  {
   "cell_type": "code",
   "execution_count": 56,
   "metadata": {
    "collapsed": true
   },
   "outputs": [],
   "source": [
    "df_all['namespace_type'] = df_all['page_namespace'].apply(namespace_type)"
   ]
  },
  {
   "cell_type": "code",
   "execution_count": 57,
   "metadata": {},
   "outputs": [
    {
     "data": {
      "text/plain": [
       "article       525818\n",
       "other talk    201439\n",
       "category      175699\n",
       "other page    113851\n",
       "Name: namespace_type, dtype: int64"
      ]
     },
     "execution_count": 57,
     "metadata": {},
     "output_type": "execute_result"
    }
   ],
   "source": [
    "df_all['namespace_type'].value_counts()"
   ]
  },
  {
   "cell_type": "markdown",
   "metadata": {},
   "source": [
    "### Datetime parsing"
   ]
  },
  {
   "cell_type": "code",
   "execution_count": 58,
   "metadata": {
    "collapsed": true
   },
   "outputs": [],
   "source": [
    "def get_year(timestamp):\n",
    "    return timestamp.year"
   ]
  },
  {
   "cell_type": "code",
   "execution_count": 59,
   "metadata": {
    "collapsed": true
   },
   "outputs": [],
   "source": [
    "df_all['reverting_timestamp_dt'] = pd.to_datetime(df_all['reverting_timestamp'], format=\"%Y%m%d%H%M%S\")\n",
    "\n",
    "df_all['reverted_timestamp_dt'] = pd.to_datetime(df_all['rev_timestamp'], format=\"%Y%m%d%H%M%S\")\n",
    "\n",
    "df_all = df_all.set_index('reverting_timestamp_dt')\n",
    "\n",
    "df_all['reverting_timestamp_dt'] = pd.to_datetime(df_all['reverting_timestamp'], format=\"%Y%m%d%H%M%S\")\n",
    "\n",
    "df_all['time_to_revert'] = df_all['reverting_timestamp_dt']-df_all['reverted_timestamp_dt']\n",
    "\n",
    "df_all['time_to_revert_hrs'] = df_all['time_to_revert'].astype('timedelta64[s]')/(60*60)\n",
    "\n",
    "df_all['time_to_revert_days'] = df_all['time_to_revert'].astype('timedelta64[s]')/(60*60*24)\n",
    "\n",
    "df_all['reverting_year'] = df_all['reverting_timestamp_dt'].apply(get_year)\n",
    "\n",
    "df_all['time_to_revert_days_log10'] = df_all['time_to_revert_days'].apply(np.log10)\n",
    "\n",
    "df_all['time_to_revert_hrs_log10'] = df_all['time_to_revert_hrs'].apply(np.log10)"
   ]
  },
  {
   "cell_type": "code",
   "execution_count": 60,
   "metadata": {},
   "outputs": [
    {
     "data": {
      "text/plain": [
       "2004         2\n",
       "2005       131\n",
       "2006      3119\n",
       "2007     17042\n",
       "2008     33114\n",
       "2009     36423\n",
       "2010     30890\n",
       "2011     63407\n",
       "2012     48042\n",
       "2013    201562\n",
       "2014     20594\n",
       "2015     24597\n",
       "2016     21630\n",
       "Name: reverting_year, dtype: int64"
      ]
     },
     "execution_count": 60,
     "metadata": {},
     "output_type": "execute_result"
    }
   ],
   "source": [
    "df_all[df_all['language']=='en'].reverting_year.value_counts().sort_index()"
   ]
  },
  {
   "cell_type": "code",
   "execution_count": 61,
   "metadata": {},
   "outputs": [
    {
     "data": {
      "text/plain": [
       "2003         2\n",
       "2004       131\n",
       "2005      1553\n",
       "2006      7122\n",
       "2007     29852\n",
       "2008     53571\n",
       "2009     78903\n",
       "2010     64994\n",
       "2011    137364\n",
       "2012     93883\n",
       "2013    324587\n",
       "2014     25804\n",
       "2015    174120\n",
       "2016     24367\n",
       "2017       554\n",
       "Name: reverting_year, dtype: int64"
      ]
     },
     "execution_count": 61,
     "metadata": {},
     "output_type": "execute_result"
    }
   ],
   "source": [
    "df_all.reverting_year.value_counts().sort_index()"
   ]
  },
  {
   "cell_type": "markdown",
   "metadata": {
    "collapsed": true
   },
   "source": [
    "### Truncate to 2016-12-01 for consisntency acrosss datasets"
   ]
  },
  {
   "cell_type": "code",
   "execution_count": 62,
   "metadata": {},
   "outputs": [],
   "source": [
    "df_all = df_all.ix[\"2001-01-01\":\"2016-12-01\"].copy()"
   ]
  },
  {
   "cell_type": "code",
   "execution_count": 63,
   "metadata": {},
   "outputs": [
    {
     "data": {
      "text/plain": [
       "2003         2\n",
       "2004       131\n",
       "2005      1553\n",
       "2006      7122\n",
       "2007     29852\n",
       "2008     53571\n",
       "2009     78903\n",
       "2010     64994\n",
       "2011    137364\n",
       "2012     93883\n",
       "2013    324587\n",
       "2014     25804\n",
       "2015    174120\n",
       "2016     24160\n",
       "Name: reverting_year, dtype: int64"
      ]
     },
     "execution_count": 63,
     "metadata": {},
     "output_type": "execute_result"
    }
   ],
   "source": [
    "df_all.reverting_year.value_counts().sort_index()"
   ]
  },
  {
   "cell_type": "code",
   "execution_count": null,
   "metadata": {
    "collapsed": true
   },
   "outputs": [],
   "source": []
  },
  {
   "cell_type": "markdown",
   "metadata": {},
   "source": [
    "### Check time to revert for negatives"
   ]
  },
  {
   "cell_type": "code",
   "execution_count": 64,
   "metadata": {},
   "outputs": [
    {
     "data": {
      "text/plain": [
       "160019"
      ]
     },
     "execution_count": 64,
     "metadata": {},
     "output_type": "execute_result"
    }
   ],
   "source": [
    "len(df_all.query(\"time_to_revert_days < 0\"))"
   ]
  },
  {
   "cell_type": "code",
   "execution_count": 65,
   "metadata": {},
   "outputs": [
    {
     "data": {
      "text/plain": [
       "856027"
      ]
     },
     "execution_count": 65,
     "metadata": {},
     "output_type": "execute_result"
    }
   ],
   "source": [
    "len(df_all.query(\"time_to_revert_days > 0\"))"
   ]
  },
  {
   "cell_type": "code",
   "execution_count": 66,
   "metadata": {},
   "outputs": [
    {
     "data": {
      "text/plain": [
       "language\n",
       "de    101721\n",
       "es       195\n",
       "fr        68\n",
       "ja     58035\n",
       "Name: rev_id, dtype: int64"
      ]
     },
     "execution_count": 66,
     "metadata": {},
     "output_type": "execute_result"
    }
   ],
   "source": [
    "df_all.query(\"time_to_revert_days < 0\").groupby(\"language\")['rev_id'].count()"
   ]
  },
  {
   "cell_type": "code",
   "execution_count": 67,
   "metadata": {},
   "outputs": [
    {
     "data": {
      "text/plain": [
       "language\n",
       "de     31870\n",
       "en    500544\n",
       "es     88347\n",
       "fr     96404\n",
       "ja     16497\n",
       "pt     70948\n",
       "zh     51417\n",
       "Name: rev_id, dtype: int64"
      ]
     },
     "execution_count": 67,
     "metadata": {},
     "output_type": "execute_result"
    }
   ],
   "source": [
    "df_all.query(\"time_to_revert_days > 0\").groupby(\"language\")['rev_id'].count()"
   ]
  },
  {
   "cell_type": "markdown",
   "metadata": {},
   "source": [
    "## Other processing and metadata"
   ]
  },
  {
   "cell_type": "markdown",
   "metadata": {},
   "source": [
    "### Botpair -- [bot1] rv [bot2]"
   ]
  },
  {
   "cell_type": "code",
   "execution_count": 29,
   "metadata": {
    "collapsed": true
   },
   "outputs": [],
   "source": [
    "def concat_botpair(row):\n",
    "    return str(row['reverting_user_text']) + \" rv \" + str(row['rev_user_text'])\n",
    "\n",
    "def sorted_botpair(row):\n",
    "    \"\"\"\n",
    "    Returns a sorted list. list.sort() is locale dependent, but it doesn't matter\n",
    "    because all we need is some consistent (if arbitrary) way of uniquely sorting.\n",
    "    \"\"\"\n",
    "    \n",
    "    return str(sorted([row['reverting_user_text'], row['rev_user_text']]))"
   ]
  },
  {
   "cell_type": "code",
   "execution_count": 30,
   "metadata": {},
   "outputs": [
    {
     "name": "stderr",
     "output_type": "stream",
     "text": [
      "/home/staeiou/conda/lib/python3.5/site-packages/ipykernel/__main__.py:1: SettingWithCopyWarning: \n",
      "A value is trying to be set on a copy of a slice from a DataFrame.\n",
      "Try using .loc[row_indexer,col_indexer] = value instead\n",
      "\n",
      "See the caveats in the documentation: http://pandas.pydata.org/pandas-docs/stable/indexing.html#indexing-view-versus-copy\n",
      "  if __name__ == '__main__':\n"
     ]
    }
   ],
   "source": [
    "df_all['botpair'] = df_all.apply(concat_botpair, axis=1)"
   ]
  },
  {
   "cell_type": "code",
   "execution_count": 31,
   "metadata": {},
   "outputs": [
    {
     "name": "stderr",
     "output_type": "stream",
     "text": [
      "/home/staeiou/conda/lib/python3.5/site-packages/ipykernel/__main__.py:1: SettingWithCopyWarning: \n",
      "A value is trying to be set on a copy of a slice from a DataFrame.\n",
      "Try using .loc[row_indexer,col_indexer] = value instead\n",
      "\n",
      "See the caveats in the documentation: http://pandas.pydata.org/pandas-docs/stable/indexing.html#indexing-view-versus-copy\n",
      "  if __name__ == '__main__':\n"
     ]
    }
   ],
   "source": [
    "df_all['botpair_sorted'] = df_all.apply(sorted_botpair, axis=1)"
   ]
  },
  {
   "cell_type": "markdown",
   "metadata": {},
   "source": [
    "### Namespace type"
   ]
  },
  {
   "cell_type": "code",
   "execution_count": 32,
   "metadata": {
    "collapsed": true
   },
   "outputs": [],
   "source": [
    "def namespace_type(item):\n",
    "    if int(item) == 0:\n",
    "        return 'article'\n",
    "    elif int(item) == 14:\n",
    "        return 'category'\n",
    "    elif int(item) % 2 == 1:\n",
    "        return 'other talk'\n",
    "    else:\n",
    "        return 'other page'"
   ]
  },
  {
   "cell_type": "code",
   "execution_count": 33,
   "metadata": {},
   "outputs": [
    {
     "name": "stderr",
     "output_type": "stream",
     "text": [
      "/home/staeiou/conda/lib/python3.5/site-packages/ipykernel/__main__.py:1: SettingWithCopyWarning: \n",
      "A value is trying to be set on a copy of a slice from a DataFrame.\n",
      "Try using .loc[row_indexer,col_indexer] = value instead\n",
      "\n",
      "See the caveats in the documentation: http://pandas.pydata.org/pandas-docs/stable/indexing.html#indexing-view-versus-copy\n",
      "  if __name__ == '__main__':\n"
     ]
    }
   ],
   "source": [
    "df_all['namespace_type'] = df_all['page_namespace'].apply(namespace_type)"
   ]
  },
  {
   "cell_type": "code",
   "execution_count": 34,
   "metadata": {},
   "outputs": [
    {
     "data": {
      "text/plain": [
       "article       525163\n",
       "other talk    201380\n",
       "category      175691\n",
       "other page    113812\n",
       "Name: namespace_type, dtype: int64"
      ]
     },
     "execution_count": 34,
     "metadata": {},
     "output_type": "execute_result"
    }
   ],
   "source": [
    "df_all['namespace_type'].value_counts()"
   ]
  },
  {
   "cell_type": "markdown",
   "metadata": {},
   "source": [
    "### Reverts per page per botpair"
   ]
  },
  {
   "cell_type": "code",
   "execution_count": 35,
   "metadata": {
    "collapsed": true
   },
   "outputs": [],
   "source": [
    "gb_lpb = df_all.groupby([\"language\", \"rev_page\", \"botpair\"])\n",
    "gb_lpb_s = df_all.groupby([\"language\", \"rev_page\", \"botpair_sorted\"])"
   ]
  },
  {
   "cell_type": "code",
   "execution_count": 36,
   "metadata": {},
   "outputs": [
    {
     "data": {
      "text/html": [
       "<div>\n",
       "<table border=\"1\" class=\"dataframe\">\n",
       "  <thead>\n",
       "    <tr style=\"text-align: right;\">\n",
       "      <th></th>\n",
       "      <th>language</th>\n",
       "      <th>rev_page</th>\n",
       "      <th>botpair</th>\n",
       "      <th>reverts_per_page_botpair</th>\n",
       "    </tr>\n",
       "  </thead>\n",
       "  <tbody>\n",
       "    <tr>\n",
       "      <th>0</th>\n",
       "      <td>de</td>\n",
       "      <td>3</td>\n",
       "      <td>Jotterbot rv Luckas-bot</td>\n",
       "      <td>1</td>\n",
       "    </tr>\n",
       "    <tr>\n",
       "      <th>1</th>\n",
       "      <td>de</td>\n",
       "      <td>5</td>\n",
       "      <td>TXiKiBoT rv VolkovBot</td>\n",
       "      <td>1</td>\n",
       "    </tr>\n",
       "    <tr>\n",
       "      <th>2</th>\n",
       "      <td>de</td>\n",
       "      <td>82</td>\n",
       "      <td>Alecs.bot rv SieBot</td>\n",
       "      <td>1</td>\n",
       "    </tr>\n",
       "    <tr>\n",
       "      <th>3</th>\n",
       "      <td>de</td>\n",
       "      <td>88</td>\n",
       "      <td>WikitanvirBot rv TobeBot</td>\n",
       "      <td>1</td>\n",
       "    </tr>\n",
       "    <tr>\n",
       "      <th>4</th>\n",
       "      <td>de</td>\n",
       "      <td>96</td>\n",
       "      <td>YurikBot rv RobotQuistnix</td>\n",
       "      <td>1</td>\n",
       "    </tr>\n",
       "  </tbody>\n",
       "</table>\n",
       "</div>"
      ],
      "text/plain": [
       "  language  rev_page                    botpair  reverts_per_page_botpair\n",
       "0       de         3    Jotterbot rv Luckas-bot                         1\n",
       "1       de         5      TXiKiBoT rv VolkovBot                         1\n",
       "2       de        82        Alecs.bot rv SieBot                         1\n",
       "3       de        88   WikitanvirBot rv TobeBot                         1\n",
       "4       de        96  YurikBot rv RobotQuistnix                         1"
      ]
     },
     "execution_count": 36,
     "metadata": {},
     "output_type": "execute_result"
    }
   ],
   "source": [
    "df_lpb = pd.DataFrame(gb_lpb['rev_id'].count()).reset_index().rename(columns={\"rev_id\":\"reverts_per_page_botpair\"})\n",
    "df_lpb[0:5]"
   ]
  },
  {
   "cell_type": "code",
   "execution_count": 37,
   "metadata": {},
   "outputs": [
    {
     "data": {
      "text/html": [
       "<div>\n",
       "<table border=\"1\" class=\"dataframe\">\n",
       "  <thead>\n",
       "    <tr style=\"text-align: right;\">\n",
       "      <th></th>\n",
       "      <th>language</th>\n",
       "      <th>rev_page</th>\n",
       "      <th>botpair_sorted</th>\n",
       "      <th>reverts_per_page_botpair_sorted</th>\n",
       "    </tr>\n",
       "  </thead>\n",
       "  <tbody>\n",
       "    <tr>\n",
       "      <th>0</th>\n",
       "      <td>de</td>\n",
       "      <td>3</td>\n",
       "      <td>['Jotterbot', 'Luckas-bot']</td>\n",
       "      <td>1</td>\n",
       "    </tr>\n",
       "    <tr>\n",
       "      <th>1</th>\n",
       "      <td>de</td>\n",
       "      <td>5</td>\n",
       "      <td>['TXiKiBoT', 'VolkovBot']</td>\n",
       "      <td>1</td>\n",
       "    </tr>\n",
       "    <tr>\n",
       "      <th>2</th>\n",
       "      <td>de</td>\n",
       "      <td>82</td>\n",
       "      <td>['Alecs.bot', 'SieBot']</td>\n",
       "      <td>1</td>\n",
       "    </tr>\n",
       "    <tr>\n",
       "      <th>3</th>\n",
       "      <td>de</td>\n",
       "      <td>88</td>\n",
       "      <td>['TobeBot', 'WikitanvirBot']</td>\n",
       "      <td>1</td>\n",
       "    </tr>\n",
       "    <tr>\n",
       "      <th>4</th>\n",
       "      <td>de</td>\n",
       "      <td>96</td>\n",
       "      <td>['RobotQuistnix', 'YurikBot']</td>\n",
       "      <td>1</td>\n",
       "    </tr>\n",
       "  </tbody>\n",
       "</table>\n",
       "</div>"
      ],
      "text/plain": [
       "  language  rev_page                 botpair_sorted  \\\n",
       "0       de         3    ['Jotterbot', 'Luckas-bot']   \n",
       "1       de         5      ['TXiKiBoT', 'VolkovBot']   \n",
       "2       de        82        ['Alecs.bot', 'SieBot']   \n",
       "3       de        88   ['TobeBot', 'WikitanvirBot']   \n",
       "4       de        96  ['RobotQuistnix', 'YurikBot']   \n",
       "\n",
       "   reverts_per_page_botpair_sorted  \n",
       "0                                1  \n",
       "1                                1  \n",
       "2                                1  \n",
       "3                                1  \n",
       "4                                1  "
      ]
     },
     "execution_count": 37,
     "metadata": {},
     "output_type": "execute_result"
    }
   ],
   "source": [
    "df_lpb_s = pd.DataFrame(gb_lpb_s['rev_id'].count()).reset_index().rename(columns={\"rev_id\":\"reverts_per_page_botpair_sorted\"})\n",
    "df_lpb_s[0:5]"
   ]
  },
  {
   "cell_type": "code",
   "execution_count": 38,
   "metadata": {
    "collapsed": true
   },
   "outputs": [],
   "source": [
    "df_all = pd.merge(df_all, df_lpb, how='left',\n",
    "         left_on=[\"language\", \"rev_page\", \"botpair\"],\n",
    "         right_on=[\"language\", \"rev_page\", \"botpair\"])\n",
    "\n",
    "df_all = pd.merge(df_all, df_lpb_s, how='left',\n",
    "         left_on=[\"language\", \"rev_page\", \"botpair_sorted\"],\n",
    "         right_on=[\"language\", \"rev_page\", \"botpair_sorted\"])"
   ]
  },
  {
   "cell_type": "markdown",
   "metadata": {},
   "source": [
    "### Final data format"
   ]
  },
  {
   "cell_type": "code",
   "execution_count": 42,
   "metadata": {},
   "outputs": [
    {
     "data": {
      "text/plain": [
       "1016046"
      ]
     },
     "execution_count": 42,
     "metadata": {},
     "output_type": "execute_result"
    }
   ],
   "source": [
    "len(df_all)"
   ]
  },
  {
   "cell_type": "code",
   "execution_count": 43,
   "metadata": {},
   "outputs": [
    {
     "data": {
      "text/html": [
       "<div>\n",
       "<table border=\"1\" class=\"dataframe\">\n",
       "  <thead>\n",
       "    <tr style=\"text-align: right;\">\n",
       "      <th></th>\n",
       "      <th>0</th>\n",
       "      <th>1</th>\n",
       "    </tr>\n",
       "  </thead>\n",
       "  <tbody>\n",
       "    <tr>\n",
       "      <th>archived</th>\n",
       "      <td>False</td>\n",
       "      <td>False</td>\n",
       "    </tr>\n",
       "    <tr>\n",
       "      <th>language</th>\n",
       "      <td>de</td>\n",
       "      <td>de</td>\n",
       "    </tr>\n",
       "    <tr>\n",
       "      <th>page_namespace</th>\n",
       "      <td>0</td>\n",
       "      <td>0</td>\n",
       "    </tr>\n",
       "    <tr>\n",
       "      <th>rev_deleted</th>\n",
       "      <td>False</td>\n",
       "      <td>False</td>\n",
       "    </tr>\n",
       "    <tr>\n",
       "      <th>rev_id</th>\n",
       "      <td>75581173</td>\n",
       "      <td>45840823</td>\n",
       "    </tr>\n",
       "    <tr>\n",
       "      <th>rev_minor_edit</th>\n",
       "      <td>True</td>\n",
       "      <td>True</td>\n",
       "    </tr>\n",
       "    <tr>\n",
       "      <th>rev_page</th>\n",
       "      <td>3</td>\n",
       "      <td>5</td>\n",
       "    </tr>\n",
       "    <tr>\n",
       "      <th>rev_parent_id</th>\n",
       "      <td>7.555e+07</td>\n",
       "      <td>4.57112e+07</td>\n",
       "    </tr>\n",
       "    <tr>\n",
       "      <th>rev_revert_offset</th>\n",
       "      <td>6</td>\n",
       "      <td>3</td>\n",
       "    </tr>\n",
       "    <tr>\n",
       "      <th>rev_sha1</th>\n",
       "      <td>rnc3xl21j407j5hdvzwyoy981nhf9xy</td>\n",
       "      <td>53c0cu3qanye8bnugdvu98a7ipxexys</td>\n",
       "    </tr>\n",
       "    <tr>\n",
       "      <th>rev_timestamp</th>\n",
       "      <td>20100614192828</td>\n",
       "      <td>20080509141040</td>\n",
       "    </tr>\n",
       "    <tr>\n",
       "      <th>rev_user</th>\n",
       "      <td>579988</td>\n",
       "      <td>321232</td>\n",
       "    </tr>\n",
       "    <tr>\n",
       "      <th>rev_user_text</th>\n",
       "      <td>Luckas-bot</td>\n",
       "      <td>VolkovBot</td>\n",
       "    </tr>\n",
       "    <tr>\n",
       "      <th>reverted_to_rev_id</th>\n",
       "      <td>55406649</td>\n",
       "      <td>77810547</td>\n",
       "    </tr>\n",
       "    <tr>\n",
       "      <th>reverting_archived</th>\n",
       "      <td>False</td>\n",
       "      <td>False</td>\n",
       "    </tr>\n",
       "    <tr>\n",
       "      <th>reverting_comment</th>\n",
       "      <td>Bot:  Ergänze: [[az:Aktinium]]</td>\n",
       "      <td>Bot: Ergänze: [[ne:आङ ली]]</td>\n",
       "    </tr>\n",
       "    <tr>\n",
       "      <th>reverting_deleted</th>\n",
       "      <td>False</td>\n",
       "      <td>False</td>\n",
       "    </tr>\n",
       "    <tr>\n",
       "      <th>reverting_id</th>\n",
       "      <td>54411241</td>\n",
       "      <td>77700722</td>\n",
       "    </tr>\n",
       "    <tr>\n",
       "      <th>reverting_minor_edit</th>\n",
       "      <td>True</td>\n",
       "      <td>True</td>\n",
       "    </tr>\n",
       "    <tr>\n",
       "      <th>reverting_page</th>\n",
       "      <td>3</td>\n",
       "      <td>5</td>\n",
       "    </tr>\n",
       "    <tr>\n",
       "      <th>reverting_parent_id</th>\n",
       "      <td>5.34799e+07</td>\n",
       "      <td>7.72189e+07</td>\n",
       "    </tr>\n",
       "    <tr>\n",
       "      <th>reverting_sha1</th>\n",
       "      <td>bbyc7b5e2zropsooxjlozun4cs6v12e</td>\n",
       "      <td>jjc1hiypmy5jebbtiuuxskgb7uhyeo5</td>\n",
       "    </tr>\n",
       "    <tr>\n",
       "      <th>reverting_timestamp</th>\n",
       "      <td>20081221222220</td>\n",
       "      <td>20100811055045</td>\n",
       "    </tr>\n",
       "    <tr>\n",
       "      <th>reverting_user</th>\n",
       "      <td>591655</td>\n",
       "      <td>330789</td>\n",
       "    </tr>\n",
       "    <tr>\n",
       "      <th>reverting_user_text</th>\n",
       "      <td>Jotterbot</td>\n",
       "      <td>TXiKiBoT</td>\n",
       "    </tr>\n",
       "    <tr>\n",
       "      <th>revisions_reverted</th>\n",
       "      <td>6</td>\n",
       "      <td>3</td>\n",
       "    </tr>\n",
       "    <tr>\n",
       "      <th>namespace_type</th>\n",
       "      <td>article</td>\n",
       "      <td>article</td>\n",
       "    </tr>\n",
       "    <tr>\n",
       "      <th>reverted_timestamp_dt</th>\n",
       "      <td>2010-06-14 19:28:28</td>\n",
       "      <td>2008-05-09 14:10:40</td>\n",
       "    </tr>\n",
       "    <tr>\n",
       "      <th>reverting_timestamp_dt</th>\n",
       "      <td>2008-12-21 22:22:20</td>\n",
       "      <td>2010-08-11 05:50:45</td>\n",
       "    </tr>\n",
       "    <tr>\n",
       "      <th>time_to_revert</th>\n",
       "      <td>-540 days +02:53:52</td>\n",
       "      <td>823 days 15:40:05</td>\n",
       "    </tr>\n",
       "    <tr>\n",
       "      <th>time_to_revert_hrs</th>\n",
       "      <td>-12957.1</td>\n",
       "      <td>19767.7</td>\n",
       "    </tr>\n",
       "    <tr>\n",
       "      <th>time_to_revert_days</th>\n",
       "      <td>-539.879</td>\n",
       "      <td>823.653</td>\n",
       "    </tr>\n",
       "    <tr>\n",
       "      <th>reverting_year</th>\n",
       "      <td>2008</td>\n",
       "      <td>2010</td>\n",
       "    </tr>\n",
       "    <tr>\n",
       "      <th>time_to_revert_days_log10</th>\n",
       "      <td>NaN</td>\n",
       "      <td>2.91574</td>\n",
       "    </tr>\n",
       "    <tr>\n",
       "      <th>time_to_revert_hrs_log10</th>\n",
       "      <td>NaN</td>\n",
       "      <td>4.29596</td>\n",
       "    </tr>\n",
       "    <tr>\n",
       "      <th>botpair</th>\n",
       "      <td>Jotterbot rv Luckas-bot</td>\n",
       "      <td>TXiKiBoT rv VolkovBot</td>\n",
       "    </tr>\n",
       "    <tr>\n",
       "      <th>botpair_sorted</th>\n",
       "      <td>['Jotterbot', 'Luckas-bot']</td>\n",
       "      <td>['TXiKiBoT', 'VolkovBot']</td>\n",
       "    </tr>\n",
       "    <tr>\n",
       "      <th>reverts_per_page_botpair</th>\n",
       "      <td>1</td>\n",
       "      <td>1</td>\n",
       "    </tr>\n",
       "    <tr>\n",
       "      <th>reverts_per_page_botpair_sorted</th>\n",
       "      <td>1</td>\n",
       "      <td>1</td>\n",
       "    </tr>\n",
       "  </tbody>\n",
       "</table>\n",
       "</div>"
      ],
      "text/plain": [
       "                                                               0  \\\n",
       "archived                                                   False   \n",
       "language                                                      de   \n",
       "page_namespace                                                 0   \n",
       "rev_deleted                                                False   \n",
       "rev_id                                                  75581173   \n",
       "rev_minor_edit                                              True   \n",
       "rev_page                                                       3   \n",
       "rev_parent_id                                          7.555e+07   \n",
       "rev_revert_offset                                              6   \n",
       "rev_sha1                         rnc3xl21j407j5hdvzwyoy981nhf9xy   \n",
       "rev_timestamp                                     20100614192828   \n",
       "rev_user                                                  579988   \n",
       "rev_user_text                                         Luckas-bot   \n",
       "reverted_to_rev_id                                      55406649   \n",
       "reverting_archived                                         False   \n",
       "reverting_comment                 Bot:  Ergänze: [[az:Aktinium]]   \n",
       "reverting_deleted                                          False   \n",
       "reverting_id                                            54411241   \n",
       "reverting_minor_edit                                        True   \n",
       "reverting_page                                                 3   \n",
       "reverting_parent_id                                  5.34799e+07   \n",
       "reverting_sha1                   bbyc7b5e2zropsooxjlozun4cs6v12e   \n",
       "reverting_timestamp                               20081221222220   \n",
       "reverting_user                                            591655   \n",
       "reverting_user_text                                    Jotterbot   \n",
       "revisions_reverted                                             6   \n",
       "namespace_type                                           article   \n",
       "reverted_timestamp_dt                        2010-06-14 19:28:28   \n",
       "reverting_timestamp_dt                       2008-12-21 22:22:20   \n",
       "time_to_revert                               -540 days +02:53:52   \n",
       "time_to_revert_hrs                                      -12957.1   \n",
       "time_to_revert_days                                     -539.879   \n",
       "reverting_year                                              2008   \n",
       "time_to_revert_days_log10                                    NaN   \n",
       "time_to_revert_hrs_log10                                     NaN   \n",
       "botpair                                  Jotterbot rv Luckas-bot   \n",
       "botpair_sorted                       ['Jotterbot', 'Luckas-bot']   \n",
       "reverts_per_page_botpair                                       1   \n",
       "reverts_per_page_botpair_sorted                                1   \n",
       "\n",
       "                                                               1  \n",
       "archived                                                   False  \n",
       "language                                                      de  \n",
       "page_namespace                                                 0  \n",
       "rev_deleted                                                False  \n",
       "rev_id                                                  45840823  \n",
       "rev_minor_edit                                              True  \n",
       "rev_page                                                       5  \n",
       "rev_parent_id                                        4.57112e+07  \n",
       "rev_revert_offset                                              3  \n",
       "rev_sha1                         53c0cu3qanye8bnugdvu98a7ipxexys  \n",
       "rev_timestamp                                     20080509141040  \n",
       "rev_user                                                  321232  \n",
       "rev_user_text                                          VolkovBot  \n",
       "reverted_to_rev_id                                      77810547  \n",
       "reverting_archived                                         False  \n",
       "reverting_comment                     Bot: Ergänze: [[ne:आङ ली]]  \n",
       "reverting_deleted                                          False  \n",
       "reverting_id                                            77700722  \n",
       "reverting_minor_edit                                        True  \n",
       "reverting_page                                                 5  \n",
       "reverting_parent_id                                  7.72189e+07  \n",
       "reverting_sha1                   jjc1hiypmy5jebbtiuuxskgb7uhyeo5  \n",
       "reverting_timestamp                               20100811055045  \n",
       "reverting_user                                            330789  \n",
       "reverting_user_text                                     TXiKiBoT  \n",
       "revisions_reverted                                             3  \n",
       "namespace_type                                           article  \n",
       "reverted_timestamp_dt                        2008-05-09 14:10:40  \n",
       "reverting_timestamp_dt                       2010-08-11 05:50:45  \n",
       "time_to_revert                                 823 days 15:40:05  \n",
       "time_to_revert_hrs                                       19767.7  \n",
       "time_to_revert_days                                      823.653  \n",
       "reverting_year                                              2010  \n",
       "time_to_revert_days_log10                                2.91574  \n",
       "time_to_revert_hrs_log10                                 4.29596  \n",
       "botpair                                    TXiKiBoT rv VolkovBot  \n",
       "botpair_sorted                         ['TXiKiBoT', 'VolkovBot']  \n",
       "reverts_per_page_botpair                                       1  \n",
       "reverts_per_page_botpair_sorted                                1  "
      ]
     },
     "execution_count": 43,
     "metadata": {},
     "output_type": "execute_result"
    }
   ],
   "source": [
    "df_all[0:2].transpose()"
   ]
  },
  {
   "cell_type": "code",
   "execution_count": null,
   "metadata": {
    "collapsed": true
   },
   "outputs": [],
   "source": []
  },
  {
   "cell_type": "markdown",
   "metadata": {
    "collapsed": true
   },
   "source": [
    "## Output to file"
   ]
  },
  {
   "cell_type": "code",
   "execution_count": 44,
   "metadata": {
    "collapsed": true
   },
   "outputs": [],
   "source": [
    "df_all.to_pickle(\"../../datasets/pandas_df_all.pickle\")"
   ]
  },
  {
   "cell_type": "code",
   "execution_count": 45,
   "metadata": {
    "collapsed": true
   },
   "outputs": [],
   "source": [
    "!bzip2 -k ../../datasets/pandas_df_all.pickle"
   ]
  },
  {
   "cell_type": "code",
   "execution_count": null,
   "metadata": {
    "collapsed": true
   },
   "outputs": [],
   "source": []
  }
 ],
 "metadata": {
  "anaconda-cloud": {},
  "kernelspec": {
   "display_name": "Python [default]",
   "language": "python",
   "name": "python3"
  },
  "language_info": {
   "codemirror_mode": {
    "name": "ipython",
    "version": 3
   },
   "file_extension": ".py",
   "mimetype": "text/x-python",
   "name": "python",
   "nbconvert_exporter": "python",
   "pygments_lexer": "ipython3",
   "version": "3.5.3"
  }
 },
 "nbformat": 4,
 "nbformat_minor": 2
}
